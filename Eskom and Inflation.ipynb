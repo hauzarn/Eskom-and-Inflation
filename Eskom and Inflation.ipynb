{
    "metadata": {
        "kernelspec": {
            "name": "python3",
            "display_name": "Python 3",
            "language": "python"
        },
        "language_info": {
            "name": "python",
            "version": "3.11.0",
            "mimetype": "text/x-python",
            "codemirror_mode": {
                "name": "ipython",
                "version": 3
            },
            "pygments_lexer": "ipython3",
            "nbconvert_exporter": "python",
            "file_extension": ".py"
        }
    },
    "nbformat_minor": 2,
    "nbformat": 4,
    "cells": [
        {
            "cell_type": "code",
            "source": [
                "pip install pandas\n",
                "# I installed Pandas to my notebook so I can manipulate my data"
            ],
            "metadata": {
                "azdata_cell_guid": "27dbc063-243e-42d4-81fd-e3aca24168a7",
                "language": "python",
                "tags": []
            },
            "outputs": [
                {
                    "traceback": [
                        "\u001b[0;36m  Cell \u001b[0;32mIn[26], line 1\u001b[0;36m\u001b[0m\n\u001b[0;31m    pip install pandas\u001b[0m\n\u001b[0m        ^\u001b[0m\n\u001b[0;31mSyntaxError\u001b[0m\u001b[0;31m:\u001b[0m invalid syntax\n"
                    ],
                    "ename": "SyntaxError",
                    "evalue": "invalid syntax (<ipython-input-26-8cd4e96b89fd>, line 1)",
                    "output_type": "error"
                }
            ],
            "execution_count": 26
        },
        {
            "cell_type": "code",
            "source": [
                "#to check if the pandas were installed properly\n",
                "import pandas\n",
                "\n",
                "print('Pandas installed sucessfully')\n",
                "\n",
                "#so the pandas are loaded correctly"
            ],
            "metadata": {
                "language": "python",
                "azdata_cell_guid": "fc3c6825-c470-4001-9d91-f98a0dde46d8"
            },
            "outputs": [
                {
                    "output_type": "stream",
                    "name": "stdout",
                    "text": "Pandas installed sucessfully\n"
                }
            ],
            "execution_count": 15
        },
        {
            "cell_type": "code",
            "source": [
                "#installed a openpyxl, a plugin for pandas to handle excel files\n",
                "pip install openpyxl\n",
                ""
            ],
            "metadata": {
                "language": "python",
                "azdata_cell_guid": "2fd3b143-2b2f-4f36-954b-27605f4b3fd7",
                "tags": []
            },
            "outputs": [
                {
                    "output_type": "stream",
                    "name": "stdout",
                    "text": "Collecting openpyxl\r\n"
                },
                {
                    "output_type": "stream",
                    "name": "stdout",
                    "text": "  Downloading openpyxl-3.1.2-py2.py3-none-any.whl (249 kB)\r\n\u001b[?25l     \u001b[90m━━━━━━━━━━━━━━━━━━━━━━━━━━━━━━━━━━━━━━━━\u001b[0m \u001b[32m0.0/250.0 kB\u001b[0m \u001b[31m?\u001b[0m eta \u001b[36m-:--:--\u001b[0m"
                },
                {
                    "output_type": "stream",
                    "name": "stdout",
                    "text": "\r\u001b[2K     \u001b[91m━━━\u001b[0m\u001b[90m╺\u001b[0m\u001b[90m━━━━━━━━━━━━━━━━━━━━━━━━━━━━━━━━━━━━\u001b[0m \u001b[32m20.5/250.0 kB\u001b[0m \u001b[31m3.0 MB/s\u001b[0m eta \u001b[36m0:00:01\u001b[0m"
                },
                {
                    "output_type": "stream",
                    "name": "stdout",
                    "text": "\r\u001b[2K     \u001b[91m━━━━━━━━━━━\u001b[0m\u001b[90m╺\u001b[0m\u001b[90m━━━━━━━━━━━━━━━━━━━━━━━━━━━━\u001b[0m \u001b[32m71.7/250.0 kB\u001b[0m \u001b[31m1.4 MB/s\u001b[0m eta \u001b[36m0:00:01\u001b[0m"
                },
                {
                    "output_type": "stream",
                    "name": "stdout",
                    "text": "\r\u001b[2K     \u001b[91m━━━━━━━━━━━━━━━\u001b[0m\u001b[90m╺\u001b[0m\u001b[90m━━━━━━━━━━━━━━━━━━━━━\u001b[0m \u001b[32m102.4/250.0 kB\u001b[0m \u001b[31m999.8 kB/s\u001b[0m eta \u001b[36m0:00:01\u001b[0m\r\u001b[2K     \u001b[91m━━━━━━━━━━━━━━━━━━━━━━━━━━━━\u001b[0m\u001b[91m╸\u001b[0m\u001b[90m━━━━━━━━━━\u001b[0m \u001b[32m184.3/250.0 kB\u001b[0m \u001b[31m1.4 MB/s\u001b[0m eta \u001b[36m0:00:01\u001b[0m"
                },
                {
                    "output_type": "stream",
                    "name": "stdout",
                    "text": "\r\u001b[2K     \u001b[90m━━━━━━━━━━━━━━━━━━━━━━━━━━━━━━━━━━━━━━━\u001b[0m \u001b[32m250.0/250.0 kB\u001b[0m \u001b[31m1.6 MB/s\u001b[0m eta \u001b[36m0:00:00\u001b[0m\r\n\u001b[?25hCollecting et-xmlfile\r\n  Downloading et_xmlfile-1.1.0-py3-none-any.whl (4.7 kB)\r\n"
                },
                {
                    "output_type": "stream",
                    "name": "stdout",
                    "text": "Installing collected packages: et-xmlfile, openpyxl\r\n"
                },
                {
                    "output_type": "stream",
                    "name": "stdout",
                    "text": "Successfully installed et-xmlfile-1.1.0 openpyxl-3.1.2\r\n"
                },
                {
                    "output_type": "stream",
                    "name": "stdout",
                    "text": "\r\n\u001b[1m[\u001b[0m\u001b[34;49mnotice\u001b[0m\u001b[1;39;49m]\u001b[0m\u001b[39;49m A new release of pip available: \u001b[0m\u001b[31;49m22.3\u001b[0m\u001b[39;49m -> \u001b[0m\u001b[32;49m23.3.2\u001b[0m\r\n\u001b[1m[\u001b[0m\u001b[34;49mnotice\u001b[0m\u001b[1;39;49m]\u001b[0m\u001b[39;49m To update, run: \u001b[0m\u001b[32;49mpip3 install --upgrade pip\u001b[0m\r\n"
                },
                {
                    "output_type": "stream",
                    "name": "stdout",
                    "text": "Note: you may need to restart the kernel to use updated packages.\n"
                }
            ],
            "execution_count": 20
        },
        {
            "cell_type": "code",
            "source": [
                "#imported the pandas as pd\n",
                "import pandas as pd\n",
                "\n",
                "#loading the average outages\n",
                "avg_outage = '/Users/mohauramasedi/Library/CloudStorage/OneDrive-Personal/Data Analysis Projects/South African Economy Based On Loadshedding/Data/max_mix outages by year.xlsx'\n",
                "#then I will read the data into data frame 1\n",
                "df1 = pd.read_excel(avg_outage)\n",
                "#the I will print the dataframe 1 to see how the data looks\n",
                "print(df1)"
            ],
            "metadata": {
                "language": "python",
                "azdata_cell_guid": "951652a3-e65b-4cc8-ac54-897ad88c1eab"
            },
            "outputs": [
                {
                    "name": "stdout",
                    "text": "   Date Time Hour Beginning  Min Installed Eskom Capacity  \\\n0                      2019                       43691.0   \n1                      2020                       44926.0   \n2                      2021                       45646.0   \n3                      2022                       46686.0   \n4                      2023                       46686.0   \n5                      2024                           NaN   \n\n   Max Installed Eskom Capacity  Min Total PCLF  Max Total PCLF  \\\n0                       45017.0         695.777        8127.000   \n1                       45646.0         895.000       11289.417   \n2                       47049.0        1273.000        9601.000   \n3                       47520.0        1018.000        8997.000   \n4                       46686.0        1814.000        8405.000   \n5                           NaN             NaN             NaN   \n\n   Min Total UCLF  Max Total UCLF  Min Total OCLF  Max Total OCLF  \\\n0        5180.671       15657.814         184.995        2910.620   \n1        4670.626       15657.494         235.900        2877.000   \n2        6711.474       16661.081         360.000        2960.157   \n3        9668.405       19168.607          78.025        5219.432   \n4       11407.476       19504.578         118.500        4178.900   \n5             NaN             NaN             NaN             NaN   \n\n   Min Total UCLF+OCLF  Max Total UCLF+OCLF  Min Non Comm Sentout  \\\n0               5658.0              17363.0                   1.0   \n1               6545.0              16652.0                   0.0   \n2               7631.0              17735.0                   0.0   \n3              10144.0              19938.0                   0.0   \n4              11922.0              21535.0                   0.0   \n5                  NaN                  NaN                   NaN   \n\n   Max Non Comm Sentout  \n0                1922.0  \n1                1423.0  \n2                1268.0  \n3                 999.0  \n4                 999.0  \n5                   NaN  \n",
                    "output_type": "stream"
                }
            ],
            "execution_count": 28
        },
        {
            "cell_type": "code",
            "source": [
                "#now I am going to explore the data\n",
                "#starting with the first columns of the data\n",
                "print(df1.head())\n",
                "print(df1.info())\n",
                "print(df1.describe())"
            ],
            "metadata": {
                "language": "python",
                "azdata_cell_guid": "d64ce932-0d48-481a-8ce6-0cfea910c1f0"
            },
            "outputs": [
                {
                    "output_type": "stream",
                    "name": "stdout",
                    "text": "   Date Time Hour Beginning  Min Installed Eskom Capacity  \\\n0                      2019                       43691.0   \n1                      2020                       44926.0   \n2                      2021                       45646.0   \n3                      2022                       46686.0   \n4                      2023                       46686.0   \n\n   Max Installed Eskom Capacity  Min Total PCLF  Max Total PCLF  \\\n0                       45017.0         695.777        8127.000   \n1                       45646.0         895.000       11289.417   \n2                       47049.0        1273.000        9601.000   \n3                       47520.0        1018.000        8997.000   \n4                       46686.0        1814.000        8405.000   \n\n   Min Total UCLF  Max Total UCLF  Min Total OCLF  Max Total OCLF  \\\n0        5180.671       15657.814         184.995        2910.620   \n1        4670.626       15657.494         235.900        2877.000   \n2        6711.474       16661.081         360.000        2960.157   \n3        9668.405       19168.607          78.025        5219.432   \n4       11407.476       19504.578         118.500        4178.900   \n\n   Min Total UCLF+OCLF  Max Total UCLF+OCLF  Min Non Comm Sentout  \\\n0               5658.0              17363.0                   1.0   \n1               6545.0              16652.0                   0.0   \n2               7631.0              17735.0                   0.0   \n3              10144.0              19938.0                   0.0   \n4              11922.0              21535.0                   0.0   \n\n   Max Non Comm Sentout  \n0                1922.0  \n1                1423.0  \n2                1268.0  \n3                 999.0  \n4                 999.0  \n<class 'pandas.core.frame.DataFrame'>\nRangeIndex: 6 entries, 0 to 5\nData columns (total 13 columns):\n #   Column                        Non-Null Count  Dtype  \n---  ------                        --------------  -----  \n 0   Date Time Hour Beginning      6 non-null      int64  \n 1   Min Installed Eskom Capacity  5 non-null      float64\n 2   Max Installed Eskom Capacity  5 non-null      float64\n 3   Min Total PCLF                5 non-null      float64\n 4   Max Total PCLF                5 non-null      float64\n 5   Min Total UCLF                5 non-null      float64\n 6   Max Total UCLF                5 non-null      float64\n 7   Min Total OCLF                5 non-null      float64\n 8   Max Total OCLF                5 non-null      float64\n 9   Min Total UCLF+OCLF           5 non-null      float64\n 10  Max Total UCLF+OCLF           5 non-null      float64\n 11  Min Non Comm Sentout          5 non-null      float64\n 12  Max Non Comm Sentout          5 non-null      float64\ndtypes: float64(12), int64(1)\nmemory usage: 752.0 bytes\nNone\n       Date Time Hour Beginning  Min Installed Eskom Capacity  \\\ncount                  6.000000                      5.000000   \nmean                2021.500000                  45527.000000   \nstd                    1.870829                   1268.150228   \nmin                 2019.000000                  43691.000000   \n25%                 2020.250000                  44926.000000   \n50%                 2021.500000                  45646.000000   \n75%                 2022.750000                  46686.000000   \nmax                 2024.000000                  46686.000000   \n\n       Max Installed Eskom Capacity  Min Total PCLF  Max Total PCLF  \\\ncount                      5.000000        5.000000        5.000000   \nmean                   46383.600000     1139.155400     9283.883400   \nstd                     1029.229955      431.336443     1256.567276   \nmin                    45017.000000      695.777000     8127.000000   \n25%                    45646.000000      895.000000     8405.000000   \n50%                    46686.000000     1018.000000     8997.000000   \n75%                    47049.000000     1273.000000     9601.000000   \nmax                    47520.000000     1814.000000    11289.417000   \n\n       Min Total UCLF  Max Total UCLF  Min Total OCLF  Max Total OCLF  \\\ncount        5.000000        5.000000        5.000000        5.000000   \nmean      7527.730400    17329.914800      195.484000     3629.221800   \nstd       2914.314737     1880.837587      110.150056     1044.125052   \nmin       4670.626000    15657.494000       78.025000     2877.000000   \n25%       5180.671000    15657.814000      118.500000     2910.620000   \n50%       6711.474000    16661.081000      184.995000     2960.157000   \n75%       9668.405000    19168.607000      235.900000     4178.900000   \nmax      11407.476000    19504.578000      360.000000     5219.432000   \n\n       Min Total UCLF+OCLF  Max Total UCLF+OCLF  Min Non Comm Sentout  \\\ncount             5.000000             5.000000              5.000000   \nmean           8380.000000         18644.600000              0.200000   \nstd            2597.834194          2029.015845              0.447214   \nmin            5658.000000         16652.000000              0.000000   \n25%            6545.000000         17363.000000              0.000000   \n50%            7631.000000         17735.000000              0.000000   \n75%           10144.000000         19938.000000              0.000000   \nmax           11922.000000         21535.000000              1.000000   \n\n       Max Non Comm Sentout  \ncount              5.000000  \nmean            1322.200000  \nstd              381.370817  \nmin              999.000000  \n25%              999.000000  \n50%             1268.000000  \n75%             1423.000000  \nmax             1922.000000  \n"
                }
            ],
            "execution_count": 24
        },
        {
            "cell_type": "markdown",
            "source": [
                "So I can see that there a 6 rows and and 13 columns - these represent 2019-2024. all rows for 2024 are null since there is no data yet for those.\n",
                "\n",
                "The data has been loaded correctly as it matches with the excel spreadsheet"
            ],
            "metadata": {
                "azdata_cell_guid": "46adc64c-590c-483b-a19b-201ec2f46c44"
            },
            "attachments": {}
        },
        {
            "cell_type": "code",
            "source": [
                "#to further explore the data I am going to check the max total uclf+oclf\n",
                "print(df1['Max Total UCLF+OCLF'])\n",
                "print('data loaded sucessfully!')"
            ],
            "metadata": {
                "azdata_cell_guid": "398119ed-3847-47ed-beaf-f3bf0be8d0bb",
                "language": "python",
                "tags": []
            },
            "outputs": [
                {
                    "output_type": "stream",
                    "name": "stdout",
                    "text": "0    17363.0\n1    16652.0\n2    17735.0\n3    19938.0\n4    21535.0\n5        NaN\nName: Max Total UCLF+OCLF, dtype: float64\ndata loaded sucessfully!\n"
                }
            ],
            "execution_count": 27
        },
        {
            "cell_type": "code",
            "source": [
                "#clean and transform the data by checking for null/ missing data, should only be in 2024\n",
                "#from the below command I see the is only one row in 13 columns that does have any data, and that is 2024\n",
                "print(df1.isnull().sum())\n",
                "\n",
                "#I am going to drop the row\n",
                "df1.fillna(value=0)\n",
                "print(df1.info())\n",
                "print(df1.isnull().sum())\n",
                "print(df1.head())"
            ],
            "metadata": {
                "language": "python",
                "azdata_cell_guid": "4c203365-1112-4c50-8668-0fbbccea16ca"
            },
            "outputs": [
                {
                    "output_type": "stream",
                    "name": "stdout",
                    "text": "Date Time Hour Beginning        0\nMin Installed Eskom Capacity    1\nMax Installed Eskom Capacity    1\nMin Total PCLF                  1\nMax Total PCLF                  1\nMin Total UCLF                  1\nMax Total UCLF                  1\nMin Total OCLF                  1\nMax Total OCLF                  1\nMin Total UCLF+OCLF             1\nMax Total UCLF+OCLF             1\nMin Non Comm Sentout            1\nMax Non Comm Sentout            1\ndtype: int64\n<class 'pandas.core.frame.DataFrame'>\nRangeIndex: 6 entries, 0 to 5\nData columns (total 13 columns):\n #   Column                        Non-Null Count  Dtype  \n---  ------                        --------------  -----  \n 0   Date Time Hour Beginning      6 non-null      int64  \n 1   Min Installed Eskom Capacity  5 non-null      float64\n 2   Max Installed Eskom Capacity  5 non-null      float64\n 3   Min Total PCLF                5 non-null      float64\n 4   Max Total PCLF                5 non-null      float64\n 5   Min Total UCLF                5 non-null      float64\n 6   Max Total UCLF                5 non-null      float64\n 7   Min Total OCLF                5 non-null      float64\n 8   Max Total OCLF                5 non-null      float64\n 9   Min Total UCLF+OCLF           5 non-null      float64\n 10  Max Total UCLF+OCLF           5 non-null      float64\n 11  Min Non Comm Sentout          5 non-null      float64\n 12  Max Non Comm Sentout          5 non-null      float64\ndtypes: float64(12), int64(1)\nmemory usage: 752.0 bytes\nNone\nDate Time Hour Beginning        0\nMin Installed Eskom Capacity    1\nMax Installed Eskom Capacity    1\nMin Total PCLF                  1\nMax Total PCLF                  1\nMin Total UCLF                  1\nMax Total UCLF                  1\nMin Total OCLF                  1\nMax Total OCLF                  1\nMin Total UCLF+OCLF             1\nMax Total UCLF+OCLF             1\nMin Non Comm Sentout            1\nMax Non Comm Sentout            1\ndtype: int64\n   Date Time Hour Beginning  Min Installed Eskom Capacity  \\\n0                      2019                       43691.0   \n1                      2020                       44926.0   \n2                      2021                       45646.0   \n3                      2022                       46686.0   \n4                      2023                       46686.0   \n\n   Max Installed Eskom Capacity  Min Total PCLF  Max Total PCLF  \\\n0                       45017.0         695.777        8127.000   \n1                       45646.0         895.000       11289.417   \n2                       47049.0        1273.000        9601.000   \n3                       47520.0        1018.000        8997.000   \n4                       46686.0        1814.000        8405.000   \n\n   Min Total UCLF  Max Total UCLF  Min Total OCLF  Max Total OCLF  \\\n0        5180.671       15657.814         184.995        2910.620   \n1        4670.626       15657.494         235.900        2877.000   \n2        6711.474       16661.081         360.000        2960.157   \n3        9668.405       19168.607          78.025        5219.432   \n4       11407.476       19504.578         118.500        4178.900   \n\n   Min Total UCLF+OCLF  Max Total UCLF+OCLF  Min Non Comm Sentout  \\\n0               5658.0              17363.0                   1.0   \n1               6545.0              16652.0                   0.0   \n2               7631.0              17735.0                   0.0   \n3              10144.0              19938.0                   0.0   \n4              11922.0              21535.0                   0.0   \n\n   Max Non Comm Sentout  \n0                1922.0  \n1                1423.0  \n2                1268.0  \n3                 999.0  \n4                 999.0  \n"
                }
            ],
            "execution_count": 41
        },
        {
            "cell_type": "code",
            "source": [
                "#upgraded the pip to instal seaborna and matplotlib\n",
                "pip install --upgrade pip\n",
                ""
            ],
            "metadata": {
                "language": "python",
                "azdata_cell_guid": "bb610db2-af95-4f7b-85ac-6a1117310843",
                "tags": [
                    "hide_input"
                ]
            },
            "outputs": [
                {
                    "output_type": "stream",
                    "name": "stdout",
                    "text": "Requirement already satisfied: pip in /Library/Frameworks/Python.framework/Versions/3.11/lib/python3.11/site-packages (22.3)\r\n"
                },
                {
                    "output_type": "stream",
                    "name": "stdout",
                    "text": "Collecting pip\r\n"
                },
                {
                    "output_type": "stream",
                    "name": "stdout",
                    "text": "  Downloading pip-23.3.2-py3-none-any.whl (2.1 MB)\r\n\u001b[?25l     \u001b[90m━━━━━━━━━━━━━━━━━━━━━━━━━━━━━━━━━━━━━━━━\u001b[0m \u001b[32m0.0/2.1 MB\u001b[0m \u001b[31m?\u001b[0m eta \u001b[36m-:--:--\u001b[0m"
                },
                {
                    "output_type": "stream",
                    "name": "stdout",
                    "text": "\r\u001b[2K     \u001b[90m━━━━━━━━━━━━━━━━━━━━━━━━━━━━━━━━━━━━━━━━\u001b[0m \u001b[32m0.0/2.1 MB\u001b[0m \u001b[31m?\u001b[0m eta \u001b[36m-:--:--\u001b[0m\r\u001b[2K     \u001b[91m╸\u001b[0m\u001b[90m━━━━━━━━━━━━━━━━━━━━━━━━━━━━━━━━━━━━━━━\u001b[0m \u001b[32m0.0/2.1 MB\u001b[0m \u001b[31m320.3 kB/s\u001b[0m eta \u001b[36m0:00:07\u001b[0m"
                },
                {
                    "output_type": "stream",
                    "name": "stdout",
                    "text": "\r\u001b[2K     \u001b[91m━\u001b[0m\u001b[90m╺\u001b[0m\u001b[90m━━━━━━━━━━━━━━━━━━━━━━━━━━━━━━━━━━━━━━\u001b[0m \u001b[32m0.1/2.1 MB\u001b[0m \u001b[31m492.6 kB/s\u001b[0m eta \u001b[36m0:00:05\u001b[0m"
                },
                {
                    "output_type": "stream",
                    "name": "stdout",
                    "text": "\r\u001b[2K     \u001b[91m━\u001b[0m\u001b[90m╺\u001b[0m\u001b[90m━━━━━━━━━━━━━━━━━━━━━━━━━━━━━━━━━━━━━━\u001b[0m \u001b[32m0.1/2.1 MB\u001b[0m \u001b[31m492.6 kB/s\u001b[0m eta \u001b[36m0:00:05\u001b[0m\r\u001b[2K     \u001b[91m━\u001b[0m\u001b[90m╺\u001b[0m\u001b[90m━━━━━━━━━━━━━━━━━━━━━━━━━━━━━━━━━━━━━━\u001b[0m \u001b[32m0.1/2.1 MB\u001b[0m \u001b[31m492.6 kB/s\u001b[0m eta \u001b[36m0:00:05\u001b[0m"
                },
                {
                    "output_type": "stream",
                    "name": "stdout",
                    "text": "\r\u001b[2K     \u001b[91m━\u001b[0m\u001b[90m╺\u001b[0m\u001b[90m━━━━━━━━━━━━━━━━━━━━━━━━━━━━━━━━━━━━━━\u001b[0m \u001b[32m0.1/2.1 MB\u001b[0m \u001b[31m492.6 kB/s\u001b[0m eta \u001b[36m0:00:05\u001b[0m"
                },
                {
                    "output_type": "stream",
                    "name": "stdout",
                    "text": "\r\u001b[2K     \u001b[91m━\u001b[0m\u001b[90m╺\u001b[0m\u001b[90m━━━━━━━━━━━━━━━━━━━━━━━━━━━━━━━━━━━━━━\u001b[0m \u001b[32m0.1/2.1 MB\u001b[0m \u001b[31m492.6 kB/s\u001b[0m eta \u001b[36m0:00:05\u001b[0m"
                },
                {
                    "output_type": "stream",
                    "name": "stdout",
                    "text": "\r\u001b[2K     \u001b[91m━\u001b[0m\u001b[90m╺\u001b[0m\u001b[90m━━━━━━━━━━━━━━━━━━━━━━━━━━━━━━━━━━━━━━\u001b[0m \u001b[32m0.1/2.1 MB\u001b[0m \u001b[31m492.6 kB/s\u001b[0m eta \u001b[36m0:00:05\u001b[0m\r\u001b[2K     \u001b[91m━━━\u001b[0m\u001b[91m╸\u001b[0m\u001b[90m━━━━━━━━━━━━━━━━━━━━━━━━━━━━━━━━━━━━\u001b[0m \u001b[32m0.2/2.1 MB\u001b[0m \u001b[31m575.3 kB/s\u001b[0m eta \u001b[36m0:00:04\u001b[0m"
                },
                {
                    "output_type": "stream",
                    "name": "stdout",
                    "text": "\r\u001b[2K     \u001b[91m━━━\u001b[0m\u001b[91m╸\u001b[0m\u001b[90m━━━━━━━━━━━━━━━━━━━━━━━━━━━━━━━━━━━━\u001b[0m \u001b[32m0.2/2.1 MB\u001b[0m \u001b[31m575.3 kB/s\u001b[0m eta \u001b[36m0:00:04\u001b[0m"
                },
                {
                    "output_type": "stream",
                    "name": "stdout",
                    "text": "\r\u001b[2K     \u001b[91m━━━━━\u001b[0m\u001b[90m╺\u001b[0m\u001b[90m━━━━━━━━━━━━━━━━━━━━━━━━━━━━━━━━━━\u001b[0m \u001b[32m0.3/2.1 MB\u001b[0m \u001b[31m666.6 kB/s\u001b[0m eta \u001b[36m0:00:03\u001b[0m\r\u001b[2K     \u001b[91m━━━━━━\u001b[0m\u001b[90m╺\u001b[0m\u001b[90m━━━━━━━━━━━━━━━━━━━━━━━━━━━━━━━━━\u001b[0m \u001b[32m0.3/2.1 MB\u001b[0m \u001b[31m731.4 kB/s\u001b[0m eta \u001b[36m0:00:03\u001b[0m"
                },
                {
                    "output_type": "stream",
                    "name": "stdout",
                    "text": "\r\u001b[2K     \u001b[91m━━━━━━━\u001b[0m\u001b[91m╸\u001b[0m\u001b[90m━━━━━━━━━━━━━━━━━━━━━━━━━━━━━━━━\u001b[0m \u001b[32m0.4/2.1 MB\u001b[0m \u001b[31m803.3 kB/s\u001b[0m eta \u001b[36m0:00:03\u001b[0m"
                },
                {
                    "output_type": "stream",
                    "name": "stdout",
                    "text": "\r\u001b[2K     \u001b[91m━━━━━━━━\u001b[0m\u001b[91m╸\u001b[0m\u001b[90m━━━━━━━━━━━━━━━━━━━━━━━━━━━━━━━\u001b[0m \u001b[32m0.5/2.1 MB\u001b[0m \u001b[31m880.2 kB/s\u001b[0m eta \u001b[36m0:00:02\u001b[0m\r\u001b[2K     \u001b[91m━━━━━━━━━\u001b[0m\u001b[90m╺\u001b[0m\u001b[90m━━━━━━━━━━━━━━━━━━━━━━━━━━━━━━\u001b[0m \u001b[32m0.5/2.1 MB\u001b[0m \u001b[31m856.5 kB/s\u001b[0m eta \u001b[36m0:00:02\u001b[0m"
                },
                {
                    "output_type": "stream",
                    "name": "stdout",
                    "text": "\r\u001b[2K     \u001b[91m━━━━━━━━━\u001b[0m\u001b[90m╺\u001b[0m\u001b[90m━━━━━━━━━━━━━━━━━━━━━━━━━━━━━━\u001b[0m \u001b[32m0.5/2.1 MB\u001b[0m \u001b[31m856.5 kB/s\u001b[0m eta \u001b[36m0:00:02\u001b[0m"
                },
                {
                    "output_type": "stream",
                    "name": "stdout",
                    "text": "\r\u001b[2K     \u001b[91m━━━━━━━━━━━\u001b[0m\u001b[90m╺\u001b[0m\u001b[90m━━━━━━━━━━━━━━━━━━━━━━━━━━━━\u001b[0m \u001b[32m0.6/2.1 MB\u001b[0m \u001b[31m901.4 kB/s\u001b[0m eta \u001b[36m0:00:02\u001b[0m"
                },
                {
                    "output_type": "stream",
                    "name": "stdout",
                    "text": "\r\u001b[2K     \u001b[91m━━━━━━━━━━━━\u001b[0m\u001b[90m╺\u001b[0m\u001b[90m━━━━━━━━━━━━━━━━━━━━━━━━━━━\u001b[0m \u001b[32m0.6/2.1 MB\u001b[0m \u001b[31m922.5 kB/s\u001b[0m eta \u001b[36m0:00:02\u001b[0m\r\u001b[2K     \u001b[91m━━━━━━━━━━━━━\u001b[0m\u001b[91m╸\u001b[0m\u001b[90m━━━━━━━━━━━━━━━━━━━━━━━━━━\u001b[0m \u001b[32m0.7/2.1 MB\u001b[0m \u001b[31m989.4 kB/s\u001b[0m eta \u001b[36m0:00:02\u001b[0m"
                },
                {
                    "output_type": "stream",
                    "name": "stdout",
                    "text": "\r\u001b[2K     \u001b[91m━━━━━━━━━━━━━━\u001b[0m\u001b[91m╸\u001b[0m\u001b[90m━━━━━━━━━━━━━━━━━━━━━━━━━\u001b[0m \u001b[32m0.8/2.1 MB\u001b[0m \u001b[31m1.0 MB/s\u001b[0m eta \u001b[36m0:00:02\u001b[0m"
                },
                {
                    "output_type": "stream",
                    "name": "stdout",
                    "text": "\r\u001b[2K     \u001b[91m━━━━━━━━━━━━━━━━\u001b[0m\u001b[90m╺\u001b[0m\u001b[90m━━━━━━━━━━━━━━━━━━━━━━━\u001b[0m \u001b[32m0.9/2.1 MB\u001b[0m \u001b[31m1.1 MB/s\u001b[0m eta \u001b[36m0:00:02\u001b[0m"
                },
                {
                    "output_type": "stream",
                    "name": "stdout",
                    "text": "\r\u001b[2K     \u001b[91m━━━━━━━━━━━━━━━━━\u001b[0m\u001b[90m╺\u001b[0m\u001b[90m━━━━━━━━━━━━━━━━━━━━━━\u001b[0m \u001b[32m0.9/2.1 MB\u001b[0m \u001b[31m1.1 MB/s\u001b[0m eta \u001b[36m0:00:02\u001b[0m\r\u001b[2K     \u001b[91m━━━━━━━━━━━━━━━━━━\u001b[0m\u001b[91m╸\u001b[0m\u001b[90m━━━━━━━━━━━━━━━━━━━━━\u001b[0m \u001b[32m1.0/2.1 MB\u001b[0m \u001b[31m1.1 MB/s\u001b[0m eta \u001b[36m0:00:02\u001b[0m"
                },
                {
                    "output_type": "stream",
                    "name": "stdout",
                    "text": "\r\u001b[2K     \u001b[91m━━━━━━━━━━━━━━━━━━━\u001b[0m\u001b[91m╸\u001b[0m\u001b[90m━━━━━━━━━━━━━━━━━━━━\u001b[0m \u001b[32m1.0/2.1 MB\u001b[0m \u001b[31m1.1 MB/s\u001b[0m eta \u001b[36m0:00:01\u001b[0m"
                },
                {
                    "output_type": "stream",
                    "name": "stdout",
                    "text": "\r\u001b[2K     \u001b[91m━━━━━━━━━━━━━━━━━━━━━\u001b[0m\u001b[91m╸\u001b[0m\u001b[90m━━━━━━━━━━━━━━━━━━\u001b[0m \u001b[32m1.1/2.1 MB\u001b[0m \u001b[31m1.2 MB/s\u001b[0m eta \u001b[36m0:00:01\u001b[0m\r\u001b[2K     \u001b[91m━━━━━━━━━━━━━━━━━━━━━━━\u001b[0m\u001b[90m╺\u001b[0m\u001b[90m━━━━━━━━━━━━━━━━\u001b[0m \u001b[32m1.2/2.1 MB\u001b[0m \u001b[31m1.2 MB/s\u001b[0m eta \u001b[36m0:00:01\u001b[0m"
                },
                {
                    "output_type": "stream",
                    "name": "stdout",
                    "text": "\r\u001b[2K     \u001b[91m━━━━━━━━━━━━━━━━━━━━━━━\u001b[0m\u001b[91m╸\u001b[0m\u001b[90m━━━━━━━━━━━━━━━━\u001b[0m \u001b[32m1.2/2.1 MB\u001b[0m \u001b[31m1.2 MB/s\u001b[0m eta \u001b[36m0:00:01\u001b[0m"
                },
                {
                    "output_type": "stream",
                    "name": "stdout",
                    "text": "\r\u001b[2K     \u001b[91m━━━━━━━━━━━━━━━━━━━━━━━━\u001b[0m\u001b[90m╺\u001b[0m\u001b[90m━━━━━━━━━━━━━━━\u001b[0m \u001b[32m1.3/2.1 MB\u001b[0m \u001b[31m1.2 MB/s\u001b[0m eta \u001b[36m0:00:01\u001b[0m"
                },
                {
                    "output_type": "stream",
                    "name": "stdout",
                    "text": "\r\u001b[2K     \u001b[91m━━━━━━━━━━━━━━━━━━━━━━━━━\u001b[0m\u001b[91m╸\u001b[0m\u001b[90m━━━━━━━━━━━━━━\u001b[0m \u001b[32m1.4/2.1 MB\u001b[0m \u001b[31m1.2 MB/s\u001b[0m eta \u001b[36m0:00:01\u001b[0m\r\u001b[2K     \u001b[91m━━━━━━━━━━━━━━━━━━━━━━━━━━━\u001b[0m\u001b[90m╺\u001b[0m\u001b[90m━━━━━━━━━━━━\u001b[0m \u001b[32m1.4/2.1 MB\u001b[0m \u001b[31m1.3 MB/s\u001b[0m eta \u001b[36m0:00:01\u001b[0m"
                },
                {
                    "output_type": "stream",
                    "name": "stdout",
                    "text": "\r\u001b[2K     \u001b[91m━━━━━━━━━━━━━━━━━━━━━━━━━━━━\u001b[0m\u001b[91m╸\u001b[0m\u001b[90m━━━━━━━━━━━\u001b[0m \u001b[32m1.5/2.1 MB\u001b[0m \u001b[31m1.3 MB/s\u001b[0m eta \u001b[36m0:00:01\u001b[0m"
                },
                {
                    "output_type": "stream",
                    "name": "stdout",
                    "text": "\r\u001b[2K     \u001b[91m━━━━━━━━━━━━━━━━━━━━━━━━━━━━━\u001b[0m\u001b[91m╸\u001b[0m\u001b[90m━━━━━━━━━━\u001b[0m \u001b[32m1.6/2.1 MB\u001b[0m \u001b[31m1.3 MB/s\u001b[0m eta \u001b[36m0:00:01\u001b[0m\r\u001b[2K     \u001b[91m━━━━━━━━━━━━━━━━━━━━━━━━━━━━━\u001b[0m\u001b[91m╸\u001b[0m\u001b[90m━━━━━━━━━━\u001b[0m \u001b[32m1.6/2.1 MB\u001b[0m \u001b[31m1.3 MB/s\u001b[0m eta \u001b[36m0:00:01\u001b[0m"
                },
                {
                    "output_type": "stream",
                    "name": "stdout",
                    "text": "\r\u001b[2K     \u001b[91m━━━━━━━━━━━━━━━━━━━━━━━━━━━━━━\u001b[0m\u001b[90m╺\u001b[0m\u001b[90m━━━━━━━━━\u001b[0m \u001b[32m1.6/2.1 MB\u001b[0m \u001b[31m1.2 MB/s\u001b[0m eta \u001b[36m0:00:01\u001b[0m"
                },
                {
                    "output_type": "stream",
                    "name": "stdout",
                    "text": "\r\u001b[2K     \u001b[91m━━━━━━━━━━━━━━━━━━━━━━━━━━━━━━━\u001b[0m\u001b[90m╺\u001b[0m\u001b[90m━━━━━━━━\u001b[0m \u001b[32m1.6/2.1 MB\u001b[0m \u001b[31m1.2 MB/s\u001b[0m eta \u001b[36m0:00:01\u001b[0m"
                },
                {
                    "output_type": "stream",
                    "name": "stdout",
                    "text": "\r\u001b[2K     \u001b[91m━━━━━━━━━━━━━━━━━━━━━━━━━━━━━━━\u001b[0m\u001b[90m╺\u001b[0m\u001b[90m━━━━━━━━\u001b[0m \u001b[32m1.7/2.1 MB\u001b[0m \u001b[31m1.2 MB/s\u001b[0m eta \u001b[36m0:00:01\u001b[0m\r\u001b[2K     \u001b[91m━━━━━━━━━━━━━━━━━━━━━━━━━━━━━━━━\u001b[0m\u001b[90m╺\u001b[0m\u001b[90m━━━━━━━\u001b[0m \u001b[32m1.7/2.1 MB\u001b[0m \u001b[31m1.2 MB/s\u001b[0m eta \u001b[36m0:00:01\u001b[0m"
                },
                {
                    "output_type": "stream",
                    "name": "stdout",
                    "text": "\r\u001b[2K     \u001b[91m━━━━━━━━━━━━━━━━━━━━━━━━━━━━━━━━\u001b[0m\u001b[91m╸\u001b[0m\u001b[90m━━━━━━━\u001b[0m \u001b[32m1.7/2.1 MB\u001b[0m \u001b[31m1.2 MB/s\u001b[0m eta \u001b[36m0:00:01\u001b[0m"
                },
                {
                    "output_type": "stream",
                    "name": "stdout",
                    "text": "\r\u001b[2K     \u001b[91m━━━━━━━━━━━━━━━━━━━━━━━━━━━━━━━━━\u001b[0m\u001b[90m╺\u001b[0m\u001b[90m━━━━━━\u001b[0m \u001b[32m1.7/2.1 MB\u001b[0m \u001b[31m1.2 MB/s\u001b[0m eta \u001b[36m0:00:01\u001b[0m\r\u001b[2K     \u001b[91m━━━━━━━━━━━━━━━━━━━━━━━━━━━━━━━━━\u001b[0m\u001b[90m╺\u001b[0m\u001b[90m━━━━━━\u001b[0m \u001b[32m1.7/2.1 MB\u001b[0m \u001b[31m1.2 MB/s\u001b[0m eta \u001b[36m0:00:01\u001b[0m"
                },
                {
                    "output_type": "stream",
                    "name": "stdout",
                    "text": "\r\u001b[2K     \u001b[91m━━━━━━━━━━━━━━━━━━━━━━━━━━━━━━━━━\u001b[0m\u001b[91m╸\u001b[0m\u001b[90m━━━━━━\u001b[0m \u001b[32m1.8/2.1 MB\u001b[0m \u001b[31m1.2 MB/s\u001b[0m eta \u001b[36m0:00:01\u001b[0m"
                },
                {
                    "output_type": "stream",
                    "name": "stdout",
                    "text": "\r\u001b[2K     \u001b[91m━━━━━━━━━━━━━━━━━━━━━━━━━━━━━━━━━\u001b[0m\u001b[91m╸\u001b[0m\u001b[90m━━━━━━\u001b[0m \u001b[32m1.8/2.1 MB\u001b[0m \u001b[31m1.2 MB/s\u001b[0m eta \u001b[36m0:00:01\u001b[0m"
                },
                {
                    "output_type": "stream",
                    "name": "stdout",
                    "text": "\r\u001b[2K     \u001b[91m━━━━━━━━━━━━━━━━━━━━━━━━━━━━━━━━━\u001b[0m\u001b[91m╸\u001b[0m\u001b[90m━━━━━━\u001b[0m \u001b[32m1.8/2.1 MB\u001b[0m \u001b[31m1.2 MB/s\u001b[0m eta \u001b[36m0:00:01\u001b[0m\r\u001b[2K     \u001b[91m━━━━━━━━━━━━━━━━━━━━━━━━━━━━━━━━━\u001b[0m\u001b[91m╸\u001b[0m\u001b[90m━━━━━━\u001b[0m \u001b[32m1.8/2.1 MB\u001b[0m \u001b[31m1.2 MB/s\u001b[0m eta \u001b[36m0:00:01\u001b[0m"
                },
                {
                    "output_type": "stream",
                    "name": "stdout",
                    "text": "\r\u001b[2K     \u001b[91m━━━━━━━━━━━━━━━━━━━━━━━━━━━━━━━━━\u001b[0m\u001b[91m╸\u001b[0m\u001b[90m━━━━━━\u001b[0m \u001b[32m1.8/2.1 MB\u001b[0m \u001b[31m1.2 MB/s\u001b[0m eta \u001b[36m0:00:01\u001b[0m"
                },
                {
                    "output_type": "stream",
                    "name": "stdout",
                    "text": "\r\u001b[2K     \u001b[91m━━━━━━━━━━━━━━━━━━━━━━━━━━━━━━━━━\u001b[0m\u001b[91m╸\u001b[0m\u001b[90m━━━━━━\u001b[0m \u001b[32m1.8/2.1 MB\u001b[0m \u001b[31m1.2 MB/s\u001b[0m eta \u001b[36m0:00:01\u001b[0m\r\u001b[2K     \u001b[91m━━━━━━━━━━━━━━━━━━━━━━━━━━━━━━━━━\u001b[0m\u001b[91m╸\u001b[0m\u001b[90m━━━━━━\u001b[0m \u001b[32m1.8/2.1 MB\u001b[0m \u001b[31m1.2 MB/s\u001b[0m eta \u001b[36m0:00:01\u001b[0m"
                },
                {
                    "output_type": "stream",
                    "name": "stdout",
                    "text": "\r\u001b[2K     \u001b[91m━━━━━━━━━━━━━━━━━━━━━━━━━━━━━━━━━━━\u001b[0m\u001b[90m╺\u001b[0m\u001b[90m━━━━\u001b[0m \u001b[32m1.9/2.1 MB\u001b[0m \u001b[31m1.0 MB/s\u001b[0m eta \u001b[36m0:00:01\u001b[0m"
                },
                {
                    "output_type": "stream",
                    "name": "stdout",
                    "text": "\r\u001b[2K     \u001b[91m━━━━━━━━━━━━━━━━━━━━━━━━━━━━━━━━━━━\u001b[0m\u001b[91m╸\u001b[0m\u001b[90m━━━━\u001b[0m \u001b[32m1.9/2.1 MB\u001b[0m \u001b[31m1.0 MB/s\u001b[0m eta \u001b[36m0:00:01\u001b[0m"
                },
                {
                    "output_type": "stream",
                    "name": "stdout",
                    "text": "\r\u001b[2K     \u001b[91m━━━━━━━━━━━━━━━━━━━━━━━━━━━━━━━━━━━\u001b[0m\u001b[91m╸\u001b[0m\u001b[90m━━━━\u001b[0m \u001b[32m1.9/2.1 MB\u001b[0m \u001b[31m1.0 MB/s\u001b[0m eta \u001b[36m0:00:01\u001b[0m\r\u001b[2K     \u001b[91m━━━━━━━━━━━━━━━━━━━━━━━━━━━━━━━━━━━━\u001b[0m\u001b[90m╺\u001b[0m\u001b[90m━━━\u001b[0m \u001b[32m1.9/2.1 MB\u001b[0m \u001b[31m978.7 kB/s\u001b[0m eta \u001b[36m0:00:01\u001b[0m"
                },
                {
                    "output_type": "stream",
                    "name": "stdout",
                    "text": "\r\u001b[2K     \u001b[91m━━━━━━━━━━━━━━━━━━━━━━━━━━━━━━━━━━━━\u001b[0m\u001b[91m╸\u001b[0m\u001b[90m━━━\u001b[0m \u001b[32m1.9/2.1 MB\u001b[0m \u001b[31m984.6 kB/s\u001b[0m eta \u001b[36m0:00:01\u001b[0m"
                },
                {
                    "output_type": "stream",
                    "name": "stdout",
                    "text": "\r\u001b[2K     \u001b[91m━━━━━━━━━━━━━━━━━━━━━━━━━━━━━━━━━━━━\u001b[0m\u001b[91m╸\u001b[0m\u001b[90m━━━\u001b[0m \u001b[32m1.9/2.1 MB\u001b[0m \u001b[31m971.4 kB/s\u001b[0m eta \u001b[36m0:00:01\u001b[0m\r\u001b[2K     \u001b[91m━━━━━━━━━━━━━━━━━━━━━━━━━━━━━━━━━━━━━\u001b[0m\u001b[90m╺\u001b[0m\u001b[90m━━\u001b[0m \u001b[32m2.0/2.1 MB\u001b[0m \u001b[31m962.9 kB/s\u001b[0m eta \u001b[36m0:00:01\u001b[0m"
                },
                {
                    "output_type": "stream",
                    "name": "stdout",
                    "text": "\r\u001b[2K     \u001b[91m━━━━━━━━━━━━━━━━━━━━━━━━━━━━━━━━━━━━━\u001b[0m\u001b[91m╸\u001b[0m\u001b[90m━━\u001b[0m \u001b[32m2.0/2.1 MB\u001b[0m \u001b[31m961.6 kB/s\u001b[0m eta \u001b[36m0:00:01\u001b[0m"
                },
                {
                    "output_type": "stream",
                    "name": "stdout",
                    "text": "\r\u001b[2K     \u001b[91m━━━━━━━━━━━━━━━━━━━━━━━━━━━━━━━━━━━━━\u001b[0m\u001b[91m╸\u001b[0m\u001b[90m━━\u001b[0m \u001b[32m2.0/2.1 MB\u001b[0m \u001b[31m961.6 kB/s\u001b[0m eta \u001b[36m0:00:01\u001b[0m\r\u001b[2K     \u001b[91m━━━━━━━━━━━━━━━━━━━━━━━━━━━━━━━━━━━━━━\u001b[0m\u001b[91m╸\u001b[0m\u001b[90m━\u001b[0m \u001b[32m2.0/2.1 MB\u001b[0m \u001b[31m939.1 kB/s\u001b[0m eta \u001b[36m0:00:01\u001b[0m"
                },
                {
                    "output_type": "stream",
                    "name": "stdout",
                    "text": "\r\u001b[2K     \u001b[91m━━━━━━━━━━━━━━━━━━━━━━━━━━━━━━━━━━━━━━━\u001b[0m\u001b[90m╺\u001b[0m \u001b[32m2.1/2.1 MB\u001b[0m \u001b[31m937.7 kB/s\u001b[0m eta \u001b[36m0:00:01\u001b[0m"
                },
                {
                    "output_type": "stream",
                    "name": "stdout",
                    "text": "\r\u001b[2K     \u001b[91m━━━━━━━━━━━━━━━━━━━━━━━━━━━━━━━━━━━━━━━\u001b[0m\u001b[90m╺\u001b[0m \u001b[32m2.1/2.1 MB\u001b[0m \u001b[31m937.7 kB/s\u001b[0m eta \u001b[36m0:00:01\u001b[0m\r\u001b[2K     \u001b[91m━━━━━━━━━━━━━━━━━━━━━━━━━━━━━━━━━━━━━━━\u001b[0m\u001b[90m╺\u001b[0m \u001b[32m2.1/2.1 MB\u001b[0m \u001b[31m937.7 kB/s\u001b[0m eta \u001b[36m0:00:01\u001b[0m"
                },
                {
                    "output_type": "stream",
                    "name": "stdout",
                    "text": "\r\u001b[2K     \u001b[91m━━━━━━━━━━━━━━━━━━━━━━━━━━━━━━━━━━━━━━━\u001b[0m\u001b[90m╺\u001b[0m \u001b[32m2.1/2.1 MB\u001b[0m \u001b[31m937.7 kB/s\u001b[0m eta \u001b[36m0:00:01\u001b[0m"
                },
                {
                    "output_type": "stream",
                    "name": "stdout",
                    "text": "\r\u001b[2K     \u001b[91m━━━━━━━━━━━━━━━━━━━━━━━━━━━━━━━━━━━━━━━\u001b[0m\u001b[90m╺\u001b[0m \u001b[32m2.1/2.1 MB\u001b[0m \u001b[31m937.7 kB/s\u001b[0m eta \u001b[36m0:00:01\u001b[0m\r\u001b[2K     \u001b[90m━━━━━━━━━━━━━━━━━━━━━━━━━━━━━━━━━━━━━━━━\u001b[0m \u001b[32m2.1/2.1 MB\u001b[0m \u001b[31m883.7 kB/s\u001b[0m eta \u001b[36m0:00:00\u001b[0m\r\n\u001b[?25h"
                },
                {
                    "output_type": "stream",
                    "name": "stdout",
                    "text": "Installing collected packages: pip\r\n  Attempting uninstall: pip\r\n    Found existing installation: pip 22.3\r\n"
                },
                {
                    "output_type": "stream",
                    "name": "stdout",
                    "text": "    Uninstalling pip-22.3:\r\n"
                },
                {
                    "output_type": "stream",
                    "name": "stdout",
                    "text": "      Successfully uninstalled pip-22.3\r\n"
                },
                {
                    "output_type": "stream",
                    "name": "stdout",
                    "text": "Successfully installed pip-23.3.2\r\n"
                },
                {
                    "output_type": "stream",
                    "name": "stdout",
                    "text": "Note: you may need to restart the kernel to use updated packages.\n"
                }
            ],
            "execution_count": 51
        },
        {
            "cell_type": "code",
            "source": [
                ""
            ],
            "metadata": {
                "azdata_cell_guid": "6b3fae5b-3c93-4d6d-8473-90e0a5c9900e",
                "language": "python"
            },
            "outputs": [],
            "execution_count": null
        },
        {
            "cell_type": "code",
            "source": [
                "#now I am going to add data visualizaton plugins\n",
                "#first I install matplotlib and seaborn\n",
                "!pip install seaborn\n",
                "!pip install matplotlib"
            ],
            "metadata": {
                "language": "python",
                "azdata_cell_guid": "8dddd86e-4422-4adc-be32-3ff9b65ece3d"
            },
            "outputs": [
                {
                    "output_type": "stream",
                    "name": "stdout",
                    "text": "Collecting seaborn\r\n"
                },
                {
                    "output_type": "stream",
                    "name": "stdout",
                    "text": "  Downloading seaborn-0.13.1-py3-none-any.whl.metadata (5.4 kB)\r\n"
                },
                {
                    "output_type": "stream",
                    "name": "stdout",
                    "text": "Requirement already satisfied: numpy!=1.24.0,>=1.20 in /Library/Frameworks/Python.framework/Versions/3.11/lib/python3.11/site-packages (from seaborn) (1.26.3)\r\nRequirement already satisfied: pandas>=1.2 in /Library/Frameworks/Python.framework/Versions/3.11/lib/python3.11/site-packages (from seaborn) (2.1.4)\r\n"
                },
                {
                    "output_type": "stream",
                    "name": "stdout",
                    "text": "Collecting matplotlib!=3.6.1,>=3.4 (from seaborn)\r\n"
                },
                {
                    "output_type": "stream",
                    "name": "stdout",
                    "text": "  Downloading matplotlib-3.8.2-cp311-cp311-macosx_11_0_arm64.whl.metadata (5.8 kB)\r\n"
                },
                {
                    "output_type": "stream",
                    "name": "stdout",
                    "text": "Collecting contourpy>=1.0.1 (from matplotlib!=3.6.1,>=3.4->seaborn)\r\n"
                },
                {
                    "output_type": "stream",
                    "name": "stdout",
                    "text": "  Downloading contourpy-1.2.0-cp311-cp311-macosx_11_0_arm64.whl.metadata (5.8 kB)\r\n"
                },
                {
                    "output_type": "stream",
                    "name": "stdout",
                    "text": "Collecting cycler>=0.10 (from matplotlib!=3.6.1,>=3.4->seaborn)\r\n"
                },
                {
                    "output_type": "stream",
                    "name": "stdout",
                    "text": "  Downloading cycler-0.12.1-py3-none-any.whl.metadata (3.8 kB)\r\n"
                },
                {
                    "output_type": "stream",
                    "name": "stdout",
                    "text": "Collecting fonttools>=4.22.0 (from matplotlib!=3.6.1,>=3.4->seaborn)\r\n"
                },
                {
                    "output_type": "stream",
                    "name": "stdout",
                    "text": "  Downloading fonttools-4.47.0-cp311-cp311-macosx_10_9_universal2.whl.metadata (157 kB)\r\n\u001b[?25l     \u001b[90m━━━━━━━━━━━━━━━━━━━━━━━━━━━━━━━━━━━━━━━━\u001b[0m \u001b[32m0.0/157.2 kB\u001b[0m \u001b[31m?\u001b[0m eta \u001b[36m-:--:--\u001b[0m"
                },
                {
                    "output_type": "stream",
                    "name": "stdout",
                    "text": "\r\u001b[2K     \u001b[90m━━━━━━━━━━━━━━━━━━━━━━━━━━━━━━━━━━━━━━━━\u001b[0m \u001b[32m0.0/157.2 kB\u001b[0m \u001b[31m?\u001b[0m eta \u001b[36m-:--:--\u001b[0m"
                },
                {
                    "output_type": "stream",
                    "name": "stdout",
                    "text": "\r\u001b[2K     \u001b[91m━━━━━━━\u001b[0m\u001b[91m╸\u001b[0m\u001b[90m━━━━━━━━━━━━━━━━━━━━━━━━━━━━━━━━\u001b[0m \u001b[32m30.7/157.2 kB\u001b[0m \u001b[31m4.3 MB/s\u001b[0m eta \u001b[36m0:00:01\u001b[0m"
                },
                {
                    "output_type": "stream",
                    "name": "stdout",
                    "text": "\r\u001b[2K     \u001b[91m━━━━━━━━━\u001b[0m\u001b[91m╸\u001b[0m\u001b[90m━━━━━━━━━━━━━━━━━━━━━━━━━━━━\u001b[0m \u001b[32m41.0/157.2 kB\u001b[0m \u001b[31m486.8 kB/s\u001b[0m eta \u001b[36m0:00:01\u001b[0m\r\u001b[2K     \u001b[90m━━━━━━━━━━━━━━━━━━━━━━━━━━━━━━━━━━━━━━━\u001b[0m \u001b[32m157.2/157.2 kB\u001b[0m \u001b[31m1.6 MB/s\u001b[0m eta \u001b[36m0:00:00\u001b[0m\r\n\u001b[?25h"
                },
                {
                    "output_type": "stream",
                    "name": "stdout",
                    "text": "Collecting kiwisolver>=1.3.1 (from matplotlib!=3.6.1,>=3.4->seaborn)\r\n  Downloading kiwisolver-1.4.5-cp311-cp311-macosx_11_0_arm64.whl.metadata (6.4 kB)\r\nRequirement already satisfied: packaging>=20.0 in /Users/mohauramasedi/Library/Python/3.11/lib/python/site-packages (from matplotlib!=3.6.1,>=3.4->seaborn) (23.2)\r\n"
                },
                {
                    "output_type": "stream",
                    "name": "stdout",
                    "text": "Collecting pillow>=8 (from matplotlib!=3.6.1,>=3.4->seaborn)\r\n"
                },
                {
                    "output_type": "stream",
                    "name": "stdout",
                    "text": "  Downloading pillow-10.2.0-cp311-cp311-macosx_11_0_arm64.whl.metadata (9.7 kB)\r\n"
                },
                {
                    "output_type": "stream",
                    "name": "stdout",
                    "text": "Collecting pyparsing>=2.3.1 (from matplotlib!=3.6.1,>=3.4->seaborn)\r\n"
                },
                {
                    "output_type": "stream",
                    "name": "stdout",
                    "text": "  Downloading pyparsing-3.1.1-py3-none-any.whl.metadata (5.1 kB)\r\nRequirement already satisfied: python-dateutil>=2.7 in /Users/mohauramasedi/Library/Python/3.11/lib/python/site-packages (from matplotlib!=3.6.1,>=3.4->seaborn) (2.8.2)\r\n"
                },
                {
                    "output_type": "stream",
                    "name": "stdout",
                    "text": "Requirement already satisfied: pytz>=2020.1 in /Library/Frameworks/Python.framework/Versions/3.11/lib/python3.11/site-packages (from pandas>=1.2->seaborn) (2023.3.post1)\r\nRequirement already satisfied: tzdata>=2022.1 in /Library/Frameworks/Python.framework/Versions/3.11/lib/python3.11/site-packages (from pandas>=1.2->seaborn) (2023.4)\r\nRequirement already satisfied: six>=1.5 in /Users/mohauramasedi/Library/Python/3.11/lib/python/site-packages (from python-dateutil>=2.7->matplotlib!=3.6.1,>=3.4->seaborn) (1.16.0)\r\n"
                },
                {
                    "output_type": "stream",
                    "name": "stdout",
                    "text": "Downloading seaborn-0.13.1-py3-none-any.whl (294 kB)\r\n"
                },
                {
                    "output_type": "stream",
                    "name": "stdout",
                    "text": "\u001b[?25l   \u001b[90m━━━━━━━━━━━━━━━━━━━━━━━━━━━━━━━━━━━━━━━━\u001b[0m \u001b[32m0.0/294.8 kB\u001b[0m \u001b[31m?\u001b[0m eta \u001b[36m-:--:--\u001b[0m\r\u001b[2K   \u001b[91m━━━━━━━━━━━\u001b[0m\u001b[90m╺\u001b[0m\u001b[90m━━━━━━━━━━━━━━━━━━━━━━━━━━━━\u001b[0m \u001b[32m81.9/294.8 kB\u001b[0m \u001b[31m2.4 MB/s\u001b[0m eta \u001b[36m0:00:01\u001b[0m"
                },
                {
                    "output_type": "stream",
                    "name": "stdout",
                    "text": "\r\u001b[2K   \u001b[91m━━━━━━━━━━━━━━━━━━━━━━\u001b[0m\u001b[90m╺\u001b[0m\u001b[90m━━━━━━━━━━━━━━━━━\u001b[0m \u001b[32m163.8/294.8 kB\u001b[0m \u001b[31m2.0 MB/s\u001b[0m eta \u001b[36m0:00:01\u001b[0m"
                },
                {
                    "output_type": "stream",
                    "name": "stdout",
                    "text": "\r\u001b[2K   \u001b[91m━━━━━━━━━━━━━━━━━━━━━━━━━━━\u001b[0m\u001b[91m╸\u001b[0m\u001b[90m━━━━━━━━━━━━\u001b[0m \u001b[32m204.8/294.8 kB\u001b[0m \u001b[31m1.8 MB/s\u001b[0m eta \u001b[36m0:00:01\u001b[0m\r\u001b[2K   \u001b[91m━━━━━━━━━━━━━━━━━━━━━━━━━━━━━━━━━━━━━━\u001b[0m\u001b[91m╸\u001b[0m\u001b[90m━\u001b[0m \u001b[32m286.7/294.8 kB\u001b[0m \u001b[31m1.9 MB/s\u001b[0m eta \u001b[36m0:00:01\u001b[0m\r\u001b[2K   \u001b[90m━━━━━━━━━━━━━━━━━━━━━━━━━━━━━━━━━━━━━━━━\u001b[0m \u001b[32m294.8/294.8 kB\u001b[0m \u001b[31m1.8 MB/s\u001b[0m eta \u001b[36m0:00:00\u001b[0m\r\n\u001b[?25h"
                },
                {
                    "output_type": "stream",
                    "name": "stdout",
                    "text": "Downloading matplotlib-3.8.2-cp311-cp311-macosx_11_0_arm64.whl (7.5 MB)\r\n\u001b[?25l   \u001b[90m━━━━━━━━━━━━━━━━━━━━━━━━━━━━━━━━━━━━━━━━\u001b[0m \u001b[32m0.0/7.5 MB\u001b[0m \u001b[31m?\u001b[0m eta \u001b[36m-:--:--\u001b[0m"
                },
                {
                    "output_type": "stream",
                    "name": "stdout",
                    "text": "\r\u001b[2K   \u001b[90m━━━━━━━━━━━━━━━━━━━━━━━━━━━━━━━━━━━━━━━━\u001b[0m \u001b[32m0.1/7.5 MB\u001b[0m \u001b[31m2.4 MB/s\u001b[0m eta \u001b[36m0:00:04\u001b[0m\r\u001b[2K   \u001b[90m━━━━━━━━━━━━━━━━━━━━━━━━━━━━━━━━━━━━━━━━\u001b[0m \u001b[32m0.1/7.5 MB\u001b[0m \u001b[31m2.4 MB/s\u001b[0m eta \u001b[36m0:00:04\u001b[0m"
                },
                {
                    "output_type": "stream",
                    "name": "stdout",
                    "text": "\r\u001b[2K   \u001b[90m━━━━━━━━━━━━━━━━━━━━━━━━━━━━━━━━━━━━━━━━\u001b[0m \u001b[32m0.1/7.5 MB\u001b[0m \u001b[31m790.7 kB/s\u001b[0m eta \u001b[36m0:00:10\u001b[0m"
                },
                {
                    "output_type": "stream",
                    "name": "stdout",
                    "text": "\r\u001b[2K   \u001b[90m━━━━━━━━━━━━━━━━━━━━━━━━━━━━━━━━━━━━━━━━\u001b[0m \u001b[32m0.1/7.5 MB\u001b[0m \u001b[31m790.7 kB/s\u001b[0m eta \u001b[36m0:00:10\u001b[0m"
                },
                {
                    "output_type": "stream",
                    "name": "stdout",
                    "text": "\r\u001b[2K   \u001b[90m━━━━━━━━━━━━━━━━━━━━━━━━━━━━━━━━━━━━━━━━\u001b[0m \u001b[32m0.1/7.5 MB\u001b[0m \u001b[31m790.7 kB/s\u001b[0m eta \u001b[36m0:00:10\u001b[0m\r\u001b[2K   \u001b[90m━━━━━━━━━━━━━━━━━━━━━━━━━━━━━━━━━━━━━━━━\u001b[0m \u001b[32m0.1/7.5 MB\u001b[0m \u001b[31m790.7 kB/s\u001b[0m eta \u001b[36m0:00:10\u001b[0m"
                },
                {
                    "output_type": "stream",
                    "name": "stdout",
                    "text": "\r\u001b[2K   \u001b[90m━━━━━━━━━━━━━━━━━━━━━━━━━━━━━━━━━━━━━━━━\u001b[0m \u001b[32m0.1/7.5 MB\u001b[0m \u001b[31m790.7 kB/s\u001b[0m eta \u001b[36m0:00:10\u001b[0m"
                },
                {
                    "output_type": "stream",
                    "name": "stdout",
                    "text": "\r\u001b[2K   \u001b[90m━━━━━━━━━━━━━━━━━━━━━━━━━━━━━━━━━━━━━━━━\u001b[0m \u001b[32m0.1/7.5 MB\u001b[0m \u001b[31m790.7 kB/s\u001b[0m eta \u001b[36m0:00:10\u001b[0m\r\u001b[2K   \u001b[90m━━━━━━━━━━━━━━━━━━━━━━━━━━━━━━━━━━━━━━━━\u001b[0m \u001b[32m0.1/7.5 MB\u001b[0m \u001b[31m790.7 kB/s\u001b[0m eta \u001b[36m0:00:10\u001b[0m"
                },
                {
                    "output_type": "stream",
                    "name": "stdout",
                    "text": "\r\u001b[2K   \u001b[90m━━━━━━━━━━━━━━━━━━━━━━━━━━━━━━━━━━━━━━━━\u001b[0m \u001b[32m0.1/7.5 MB\u001b[0m \u001b[31m790.7 kB/s\u001b[0m eta \u001b[36m0:00:10\u001b[0m"
                },
                {
                    "output_type": "stream",
                    "name": "stdout",
                    "text": "\r\u001b[2K   \u001b[90m━━━━━━━━━━━━━━━━━━━━━━━━━━━━━━━━━━━━━━━━\u001b[0m \u001b[32m0.1/7.5 MB\u001b[0m \u001b[31m790.7 kB/s\u001b[0m eta \u001b[36m0:00:10\u001b[0m"
                },
                {
                    "output_type": "stream",
                    "name": "stdout",
                    "text": "\r\u001b[2K   \u001b[91m╸\u001b[0m\u001b[90m━━━━━━━━━━━━━━━━━━━━━━━━━━━━━━━━━━━━━━━\u001b[0m \u001b[32m0.1/7.5 MB\u001b[0m \u001b[31m254.9 kB/s\u001b[0m eta \u001b[36m0:00:29\u001b[0m\r\u001b[2K   \u001b[91m╸\u001b[0m\u001b[90m━━━━━━━━━━━━━━━━━━━━━━━━━━━━━━━━━━━━━━━\u001b[0m \u001b[32m0.2/7.5 MB\u001b[0m \u001b[31m292.6 kB/s\u001b[0m eta \u001b[36m0:00:26\u001b[0m"
                },
                {
                    "output_type": "stream",
                    "name": "stdout",
                    "text": "\r\u001b[2K   \u001b[91m━\u001b[0m\u001b[90m╺\u001b[0m\u001b[90m━━━━━━━━━━━━━━━━━━━━━━━━━━━━━━━━━━━━━━\u001b[0m \u001b[32m0.2/7.5 MB\u001b[0m \u001b[31m348.2 kB/s\u001b[0m eta \u001b[36m0:00:21\u001b[0m"
                },
                {
                    "output_type": "stream",
                    "name": "stdout",
                    "text": "\r\u001b[2K   \u001b[91m━\u001b[0m\u001b[90m╺\u001b[0m\u001b[90m━━━━━━━━━━━━━━━━━━━━━━━━━━━━━━━━━━━━━━\u001b[0m \u001b[32m0.3/7.5 MB\u001b[0m \u001b[31m466.3 kB/s\u001b[0m eta \u001b[36m0:00:16\u001b[0m\r\u001b[2K   \u001b[91m━\u001b[0m\u001b[91m╸\u001b[0m\u001b[90m━━━━━━━━━━━━━━━━━━━━━━━━━━━━━━━━━━━━━━\u001b[0m \u001b[32m0.3/7.5 MB\u001b[0m \u001b[31m505.8 kB/s\u001b[0m eta \u001b[36m0:00:15\u001b[0m"
                },
                {
                    "output_type": "stream",
                    "name": "stdout",
                    "text": "\r\u001b[2K   \u001b[91m━━\u001b[0m\u001b[90m╺\u001b[0m\u001b[90m━━━━━━━━━━━━━━━━━━━━━━━━━━━━━━━━━━━━━\u001b[0m \u001b[32m0.4/7.5 MB\u001b[0m \u001b[31m588.4 kB/s\u001b[0m eta \u001b[36m0:00:13\u001b[0m"
                },
                {
                    "output_type": "stream",
                    "name": "stdout",
                    "text": "\r\u001b[2K   \u001b[91m━━\u001b[0m\u001b[91m╸\u001b[0m\u001b[90m━━━━━━━━━━━━━━━━━━━━━━━━━━━━━━━━━━━━━\u001b[0m \u001b[32m0.5/7.5 MB\u001b[0m \u001b[31m675.3 kB/s\u001b[0m eta \u001b[36m0:00:11\u001b[0m"
                },
                {
                    "output_type": "stream",
                    "name": "stdout",
                    "text": "\r\u001b[2K   \u001b[91m━━\u001b[0m\u001b[91m╸\u001b[0m\u001b[90m━━━━━━━━━━━━━━━━━━━━━━━━━━━━━━━━━━━━━\u001b[0m \u001b[32m0.5/7.5 MB\u001b[0m \u001b[31m710.1 kB/s\u001b[0m eta \u001b[36m0:00:10\u001b[0m\r\u001b[2K   \u001b[91m━━━\u001b[0m\u001b[90m╺\u001b[0m\u001b[90m━━━━━━━━━━━━━━━━━━━━━━━━━━━━━━━━━━━━\u001b[0m \u001b[32m0.6/7.5 MB\u001b[0m \u001b[31m755.1 kB/s\u001b[0m eta \u001b[36m0:00:10\u001b[0m"
                },
                {
                    "output_type": "stream",
                    "name": "stdout",
                    "text": "\r\u001b[2K   \u001b[91m━━━\u001b[0m\u001b[90m╺\u001b[0m\u001b[90m━━━━━━━━━━━━━━━━━━━━━━━━━━━━━━━━━━━━\u001b[0m \u001b[32m0.6/7.5 MB\u001b[0m \u001b[31m790.9 kB/s\u001b[0m eta \u001b[36m0:00:09\u001b[0m"
                },
                {
                    "output_type": "stream",
                    "name": "stdout",
                    "text": "\r\u001b[2K   \u001b[91m━━━\u001b[0m\u001b[91m╸\u001b[0m\u001b[90m━━━━━━━━━━━━━━━━━━━━━━━━━━━━━━━━━━━━\u001b[0m \u001b[32m0.7/7.5 MB\u001b[0m \u001b[31m864.0 kB/s\u001b[0m eta \u001b[36m0:00:08\u001b[0m"
                },
                {
                    "output_type": "stream",
                    "name": "stdout",
                    "text": "\r\u001b[2K   \u001b[91m━━━━\u001b[0m\u001b[90m╺\u001b[0m\u001b[90m━━━━━━━━━━━━━━━━━━━━━━━━━━━━━━━━━━━\u001b[0m \u001b[32m0.8/7.5 MB\u001b[0m \u001b[31m920.1 kB/s\u001b[0m eta \u001b[36m0:00:08\u001b[0m\r\u001b[2K   \u001b[91m━━━━\u001b[0m\u001b[91m╸\u001b[0m\u001b[90m━━━━━━━━━━━━━━━━━━━━━━━━━━━━━━━━━━━\u001b[0m \u001b[32m0.9/7.5 MB\u001b[0m \u001b[31m968.3 kB/s\u001b[0m eta \u001b[36m0:00:07\u001b[0m"
                },
                {
                    "output_type": "stream",
                    "name": "stdout",
                    "text": "\r\u001b[2K   \u001b[91m━━━━\u001b[0m\u001b[91m╸\u001b[0m\u001b[90m━━━━━━━━━━━━━━━━━━━━━━━━━━━━━━━━━━━\u001b[0m \u001b[32m0.9/7.5 MB\u001b[0m \u001b[31m978.9 kB/s\u001b[0m eta \u001b[36m0:00:07\u001b[0m"
                },
                {
                    "output_type": "stream",
                    "name": "stdout",
                    "text": "\r\u001b[2K   \u001b[91m━━━━━\u001b[0m\u001b[90m╺\u001b[0m\u001b[90m━━━━━━━━━━━━━━━━━━━━━━━━━━━━━━━━━━\u001b[0m \u001b[32m1.0/7.5 MB\u001b[0m \u001b[31m1.0 MB/s\u001b[0m eta \u001b[36m0:00:07\u001b[0m\r\u001b[2K   \u001b[91m━━━━━\u001b[0m\u001b[91m╸\u001b[0m\u001b[90m━━━━━━━━━━━━━━━━━━━━━━━━━━━━━━━━━━\u001b[0m \u001b[32m1.1/7.5 MB\u001b[0m \u001b[31m1.0 MB/s\u001b[0m eta \u001b[36m0:00:07\u001b[0m"
                },
                {
                    "output_type": "stream",
                    "name": "stdout",
                    "text": "\r\u001b[2K   \u001b[91m━━━━━━\u001b[0m\u001b[90m╺\u001b[0m\u001b[90m━━━━━━━━━━━━━━━━━━━━━━━━━━━━━━━━━\u001b[0m \u001b[32m1.1/7.5 MB\u001b[0m \u001b[31m1.1 MB/s\u001b[0m eta \u001b[36m0:00:06\u001b[0m"
                },
                {
                    "output_type": "stream",
                    "name": "stdout",
                    "text": "\r\u001b[2K   \u001b[91m━━━━━━\u001b[0m\u001b[90m╺\u001b[0m\u001b[90m━━━━━━━━━━━━━━━━━━━━━━━━━━━━━━━━━\u001b[0m \u001b[32m1.2/7.5 MB\u001b[0m \u001b[31m1.1 MB/s\u001b[0m eta \u001b[36m0:00:06\u001b[0m"
                },
                {
                    "output_type": "stream",
                    "name": "stdout",
                    "text": "\r\u001b[2K   \u001b[91m━━━━━━\u001b[0m\u001b[91m╸\u001b[0m\u001b[90m━━━━━━━━━━━━━━━━━━━━━━━━━━━━━━━━━\u001b[0m \u001b[32m1.3/7.5 MB\u001b[0m \u001b[31m1.1 MB/s\u001b[0m eta \u001b[36m0:00:06\u001b[0m\r\u001b[2K   \u001b[91m━━━━━━━\u001b[0m\u001b[90m╺\u001b[0m\u001b[90m━━━━━━━━━━━━━━━━━━━━━━━━━━━━━━━━\u001b[0m \u001b[32m1.4/7.5 MB\u001b[0m \u001b[31m1.1 MB/s\u001b[0m eta \u001b[36m0:00:06\u001b[0m"
                },
                {
                    "output_type": "stream",
                    "name": "stdout",
                    "text": "\r\u001b[2K   \u001b[91m━━━━━━━\u001b[0m\u001b[90m╺\u001b[0m\u001b[90m━━━━━━━━━━━━━━━━━━━━━━━━━━━━━━━━\u001b[0m \u001b[32m1.4/7.5 MB\u001b[0m \u001b[31m1.1 MB/s\u001b[0m eta \u001b[36m0:00:06\u001b[0m"
                },
                {
                    "output_type": "stream",
                    "name": "stdout",
                    "text": "\r\u001b[2K   \u001b[91m━━━━━━━\u001b[0m\u001b[91m╸\u001b[0m\u001b[90m━━━━━━━━━━━━━━━━━━━━━━━━━━━━━━━━\u001b[0m \u001b[32m1.4/7.5 MB\u001b[0m \u001b[31m1.1 MB/s\u001b[0m eta \u001b[36m0:00:06\u001b[0m\r\u001b[2K   \u001b[91m━━━━━━━━\u001b[0m\u001b[90m╺\u001b[0m\u001b[90m━━━━━━━━━━━━━━━━━━━━━━━━━━━━━━━\u001b[0m \u001b[32m1.5/7.5 MB\u001b[0m \u001b[31m1.2 MB/s\u001b[0m eta \u001b[36m0:00:06\u001b[0m"
                },
                {
                    "output_type": "stream",
                    "name": "stdout",
                    "text": "\r\u001b[2K   \u001b[91m━━━━━━━━\u001b[0m\u001b[91m╸\u001b[0m\u001b[90m━━━━━━━━━━━━━━━━━━━━━━━━━━━━━━━\u001b[0m \u001b[32m1.6/7.5 MB\u001b[0m \u001b[31m1.2 MB/s\u001b[0m eta \u001b[36m0:00:05\u001b[0m"
                },
                {
                    "output_type": "stream",
                    "name": "stdout",
                    "text": "\r\u001b[2K   \u001b[91m━━━━━━━━\u001b[0m\u001b[91m╸\u001b[0m\u001b[90m━━━━━━━━━━━━━━━━━━━━━━━━━━━━━━━\u001b[0m \u001b[32m1.7/7.5 MB\u001b[0m \u001b[31m1.2 MB/s\u001b[0m eta \u001b[36m0:00:05\u001b[0m"
                },
                {
                    "output_type": "stream",
                    "name": "stdout",
                    "text": "\r\u001b[2K   \u001b[91m━━━━━━━━\u001b[0m\u001b[91m╸\u001b[0m\u001b[90m━━━━━━━━━━━━━━━━━━━━━━━━━━━━━━━\u001b[0m \u001b[32m1.7/7.5 MB\u001b[0m \u001b[31m1.2 MB/s\u001b[0m eta \u001b[36m0:00:05\u001b[0m\r\u001b[2K   \u001b[91m━━━━━━━━\u001b[0m\u001b[91m╸\u001b[0m\u001b[90m━━━━━━━━━━━━━━━━━━━━━━━━━━━━━━━\u001b[0m \u001b[32m1.7/7.5 MB\u001b[0m \u001b[31m1.2 MB/s\u001b[0m eta \u001b[36m0:00:05\u001b[0m"
                },
                {
                    "output_type": "stream",
                    "name": "stdout",
                    "text": "\r\u001b[2K   \u001b[91m━━━━━━━━━\u001b[0m\u001b[90m╺\u001b[0m\u001b[90m━━━━━━━━━━━━━━━━━━━━━━━━━━━━━━\u001b[0m \u001b[32m1.7/7.5 MB\u001b[0m \u001b[31m1.1 MB/s\u001b[0m eta \u001b[36m0:00:06\u001b[0m"
                },
                {
                    "output_type": "stream",
                    "name": "stdout",
                    "text": "\r\u001b[2K   \u001b[91m━━━━━━━━━\u001b[0m\u001b[90m╺\u001b[0m\u001b[90m━━━━━━━━━━━━━━━━━━━━━━━━━━━━━━\u001b[0m \u001b[32m1.7/7.5 MB\u001b[0m \u001b[31m1.1 MB/s\u001b[0m eta \u001b[36m0:00:06\u001b[0m"
                },
                {
                    "output_type": "stream",
                    "name": "stdout",
                    "text": "\r\u001b[2K   \u001b[91m━━━━━━━━━\u001b[0m\u001b[91m╸\u001b[0m\u001b[90m━━━━━━━━━━━━━━━━━━━━━━━━━━━━━━\u001b[0m \u001b[32m1.8/7.5 MB\u001b[0m \u001b[31m1.1 MB/s\u001b[0m eta \u001b[36m0:00:06\u001b[0m\r\u001b[2K   \u001b[91m━━━━━━━━━\u001b[0m\u001b[91m╸\u001b[0m\u001b[90m━━━━━━━━━━━━━━━━━━━━━━━━━━━━━━\u001b[0m \u001b[32m1.8/7.5 MB\u001b[0m \u001b[31m1.1 MB/s\u001b[0m eta \u001b[36m0:00:05\u001b[0m"
                },
                {
                    "output_type": "stream",
                    "name": "stdout",
                    "text": "\r\u001b[2K   \u001b[91m━━━━━━━━━━\u001b[0m\u001b[90m╺\u001b[0m\u001b[90m━━━━━━━━━━━━━━━━━━━━━━━━━━━━━\u001b[0m \u001b[32m1.9/7.5 MB\u001b[0m \u001b[31m1.1 MB/s\u001b[0m eta \u001b[36m0:00:05\u001b[0m"
                },
                {
                    "output_type": "stream",
                    "name": "stdout",
                    "text": "\r\u001b[2K   \u001b[91m━━━━━━━━━━\u001b[0m\u001b[90m╺\u001b[0m\u001b[90m━━━━━━━━━━━━━━━━━━━━━━━━━━━━━\u001b[0m \u001b[32m1.9/7.5 MB\u001b[0m \u001b[31m1.1 MB/s\u001b[0m eta \u001b[36m0:00:05\u001b[0m\r\u001b[2K   \u001b[91m━━━━━━━━━━\u001b[0m\u001b[91m╸\u001b[0m\u001b[90m━━━━━━━━━━━━━━━━━━━━━━━━━━━━━\u001b[0m \u001b[32m2.0/7.5 MB\u001b[0m \u001b[31m1.1 MB/s\u001b[0m eta \u001b[36m0:00:05\u001b[0m"
                },
                {
                    "output_type": "stream",
                    "name": "stdout",
                    "text": "\r\u001b[2K   \u001b[91m━━━━━━━━━━\u001b[0m\u001b[91m╸\u001b[0m\u001b[90m━━━━━━━━━━━━━━━━━━━━━━━━━━━━━\u001b[0m \u001b[32m2.0/7.5 MB\u001b[0m \u001b[31m1.2 MB/s\u001b[0m eta \u001b[36m0:00:05\u001b[0m"
                },
                {
                    "output_type": "stream",
                    "name": "stdout",
                    "text": "\r\u001b[2K   \u001b[91m━━━━━━━━━━━\u001b[0m\u001b[90m╺\u001b[0m\u001b[90m━━━━━━━━━━━━━━━━━━━━━━━━━━━━\u001b[0m \u001b[32m2.1/7.5 MB\u001b[0m \u001b[31m1.2 MB/s\u001b[0m eta \u001b[36m0:00:05\u001b[0m\r\u001b[2K   \u001b[91m━━━━━━━━━━━\u001b[0m\u001b[90m╺\u001b[0m\u001b[90m━━━━━━━━━━━━━━━━━━━━━━━━━━━━\u001b[0m \u001b[32m2.1/7.5 MB\u001b[0m \u001b[31m1.2 MB/s\u001b[0m eta \u001b[36m0:00:05\u001b[0m"
                },
                {
                    "output_type": "stream",
                    "name": "stdout",
                    "text": "\r\u001b[2K   \u001b[91m━━━━━━━━━━━\u001b[0m\u001b[91m╸\u001b[0m\u001b[90m━━━━━━━━━━━━━━━━━━━━━━━━━━━━\u001b[0m \u001b[32m2.2/7.5 MB\u001b[0m \u001b[31m1.2 MB/s\u001b[0m eta \u001b[36m0:00:05\u001b[0m"
                },
                {
                    "output_type": "stream",
                    "name": "stdout",
                    "text": "\r\u001b[2K   \u001b[91m━━━━━━━━━━━\u001b[0m\u001b[91m╸\u001b[0m\u001b[90m━━━━━━━━━━━━━━━━━━━━━━━━━━━━\u001b[0m \u001b[32m2.2/7.5 MB\u001b[0m \u001b[31m1.2 MB/s\u001b[0m eta \u001b[36m0:00:05\u001b[0m"
                },
                {
                    "output_type": "stream",
                    "name": "stdout",
                    "text": "\r\u001b[2K   \u001b[91m━━━━━━━━━━━━\u001b[0m\u001b[90m╺\u001b[0m\u001b[90m━━━━━━━━━━━━━━━━━━━━━━━━━━━\u001b[0m \u001b[32m2.3/7.5 MB\u001b[0m \u001b[31m1.2 MB/s\u001b[0m eta \u001b[36m0:00:05\u001b[0m\r\u001b[2K   \u001b[91m━━━━━━━━━━━━\u001b[0m\u001b[91m╸\u001b[0m\u001b[90m━━━━━━━━━━━━━━━━━━━━━━━━━━━\u001b[0m \u001b[32m2.3/7.5 MB\u001b[0m \u001b[31m1.2 MB/s\u001b[0m eta \u001b[36m0:00:05\u001b[0m"
                },
                {
                    "output_type": "stream",
                    "name": "stdout",
                    "text": "\r\u001b[2K   \u001b[91m━━━━━━━━━━━━\u001b[0m\u001b[91m╸\u001b[0m\u001b[90m━━━━━━━━━━━━━━━━━━━━━━━━━━━\u001b[0m \u001b[32m2.4/7.5 MB\u001b[0m \u001b[31m1.2 MB/s\u001b[0m eta \u001b[36m0:00:05\u001b[0m"
                },
                {
                    "output_type": "stream",
                    "name": "stdout",
                    "text": "\r\u001b[2K   \u001b[91m━━━━━━━━━━━━━\u001b[0m\u001b[90m╺\u001b[0m\u001b[90m━━━━━━━━━━━━━━━━━━━━━━━━━━\u001b[0m \u001b[32m2.4/7.5 MB\u001b[0m \u001b[31m1.2 MB/s\u001b[0m eta \u001b[36m0:00:05\u001b[0m\r\u001b[2K   \u001b[91m━━━━━━━━━━━━━\u001b[0m\u001b[90m╺\u001b[0m\u001b[90m━━━━━━━━━━━━━━━━━━━━━━━━━━\u001b[0m \u001b[32m2.5/7.5 MB\u001b[0m \u001b[31m1.2 MB/s\u001b[0m eta \u001b[36m0:00:05\u001b[0m"
                },
                {
                    "output_type": "stream",
                    "name": "stdout",
                    "text": "\r\u001b[2K   \u001b[91m━━━━━━━━━━━━━\u001b[0m\u001b[90m╺\u001b[0m\u001b[90m━━━━━━━━━━━━━━━━━━━━━━━━━━\u001b[0m \u001b[32m2.5/7.5 MB\u001b[0m \u001b[31m1.2 MB/s\u001b[0m eta \u001b[36m0:00:05\u001b[0m"
                },
                {
                    "output_type": "stream",
                    "name": "stdout",
                    "text": "\r\u001b[2K   \u001b[91m━━━━━━━━━━━━━\u001b[0m\u001b[91m╸\u001b[0m\u001b[90m━━━━━━━━━━━━━━━━━━━━━━━━━━\u001b[0m \u001b[32m2.6/7.5 MB\u001b[0m \u001b[31m1.2 MB/s\u001b[0m eta \u001b[36m0:00:05\u001b[0m"
                },
                {
                    "output_type": "stream",
                    "name": "stdout",
                    "text": "\r\u001b[2K   \u001b[91m━━━━━━━━━━━━━━\u001b[0m\u001b[90m╺\u001b[0m\u001b[90m━━━━━━━━━━━━━━━━━━━━━━━━━\u001b[0m \u001b[32m2.6/7.5 MB\u001b[0m \u001b[31m1.2 MB/s\u001b[0m eta \u001b[36m0:00:05\u001b[0m\r\u001b[2K   \u001b[91m━━━━━━━━━━━━━━\u001b[0m\u001b[90m╺\u001b[0m\u001b[90m━━━━━━━━━━━━━━━━━━━━━━━━━\u001b[0m \u001b[32m2.7/7.5 MB\u001b[0m \u001b[31m1.2 MB/s\u001b[0m eta \u001b[36m0:00:05\u001b[0m"
                },
                {
                    "output_type": "stream",
                    "name": "stdout",
                    "text": "\r\u001b[2K   \u001b[91m━━━━━━━━━━━━━━\u001b[0m\u001b[90m╺\u001b[0m\u001b[90m━━━━━━━━━━━━━━━━━━━━━━━━━\u001b[0m \u001b[32m2.7/7.5 MB\u001b[0m \u001b[31m1.2 MB/s\u001b[0m eta \u001b[36m0:00:05\u001b[0m"
                },
                {
                    "output_type": "stream",
                    "name": "stdout",
                    "text": "\r\u001b[2K   \u001b[91m━━━━━━━━━━━━━━\u001b[0m\u001b[91m╸\u001b[0m\u001b[90m━━━━━━━━━━━━━━━━━━━━━━━━━\u001b[0m \u001b[32m2.7/7.5 MB\u001b[0m \u001b[31m1.2 MB/s\u001b[0m eta \u001b[36m0:00:05\u001b[0m"
                },
                {
                    "output_type": "stream",
                    "name": "stdout",
                    "text": "\r\u001b[2K   \u001b[91m━━━━━━━━━━━━━━\u001b[0m\u001b[91m╸\u001b[0m\u001b[90m━━━━━━━━━━━━━━━━━━━━━━━━━\u001b[0m \u001b[32m2.8/7.5 MB\u001b[0m \u001b[31m1.2 MB/s\u001b[0m eta \u001b[36m0:00:04\u001b[0m\r\u001b[2K   \u001b[91m━━━━━━━━━━━━━━━\u001b[0m\u001b[90m╺\u001b[0m\u001b[90m━━━━━━━━━━━━━━━━━━━━━━━━\u001b[0m \u001b[32m2.8/7.5 MB\u001b[0m \u001b[31m1.2 MB/s\u001b[0m eta \u001b[36m0:00:04\u001b[0m"
                },
                {
                    "output_type": "stream",
                    "name": "stdout",
                    "text": "\r\u001b[2K   \u001b[91m━━━━━━━━━━━━━━━\u001b[0m\u001b[90m╺\u001b[0m\u001b[90m━━━━━━━━━━━━━━━━━━━━━━━━\u001b[0m \u001b[32m2.8/7.5 MB\u001b[0m \u001b[31m1.2 MB/s\u001b[0m eta \u001b[36m0:00:04\u001b[0m"
                },
                {
                    "output_type": "stream",
                    "name": "stdout",
                    "text": "\r\u001b[2K   \u001b[91m━━━━━━━━━━━━━━━\u001b[0m\u001b[90m╺\u001b[0m\u001b[90m━━━━━━━━━━━━━━━━━━━━━━━━\u001b[0m \u001b[32m2.8/7.5 MB\u001b[0m \u001b[31m1.2 MB/s\u001b[0m eta \u001b[36m0:00:04\u001b[0m\r\u001b[2K   \u001b[91m━━━━━━━━━━━━━━━\u001b[0m\u001b[90m╺\u001b[0m\u001b[90m━━━━━━━━━━━━━━━━━━━━━━━━\u001b[0m \u001b[32m2.8/7.5 MB\u001b[0m \u001b[31m1.2 MB/s\u001b[0m eta \u001b[36m0:00:04\u001b[0m"
                },
                {
                    "output_type": "stream",
                    "name": "stdout",
                    "text": "\r\u001b[2K   \u001b[91m━━━━━━━━━━━━━━━\u001b[0m\u001b[90m╺\u001b[0m\u001b[90m━━━━━━━━━━━━━━━━━━━━━━━━\u001b[0m \u001b[32m2.9/7.5 MB\u001b[0m \u001b[31m1.1 MB/s\u001b[0m eta \u001b[36m0:00:05\u001b[0m"
                },
                {
                    "output_type": "stream",
                    "name": "stdout",
                    "text": "\r\u001b[2K   \u001b[91m━━━━━━━━━━━━━━━\u001b[0m\u001b[90m╺\u001b[0m\u001b[90m━━━━━━━━━━━━━━━━━━━━━━━━\u001b[0m \u001b[32m2.9/7.5 MB\u001b[0m \u001b[31m1.1 MB/s\u001b[0m eta \u001b[36m0:00:05\u001b[0m"
                },
                {
                    "output_type": "stream",
                    "name": "stdout",
                    "text": "\r\u001b[2K   \u001b[91m━━━━━━━━━━━━━━━\u001b[0m\u001b[91m╸\u001b[0m\u001b[90m━━━━━━━━━━━━━━━━━━━━━━━━\u001b[0m \u001b[32m2.9/7.5 MB\u001b[0m \u001b[31m1.1 MB/s\u001b[0m eta \u001b[36m0:00:05\u001b[0m\r\u001b[2K   \u001b[91m━━━━━━━━━━━━━━━\u001b[0m\u001b[91m╸\u001b[0m\u001b[90m━━━━━━━━━━━━━━━━━━━━━━━━\u001b[0m \u001b[32m3.0/7.5 MB\u001b[0m \u001b[31m1.1 MB/s\u001b[0m eta \u001b[36m0:00:05\u001b[0m"
                },
                {
                    "output_type": "stream",
                    "name": "stdout",
                    "text": "\r\u001b[2K   \u001b[91m━━━━━━━━━━━━━━━━\u001b[0m\u001b[90m╺\u001b[0m\u001b[90m━━━━━━━━━━━━━━━━━━━━━━━\u001b[0m \u001b[32m3.0/7.5 MB\u001b[0m \u001b[31m1.1 MB/s\u001b[0m eta \u001b[36m0:00:05\u001b[0m"
                },
                {
                    "output_type": "stream",
                    "name": "stdout",
                    "text": "\r\u001b[2K   \u001b[91m━━━━━━━━━━━━━━━━\u001b[0m\u001b[90m╺\u001b[0m\u001b[90m━━━━━━━━━━━━━━━━━━━━━━━\u001b[0m \u001b[32m3.0/7.5 MB\u001b[0m \u001b[31m1.1 MB/s\u001b[0m eta \u001b[36m0:00:05\u001b[0m\r\u001b[2K   \u001b[91m━━━━━━━━━━━━━━━━\u001b[0m\u001b[90m╺\u001b[0m\u001b[90m━━━━━━━━━━━━━━━━━━━━━━━\u001b[0m \u001b[32m3.1/7.5 MB\u001b[0m \u001b[31m1.1 MB/s\u001b[0m eta \u001b[36m0:00:04\u001b[0m"
                },
                {
                    "output_type": "stream",
                    "name": "stdout",
                    "text": "\r\u001b[2K   \u001b[91m━━━━━━━━━━━━━━━━\u001b[0m\u001b[91m╸\u001b[0m\u001b[90m━━━━━━━━━━━━━━━━━━━━━━━\u001b[0m \u001b[32m3.1/7.5 MB\u001b[0m \u001b[31m1.1 MB/s\u001b[0m eta \u001b[36m0:00:04\u001b[0m"
                },
                {
                    "output_type": "stream",
                    "name": "stdout",
                    "text": "\r\u001b[2K   \u001b[91m━━━━━━━━━━━━━━━━\u001b[0m\u001b[91m╸\u001b[0m\u001b[90m━━━━━━━━━━━━━━━━━━━━━━━\u001b[0m \u001b[32m3.1/7.5 MB\u001b[0m \u001b[31m1.1 MB/s\u001b[0m eta \u001b[36m0:00:04\u001b[0m\r\u001b[2K   \u001b[91m━━━━━━━━━━━━━━━━\u001b[0m\u001b[91m╸\u001b[0m\u001b[90m━━━━━━━━━━━━━━━━━━━━━━━\u001b[0m \u001b[32m3.2/7.5 MB\u001b[0m \u001b[31m1.1 MB/s\u001b[0m eta \u001b[36m0:00:04\u001b[0m"
                },
                {
                    "output_type": "stream",
                    "name": "stdout",
                    "text": "\r\u001b[2K   \u001b[91m━━━━━━━━━━━━━━━━━\u001b[0m\u001b[90m╺\u001b[0m\u001b[90m━━━━━━━━━━━━━━━━━━━━━━\u001b[0m \u001b[32m3.2/7.5 MB\u001b[0m \u001b[31m1.1 MB/s\u001b[0m eta \u001b[36m0:00:04\u001b[0m"
                },
                {
                    "output_type": "stream",
                    "name": "stdout",
                    "text": "\r\u001b[2K   \u001b[91m━━━━━━━━━━━━━━━━━\u001b[0m\u001b[90m╺\u001b[0m\u001b[90m━━━━━━━━━━━━━━━━━━━━━━\u001b[0m \u001b[32m3.2/7.5 MB\u001b[0m \u001b[31m1.1 MB/s\u001b[0m eta \u001b[36m0:00:04\u001b[0m"
                },
                {
                    "output_type": "stream",
                    "name": "stdout",
                    "text": "\r\u001b[2K   \u001b[91m━━━━━━━━━━━━━━━━━\u001b[0m\u001b[90m╺\u001b[0m\u001b[90m━━━━━━━━━━━━━━━━━━━━━━\u001b[0m \u001b[32m3.2/7.5 MB\u001b[0m \u001b[31m1.1 MB/s\u001b[0m eta \u001b[36m0:00:04\u001b[0m\r\u001b[2K   \u001b[91m━━━━━━━━━━━━━━━━━\u001b[0m\u001b[91m╸\u001b[0m\u001b[90m━━━━━━━━━━━━━━━━━━━━━━\u001b[0m \u001b[32m3.3/7.5 MB\u001b[0m \u001b[31m1.1 MB/s\u001b[0m eta \u001b[36m0:00:04\u001b[0m"
                },
                {
                    "output_type": "stream",
                    "name": "stdout",
                    "text": "\r\u001b[2K   \u001b[91m━━━━━━━━━━━━━━━━━\u001b[0m\u001b[91m╸\u001b[0m\u001b[90m━━━━━━━━━━━━━━━━━━━━━━\u001b[0m \u001b[32m3.3/7.5 MB\u001b[0m \u001b[31m1.1 MB/s\u001b[0m eta \u001b[36m0:00:04\u001b[0m"
                },
                {
                    "output_type": "stream",
                    "name": "stdout",
                    "text": "\r\u001b[2K   \u001b[91m━━━━━━━━━━━━━━━━━\u001b[0m\u001b[91m╸\u001b[0m\u001b[90m━━━━━━━━━━━━━━━━━━━━━━\u001b[0m \u001b[32m3.3/7.5 MB\u001b[0m \u001b[31m1.1 MB/s\u001b[0m eta \u001b[36m0:00:04\u001b[0m"
                },
                {
                    "output_type": "stream",
                    "name": "stdout",
                    "text": "\r\u001b[2K   \u001b[91m━━━━━━━━━━━━━━━━━\u001b[0m\u001b[91m╸\u001b[0m\u001b[90m━━━━━━━━━━━━━━━━━━━━━━\u001b[0m \u001b[32m3.4/7.5 MB\u001b[0m \u001b[31m1.1 MB/s\u001b[0m eta \u001b[36m0:00:04\u001b[0m\r\u001b[2K   \u001b[91m━━━━━━━━━━━━━━━━━\u001b[0m\u001b[91m╸\u001b[0m\u001b[90m━━━━━━━━━━━━━━━━━━━━━━\u001b[0m \u001b[32m3.4/7.5 MB\u001b[0m \u001b[31m1.1 MB/s\u001b[0m eta \u001b[36m0:00:04\u001b[0m"
                },
                {
                    "output_type": "stream",
                    "name": "stdout",
                    "text": "\r\u001b[2K   \u001b[91m━━━━━━━━━━━━━━━━━━\u001b[0m\u001b[90m╺\u001b[0m\u001b[90m━━━━━━━━━━━━━━━━━━━━━\u001b[0m \u001b[32m3.4/7.5 MB\u001b[0m \u001b[31m1.0 MB/s\u001b[0m eta \u001b[36m0:00:04\u001b[0m"
                },
                {
                    "output_type": "stream",
                    "name": "stdout",
                    "text": "\r\u001b[2K   \u001b[91m━━━━━━━━━━━━━━━━━━\u001b[0m\u001b[90m╺\u001b[0m\u001b[90m━━━━━━━━━━━━━━━━━━━━━\u001b[0m \u001b[32m3.4/7.5 MB\u001b[0m \u001b[31m1.0 MB/s\u001b[0m eta \u001b[36m0:00:04\u001b[0m\r\u001b[2K   \u001b[91m━━━━━━━━━━━━━━━━━━\u001b[0m\u001b[90m╺\u001b[0m\u001b[90m━━━━━━━━━━━━━━━━━━━━━\u001b[0m \u001b[32m3.4/7.5 MB\u001b[0m \u001b[31m1.0 MB/s\u001b[0m eta \u001b[36m0:00:04\u001b[0m"
                },
                {
                    "output_type": "stream",
                    "name": "stdout",
                    "text": "\r\u001b[2K   \u001b[91m━━━━━━━━━━━━━━━━━━\u001b[0m\u001b[90m╺\u001b[0m\u001b[90m━━━━━━━━━━━━━━━━━━━━━\u001b[0m \u001b[32m3.4/7.5 MB\u001b[0m \u001b[31m1.0 MB/s\u001b[0m eta \u001b[36m0:00:04\u001b[0m"
                },
                {
                    "output_type": "stream",
                    "name": "stdout",
                    "text": "\r\u001b[2K   \u001b[91m━━━━━━━━━━━━━━━━━━\u001b[0m\u001b[90m╺\u001b[0m\u001b[90m━━━━━━━━━━━━━━━━━━━━━\u001b[0m \u001b[32m3.4/7.5 MB\u001b[0m \u001b[31m1.0 MB/s\u001b[0m eta \u001b[36m0:00:04\u001b[0m"
                },
                {
                    "output_type": "stream",
                    "name": "stdout",
                    "text": "\r\u001b[2K   \u001b[91m━━━━━━━━━━━━━━━━━━\u001b[0m\u001b[90m╺\u001b[0m\u001b[90m━━━━━━━━━━━━━━━━━━━━━\u001b[0m \u001b[32m3.4/7.5 MB\u001b[0m \u001b[31m1.0 MB/s\u001b[0m eta \u001b[36m0:00:05\u001b[0m\r\u001b[2K   \u001b[91m━━━━━━━━━━━━━━━━━━\u001b[0m\u001b[90m╺\u001b[0m\u001b[90m━━━━━━━━━━━━━━━━━━━━━\u001b[0m \u001b[32m3.5/7.5 MB\u001b[0m \u001b[31m1.0 MB/s\u001b[0m eta \u001b[36m0:00:05\u001b[0m"
                },
                {
                    "output_type": "stream",
                    "name": "stdout",
                    "text": "\r\u001b[2K   \u001b[91m━━━━━━━━━━━━━━━━━━\u001b[0m\u001b[90m╺\u001b[0m\u001b[90m━━━━━━━━━━━━━━━━━━━━━\u001b[0m \u001b[32m3.5/7.5 MB\u001b[0m \u001b[31m1.0 MB/s\u001b[0m eta \u001b[36m0:00:05\u001b[0m"
                },
                {
                    "output_type": "stream",
                    "name": "stdout",
                    "text": "\r\u001b[2K   \u001b[91m━━━━━━━━━━━━━━━━━━\u001b[0m\u001b[90m╺\u001b[0m\u001b[90m━━━━━━━━━━━━━━━━━━━━━\u001b[0m \u001b[32m3.5/7.5 MB\u001b[0m \u001b[31m1.0 MB/s\u001b[0m eta \u001b[36m0:00:05\u001b[0m\r\u001b[2K   \u001b[91m━━━━━━━━━━━━━━━━━━\u001b[0m\u001b[90m╺\u001b[0m\u001b[90m━━━━━━━━━━━━━━━━━━━━━\u001b[0m \u001b[32m3.5/7.5 MB\u001b[0m \u001b[31m1.0 MB/s\u001b[0m eta \u001b[36m0:00:05\u001b[0m"
                },
                {
                    "output_type": "stream",
                    "name": "stdout",
                    "text": "\r\u001b[2K   \u001b[91m━━━━━━━━━━━━━━━━━━\u001b[0m\u001b[91m╸\u001b[0m\u001b[90m━━━━━━━━━━━━━━━━━━━━━\u001b[0m \u001b[32m3.5/7.5 MB\u001b[0m \u001b[31m967.5 kB/s\u001b[0m eta \u001b[36m0:00:05\u001b[0m"
                },
                {
                    "output_type": "stream",
                    "name": "stdout",
                    "text": "\r\u001b[2K   \u001b[91m━━━━━━━━━━━━━━━━━━\u001b[0m\u001b[91m╸\u001b[0m\u001b[90m━━━━━━━━━━━━━━━━━━━━━\u001b[0m \u001b[32m3.5/7.5 MB\u001b[0m \u001b[31m964.1 kB/s\u001b[0m eta \u001b[36m0:00:05\u001b[0m"
                },
                {
                    "output_type": "stream",
                    "name": "stdout",
                    "text": "\r\u001b[2K   \u001b[91m━━━━━━━━━━━━━━━━━━\u001b[0m\u001b[91m╸\u001b[0m\u001b[90m━━━━━━━━━━━━━━━━━━━━━\u001b[0m \u001b[32m3.6/7.5 MB\u001b[0m \u001b[31m958.5 kB/s\u001b[0m eta \u001b[36m0:00:05\u001b[0m\r\u001b[2K   \u001b[91m━━━━━━━━━━━━━━━━━━━\u001b[0m\u001b[90m╺\u001b[0m\u001b[90m━━━━━━━━━━━━━━━━━━━━\u001b[0m \u001b[32m3.6/7.5 MB\u001b[0m \u001b[31m959.5 kB/s\u001b[0m eta \u001b[36m0:00:05\u001b[0m"
                },
                {
                    "output_type": "stream",
                    "name": "stdout",
                    "text": "\r\u001b[2K   \u001b[91m━━━━━━━━━━━━━━━━━━━\u001b[0m\u001b[90m╺\u001b[0m\u001b[90m━━━━━━━━━━━━━━━━━━━━\u001b[0m \u001b[32m3.6/7.5 MB\u001b[0m \u001b[31m961.4 kB/s\u001b[0m eta \u001b[36m0:00:05\u001b[0m"
                },
                {
                    "output_type": "stream",
                    "name": "stdout",
                    "text": "\r\u001b[2K   \u001b[91m━━━━━━━━━━━━━━━━━━━\u001b[0m\u001b[91m╸\u001b[0m\u001b[90m━━━━━━━━━━━━━━━━━━━━\u001b[0m \u001b[32m3.7/7.5 MB\u001b[0m \u001b[31m961.4 kB/s\u001b[0m eta \u001b[36m0:00:04\u001b[0m\r\u001b[2K   \u001b[91m━━━━━━━━━━━━━━━━━━━\u001b[0m\u001b[91m╸\u001b[0m\u001b[90m━━━━━━━━━━━━━━━━━━━━\u001b[0m \u001b[32m3.7/7.5 MB\u001b[0m \u001b[31m953.8 kB/s\u001b[0m eta \u001b[36m0:00:04\u001b[0m"
                },
                {
                    "output_type": "stream",
                    "name": "stdout",
                    "text": "\r\u001b[2K   \u001b[91m━━━━━━━━━━━━━━━━━━━\u001b[0m\u001b[91m╸\u001b[0m\u001b[90m━━━━━━━━━━━━━━━━━━━━\u001b[0m \u001b[32m3.7/7.5 MB\u001b[0m \u001b[31m949.9 kB/s\u001b[0m eta \u001b[36m0:00:04\u001b[0m"
                },
                {
                    "output_type": "stream",
                    "name": "stdout",
                    "text": "\r\u001b[2K   \u001b[91m━━━━━━━━━━━━━━━━━━━\u001b[0m\u001b[91m╸\u001b[0m\u001b[90m━━━━━━━━━━━━━━━━━━━━\u001b[0m \u001b[32m3.7/7.5 MB\u001b[0m \u001b[31m949.9 kB/s\u001b[0m eta \u001b[36m0:00:04\u001b[0m"
                },
                {
                    "output_type": "stream",
                    "name": "stdout",
                    "text": "\r\u001b[2K   \u001b[91m━━━━━━━━━━━━━━━━━━━\u001b[0m\u001b[91m╸\u001b[0m\u001b[90m━━━━━━━━━━━━━━━━━━━━\u001b[0m \u001b[32m3.7/7.5 MB\u001b[0m \u001b[31m938.5 kB/s\u001b[0m eta \u001b[36m0:00:05\u001b[0m\r\u001b[2K   \u001b[91m━━━━━━━━━━━━━━━━━━━\u001b[0m\u001b[91m╸\u001b[0m\u001b[90m━━━━━━━━━━━━━━━━━━━━\u001b[0m \u001b[32m3.7/7.5 MB\u001b[0m \u001b[31m938.5 kB/s\u001b[0m eta \u001b[36m0:00:05\u001b[0m"
                },
                {
                    "output_type": "stream",
                    "name": "stdout",
                    "text": "\r\u001b[2K   \u001b[91m━━━━━━━━━━━━━━━━━━━\u001b[0m\u001b[91m╸\u001b[0m\u001b[90m━━━━━━━━━━━━━━━━━━━━\u001b[0m \u001b[32m3.7/7.5 MB\u001b[0m \u001b[31m922.9 kB/s\u001b[0m eta \u001b[36m0:00:05\u001b[0m"
                },
                {
                    "output_type": "stream",
                    "name": "stdout",
                    "text": "\r\u001b[2K   \u001b[91m━━━━━━━━━━━━━━━━━━━\u001b[0m\u001b[91m╸\u001b[0m\u001b[90m━━━━━━━━━━━━━━━━━━━━\u001b[0m \u001b[32m3.7/7.5 MB\u001b[0m \u001b[31m922.9 kB/s\u001b[0m eta \u001b[36m0:00:05\u001b[0m"
                },
                {
                    "output_type": "stream",
                    "name": "stdout",
                    "text": "\r\u001b[2K   \u001b[91m━━━━━━━━━━━━━━━━━━━━\u001b[0m\u001b[90m╺\u001b[0m\u001b[90m━━━━━━━━━━━━━━━━━━━\u001b[0m \u001b[32m3.7/7.5 MB\u001b[0m \u001b[31m913.8 kB/s\u001b[0m eta \u001b[36m0:00:05\u001b[0m\r\u001b[2K   \u001b[91m━━━━━━━━━━━━━━━━━━━━\u001b[0m\u001b[90m╺\u001b[0m\u001b[90m━━━━━━━━━━━━━━━━━━━\u001b[0m \u001b[32m3.8/7.5 MB\u001b[0m \u001b[31m908.1 kB/s\u001b[0m eta \u001b[36m0:00:05\u001b[0m"
                },
                {
                    "output_type": "stream",
                    "name": "stdout",
                    "text": "\r\u001b[2K   \u001b[91m━━━━━━━━━━━━━━━━━━━━\u001b[0m\u001b[90m╺\u001b[0m\u001b[90m━━━━━━━━━━━━━━━━━━━\u001b[0m \u001b[32m3.8/7.5 MB\u001b[0m \u001b[31m907.6 kB/s\u001b[0m eta \u001b[36m0:00:05\u001b[0m"
                },
                {
                    "output_type": "stream",
                    "name": "stdout",
                    "text": "\r\u001b[2K   \u001b[91m━━━━━━━━━━━━━━━━━━━━\u001b[0m\u001b[91m╸\u001b[0m\u001b[90m━━━━━━━━━━━━━━━━━━━\u001b[0m \u001b[32m3.9/7.5 MB\u001b[0m \u001b[31m908.4 kB/s\u001b[0m eta \u001b[36m0:00:05\u001b[0m\r\u001b[2K   \u001b[91m━━━━━━━━━━━━━━━━━━━━\u001b[0m\u001b[91m╸\u001b[0m\u001b[90m━━━━━━━━━━━━━━━━━━━\u001b[0m \u001b[32m3.9/7.5 MB\u001b[0m \u001b[31m913.1 kB/s\u001b[0m eta \u001b[36m0:00:04\u001b[0m"
                },
                {
                    "output_type": "stream",
                    "name": "stdout",
                    "text": "\r\u001b[2K   \u001b[91m━━━━━━━━━━━━━━━━━━━━━\u001b[0m\u001b[90m╺\u001b[0m\u001b[90m━━━━━━━━━━━━━━━━━━\u001b[0m \u001b[32m4.0/7.5 MB\u001b[0m \u001b[31m914.7 kB/s\u001b[0m eta \u001b[36m0:00:04\u001b[0m"
                },
                {
                    "output_type": "stream",
                    "name": "stdout",
                    "text": "\r\u001b[2K   \u001b[91m━━━━━━━━━━━━━━━━━━━━━\u001b[0m\u001b[91m╸\u001b[0m\u001b[90m━━━━━━━━━━━━━━━━━━\u001b[0m \u001b[32m4.0/7.5 MB\u001b[0m \u001b[31m922.8 kB/s\u001b[0m eta \u001b[36m0:00:04\u001b[0m\r\u001b[2K   \u001b[91m━━━━━━━━━━━━━━━━━━━━━\u001b[0m\u001b[91m╸\u001b[0m\u001b[90m━━━━━━━━━━━━━━━━━━\u001b[0m \u001b[32m4.0/7.5 MB\u001b[0m \u001b[31m920.9 kB/s\u001b[0m eta \u001b[36m0:00:04\u001b[0m"
                },
                {
                    "output_type": "stream",
                    "name": "stdout",
                    "text": "\r\u001b[2K   \u001b[91m━━━━━━━━━━━━━━━━━━━━━\u001b[0m\u001b[91m╸\u001b[0m\u001b[90m━━━━━━━━━━━━━━━━━━\u001b[0m \u001b[32m4.1/7.5 MB\u001b[0m \u001b[31m925.3 kB/s\u001b[0m eta \u001b[36m0:00:04\u001b[0m"
                },
                {
                    "output_type": "stream",
                    "name": "stdout",
                    "text": "\r\u001b[2K   \u001b[91m━━━━━━━━━━━━━━━━━━━━━━\u001b[0m\u001b[90m╺\u001b[0m\u001b[90m━━━━━━━━━━━━━━━━━\u001b[0m \u001b[32m4.1/7.5 MB\u001b[0m \u001b[31m926.3 kB/s\u001b[0m eta \u001b[36m0:00:04\u001b[0m"
                },
                {
                    "output_type": "stream",
                    "name": "stdout",
                    "text": "\r\u001b[2K   \u001b[91m━━━━━━━━━━━━━━━━━━━━━━\u001b[0m\u001b[90m╺\u001b[0m\u001b[90m━━━━━━━━━━━━━━━━━\u001b[0m \u001b[32m4.2/7.5 MB\u001b[0m \u001b[31m925.4 kB/s\u001b[0m eta \u001b[36m0:00:04\u001b[0m\r\u001b[2K   \u001b[91m━━━━━━━━━━━━━━━━━━━━━━\u001b[0m\u001b[90m╺\u001b[0m\u001b[90m━━━━━━━━━━━━━━━━━\u001b[0m \u001b[32m4.2/7.5 MB\u001b[0m \u001b[31m925.4 kB/s\u001b[0m eta \u001b[36m0:00:04\u001b[0m"
                },
                {
                    "output_type": "stream",
                    "name": "stdout",
                    "text": "\r\u001b[2K   \u001b[91m━━━━━━━━━━━━━━━━━━━━━━\u001b[0m\u001b[90m╺\u001b[0m\u001b[90m━━━━━━━━━━━━━━━━━\u001b[0m \u001b[32m4.2/7.5 MB\u001b[0m \u001b[31m925.4 kB/s\u001b[0m eta \u001b[36m0:00:04\u001b[0m"
                },
                {
                    "output_type": "stream",
                    "name": "stdout",
                    "text": "\r\u001b[2K   \u001b[91m━━━━━━━━━━━━━━━━━━━━━━\u001b[0m\u001b[90m╺\u001b[0m\u001b[90m━━━━━━━━━━━━━━━━━\u001b[0m \u001b[32m4.2/7.5 MB\u001b[0m \u001b[31m925.4 kB/s\u001b[0m eta \u001b[36m0:00:04\u001b[0m\r\u001b[2K   \u001b[91m━━━━━━━━━━━━━━━━━━━━━━\u001b[0m\u001b[90m╺\u001b[0m\u001b[90m━━━━━━━━━━━━━━━━━\u001b[0m \u001b[32m4.2/7.5 MB\u001b[0m \u001b[31m900.1 kB/s\u001b[0m eta \u001b[36m0:00:04\u001b[0m"
                },
                {
                    "output_type": "stream",
                    "name": "stdout",
                    "text": "\r\u001b[2K   \u001b[91m━━━━━━━━━━━━━━━━━━━━━━\u001b[0m\u001b[90m╺\u001b[0m\u001b[90m━━━━━━━━━━━━━━━━━\u001b[0m \u001b[32m4.2/7.5 MB\u001b[0m \u001b[31m896.8 kB/s\u001b[0m eta \u001b[36m0:00:04\u001b[0m"
                },
                {
                    "output_type": "stream",
                    "name": "stdout",
                    "text": "\r\u001b[2K   \u001b[91m━━━━━━━━━━━━━━━━━━━━━━\u001b[0m\u001b[91m╸\u001b[0m\u001b[90m━━━━━━━━━━━━━━━━━\u001b[0m \u001b[32m4.2/7.5 MB\u001b[0m \u001b[31m897.3 kB/s\u001b[0m eta \u001b[36m0:00:04\u001b[0m"
                },
                {
                    "output_type": "stream",
                    "name": "stdout",
                    "text": "\r\u001b[2K   \u001b[91m━━━━━━━━━━━━━━━━━━━━━━\u001b[0m\u001b[91m╸\u001b[0m\u001b[90m━━━━━━━━━━━━━━━━━\u001b[0m \u001b[32m4.3/7.5 MB\u001b[0m \u001b[31m901.2 kB/s\u001b[0m eta \u001b[36m0:00:04\u001b[0m\r\u001b[2K   \u001b[91m━━━━━━━━━━━━━━━━━━━━━━\u001b[0m\u001b[91m╸\u001b[0m\u001b[90m━━━━━━━━━━━━━━━━━\u001b[0m \u001b[32m4.3/7.5 MB\u001b[0m \u001b[31m901.2 kB/s\u001b[0m eta \u001b[36m0:00:04\u001b[0m"
                },
                {
                    "output_type": "stream",
                    "name": "stdout",
                    "text": "\r\u001b[2K   \u001b[91m━━━━━━━━━━━━━━━━━━━━━━━\u001b[0m\u001b[90m╺\u001b[0m\u001b[90m━━━━━━━━━━━━━━━━\u001b[0m \u001b[32m4.4/7.5 MB\u001b[0m \u001b[31m900.3 kB/s\u001b[0m eta \u001b[36m0:00:04\u001b[0m"
                },
                {
                    "output_type": "stream",
                    "name": "stdout",
                    "text": "\r\u001b[2K   \u001b[91m━━━━━━━━━━━━━━━━━━━━━━━\u001b[0m\u001b[91m╸\u001b[0m\u001b[90m━━━━━━━━━━━━━━━━\u001b[0m \u001b[32m4.4/7.5 MB\u001b[0m \u001b[31m901.3 kB/s\u001b[0m eta \u001b[36m0:00:04\u001b[0m"
                },
                {
                    "output_type": "stream",
                    "name": "stdout",
                    "text": "\r\u001b[2K   \u001b[91m━━━━━━━━━━━━━━━━━━━━━━━\u001b[0m\u001b[91m╸\u001b[0m\u001b[90m━━━━━━━━━━━━━━━━\u001b[0m \u001b[32m4.4/7.5 MB\u001b[0m \u001b[31m900.7 kB/s\u001b[0m eta \u001b[36m0:00:04\u001b[0m\r\u001b[2K   \u001b[91m━━━━━━━━━━━━━━━━━━━━━━━\u001b[0m\u001b[91m╸\u001b[0m\u001b[90m━━━━━━━━━━━━━━━━\u001b[0m \u001b[32m4.5/7.5 MB\u001b[0m \u001b[31m901.2 kB/s\u001b[0m eta \u001b[36m0:00:04\u001b[0m"
                },
                {
                    "output_type": "stream",
                    "name": "stdout",
                    "text": "\r\u001b[2K   \u001b[91m━━━━━━━━━━━━━━━━━━━━━━━━\u001b[0m\u001b[90m╺\u001b[0m\u001b[90m━━━━━━━━━━━━━━━\u001b[0m \u001b[32m4.5/7.5 MB\u001b[0m \u001b[31m896.2 kB/s\u001b[0m eta \u001b[36m0:00:04\u001b[0m"
                },
                {
                    "output_type": "stream",
                    "name": "stdout",
                    "text": "\r\u001b[2K   \u001b[91m━━━━━━━━━━━━━━━━━━━━━━━━\u001b[0m\u001b[90m╺\u001b[0m\u001b[90m━━━━━━━━━━━━━━━\u001b[0m \u001b[32m4.5/7.5 MB\u001b[0m \u001b[31m895.3 kB/s\u001b[0m eta \u001b[36m0:00:04\u001b[0m\r\u001b[2K   \u001b[91m━━━━━━━━━━━━━━━━━━━━━━━━\u001b[0m\u001b[90m╺\u001b[0m\u001b[90m━━━━━━━━━━━━━━━\u001b[0m \u001b[32m4.6/7.5 MB\u001b[0m \u001b[31m895.4 kB/s\u001b[0m eta \u001b[36m0:00:04\u001b[0m"
                },
                {
                    "output_type": "stream",
                    "name": "stdout",
                    "text": "\r\u001b[2K   \u001b[91m━━━━━━━━━━━━━━━━━━━━━━━━\u001b[0m\u001b[91m╸\u001b[0m\u001b[90m━━━━━━━━━━━━━━━\u001b[0m \u001b[32m4.6/7.5 MB\u001b[0m \u001b[31m894.7 kB/s\u001b[0m eta \u001b[36m0:00:04\u001b[0m"
                },
                {
                    "output_type": "stream",
                    "name": "stdout",
                    "text": "\r\u001b[2K   \u001b[91m━━━━━━━━━━━━━━━━━━━━━━━━\u001b[0m\u001b[91m╸\u001b[0m\u001b[90m━━━━━━━━━━━━━━━\u001b[0m \u001b[32m4.6/7.5 MB\u001b[0m \u001b[31m893.0 kB/s\u001b[0m eta \u001b[36m0:00:04\u001b[0m"
                },
                {
                    "output_type": "stream",
                    "name": "stdout",
                    "text": "\r\u001b[2K   \u001b[91m━━━━━━━━━━━━━━━━━━━━━━━━\u001b[0m\u001b[91m╸\u001b[0m\u001b[90m━━━━━━━━━━━━━━━\u001b[0m \u001b[32m4.6/7.5 MB\u001b[0m \u001b[31m892.8 kB/s\u001b[0m eta \u001b[36m0:00:04\u001b[0m\r\u001b[2K   \u001b[91m━━━━━━━━━━━━━━━━━━━━━━━━\u001b[0m\u001b[91m╸\u001b[0m\u001b[90m━━━━━━━━━━━━━━━\u001b[0m \u001b[32m4.6/7.5 MB\u001b[0m \u001b[31m892.8 kB/s\u001b[0m eta \u001b[36m0:00:04\u001b[0m"
                },
                {
                    "output_type": "stream",
                    "name": "stdout",
                    "text": "\r\u001b[2K   \u001b[91m━━━━━━━━━━━━━━━━━━━━━━━━━\u001b[0m\u001b[90m╺\u001b[0m\u001b[90m━━━━━━━━━━━━━━\u001b[0m \u001b[32m4.7/7.5 MB\u001b[0m \u001b[31m887.4 kB/s\u001b[0m eta \u001b[36m0:00:04\u001b[0m"
                },
                {
                    "output_type": "stream",
                    "name": "stdout",
                    "text": "\r\u001b[2K   \u001b[91m━━━━━━━━━━━━━━━━━━━━━━━━━\u001b[0m\u001b[90m╺\u001b[0m\u001b[90m━━━━━━━━━━━━━━\u001b[0m \u001b[32m4.7/7.5 MB\u001b[0m \u001b[31m886.4 kB/s\u001b[0m eta \u001b[36m0:00:04\u001b[0m\r\u001b[2K   \u001b[91m━━━━━━━━━━━━━━━━━━━━━━━━━\u001b[0m\u001b[90m╺\u001b[0m\u001b[90m━━━━━━━━━━━━━━\u001b[0m \u001b[32m4.7/7.5 MB\u001b[0m \u001b[31m884.6 kB/s\u001b[0m eta \u001b[36m0:00:04\u001b[0m"
                },
                {
                    "output_type": "stream",
                    "name": "stdout",
                    "text": "\r\u001b[2K   \u001b[91m━━━━━━━━━━━━━━━━━━━━━━━━━\u001b[0m\u001b[90m╺\u001b[0m\u001b[90m━━━━━━━━━━━━━━\u001b[0m \u001b[32m4.8/7.5 MB\u001b[0m \u001b[31m885.9 kB/s\u001b[0m eta \u001b[36m0:00:04\u001b[0m"
                },
                {
                    "output_type": "stream",
                    "name": "stdout",
                    "text": "\r\u001b[2K   \u001b[91m━━━━━━━━━━━━━━━━━━━━━━━━━\u001b[0m\u001b[91m╸\u001b[0m\u001b[90m━━━━━━━━━━━━━━\u001b[0m \u001b[32m4.8/7.5 MB\u001b[0m \u001b[31m883.9 kB/s\u001b[0m eta \u001b[36m0:00:04\u001b[0m\r\u001b[2K   \u001b[91m━━━━━━━━━━━━━━━━━━━━━━━━━\u001b[0m\u001b[91m╸\u001b[0m\u001b[90m━━━━━━━━━━━━━━\u001b[0m \u001b[32m4.8/7.5 MB\u001b[0m \u001b[31m882.7 kB/s\u001b[0m eta \u001b[36m0:00:04\u001b[0m"
                },
                {
                    "output_type": "stream",
                    "name": "stdout",
                    "text": "\r\u001b[2K   \u001b[91m━━━━━━━━━━━━━━━━━━━━━━━━━\u001b[0m\u001b[91m╸\u001b[0m\u001b[90m━━━━━━━━━━━━━━\u001b[0m \u001b[32m4.8/7.5 MB\u001b[0m \u001b[31m882.7 kB/s\u001b[0m eta \u001b[36m0:00:04\u001b[0m"
                },
                {
                    "output_type": "stream",
                    "name": "stdout",
                    "text": "\r\u001b[2K   \u001b[91m━━━━━━━━━━━━━━━━━━━━━━━━━\u001b[0m\u001b[91m╸\u001b[0m\u001b[90m━━━━━━━━━━━━━━\u001b[0m \u001b[32m4.8/7.5 MB\u001b[0m \u001b[31m882.7 kB/s\u001b[0m eta \u001b[36m0:00:04\u001b[0m"
                },
                {
                    "output_type": "stream",
                    "name": "stdout",
                    "text": "\r\u001b[2K   \u001b[91m━━━━━━━━━━━━━━━━━━━━━━━━━━\u001b[0m\u001b[90m╺\u001b[0m\u001b[90m━━━━━━━━━━━━━\u001b[0m \u001b[32m4.9/7.5 MB\u001b[0m \u001b[31m875.8 kB/s\u001b[0m eta \u001b[36m0:00:03\u001b[0m\r\u001b[2K   \u001b[91m━━━━━━━━━━━━━━━━━━━━━━━━━━\u001b[0m\u001b[90m╺\u001b[0m\u001b[90m━━━━━━━━━━━━━\u001b[0m \u001b[32m4.9/7.5 MB\u001b[0m \u001b[31m873.5 kB/s\u001b[0m eta \u001b[36m0:00:03\u001b[0m"
                },
                {
                    "output_type": "stream",
                    "name": "stdout",
                    "text": "\r\u001b[2K   \u001b[91m━━━━━━━━━━━━━━━━━━━━━━━━━━\u001b[0m\u001b[90m╺\u001b[0m\u001b[90m━━━━━━━━━━━━━\u001b[0m \u001b[32m4.9/7.5 MB\u001b[0m \u001b[31m873.5 kB/s\u001b[0m eta \u001b[36m0:00:03\u001b[0m"
                },
                {
                    "output_type": "stream",
                    "name": "stdout",
                    "text": "\r\u001b[2K   \u001b[91m━━━━━━━━━━━━━━━━━━━━━━━━━━\u001b[0m\u001b[90m╺\u001b[0m\u001b[90m━━━━━━━━━━━━━\u001b[0m \u001b[32m4.9/7.5 MB\u001b[0m \u001b[31m863.5 kB/s\u001b[0m eta \u001b[36m0:00:03\u001b[0m"
                },
                {
                    "output_type": "stream",
                    "name": "stdout",
                    "text": "\r\u001b[2K   \u001b[91m━━━━━━━━━━━━━━━━━━━━━━━━━━\u001b[0m\u001b[90m╺\u001b[0m\u001b[90m━━━━━━━━━━━━━\u001b[0m \u001b[32m4.9/7.5 MB\u001b[0m \u001b[31m860.7 kB/s\u001b[0m eta \u001b[36m0:00:03\u001b[0m\r\u001b[2K   \u001b[91m━━━━━━━━━━━━━━━━━━━━━━━━━━\u001b[0m\u001b[91m╸\u001b[0m\u001b[90m━━━━━━━━━━━━━\u001b[0m \u001b[32m5.0/7.5 MB\u001b[0m \u001b[31m860.5 kB/s\u001b[0m eta \u001b[36m0:00:03\u001b[0m"
                },
                {
                    "output_type": "stream",
                    "name": "stdout",
                    "text": "\r\u001b[2K   \u001b[91m━━━━━━━━━━━━━━━━━━━━━━━━━━\u001b[0m\u001b[91m╸\u001b[0m\u001b[90m━━━━━━━━━━━━━\u001b[0m \u001b[32m5.0/7.5 MB\u001b[0m \u001b[31m857.9 kB/s\u001b[0m eta \u001b[36m0:00:03\u001b[0m"
                },
                {
                    "output_type": "stream",
                    "name": "stdout",
                    "text": "\r\u001b[2K   \u001b[91m━━━━━━━━━━━━━━━━━━━━━━━━━━\u001b[0m\u001b[91m╸\u001b[0m\u001b[90m━━━━━━━━━━━━━\u001b[0m \u001b[32m5.0/7.5 MB\u001b[0m \u001b[31m856.6 kB/s\u001b[0m eta \u001b[36m0:00:03\u001b[0m\r\u001b[2K   \u001b[91m━━━━━━━━━━━━━━━━━━━━━━━━━━\u001b[0m\u001b[91m╸\u001b[0m\u001b[90m━━━━━━━━━━━━━\u001b[0m \u001b[32m5.0/7.5 MB\u001b[0m \u001b[31m855.3 kB/s\u001b[0m eta \u001b[36m0:00:03\u001b[0m"
                },
                {
                    "output_type": "stream",
                    "name": "stdout",
                    "text": "\r\u001b[2K   \u001b[91m━━━━━━━━━━━━━━━━━━━━━━━━━━\u001b[0m\u001b[91m╸\u001b[0m\u001b[90m━━━━━━━━━━━━━\u001b[0m \u001b[32m5.0/7.5 MB\u001b[0m \u001b[31m853.6 kB/s\u001b[0m eta \u001b[36m0:00:03\u001b[0m"
                },
                {
                    "output_type": "stream",
                    "name": "stdout",
                    "text": "\r\u001b[2K   \u001b[91m━━━━━━━━━━━━━━━━━━━━━━━━━━━\u001b[0m\u001b[90m╺\u001b[0m\u001b[90m━━━━━━━━━━━━\u001b[0m \u001b[32m5.1/7.5 MB\u001b[0m \u001b[31m850.4 kB/s\u001b[0m eta \u001b[36m0:00:03\u001b[0m"
                },
                {
                    "output_type": "stream",
                    "name": "stdout",
                    "text": "\r\u001b[2K   \u001b[91m━━━━━━━━━━━━━━━━━━━━━━━━━━━\u001b[0m\u001b[90m╺\u001b[0m\u001b[90m━━━━━━━━━━━━\u001b[0m \u001b[32m5.1/7.5 MB\u001b[0m \u001b[31m849.7 kB/s\u001b[0m eta \u001b[36m0:00:03\u001b[0m\r\u001b[2K   \u001b[91m━━━━━━━━━━━━━━━━━━━━━━━━━━━\u001b[0m\u001b[90m╺\u001b[0m\u001b[90m━━━━━━━━━━━━\u001b[0m \u001b[32m5.1/7.5 MB\u001b[0m \u001b[31m848.5 kB/s\u001b[0m eta \u001b[36m0:00:03\u001b[0m"
                },
                {
                    "output_type": "stream",
                    "name": "stdout",
                    "text": "\r\u001b[2K   \u001b[91m━━━━━━━━━━━━━━━━━━━━━━━━━━━\u001b[0m\u001b[90m╺\u001b[0m\u001b[90m━━━━━━━━━━━━\u001b[0m \u001b[32m5.1/7.5 MB\u001b[0m \u001b[31m847.7 kB/s\u001b[0m eta \u001b[36m0:00:03\u001b[0m"
                },
                {
                    "output_type": "stream",
                    "name": "stdout",
                    "text": "\r\u001b[2K   \u001b[91m━━━━━━━━━━━━━━━━━━━━━━━━━━━\u001b[0m\u001b[91m╸\u001b[0m\u001b[90m━━━━━━━━━━━━\u001b[0m \u001b[32m5.2/7.5 MB\u001b[0m \u001b[31m847.0 kB/s\u001b[0m eta \u001b[36m0:00:03\u001b[0m"
                },
                {
                    "output_type": "stream",
                    "name": "stdout",
                    "text": "\r\u001b[2K   \u001b[91m━━━━━━━━━━━━━━━━━━━━━━━━━━━\u001b[0m\u001b[91m╸\u001b[0m\u001b[90m━━━━━━━━━━━━\u001b[0m \u001b[32m5.2/7.5 MB\u001b[0m \u001b[31m844.7 kB/s\u001b[0m eta \u001b[36m0:00:03\u001b[0m\r\u001b[2K   \u001b[91m━━━━━━━━━━━━━━━━━━━━━━━━━━━━\u001b[0m\u001b[90m╺\u001b[0m\u001b[90m━━━━━━━━━━━\u001b[0m \u001b[32m5.2/7.5 MB\u001b[0m \u001b[31m845.4 kB/s\u001b[0m eta \u001b[36m0:00:03\u001b[0m"
                },
                {
                    "output_type": "stream",
                    "name": "stdout",
                    "text": "\r\u001b[2K   \u001b[91m━━━━━━━━━━━━━━━━━━━━━━━━━━━━\u001b[0m\u001b[90m╺\u001b[0m\u001b[90m━━━━━━━━━━━\u001b[0m \u001b[32m5.3/7.5 MB\u001b[0m \u001b[31m845.6 kB/s\u001b[0m eta \u001b[36m0:00:03\u001b[0m"
                },
                {
                    "output_type": "stream",
                    "name": "stdout",
                    "text": "\r\u001b[2K   \u001b[91m━━━━━━━━━━━━━━━━━━━━━━━━━━━━\u001b[0m\u001b[90m╺\u001b[0m\u001b[90m━━━━━━━━━━━\u001b[0m \u001b[32m5.3/7.5 MB\u001b[0m \u001b[31m848.5 kB/s\u001b[0m eta \u001b[36m0:00:03\u001b[0m"
                },
                {
                    "output_type": "stream",
                    "name": "stdout",
                    "text": "\r\u001b[2K   \u001b[91m━━━━━━━━━━━━━━━━━━━━━━━━━━━━\u001b[0m\u001b[91m╸\u001b[0m\u001b[90m━━━━━━━━━━━\u001b[0m \u001b[32m5.4/7.5 MB\u001b[0m \u001b[31m849.2 kB/s\u001b[0m eta \u001b[36m0:00:03\u001b[0m\r\u001b[2K   \u001b[91m━━━━━━━━━━━━━━━━━━━━━━━━━━━━\u001b[0m\u001b[91m╸\u001b[0m\u001b[90m━━━━━━━━━━━\u001b[0m \u001b[32m5.4/7.5 MB\u001b[0m \u001b[31m850.1 kB/s\u001b[0m eta \u001b[36m0:00:03\u001b[0m"
                },
                {
                    "output_type": "stream",
                    "name": "stdout",
                    "text": "\r\u001b[2K   \u001b[91m━━━━━━━━━━━━━━━━━━━━━━━━━━━━━\u001b[0m\u001b[90m╺\u001b[0m\u001b[90m━━━━━━━━━━\u001b[0m \u001b[32m5.4/7.5 MB\u001b[0m \u001b[31m850.8 kB/s\u001b[0m eta \u001b[36m0:00:03\u001b[0m"
                },
                {
                    "output_type": "stream",
                    "name": "stdout",
                    "text": "\r\u001b[2K   \u001b[91m━━━━━━━━━━━━━━━━━━━━━━━━━━━━━\u001b[0m\u001b[90m╺\u001b[0m\u001b[90m━━━━━━━━━━\u001b[0m \u001b[32m5.5/7.5 MB\u001b[0m \u001b[31m851.9 kB/s\u001b[0m eta \u001b[36m0:00:03\u001b[0m\r\u001b[2K   \u001b[91m━━━━━━━━━━━━━━━━━━━━━━━━━━━━━\u001b[0m\u001b[91m╸\u001b[0m\u001b[90m━━━━━━━━━━\u001b[0m \u001b[32m5.5/7.5 MB\u001b[0m \u001b[31m853.6 kB/s\u001b[0m eta \u001b[36m0:00:03\u001b[0m"
                },
                {
                    "output_type": "stream",
                    "name": "stdout",
                    "text": "\r\u001b[2K   \u001b[91m━━━━━━━━━━━━━━━━━━━━━━━━━━━━━\u001b[0m\u001b[91m╸\u001b[0m\u001b[90m━━━━━━━━━━\u001b[0m \u001b[32m5.6/7.5 MB\u001b[0m \u001b[31m854.4 kB/s\u001b[0m eta \u001b[36m0:00:03\u001b[0m"
                },
                {
                    "output_type": "stream",
                    "name": "stdout",
                    "text": "\r\u001b[2K   \u001b[91m━━━━━━━━━━━━━━━━━━━━━━━━━━━━━━\u001b[0m\u001b[90m╺\u001b[0m\u001b[90m━━━━━━━━━\u001b[0m \u001b[32m5.6/7.5 MB\u001b[0m \u001b[31m857.5 kB/s\u001b[0m eta \u001b[36m0:00:03\u001b[0m\r\u001b[2K   \u001b[91m━━━━━━━━━━━━━━━━━━━━━━━━━━━━━━\u001b[0m\u001b[90m╺\u001b[0m\u001b[90m━━━━━━━━━\u001b[0m \u001b[32m5.7/7.5 MB\u001b[0m \u001b[31m859.2 kB/s\u001b[0m eta \u001b[36m0:00:03\u001b[0m"
                },
                {
                    "output_type": "stream",
                    "name": "stdout",
                    "text": "\r\u001b[2K   \u001b[91m━━━━━━━━━━━━━━━━━━━━━━━━━━━━━━\u001b[0m\u001b[90m╺\u001b[0m\u001b[90m━━━━━━━━━\u001b[0m \u001b[32m5.7/7.5 MB\u001b[0m \u001b[31m860.2 kB/s\u001b[0m eta \u001b[36m0:00:03\u001b[0m"
                },
                {
                    "output_type": "stream",
                    "name": "stdout",
                    "text": "\r\u001b[2K   \u001b[91m━━━━━━━━━━━━━━━━━━━━━━━━━━━━━━\u001b[0m\u001b[90m╺\u001b[0m\u001b[90m━━━━━━━━━\u001b[0m \u001b[32m5.7/7.5 MB\u001b[0m \u001b[31m860.2 kB/s\u001b[0m eta \u001b[36m0:00:03\u001b[0m"
                },
                {
                    "output_type": "stream",
                    "name": "stdout",
                    "text": "\r\u001b[2K   \u001b[91m━━━━━━━━━━━━━━━━━━━━━━━━━━━━━━\u001b[0m\u001b[90m╺\u001b[0m\u001b[90m━━━━━━━━━\u001b[0m \u001b[32m5.7/7.5 MB\u001b[0m \u001b[31m860.2 kB/s\u001b[0m eta \u001b[36m0:00:03\u001b[0m\r\u001b[2K   \u001b[91m━━━━━━━━━━━━━━━━━━━━━━━━━━━━━━\u001b[0m\u001b[90m╺\u001b[0m\u001b[90m━━━━━━━━━\u001b[0m \u001b[32m5.7/7.5 MB\u001b[0m \u001b[31m860.2 kB/s\u001b[0m eta \u001b[36m0:00:03\u001b[0m"
                },
                {
                    "output_type": "stream",
                    "name": "stdout",
                    "text": "\r\u001b[2K   \u001b[91m━━━━━━━━━━━━━━━━━━━━━━━━━━━━━━\u001b[0m\u001b[91m╸\u001b[0m\u001b[90m━━━━━━━━━\u001b[0m \u001b[32m5.7/7.5 MB\u001b[0m \u001b[31m847.6 kB/s\u001b[0m eta \u001b[36m0:00:03\u001b[0m"
                },
                {
                    "output_type": "stream",
                    "name": "stdout",
                    "text": "\r\u001b[2K   \u001b[91m━━━━━━━━━━━━━━━━━━━━━━━━━━━━━━\u001b[0m\u001b[91m╸\u001b[0m\u001b[90m━━━━━━━━━\u001b[0m \u001b[32m5.7/7.5 MB\u001b[0m \u001b[31m847.6 kB/s\u001b[0m eta \u001b[36m0:00:03\u001b[0m"
                },
                {
                    "output_type": "stream",
                    "name": "stdout",
                    "text": "\r\u001b[2K   \u001b[91m━━━━━━━━━━━━━━━━━━━━━━━━━━━━━━\u001b[0m\u001b[91m╸\u001b[0m\u001b[90m━━━━━━━━━\u001b[0m \u001b[32m5.8/7.5 MB\u001b[0m \u001b[31m845.0 kB/s\u001b[0m eta \u001b[36m0:00:03\u001b[0m\r\u001b[2K   \u001b[91m━━━━━━━━━━━━━━━━━━━━━━━━━━━━━━━\u001b[0m\u001b[90m╺\u001b[0m\u001b[90m━━━━━━━━\u001b[0m \u001b[32m5.8/7.5 MB\u001b[0m \u001b[31m845.0 kB/s\u001b[0m eta \u001b[36m0:00:02\u001b[0m"
                },
                {
                    "output_type": "stream",
                    "name": "stdout",
                    "text": "\r\u001b[2K   \u001b[91m━━━━━━━━━━━━━━━━━━━━━━━━━━━━━━━\u001b[0m\u001b[90m╺\u001b[0m\u001b[90m━━━━━━━━\u001b[0m \u001b[32m5.9/7.5 MB\u001b[0m \u001b[31m847.2 kB/s\u001b[0m eta \u001b[36m0:00:02\u001b[0m"
                },
                {
                    "output_type": "stream",
                    "name": "stdout",
                    "text": "\r\u001b[2K   \u001b[91m━━━━━━━━━━━━━━━━━━━━━━━━━━━━━━━\u001b[0m\u001b[91m╸\u001b[0m\u001b[90m━━━━━━━━\u001b[0m \u001b[32m5.9/7.5 MB\u001b[0m \u001b[31m846.8 kB/s\u001b[0m eta \u001b[36m0:00:02\u001b[0m\r\u001b[2K   \u001b[91m━━━━━━━━━━━━━━━━━━━━━━━━━━━━━━━\u001b[0m\u001b[91m╸\u001b[0m\u001b[90m━━━━━━━━\u001b[0m \u001b[32m5.9/7.5 MB\u001b[0m \u001b[31m848.8 kB/s\u001b[0m eta \u001b[36m0:00:02\u001b[0m"
                },
                {
                    "output_type": "stream",
                    "name": "stdout",
                    "text": "\r\u001b[2K   \u001b[91m━━━━━━━━━━━━━━━━━━━━━━━━━━━━━━━\u001b[0m\u001b[91m╸\u001b[0m\u001b[90m━━━━━━━━\u001b[0m \u001b[32m6.0/7.5 MB\u001b[0m \u001b[31m847.9 kB/s\u001b[0m eta \u001b[36m0:00:02\u001b[0m"
                },
                {
                    "output_type": "stream",
                    "name": "stdout",
                    "text": "\r\u001b[2K   \u001b[91m━━━━━━━━━━━━━━━━━━━━━━━━━━━━━━━━\u001b[0m\u001b[90m╺\u001b[0m\u001b[90m━━━━━━━\u001b[0m \u001b[32m6.0/7.5 MB\u001b[0m \u001b[31m846.3 kB/s\u001b[0m eta \u001b[36m0:00:02\u001b[0m"
                },
                {
                    "output_type": "stream",
                    "name": "stdout",
                    "text": "\r\u001b[2K   \u001b[91m━━━━━━━━━━━━━━━━━━━━━━━━━━━━━━━━\u001b[0m\u001b[90m╺\u001b[0m\u001b[90m━━━━━━━\u001b[0m \u001b[32m6.0/7.5 MB\u001b[0m \u001b[31m847.7 kB/s\u001b[0m eta \u001b[36m0:00:02\u001b[0m\r\u001b[2K   \u001b[91m━━━━━━━━━━━━━━━━━━━━━━━━━━━━━━━━\u001b[0m\u001b[90m╺\u001b[0m\u001b[90m━━━━━━━\u001b[0m \u001b[32m6.1/7.5 MB\u001b[0m \u001b[31m847.0 kB/s\u001b[0m eta \u001b[36m0:00:02\u001b[0m"
                },
                {
                    "output_type": "stream",
                    "name": "stdout",
                    "text": "\r\u001b[2K   \u001b[91m━━━━━━━━━━━━━━━━━━━━━━━━━━━━━━━━\u001b[0m\u001b[91m╸\u001b[0m\u001b[90m━━━━━━━\u001b[0m \u001b[32m6.1/7.5 MB\u001b[0m \u001b[31m847.3 kB/s\u001b[0m eta \u001b[36m0:00:02\u001b[0m"
                },
                {
                    "output_type": "stream",
                    "name": "stdout",
                    "text": "\r\u001b[2K   \u001b[91m━━━━━━━━━━━━━━━━━━━━━━━━━━━━━━━━\u001b[0m\u001b[91m╸\u001b[0m\u001b[90m━━━━━━━\u001b[0m \u001b[32m6.2/7.5 MB\u001b[0m \u001b[31m849.5 kB/s\u001b[0m eta \u001b[36m0:00:02\u001b[0m\r\u001b[2K   \u001b[91m━━━━━━━━━━━━━━━━━━━━━━━━━━━━━━━━\u001b[0m\u001b[91m╸\u001b[0m\u001b[90m━━━━━━━\u001b[0m \u001b[32m6.2/7.5 MB\u001b[0m \u001b[31m847.6 kB/s\u001b[0m eta \u001b[36m0:00:02\u001b[0m"
                },
                {
                    "output_type": "stream",
                    "name": "stdout",
                    "text": "\r\u001b[2K   \u001b[91m━━━━━━━━━━━━━━━━━━━━━━━━━━━━━━━━━\u001b[0m\u001b[90m╺\u001b[0m\u001b[90m━━━━━━\u001b[0m \u001b[32m6.2/7.5 MB\u001b[0m \u001b[31m851.3 kB/s\u001b[0m eta \u001b[36m0:00:02\u001b[0m"
                },
                {
                    "output_type": "stream",
                    "name": "stdout",
                    "text": "\r\u001b[2K   \u001b[91m━━━━━━━━━━━━━━━━━━━━━━━━━━━━━━━━━\u001b[0m\u001b[90m╺\u001b[0m\u001b[90m━━━━━━\u001b[0m \u001b[32m6.3/7.5 MB\u001b[0m \u001b[31m852.4 kB/s\u001b[0m eta \u001b[36m0:00:02\u001b[0m"
                },
                {
                    "output_type": "stream",
                    "name": "stdout",
                    "text": "\r\u001b[2K   \u001b[91m━━━━━━━━━━━━━━━━━━━━━━━━━━━━━━━━━\u001b[0m\u001b[91m╸\u001b[0m\u001b[90m━━━━━━\u001b[0m \u001b[32m6.3/7.5 MB\u001b[0m \u001b[31m854.1 kB/s\u001b[0m eta \u001b[36m0:00:02\u001b[0m\r\u001b[2K   \u001b[91m━━━━━━━━━━━━━━━━━━━━━━━━━━━━━━━━━━\u001b[0m\u001b[90m╺\u001b[0m\u001b[90m━━━━━\u001b[0m \u001b[32m6.4/7.5 MB\u001b[0m \u001b[31m857.0 kB/s\u001b[0m eta \u001b[36m0:00:02\u001b[0m"
                },
                {
                    "output_type": "stream",
                    "name": "stdout",
                    "text": "\r\u001b[2K   \u001b[91m━━━━━━━━━━━━━━━━━━━━━━━━━━━━━━━━━━\u001b[0m\u001b[90m╺\u001b[0m\u001b[90m━━━━━\u001b[0m \u001b[32m6.4/7.5 MB\u001b[0m \u001b[31m857.2 kB/s\u001b[0m eta \u001b[36m0:00:02\u001b[0m"
                },
                {
                    "output_type": "stream",
                    "name": "stdout",
                    "text": "\r\u001b[2K   \u001b[91m━━━━━━━━━━━━━━━━━━━━━━━━━━━━━━━━━━\u001b[0m\u001b[91m╸\u001b[0m\u001b[90m━━━━━\u001b[0m \u001b[32m6.5/7.5 MB\u001b[0m \u001b[31m859.5 kB/s\u001b[0m eta \u001b[36m0:00:02\u001b[0m"
                },
                {
                    "output_type": "stream",
                    "name": "stdout",
                    "text": "\r\u001b[2K   \u001b[91m━━━━━━━━━━━━━━━━━━━━━━━━━━━━━━━━━━\u001b[0m\u001b[91m╸\u001b[0m\u001b[90m━━━━━\u001b[0m \u001b[32m6.5/7.5 MB\u001b[0m \u001b[31m862.3 kB/s\u001b[0m eta \u001b[36m0:00:02\u001b[0m\r\u001b[2K   \u001b[91m━━━━━━━━━━━━━━━━━━━━━━━━━━━━━━━━━━━\u001b[0m\u001b[90m╺\u001b[0m\u001b[90m━━━━\u001b[0m \u001b[32m6.6/7.5 MB\u001b[0m \u001b[31m864.1 kB/s\u001b[0m eta \u001b[36m0:00:02\u001b[0m"
                },
                {
                    "output_type": "stream",
                    "name": "stdout",
                    "text": "\r\u001b[2K   \u001b[91m━━━━━━━━━━━━━━━━━━━━━━━━━━━━━━━━━━━\u001b[0m\u001b[90m╺\u001b[0m\u001b[90m━━━━\u001b[0m \u001b[32m6.6/7.5 MB\u001b[0m \u001b[31m866.6 kB/s\u001b[0m eta \u001b[36m0:00:02\u001b[0m"
                },
                {
                    "output_type": "stream",
                    "name": "stdout",
                    "text": "\r\u001b[2K   \u001b[91m━━━━━━━━━━━━━━━━━━━━━━━━━━━━━━━━━━━\u001b[0m\u001b[91m╸\u001b[0m\u001b[90m━━━━\u001b[0m \u001b[32m6.6/7.5 MB\u001b[0m \u001b[31m867.5 kB/s\u001b[0m eta \u001b[36m0:00:01\u001b[0m\r\u001b[2K   \u001b[91m━━━━━━━━━━━━━━━━━━━━━━━━━━━━━━━━━━━\u001b[0m\u001b[91m╸\u001b[0m\u001b[90m━━━━\u001b[0m \u001b[32m6.6/7.5 MB\u001b[0m \u001b[31m867.5 kB/s\u001b[0m eta \u001b[36m0:00:01\u001b[0m"
                },
                {
                    "output_type": "stream",
                    "name": "stdout",
                    "text": "\r\u001b[2K   \u001b[91m━━━━━━━━━━━━━━━━━━━━━━━━━━━━━━━━━━━\u001b[0m\u001b[91m╸\u001b[0m\u001b[90m━━━━\u001b[0m \u001b[32m6.6/7.5 MB\u001b[0m \u001b[31m867.5 kB/s\u001b[0m eta \u001b[36m0:00:01\u001b[0m"
                },
                {
                    "output_type": "stream",
                    "name": "stdout",
                    "text": "\r\u001b[2K   \u001b[91m━━━━━━━━━━━━━━━━━━━━━━━━━━━━━━━━━━━\u001b[0m\u001b[91m╸\u001b[0m\u001b[90m━━━━\u001b[0m \u001b[32m6.7/7.5 MB\u001b[0m \u001b[31m856.9 kB/s\u001b[0m eta \u001b[36m0:00:01\u001b[0m"
                },
                {
                    "output_type": "stream",
                    "name": "stdout",
                    "text": "\r\u001b[2K   \u001b[91m━━━━━━━━━━━━━━━━━━━━━━━━━━━━━━━━━━━\u001b[0m\u001b[91m╸\u001b[0m\u001b[90m━━━━\u001b[0m \u001b[32m6.7/7.5 MB\u001b[0m \u001b[31m856.9 kB/s\u001b[0m eta \u001b[36m0:00:01\u001b[0m\r\u001b[2K   \u001b[91m━━━━━━━━━━━━━━━━━━━━━━━━━━━━━━━━━━━\u001b[0m\u001b[91m╸\u001b[0m\u001b[90m━━━━\u001b[0m \u001b[32m6.7/7.5 MB\u001b[0m \u001b[31m856.1 kB/s\u001b[0m eta \u001b[36m0:00:01\u001b[0m"
                },
                {
                    "output_type": "stream",
                    "name": "stdout",
                    "text": "\r\u001b[2K   \u001b[91m━━━━━━━━━━━━━━━━━━━━━━━━━━━━━━━━━━━━\u001b[0m\u001b[90m╺\u001b[0m\u001b[90m━━━\u001b[0m \u001b[32m6.8/7.5 MB\u001b[0m \u001b[31m857.1 kB/s\u001b[0m eta \u001b[36m0:00:01\u001b[0m"
                },
                {
                    "output_type": "stream",
                    "name": "stdout",
                    "text": "\r\u001b[2K   \u001b[91m━━━━━━━━━━━━━━━━━━━━━━━━━━━━━━━━━━━━\u001b[0m\u001b[90m╺\u001b[0m\u001b[90m━━━\u001b[0m \u001b[32m6.8/7.5 MB\u001b[0m \u001b[31m859.0 kB/s\u001b[0m eta \u001b[36m0:00:01\u001b[0m"
                },
                {
                    "output_type": "stream",
                    "name": "stdout",
                    "text": "\r\u001b[2K   \u001b[91m━━━━━━━━━━━━━━━━━━━━━━━━━━━━━━━━━━━━\u001b[0m\u001b[90m╺\u001b[0m\u001b[90m━━━\u001b[0m \u001b[32m6.8/7.5 MB\u001b[0m \u001b[31m859.0 kB/s\u001b[0m eta \u001b[36m0:00:01\u001b[0m\r\u001b[2K   \u001b[91m━━━━━━━━━━━━━━━━━━━━━━━━━━━━━━━━━━━━\u001b[0m\u001b[91m╸\u001b[0m\u001b[90m━━━\u001b[0m \u001b[32m6.9/7.5 MB\u001b[0m \u001b[31m856.8 kB/s\u001b[0m eta \u001b[36m0:00:01\u001b[0m"
                },
                {
                    "output_type": "stream",
                    "name": "stdout",
                    "text": "\r\u001b[2K   \u001b[91m━━━━━━━━━━━━━━━━━━━━━━━━━━━━━━━━━━━━━\u001b[0m\u001b[90m╺\u001b[0m\u001b[90m━━\u001b[0m \u001b[32m6.9/7.5 MB\u001b[0m \u001b[31m861.2 kB/s\u001b[0m eta \u001b[36m0:00:01\u001b[0m"
                },
                {
                    "output_type": "stream",
                    "name": "stdout",
                    "text": "\r\u001b[2K   \u001b[91m━━━━━━━━━━━━━━━━━━━━━━━━━━━━━━━━━━━━━\u001b[0m\u001b[90m╺\u001b[0m\u001b[90m━━\u001b[0m \u001b[32m7.0/7.5 MB\u001b[0m \u001b[31m861.5 kB/s\u001b[0m eta \u001b[36m0:00:01\u001b[0m\r\u001b[2K   \u001b[91m━━━━━━━━━━━━━━━━━━━━━━━━━━━━━━━━━━━━━\u001b[0m\u001b[90m╺\u001b[0m\u001b[90m━━\u001b[0m \u001b[32m7.0/7.5 MB\u001b[0m \u001b[31m860.4 kB/s\u001b[0m eta \u001b[36m0:00:01\u001b[0m"
                },
                {
                    "output_type": "stream",
                    "name": "stdout",
                    "text": "\r\u001b[2K   \u001b[91m━━━━━━━━━━━━━━━━━━━━━━━━━━━━━━━━━━━━━\u001b[0m\u001b[91m╸\u001b[0m\u001b[90m━━\u001b[0m \u001b[32m7.0/7.5 MB\u001b[0m \u001b[31m861.0 kB/s\u001b[0m eta \u001b[36m0:00:01\u001b[0m"
                },
                {
                    "output_type": "stream",
                    "name": "stdout",
                    "text": "\r\u001b[2K   \u001b[91m━━━━━━━━━━━━━━━━━━━━━━━━━━━━━━━━━━━━━\u001b[0m\u001b[91m╸\u001b[0m\u001b[90m━━\u001b[0m \u001b[32m7.1/7.5 MB\u001b[0m \u001b[31m859.5 kB/s\u001b[0m eta \u001b[36m0:00:01\u001b[0m\r\u001b[2K   \u001b[91m━━━━━━━━━━━━━━━━━━━━━━━━━━━━━━━━━━━━━\u001b[0m\u001b[91m╸\u001b[0m\u001b[90m━━\u001b[0m \u001b[32m7.1/7.5 MB\u001b[0m \u001b[31m859.5 kB/s\u001b[0m eta \u001b[36m0:00:01\u001b[0m"
                },
                {
                    "output_type": "stream",
                    "name": "stdout",
                    "text": "\r\u001b[2K   \u001b[91m━━━━━━━━━━━━━━━━━━━━━━━━━━━━━━━━━━━━━\u001b[0m\u001b[91m╸\u001b[0m\u001b[90m━━\u001b[0m \u001b[32m7.1/7.5 MB\u001b[0m \u001b[31m857.4 kB/s\u001b[0m eta \u001b[36m0:00:01\u001b[0m"
                },
                {
                    "output_type": "stream",
                    "name": "stdout",
                    "text": "\r\u001b[2K   \u001b[91m━━━━━━━━━━━━━━━━━━━━━━━━━━━━━━━━━━━━━\u001b[0m\u001b[91m╸\u001b[0m\u001b[90m━━\u001b[0m \u001b[32m7.1/7.5 MB\u001b[0m \u001b[31m857.4 kB/s\u001b[0m eta \u001b[36m0:00:01\u001b[0m"
                },
                {
                    "output_type": "stream",
                    "name": "stdout",
                    "text": "\r\u001b[2K   \u001b[91m━━━━━━━━━━━━━━━━━━━━━━━━━━━━━━━━━━━━━━\u001b[0m\u001b[90m╺\u001b[0m\u001b[90m━\u001b[0m \u001b[32m7.1/7.5 MB\u001b[0m \u001b[31m854.4 kB/s\u001b[0m eta \u001b[36m0:00:01\u001b[0m\r\u001b[2K   \u001b[91m━━━━━━━━━━━━━━━━━━━━━━━━━━━━━━━━━━━━━━\u001b[0m\u001b[90m╺\u001b[0m\u001b[90m━\u001b[0m \u001b[32m7.1/7.5 MB\u001b[0m \u001b[31m854.4 kB/s\u001b[0m eta \u001b[36m0:00:01\u001b[0m"
                },
                {
                    "output_type": "stream",
                    "name": "stdout",
                    "text": "\r\u001b[2K   \u001b[91m━━━━━━━━━━━━━━━━━━━━━━━━━━━━━━━━━━━━━━\u001b[0m\u001b[90m╺\u001b[0m\u001b[90m━\u001b[0m \u001b[32m7.1/7.5 MB\u001b[0m \u001b[31m847.0 kB/s\u001b[0m eta \u001b[36m0:00:01\u001b[0m"
                },
                {
                    "output_type": "stream",
                    "name": "stdout",
                    "text": "\r\u001b[2K   \u001b[91m━━━━━━━━━━━━━━━━━━━━━━━━━━━━━━━━━━━━━━\u001b[0m\u001b[90m╺\u001b[0m\u001b[90m━\u001b[0m \u001b[32m7.2/7.5 MB\u001b[0m \u001b[31m849.4 kB/s\u001b[0m eta \u001b[36m0:00:01\u001b[0m"
                },
                {
                    "output_type": "stream",
                    "name": "stdout",
                    "text": "\r\u001b[2K   \u001b[91m━━━━━━━━━━━━━━━━━━━━━━━━━━━━━━━━━━━━━━\u001b[0m\u001b[90m╺\u001b[0m\u001b[90m━\u001b[0m \u001b[32m7.2/7.5 MB\u001b[0m \u001b[31m849.4 kB/s\u001b[0m eta \u001b[36m0:00:01\u001b[0m\r\u001b[2K   \u001b[91m━━━━━━━━━━━━━━━━━━━━━━━━━━━━━━━━━━━━━━\u001b[0m\u001b[90m╺\u001b[0m\u001b[90m━\u001b[0m \u001b[32m7.2/7.5 MB\u001b[0m \u001b[31m849.4 kB/s\u001b[0m eta \u001b[36m0:00:01\u001b[0m"
                },
                {
                    "output_type": "stream",
                    "name": "stdout",
                    "text": "\r\u001b[2K   \u001b[91m━━━━━━━━━━━━━━━━━━━━━━━━━━━━━━━━━━━━━━\u001b[0m\u001b[91m╸\u001b[0m\u001b[90m━\u001b[0m \u001b[32m7.2/7.5 MB\u001b[0m \u001b[31m842.3 kB/s\u001b[0m eta \u001b[36m0:00:01\u001b[0m"
                },
                {
                    "output_type": "stream",
                    "name": "stdout",
                    "text": "\r\u001b[2K   \u001b[91m━━━━━━━━━━━━━━━━━━━━━━━━━━━━━━━━━━━━━━\u001b[0m\u001b[91m╸\u001b[0m\u001b[90m━\u001b[0m \u001b[32m7.2/7.5 MB\u001b[0m \u001b[31m838.5 kB/s\u001b[0m eta \u001b[36m0:00:01\u001b[0m\r\u001b[2K   \u001b[91m━━━━━━━━━━━━━━━━━━━━━━━━━━━━━━━━━━━━━━\u001b[0m\u001b[91m╸\u001b[0m\u001b[90m━\u001b[0m \u001b[32m7.2/7.5 MB\u001b[0m \u001b[31m838.5 kB/s\u001b[0m eta \u001b[36m0:00:01\u001b[0m"
                },
                {
                    "output_type": "stream",
                    "name": "stdout",
                    "text": "\r\u001b[2K   \u001b[91m━━━━━━━━━━━━━━━━━━━━━━━━━━━━━━━━━━━━━━\u001b[0m\u001b[91m╸\u001b[0m\u001b[90m━\u001b[0m \u001b[32m7.3/7.5 MB\u001b[0m \u001b[31m837.7 kB/s\u001b[0m eta \u001b[36m0:00:01\u001b[0m"
                },
                {
                    "output_type": "stream",
                    "name": "stdout",
                    "text": "\r\u001b[2K   \u001b[91m━━━━━━━━━━━━━━━━━━━━━━━━━━━━━━━━━━━━━━\u001b[0m\u001b[91m╸\u001b[0m\u001b[90m━\u001b[0m \u001b[32m7.3/7.5 MB\u001b[0m \u001b[31m837.7 kB/s\u001b[0m eta \u001b[36m0:00:01\u001b[0m"
                },
                {
                    "output_type": "stream",
                    "name": "stdout",
                    "text": "\r\u001b[2K   \u001b[91m━━━━━━━━━━━━━━━━━━━━━━━━━━━━━━━━━━━━━━\u001b[0m\u001b[91m╸\u001b[0m\u001b[90m━\u001b[0m \u001b[32m7.3/7.5 MB\u001b[0m \u001b[31m831.5 kB/s\u001b[0m eta \u001b[36m0:00:01\u001b[0m\r\u001b[2K   \u001b[91m━━━━━━━━━━━━━━━━━━━━━━━━━━━━━━━━━━━━━━\u001b[0m\u001b[91m╸\u001b[0m\u001b[90m━\u001b[0m \u001b[32m7.3/7.5 MB\u001b[0m \u001b[31m831.5 kB/s\u001b[0m eta \u001b[36m0:00:01\u001b[0m"
                },
                {
                    "output_type": "stream",
                    "name": "stdout",
                    "text": "\r\u001b[2K   \u001b[91m━━━━━━━━━━━━━━━━━━━━━━━━━━━━━━━━━━━━━━━\u001b[0m\u001b[90m╺\u001b[0m \u001b[32m7.3/7.5 MB\u001b[0m \u001b[31m827.0 kB/s\u001b[0m eta \u001b[36m0:00:01\u001b[0m"
                },
                {
                    "output_type": "stream",
                    "name": "stdout",
                    "text": "\r\u001b[2K   \u001b[91m━━━━━━━━━━━━━━━━━━━━━━━━━━━━━━━━━━━━━━━\u001b[0m\u001b[90m╺\u001b[0m \u001b[32m7.3/7.5 MB\u001b[0m \u001b[31m827.0 kB/s\u001b[0m eta \u001b[36m0:00:01\u001b[0m\r\u001b[2K   \u001b[91m━━━━━━━━━━━━━━━━━━━━━━━━━━━━━━━━━━━━━━━\u001b[0m\u001b[90m╺\u001b[0m \u001b[32m7.3/7.5 MB\u001b[0m \u001b[31m821.5 kB/s\u001b[0m eta \u001b[36m0:00:01\u001b[0m"
                },
                {
                    "output_type": "stream",
                    "name": "stdout",
                    "text": "\r\u001b[2K   \u001b[91m━━━━━━━━━━━━━━━━━━━━━━━━━━━━━━━━━━━━━━━\u001b[0m\u001b[90m╺\u001b[0m \u001b[32m7.3/7.5 MB\u001b[0m \u001b[31m818.0 kB/s\u001b[0m eta \u001b[36m0:00:01\u001b[0m"
                },
                {
                    "output_type": "stream",
                    "name": "stdout",
                    "text": "\r\u001b[2K   \u001b[91m━━━━━━━━━━━━━━━━━━━━━━━━━━━━━━━━━━━━━━━\u001b[0m\u001b[90m╺\u001b[0m \u001b[32m7.3/7.5 MB\u001b[0m \u001b[31m818.0 kB/s\u001b[0m eta \u001b[36m0:00:01\u001b[0m"
                },
                {
                    "output_type": "stream",
                    "name": "stdout",
                    "text": "\r\u001b[2K   \u001b[91m━━━━━━━━━━━━━━━━━━━━━━━━━━━━━━━━━━━━━━━\u001b[0m\u001b[90m╺\u001b[0m \u001b[32m7.4/7.5 MB\u001b[0m \u001b[31m816.3 kB/s\u001b[0m eta \u001b[36m0:00:01\u001b[0m\r\u001b[2K   \u001b[91m━━━━━━━━━━━━━━━━━━━━━━━━━━━━━━━━━━━━━━━\u001b[0m\u001b[91m╸\u001b[0m \u001b[32m7.4/7.5 MB\u001b[0m \u001b[31m814.8 kB/s\u001b[0m eta \u001b[36m0:00:01\u001b[0m"
                },
                {
                    "output_type": "stream",
                    "name": "stdout",
                    "text": "\r\u001b[2K   \u001b[91m━━━━━━━━━━━━━━━━━━━━━━━━━━━━━━━━━━━━━━━\u001b[0m\u001b[91m╸\u001b[0m \u001b[32m7.4/7.5 MB\u001b[0m \u001b[31m812.9 kB/s\u001b[0m eta \u001b[36m0:00:01\u001b[0m"
                },
                {
                    "output_type": "stream",
                    "name": "stdout",
                    "text": "\r\u001b[2K   \u001b[91m━━━━━━━━━━━━━━━━━━━━━━━━━━━━━━━━━━━━━━━\u001b[0m\u001b[91m╸\u001b[0m \u001b[32m7.4/7.5 MB\u001b[0m \u001b[31m811.9 kB/s\u001b[0m eta \u001b[36m0:00:01\u001b[0m"
                },
                {
                    "output_type": "stream",
                    "name": "stdout",
                    "text": "\r\u001b[2K   \u001b[91m━━━━━━━━━━━━━━━━━━━━━━━━━━━━━━━━━━━━━━━\u001b[0m\u001b[91m╸\u001b[0m \u001b[32m7.5/7.5 MB\u001b[0m \u001b[31m812.6 kB/s\u001b[0m eta \u001b[36m0:00:01\u001b[0m\r\u001b[2K   \u001b[91m━━━━━━━━━━━━━━━━━━━━━━━━━━━━━━━━━━━━━━━\u001b[0m\u001b[91m╸\u001b[0m \u001b[32m7.5/7.5 MB\u001b[0m \u001b[31m812.6 kB/s\u001b[0m eta \u001b[36m0:00:01\u001b[0m"
                },
                {
                    "output_type": "stream",
                    "name": "stdout",
                    "text": "\r\u001b[2K   \u001b[91m━━━━━━━━━━━━━━━━━━━━━━━━━━━━━━━━━━━━━━━\u001b[0m\u001b[91m╸\u001b[0m \u001b[32m7.5/7.5 MB\u001b[0m \u001b[31m807.7 kB/s\u001b[0m eta \u001b[36m0:00:01\u001b[0m\r\u001b[2K   \u001b[90m━━━━━━━━━━━━━━━━━━━━━━━━━━━━━━━━━━━━━━━━\u001b[0m \u001b[32m7.5/7.5 MB\u001b[0m \u001b[31m804.4 kB/s\u001b[0m eta \u001b[36m0:00:00\u001b[0m\r\n\u001b[?25h"
                },
                {
                    "output_type": "stream",
                    "name": "stdout",
                    "text": "Downloading contourpy-1.2.0-cp311-cp311-macosx_11_0_arm64.whl (243 kB)\r\n\u001b[?25l   \u001b[90m━━━━━━━━━━━━━━━━━━━━━━━━━━━━━━━━━━━━━━━━\u001b[0m \u001b[32m0.0/243.4 kB\u001b[0m \u001b[31m?\u001b[0m eta \u001b[36m-:--:--\u001b[0m\r\u001b[2K   \u001b[91m━\u001b[0m\u001b[91m╸\u001b[0m\u001b[90m━━━━━━━━━━━━━━━━━━━━━━━━━━━━━━━━━━━━━━\u001b[0m \u001b[32m10.2/243.4 kB\u001b[0m \u001b[31m?\u001b[0m eta \u001b[36m-:--:--\u001b[0m"
                },
                {
                    "output_type": "stream",
                    "name": "stdout",
                    "text": "\r\u001b[2K   \u001b[91m━━━━━━\u001b[0m\u001b[91m╸\u001b[0m\u001b[90m━━━━━━━━━━━━━━━━━━━━━━━━━━━━━━━━━\u001b[0m \u001b[32m41.0/243.4 kB\u001b[0m \u001b[31m712.9 kB/s\u001b[0m eta \u001b[36m0:00:01\u001b[0m"
                },
                {
                    "output_type": "stream",
                    "name": "stdout",
                    "text": "\r\u001b[2K   \u001b[91m━━━━━━━━━━\u001b[0m\u001b[90m╺\u001b[0m\u001b[90m━━━━━━━━━━━━━━━━━━━━━━━━━━━━━\u001b[0m \u001b[32m61.4/243.4 kB\u001b[0m \u001b[31m893.1 kB/s\u001b[0m eta \u001b[36m0:00:01\u001b[0m"
                },
                {
                    "output_type": "stream",
                    "name": "stdout",
                    "text": "\r\u001b[2K   \u001b[91m━━━━━━━━━━━\u001b[0m\u001b[91m╸\u001b[0m\u001b[90m━━━━━━━━━━━━━━━━━━━━━━━━━━━━\u001b[0m \u001b[32m71.7/243.4 kB\u001b[0m \u001b[31m595.1 kB/s\u001b[0m eta \u001b[36m0:00:01\u001b[0m\r\u001b[2K   \u001b[91m━━━━━━━━━━━\u001b[0m\u001b[91m╸\u001b[0m\u001b[90m━━━━━━━━━━━━━━━━━━━━━━━━━━━━\u001b[0m \u001b[32m71.7/243.4 kB\u001b[0m \u001b[31m595.1 kB/s\u001b[0m eta \u001b[36m0:00:01\u001b[0m"
                },
                {
                    "output_type": "stream",
                    "name": "stdout",
                    "text": "\r\u001b[2K   \u001b[91m━━━━━━━━━━━━━━━\u001b[0m\u001b[90m╺\u001b[0m\u001b[90m━━━━━━━━━━━━━━━━━━━━━━━━\u001b[0m \u001b[32m92.2/243.4 kB\u001b[0m \u001b[31m457.1 kB/s\u001b[0m eta \u001b[36m0:00:01\u001b[0m"
                },
                {
                    "output_type": "stream",
                    "name": "stdout",
                    "text": "\r\u001b[2K   \u001b[91m━━━━━━━━━━━━━━━━━━\u001b[0m\u001b[90m╺\u001b[0m\u001b[90m━━━━━━━━━━━━━━━━━━━━\u001b[0m \u001b[32m112.6/243.4 kB\u001b[0m \u001b[31m435.6 kB/s\u001b[0m eta \u001b[36m0:00:01\u001b[0m\r\u001b[2K   \u001b[91m━━━━━━━━━━━━━━━━━━━━━━\u001b[0m\u001b[91m╸\u001b[0m\u001b[90m━━━━━━━━━━━━━━━━\u001b[0m \u001b[32m143.4/243.4 kB\u001b[0m \u001b[31m502.8 kB/s\u001b[0m eta \u001b[36m0:00:01\u001b[0m"
                },
                {
                    "output_type": "stream",
                    "name": "stdout",
                    "text": "\r\u001b[2K   \u001b[91m━━━━━━━━━━━━━━━━━━━━━━\u001b[0m\u001b[91m╸\u001b[0m\u001b[90m━━━━━━━━━━━━━━━━\u001b[0m \u001b[32m143.4/243.4 kB\u001b[0m \u001b[31m502.8 kB/s\u001b[0m eta \u001b[36m0:00:01\u001b[0m"
                },
                {
                    "output_type": "stream",
                    "name": "stdout",
                    "text": "\r\u001b[2K   \u001b[91m━━━━━━━━━━━━━━━━━━━━━━━━━━━\u001b[0m\u001b[91m╸\u001b[0m\u001b[90m━━━━━━━━━━━\u001b[0m \u001b[32m174.1/243.4 kB\u001b[0m \u001b[31m473.1 kB/s\u001b[0m eta \u001b[36m0:00:01\u001b[0m"
                },
                {
                    "output_type": "stream",
                    "name": "stdout",
                    "text": "\r\u001b[2K   \u001b[91m━━━━━━━━━━━━━━━━━━━━━━━━━━━\u001b[0m\u001b[91m╸\u001b[0m\u001b[90m━━━━━━━━━━━\u001b[0m \u001b[32m174.1/243.4 kB\u001b[0m \u001b[31m473.1 kB/s\u001b[0m eta \u001b[36m0:00:01\u001b[0m\r\u001b[2K   \u001b[91m━━━━━━━━━━━━━━━━━━━━━━━━━━━━━━━\u001b[0m\u001b[90m╺\u001b[0m\u001b[90m━━━━━━━\u001b[0m \u001b[32m194.6/243.4 kB\u001b[0m \u001b[31m458.9 kB/s\u001b[0m eta \u001b[36m0:00:01\u001b[0m"
                },
                {
                    "output_type": "stream",
                    "name": "stdout",
                    "text": "\r\u001b[2K   \u001b[91m━━━━━━━━━━━━━━━━━━━━━━━━━━━━━━━━━━━━\u001b[0m\u001b[90m╺\u001b[0m\u001b[90m━━\u001b[0m \u001b[32m225.3/243.4 kB\u001b[0m \u001b[31m475.4 kB/s\u001b[0m eta \u001b[36m0:00:01\u001b[0m"
                },
                {
                    "output_type": "stream",
                    "name": "stdout",
                    "text": "\r\u001b[2K   \u001b[91m━━━━━━━━━━━━━━━━━━━━━━━━━━━━━━━━━━━━\u001b[0m\u001b[90m╺\u001b[0m\u001b[90m━━\u001b[0m \u001b[32m225.3/243.4 kB\u001b[0m \u001b[31m475.4 kB/s\u001b[0m eta \u001b[36m0:00:01\u001b[0m\r\u001b[2K   \u001b[91m━━━━━━━━━━━━━━━━━━━━━━━━━━━━━━━━━━━━━\u001b[0m\u001b[91m╸\u001b[0m\u001b[90m━\u001b[0m \u001b[32m235.5/243.4 kB\u001b[0m \u001b[31m419.4 kB/s\u001b[0m eta \u001b[36m0:00:01\u001b[0m\r\u001b[2K   \u001b[90m━━━━━━━━━━━━━━━━━━━━━━━━━━━━━━━━━━━━━━━\u001b[0m \u001b[32m243.4/243.4 kB\u001b[0m \u001b[31m426.9 kB/s\u001b[0m eta \u001b[36m0:00:00\u001b[0m\r\n\u001b[?25h"
                },
                {
                    "output_type": "stream",
                    "name": "stdout",
                    "text": "Downloading cycler-0.12.1-py3-none-any.whl (8.3 kB)\r\n"
                },
                {
                    "output_type": "stream",
                    "name": "stdout",
                    "text": "Downloading fonttools-4.47.0-cp311-cp311-macosx_10_9_universal2.whl (2.8 MB)\r\n\u001b[?25l   \u001b[90m━━━━━━━━━━━━━━━━━━━━━━━━━━━━━━━━━━━━━━━━\u001b[0m \u001b[32m0.0/2.8 MB\u001b[0m \u001b[31m?\u001b[0m eta \u001b[36m-:--:--\u001b[0m"
                },
                {
                    "output_type": "stream",
                    "name": "stdout",
                    "text": "\r\u001b[2K   \u001b[90m━━━━━━━━━━━━━━━━━━━━━━━━━━━━━━━━━━━━━━━━\u001b[0m \u001b[32m0.0/2.8 MB\u001b[0m \u001b[31m?\u001b[0m eta \u001b[36m-:--:--\u001b[0m"
                },
                {
                    "output_type": "stream",
                    "name": "stdout",
                    "text": "\r\u001b[2K   \u001b[90m━━━━━━━━━━━━━━━━━━━━━━━━━━━━━━━━━━━━━━━━\u001b[0m \u001b[32m0.0/2.8 MB\u001b[0m \u001b[31m876.1 kB/s\u001b[0m eta \u001b[36m0:00:04\u001b[0m"
                },
                {
                    "output_type": "stream",
                    "name": "stdout",
                    "text": "\r\u001b[2K   \u001b[90m━━━━━━━━━━━━━━━━━━━━━━━━━━━━━━━━━━━━━━━━\u001b[0m \u001b[32m0.0/2.8 MB\u001b[0m \u001b[31m876.1 kB/s\u001b[0m eta \u001b[36m0:00:04\u001b[0m\r\u001b[2K   \u001b[91m╸\u001b[0m\u001b[90m━━━━━━━━━━━━━━━━━━━━━━━━━━━━━━━━━━━━━━━\u001b[0m \u001b[32m0.0/2.8 MB\u001b[0m \u001b[31m291.1 kB/s\u001b[0m eta \u001b[36m0:00:10\u001b[0m"
                },
                {
                    "output_type": "stream",
                    "name": "stdout",
                    "text": "\r\u001b[2K   \u001b[91m╸\u001b[0m\u001b[90m━━━━━━━━━━━━━━━━━━━━━━━━━━━━━━━━━━━━━━━\u001b[0m \u001b[32m0.1/2.8 MB\u001b[0m \u001b[31m411.6 kB/s\u001b[0m eta \u001b[36m0:00:07\u001b[0m"
                },
                {
                    "output_type": "stream",
                    "name": "stdout",
                    "text": "\r\u001b[2K   \u001b[91m╸\u001b[0m\u001b[90m━━━━━━━━━━━━━━━━━━━━━━━━━━━━━━━━━━━━━━━\u001b[0m \u001b[32m0.1/2.8 MB\u001b[0m \u001b[31m411.6 kB/s\u001b[0m eta \u001b[36m0:00:07\u001b[0m\r\u001b[2K   \u001b[91m╸\u001b[0m\u001b[90m━━━━━━━━━━━━━━━━━━━━━━━━━━━━━━━━━━━━━━━\u001b[0m \u001b[32m0.1/2.8 MB\u001b[0m \u001b[31m411.6 kB/s\u001b[0m eta \u001b[36m0:00:07\u001b[0m"
                },
                {
                    "output_type": "stream",
                    "name": "stdout",
                    "text": "\r\u001b[2K   \u001b[91m╸\u001b[0m\u001b[90m━━━━━━━━━━━━━━━━━━━━━━━━━━━━━━━━━━━━━━━\u001b[0m \u001b[32m0.1/2.8 MB\u001b[0m \u001b[31m411.6 kB/s\u001b[0m eta \u001b[36m0:00:07\u001b[0m"
                },
                {
                    "output_type": "stream",
                    "name": "stdout",
                    "text": "\r\u001b[2K   \u001b[91m╸\u001b[0m\u001b[90m━━━━━━━━━━━━━━━━━━━━━━━━━━━━━━━━━━━━━━━\u001b[0m \u001b[32m0.1/2.8 MB\u001b[0m \u001b[31m411.6 kB/s\u001b[0m eta \u001b[36m0:00:07\u001b[0m"
                },
                {
                    "output_type": "stream",
                    "name": "stdout",
                    "text": "\r\u001b[2K   \u001b[91m╸\u001b[0m\u001b[90m━━━━━━━━━━━━━━━━━━━━━━━━━━━━━━━━━━━━━━━\u001b[0m \u001b[32m0.1/2.8 MB\u001b[0m \u001b[31m411.6 kB/s\u001b[0m eta \u001b[36m0:00:07\u001b[0m\r\u001b[2K   \u001b[91m╸\u001b[0m\u001b[90m━━━━━━━━━━━━━━━━━━━━━━━━━━━━━━━━━━━━━━━\u001b[0m \u001b[32m0.1/2.8 MB\u001b[0m \u001b[31m411.6 kB/s\u001b[0m eta \u001b[36m0:00:07\u001b[0m"
                },
                {
                    "output_type": "stream",
                    "name": "stdout",
                    "text": "\r\u001b[2K   \u001b[91m╸\u001b[0m\u001b[90m━━━━━━━━━━━━━━━━━━━━━━━━━━━━━━━━━━━━━━━\u001b[0m \u001b[32m0.1/2.8 MB\u001b[0m \u001b[31m411.6 kB/s\u001b[0m eta \u001b[36m0:00:07\u001b[0m"
                },
                {
                    "output_type": "stream",
                    "name": "stdout",
                    "text": "\r\u001b[2K   \u001b[91m━\u001b[0m\u001b[90m╺\u001b[0m\u001b[90m━━━━━━━━━━━━━━━━━━━━━━━━━━━━━━━━━━━━━━\u001b[0m \u001b[32m0.1/2.8 MB\u001b[0m \u001b[31m162.9 kB/s\u001b[0m eta \u001b[36m0:00:17\u001b[0m\r\u001b[2K   \u001b[91m━\u001b[0m\u001b[90m╺\u001b[0m\u001b[90m━━━━━━━━━━━━━━━━━━━━━━━━━━━━━━━━━━━━━━\u001b[0m \u001b[32m0.1/2.8 MB\u001b[0m \u001b[31m162.9 kB/s\u001b[0m eta \u001b[36m0:00:17\u001b[0m"
                },
                {
                    "output_type": "stream",
                    "name": "stdout",
                    "text": "\r\u001b[2K   \u001b[91m━\u001b[0m\u001b[91m╸\u001b[0m\u001b[90m━━━━━━━━━━━━━━━━━━━━━━━━━━━━━━━━━━━━━━\u001b[0m \u001b[32m0.1/2.8 MB\u001b[0m \u001b[31m198.1 kB/s\u001b[0m eta \u001b[36m0:00:14\u001b[0m"
                },
                {
                    "output_type": "stream",
                    "name": "stdout",
                    "text": "\r\u001b[2K   \u001b[91m━━\u001b[0m\u001b[90m╺\u001b[0m\u001b[90m━━━━━━━━━━━━━━━━━━━━━━━━━━━━━━━━━━━━━\u001b[0m \u001b[32m0.2/2.8 MB\u001b[0m \u001b[31m276.1 kB/s\u001b[0m eta \u001b[36m0:00:10\u001b[0m"
                },
                {
                    "output_type": "stream",
                    "name": "stdout",
                    "text": "\r\u001b[2K   \u001b[91m━━\u001b[0m\u001b[91m╸\u001b[0m\u001b[90m━━━━━━━━━━━━━━━━━━━━━━━━━━━━━━━━━━━━━\u001b[0m \u001b[32m0.2/2.8 MB\u001b[0m \u001b[31m303.9 kB/s\u001b[0m eta \u001b[36m0:00:09\u001b[0m\r\u001b[2K   \u001b[91m━━━\u001b[0m\u001b[91m╸\u001b[0m\u001b[90m━━━━━━━━━━━━━━━━━━━━━━━━━━━━━━━━━━━━\u001b[0m \u001b[32m0.2/2.8 MB\u001b[0m \u001b[31m362.8 kB/s\u001b[0m eta \u001b[36m0:00:07\u001b[0m"
                },
                {
                    "output_type": "stream",
                    "name": "stdout",
                    "text": "\r\u001b[2K   \u001b[91m━━━\u001b[0m\u001b[91m╸\u001b[0m\u001b[90m━━━━━━━━━━━━━━━━━━━━━━━━━━━━━━━━━━━━\u001b[0m \u001b[32m0.2/2.8 MB\u001b[0m \u001b[31m362.8 kB/s\u001b[0m eta \u001b[36m0:00:07\u001b[0m"
                },
                {
                    "output_type": "stream",
                    "name": "stdout",
                    "text": "\r\u001b[2K   \u001b[91m━━━\u001b[0m\u001b[91m╸\u001b[0m\u001b[90m━━━━━━━━━━━━━━━━━━━━━━━━━━━━━━━━━━━━\u001b[0m \u001b[32m0.2/2.8 MB\u001b[0m \u001b[31m362.8 kB/s\u001b[0m eta \u001b[36m0:00:07\u001b[0m\r\u001b[2K   \u001b[91m━━━\u001b[0m\u001b[91m╸\u001b[0m\u001b[90m━━━━━━━━━━━━━━━━━━━━━━━━━━━━━━━━━━━━\u001b[0m \u001b[32m0.3/2.8 MB\u001b[0m \u001b[31m342.9 kB/s\u001b[0m eta \u001b[36m0:00:08\u001b[0m"
                },
                {
                    "output_type": "stream",
                    "name": "stdout",
                    "text": "\r\u001b[2K   \u001b[91m━━━━\u001b[0m\u001b[90m╺\u001b[0m\u001b[90m━━━━━━━━━━━━━━━━━━━━━━━━━━━━━━━━━━━\u001b[0m \u001b[32m0.3/2.8 MB\u001b[0m \u001b[31m352.2 kB/s\u001b[0m eta \u001b[36m0:00:08\u001b[0m"
                },
                {
                    "output_type": "stream",
                    "name": "stdout",
                    "text": "\r\u001b[2K   \u001b[91m━━━━\u001b[0m\u001b[90m╺\u001b[0m\u001b[90m━━━━━━━━━━━━━━━━━━━━━━━━━━━━━━━━━━━\u001b[0m \u001b[32m0.3/2.8 MB\u001b[0m \u001b[31m352.2 kB/s\u001b[0m eta \u001b[36m0:00:08\u001b[0m"
                },
                {
                    "output_type": "stream",
                    "name": "stdout",
                    "text": "\r\u001b[2K   \u001b[91m━━━━\u001b[0m\u001b[90m╺\u001b[0m\u001b[90m━━━━━━━━━━━━━━━━━━━━━━━━━━━━━━━━━━━\u001b[0m \u001b[32m0.3/2.8 MB\u001b[0m \u001b[31m352.2 kB/s\u001b[0m eta \u001b[36m0:00:08\u001b[0m\r\u001b[2K   \u001b[91m━━━━\u001b[0m\u001b[90m╺\u001b[0m\u001b[90m━━━━━━━━━━━━━━━━━━━━━━━━━━━━━━━━━━━\u001b[0m \u001b[32m0.3/2.8 MB\u001b[0m \u001b[31m352.2 kB/s\u001b[0m eta \u001b[36m0:00:08\u001b[0m"
                },
                {
                    "output_type": "stream",
                    "name": "stdout",
                    "text": "\r\u001b[2K   \u001b[91m━━━━\u001b[0m\u001b[90m╺\u001b[0m\u001b[90m━━━━━━━━━━━━━━━━━━━━━━━━━━━━━━━━━━━\u001b[0m \u001b[32m0.3/2.8 MB\u001b[0m \u001b[31m352.2 kB/s\u001b[0m eta \u001b[36m0:00:08\u001b[0m"
                },
                {
                    "output_type": "stream",
                    "name": "stdout",
                    "text": "\r\u001b[2K   \u001b[91m━━━━\u001b[0m\u001b[91m╸\u001b[0m\u001b[90m━━━━━━━━━━━━━━━━━━━━━━━━━━━━━━━━━━━\u001b[0m \u001b[32m0.3/2.8 MB\u001b[0m \u001b[31m329.5 kB/s\u001b[0m eta \u001b[36m0:00:08\u001b[0m"
                },
                {
                    "output_type": "stream",
                    "name": "stdout",
                    "text": "\r\u001b[2K   \u001b[91m━━━━━\u001b[0m\u001b[90m╺\u001b[0m\u001b[90m━━━━━━━━━━━━━━━━━━━━━━━━━━━━━━━━━━\u001b[0m \u001b[32m0.4/2.8 MB\u001b[0m \u001b[31m345.5 kB/s\u001b[0m eta \u001b[36m0:00:08\u001b[0m\r\u001b[2K   \u001b[91m━━━━━\u001b[0m\u001b[90m╺\u001b[0m\u001b[90m━━━━━━━━━━━━━━━━━━━━━━━━━━━━━━━━━━\u001b[0m \u001b[32m0.4/2.8 MB\u001b[0m \u001b[31m345.5 kB/s\u001b[0m eta \u001b[36m0:00:08\u001b[0m"
                },
                {
                    "output_type": "stream",
                    "name": "stdout",
                    "text": "\r\u001b[2K   \u001b[91m━━━━━\u001b[0m\u001b[90m╺\u001b[0m\u001b[90m━━━━━━━━━━━━━━━━━━━━━━━━━━━━━━━━━━\u001b[0m \u001b[32m0.4/2.8 MB\u001b[0m \u001b[31m345.5 kB/s\u001b[0m eta \u001b[36m0:00:08\u001b[0m"
                },
                {
                    "output_type": "stream",
                    "name": "stdout",
                    "text": "\r\u001b[2K   \u001b[91m━━━━━\u001b[0m\u001b[91m╸\u001b[0m\u001b[90m━━━━━━━━━━━━━━━━━━━━━━━━━━━━━━━━━━\u001b[0m \u001b[32m0.4/2.8 MB\u001b[0m \u001b[31m346.0 kB/s\u001b[0m eta \u001b[36m0:00:07\u001b[0m\r\u001b[2K   \u001b[91m━━━━━━\u001b[0m\u001b[90m╺\u001b[0m\u001b[90m━━━━━━━━━━━━━━━━━━━━━━━━━━━━━━━━━\u001b[0m \u001b[32m0.4/2.8 MB\u001b[0m \u001b[31m343.9 kB/s\u001b[0m eta \u001b[36m0:00:07\u001b[0m"
                },
                {
                    "output_type": "stream",
                    "name": "stdout",
                    "text": "\r\u001b[2K   \u001b[91m━━━━━━\u001b[0m\u001b[90m╺\u001b[0m\u001b[90m━━━━━━━━━━━━━━━━━━━━━━━━━━━━━━━━━\u001b[0m \u001b[32m0.4/2.8 MB\u001b[0m \u001b[31m352.1 kB/s\u001b[0m eta \u001b[36m0:00:07\u001b[0m"
                },
                {
                    "output_type": "stream",
                    "name": "stdout",
                    "text": "\r\u001b[2K   \u001b[91m━━━━━━━\u001b[0m\u001b[90m╺\u001b[0m\u001b[90m━━━━━━━━━━━━━━━━━━━━━━━━━━━━━━━━\u001b[0m \u001b[32m0.5/2.8 MB\u001b[0m \u001b[31m378.4 kB/s\u001b[0m eta \u001b[36m0:00:07\u001b[0m"
                },
                {
                    "output_type": "stream",
                    "name": "stdout",
                    "text": "\r\u001b[2K   \u001b[91m━━━━━━━\u001b[0m\u001b[90m╺\u001b[0m\u001b[90m━━━━━━━━━━━━━━━━━━━━━━━━━━━━━━━━\u001b[0m \u001b[32m0.5/2.8 MB\u001b[0m \u001b[31m382.6 kB/s\u001b[0m eta \u001b[36m0:00:06\u001b[0m\r\u001b[2K   \u001b[91m━━━━━━━\u001b[0m\u001b[91m╸\u001b[0m\u001b[90m━━━━━━━━━━━━━━━━━━━━━━━━━━━━━━━━\u001b[0m \u001b[32m0.6/2.8 MB\u001b[0m \u001b[31m400.2 kB/s\u001b[0m eta \u001b[36m0:00:06\u001b[0m"
                },
                {
                    "output_type": "stream",
                    "name": "stdout",
                    "text": "\r\u001b[2K   \u001b[91m━━━━━━━━\u001b[0m\u001b[90m╺\u001b[0m\u001b[90m━━━━━━━━━━━━━━━━━━━━━━━━━━━━━━━\u001b[0m \u001b[32m0.6/2.8 MB\u001b[0m \u001b[31m415.7 kB/s\u001b[0m eta \u001b[36m0:00:06\u001b[0m"
                },
                {
                    "output_type": "stream",
                    "name": "stdout",
                    "text": "\r\u001b[2K   \u001b[91m━━━━━━━━\u001b[0m\u001b[91m╸\u001b[0m\u001b[90m━━━━━━━━━━━━━━━━━━━━━━━━━━━━━━━\u001b[0m \u001b[32m0.6/2.8 MB\u001b[0m \u001b[31m429.8 kB/s\u001b[0m eta \u001b[36m0:00:06\u001b[0m"
                },
                {
                    "output_type": "stream",
                    "name": "stdout",
                    "text": "\r\u001b[2K   \u001b[91m━━━━━━━━━\u001b[0m\u001b[91m╸\u001b[0m\u001b[90m━━━━━━━━━━━━━━━━━━━━━━━━━━━━━━\u001b[0m \u001b[32m0.7/2.8 MB\u001b[0m \u001b[31m454.5 kB/s\u001b[0m eta \u001b[36m0:00:05\u001b[0m\r\u001b[2K   \u001b[91m━━━━━━━━━━\u001b[0m\u001b[90m╺\u001b[0m\u001b[90m━━━━━━━━━━━━━━━━━━━━━━━━━━━━━\u001b[0m \u001b[32m0.7/2.8 MB\u001b[0m \u001b[31m478.1 kB/s\u001b[0m eta \u001b[36m0:00:05\u001b[0m"
                },
                {
                    "output_type": "stream",
                    "name": "stdout",
                    "text": "\r\u001b[2K   \u001b[91m━━━━━━━━━━\u001b[0m\u001b[90m╺\u001b[0m\u001b[90m━━━━━━━━━━━━━━━━━━━━━━━━━━━━━\u001b[0m \u001b[32m0.7/2.8 MB\u001b[0m \u001b[31m478.1 kB/s\u001b[0m eta \u001b[36m0:00:05\u001b[0m"
                },
                {
                    "output_type": "stream",
                    "name": "stdout",
                    "text": "\r\u001b[2K   \u001b[91m━━━━━━━━━━━\u001b[0m\u001b[90m╺\u001b[0m\u001b[90m━━━━━━━━━━━━━━━━━━━━━━━━━━━━\u001b[0m \u001b[32m0.8/2.8 MB\u001b[0m \u001b[31m497.3 kB/s\u001b[0m eta \u001b[36m0:00:05\u001b[0m\r\u001b[2K   \u001b[91m━━━━━━━━━━━━\u001b[0m\u001b[90m╺\u001b[0m\u001b[90m━━━━━━━━━━━━━━━━━━━━━━━━━━━\u001b[0m \u001b[32m0.8/2.8 MB\u001b[0m \u001b[31m517.9 kB/s\u001b[0m eta \u001b[36m0:00:04\u001b[0m"
                },
                {
                    "output_type": "stream",
                    "name": "stdout",
                    "text": "\r\u001b[2K   \u001b[91m━━━━━━━━━━━━\u001b[0m\u001b[91m╸\u001b[0m\u001b[90m━━━━━━━━━━━━━━━━━━━━━━━━━━━\u001b[0m \u001b[32m0.9/2.8 MB\u001b[0m \u001b[31m526.5 kB/s\u001b[0m eta \u001b[36m0:00:04\u001b[0m"
                },
                {
                    "output_type": "stream",
                    "name": "stdout",
                    "text": "\r\u001b[2K   \u001b[91m━━━━━━━━━━━━━\u001b[0m\u001b[90m╺\u001b[0m\u001b[90m━━━━━━━━━━━━━━━━━━━━━━━━━━\u001b[0m \u001b[32m0.9/2.8 MB\u001b[0m \u001b[31m543.4 kB/s\u001b[0m eta \u001b[36m0:00:04\u001b[0m"
                },
                {
                    "output_type": "stream",
                    "name": "stdout",
                    "text": "\r\u001b[2K   \u001b[91m━━━━━━━━━━━━━\u001b[0m\u001b[91m╸\u001b[0m\u001b[90m━━━━━━━━━━━━━━━━━━━━━━━━━━\u001b[0m \u001b[32m1.0/2.8 MB\u001b[0m \u001b[31m552.3 kB/s\u001b[0m eta \u001b[36m0:00:04\u001b[0m\r\u001b[2K   \u001b[91m━━━━━━━━━━━━━━\u001b[0m\u001b[91m╸\u001b[0m\u001b[90m━━━━━━━━━━━━━━━━━━━━━━━━━\u001b[0m \u001b[32m1.0/2.8 MB\u001b[0m \u001b[31m567.2 kB/s\u001b[0m eta \u001b[36m0:00:04\u001b[0m"
                },
                {
                    "output_type": "stream",
                    "name": "stdout",
                    "text": "\r\u001b[2K   \u001b[91m━━━━━━━━━━━━━━━\u001b[0m\u001b[90m╺\u001b[0m\u001b[90m━━━━━━━━━━━━━━━━━━━━━━━━\u001b[0m \u001b[32m1.1/2.8 MB\u001b[0m \u001b[31m581.7 kB/s\u001b[0m eta \u001b[36m0:00:03\u001b[0m"
                },
                {
                    "output_type": "stream",
                    "name": "stdout",
                    "text": "\r\u001b[2K   \u001b[91m━━━━━━━━━━━━━━━\u001b[0m\u001b[91m╸\u001b[0m\u001b[90m━━━━━━━━━━━━━━━━━━━━━━━━\u001b[0m \u001b[32m1.1/2.8 MB\u001b[0m \u001b[31m588.7 kB/s\u001b[0m eta \u001b[36m0:00:03\u001b[0m"
                },
                {
                    "output_type": "stream",
                    "name": "stdout",
                    "text": "\r\u001b[2K   \u001b[91m━━━━━━━━━━━━━━━\u001b[0m\u001b[91m╸\u001b[0m\u001b[90m━━━━━━━━━━━━━━━━━━━━━━━━\u001b[0m \u001b[32m1.1/2.8 MB\u001b[0m \u001b[31m588.7 kB/s\u001b[0m eta \u001b[36m0:00:03\u001b[0m\r\u001b[2K   \u001b[91m━━━━━━━━━━━━━━━\u001b[0m\u001b[91m╸\u001b[0m\u001b[90m━━━━━━━━━━━━━━━━━━━━━━━━\u001b[0m \u001b[32m1.1/2.8 MB\u001b[0m \u001b[31m588.7 kB/s\u001b[0m eta \u001b[36m0:00:03\u001b[0m"
                },
                {
                    "output_type": "stream",
                    "name": "stdout",
                    "text": "\r\u001b[2K   \u001b[91m━━━━━━━━━━━━━━━━\u001b[0m\u001b[90m╺\u001b[0m\u001b[90m━━━━━━━━━━━━━━━━━━━━━━━\u001b[0m \u001b[32m1.1/2.8 MB\u001b[0m \u001b[31m577.1 kB/s\u001b[0m eta \u001b[36m0:00:03\u001b[0m"
                },
                {
                    "output_type": "stream",
                    "name": "stdout",
                    "text": "\r\u001b[2K   \u001b[91m━━━━━━━━━━━━━━━━\u001b[0m\u001b[91m╸\u001b[0m\u001b[90m━━━━━━━━━━━━━━━━━━━━━━━\u001b[0m \u001b[32m1.2/2.8 MB\u001b[0m \u001b[31m580.2 kB/s\u001b[0m eta \u001b[36m0:00:03\u001b[0m\r\u001b[2K   \u001b[91m━━━━━━━━━━━━━━━━━\u001b[0m\u001b[90m╺\u001b[0m\u001b[90m━━━━━━━━━━━━━━━━━━━━━━\u001b[0m \u001b[32m1.2/2.8 MB\u001b[0m \u001b[31m584.6 kB/s\u001b[0m eta \u001b[36m0:00:03\u001b[0m"
                },
                {
                    "output_type": "stream",
                    "name": "stdout",
                    "text": "\r\u001b[2K   \u001b[91m━━━━━━━━━━━━━━━━━\u001b[0m\u001b[90m╺\u001b[0m\u001b[90m━━━━━━━━━━━━━━━━━━━━━━\u001b[0m \u001b[32m1.2/2.8 MB\u001b[0m \u001b[31m584.6 kB/s\u001b[0m eta \u001b[36m0:00:03\u001b[0m"
                },
                {
                    "output_type": "stream",
                    "name": "stdout",
                    "text": "\r\u001b[2K   \u001b[91m━━━━━━━━━━━━━━━━━\u001b[0m\u001b[90m╺\u001b[0m\u001b[90m━━━━━━━━━━━━━━━━━━━━━━\u001b[0m \u001b[32m1.2/2.8 MB\u001b[0m \u001b[31m584.6 kB/s\u001b[0m eta \u001b[36m0:00:03\u001b[0m"
                },
                {
                    "output_type": "stream",
                    "name": "stdout",
                    "text": "\r\u001b[2K   \u001b[91m━━━━━━━━━━━━━━━━━\u001b[0m\u001b[90m╺\u001b[0m\u001b[90m━━━━━━━━━━━━━━━━━━━━━━\u001b[0m \u001b[32m1.2/2.8 MB\u001b[0m \u001b[31m584.6 kB/s\u001b[0m eta \u001b[36m0:00:03\u001b[0m\r\u001b[2K   \u001b[91m━━━━━━━━━━━━━━━━━\u001b[0m\u001b[90m╺\u001b[0m\u001b[90m━━━━━━━━━━━━━━━━━━━━━━\u001b[0m \u001b[32m1.2/2.8 MB\u001b[0m \u001b[31m584.6 kB/s\u001b[0m eta \u001b[36m0:00:03\u001b[0m"
                },
                {
                    "output_type": "stream",
                    "name": "stdout",
                    "text": "\r\u001b[2K   \u001b[91m━━━━━━━━━━━━━━━━━\u001b[0m\u001b[90m╺\u001b[0m\u001b[90m━━━━━━━━━━━━━━━━━━━━━━\u001b[0m \u001b[32m1.2/2.8 MB\u001b[0m \u001b[31m584.6 kB/s\u001b[0m eta \u001b[36m0:00:03\u001b[0m"
                },
                {
                    "output_type": "stream",
                    "name": "stdout",
                    "text": "\r\u001b[2K   \u001b[91m━━━━━━━━━━━━━━━━━\u001b[0m\u001b[91m╸\u001b[0m\u001b[90m━━━━━━━━━━━━━━━━━━━━━━\u001b[0m \u001b[32m1.2/2.8 MB\u001b[0m \u001b[31m537.6 kB/s\u001b[0m eta \u001b[36m0:00:03\u001b[0m\r\u001b[2K   \u001b[91m━━━━━━━━━━━━━━━━━\u001b[0m\u001b[91m╸\u001b[0m\u001b[90m━━━━━━━━━━━━━━━━━━━━━━\u001b[0m \u001b[32m1.2/2.8 MB\u001b[0m \u001b[31m537.6 kB/s\u001b[0m eta \u001b[36m0:00:03\u001b[0m"
                },
                {
                    "output_type": "stream",
                    "name": "stdout",
                    "text": "\r\u001b[2K   \u001b[91m━━━━━━━━━━━━━━━━━\u001b[0m\u001b[91m╸\u001b[0m\u001b[90m━━━━━━━━━━━━━━━━━━━━━━\u001b[0m \u001b[32m1.2/2.8 MB\u001b[0m \u001b[31m537.6 kB/s\u001b[0m eta \u001b[36m0:00:03\u001b[0m"
                },
                {
                    "output_type": "stream",
                    "name": "stdout",
                    "text": "\r\u001b[2K   \u001b[91m━━━━━━━━━━━━━━━━━\u001b[0m\u001b[91m╸\u001b[0m\u001b[90m━━━━━━━━━━━━━━━━━━━━━━\u001b[0m \u001b[32m1.2/2.8 MB\u001b[0m \u001b[31m537.6 kB/s\u001b[0m eta \u001b[36m0:00:03\u001b[0m\r\u001b[2K   \u001b[91m━━━━━━━━━━━━━━━━━\u001b[0m\u001b[91m╸\u001b[0m\u001b[90m━━━━━━━━━━━━━━━━━━━━━━\u001b[0m \u001b[32m1.2/2.8 MB\u001b[0m \u001b[31m537.6 kB/s\u001b[0m eta \u001b[36m0:00:03\u001b[0m"
                },
                {
                    "output_type": "stream",
                    "name": "stdout",
                    "text": "\r\u001b[2K   \u001b[91m━━━━━━━━━━━━━━━━━\u001b[0m\u001b[91m╸\u001b[0m\u001b[90m━━━━━━━━━━━━━━━━━━━━━━\u001b[0m \u001b[32m1.2/2.8 MB\u001b[0m \u001b[31m537.6 kB/s\u001b[0m eta \u001b[36m0:00:03\u001b[0m"
                },
                {
                    "output_type": "stream",
                    "name": "stdout",
                    "text": "\r\u001b[2K   \u001b[91m━━━━━━━━━━━━━━━━━\u001b[0m\u001b[91m╸\u001b[0m\u001b[90m━━━━━━━━━━━━━━━━━━━━━━\u001b[0m \u001b[32m1.2/2.8 MB\u001b[0m \u001b[31m537.6 kB/s\u001b[0m eta \u001b[36m0:00:03\u001b[0m"
                },
                {
                    "output_type": "stream",
                    "name": "stdout",
                    "text": "\r\u001b[2K   \u001b[91m━━━━━━━━━━━━━━━━━\u001b[0m\u001b[91m╸\u001b[0m\u001b[90m━━━━━━━━━━━━━━━━━━━━━━\u001b[0m \u001b[32m1.2/2.8 MB\u001b[0m \u001b[31m537.6 kB/s\u001b[0m eta \u001b[36m0:00:03\u001b[0m\r\u001b[2K   \u001b[91m━━━━━━━━━━━━━━━━━\u001b[0m\u001b[91m╸\u001b[0m\u001b[90m━━━━━━━━━━━━━━━━━━━━━━\u001b[0m \u001b[32m1.2/2.8 MB\u001b[0m \u001b[31m537.6 kB/s\u001b[0m eta \u001b[36m0:00:03\u001b[0m"
                },
                {
                    "output_type": "stream",
                    "name": "stdout",
                    "text": "\r\u001b[2K   \u001b[91m━━━━━━━━━━━━━━━━━\u001b[0m\u001b[91m╸\u001b[0m\u001b[90m━━━━━━━━━━━━━━━━━━━━━━\u001b[0m \u001b[32m1.2/2.8 MB\u001b[0m \u001b[31m537.6 kB/s\u001b[0m eta \u001b[36m0:00:03\u001b[0m"
                },
                {
                    "output_type": "stream",
                    "name": "stdout",
                    "text": "\r\u001b[2K   \u001b[91m━━━━━━━━━━━━━━━━━\u001b[0m\u001b[91m╸\u001b[0m\u001b[90m━━━━━━━━━━━━━━━━━━━━━━\u001b[0m \u001b[32m1.2/2.8 MB\u001b[0m \u001b[31m537.6 kB/s\u001b[0m eta \u001b[36m0:00:03\u001b[0m"
                },
                {
                    "output_type": "stream",
                    "name": "stdout",
                    "text": "\r\u001b[2K   \u001b[91m━━━━━━━━━━━━━━━━━\u001b[0m\u001b[91m╸\u001b[0m\u001b[90m━━━━━━━━━━━━━━━━━━━━━━\u001b[0m \u001b[32m1.2/2.8 MB\u001b[0m \u001b[31m537.6 kB/s\u001b[0m eta \u001b[36m0:00:03\u001b[0m\r\u001b[2K   \u001b[91m━━━━━━━━━━━━━━━━━\u001b[0m\u001b[91m╸\u001b[0m\u001b[90m━━━━━━━━━━━━━━━━━━━━━━\u001b[0m \u001b[32m1.2/2.8 MB\u001b[0m \u001b[31m537.6 kB/s\u001b[0m eta \u001b[36m0:00:03\u001b[0m"
                },
                {
                    "output_type": "stream",
                    "name": "stdout",
                    "text": "\r\u001b[2K   \u001b[91m━━━━━━━━━━━━━━━━━\u001b[0m\u001b[91m╸\u001b[0m\u001b[90m━━━━━━━━━━━━━━━━━━━━━━\u001b[0m \u001b[32m1.2/2.8 MB\u001b[0m \u001b[31m537.6 kB/s\u001b[0m eta \u001b[36m0:00:03\u001b[0m"
                },
                {
                    "output_type": "stream",
                    "name": "stdout",
                    "text": "\r\u001b[2K   \u001b[91m━━━━━━━━━━━━━━━━━\u001b[0m\u001b[91m╸\u001b[0m\u001b[90m━━━━━━━━━━━━━━━━━━━━━━\u001b[0m \u001b[32m1.2/2.8 MB\u001b[0m \u001b[31m537.6 kB/s\u001b[0m eta \u001b[36m0:00:03\u001b[0m\r\u001b[2K   \u001b[91m━━━━━━━━━━━━━━━━━\u001b[0m\u001b[91m╸\u001b[0m\u001b[90m━━━━━━━━━━━━━━━━━━━━━━\u001b[0m \u001b[32m1.2/2.8 MB\u001b[0m \u001b[31m537.6 kB/s\u001b[0m eta \u001b[36m0:00:03\u001b[0m"
                },
                {
                    "output_type": "stream",
                    "name": "stdout",
                    "text": "\r\u001b[2K   \u001b[91m━━━━━━━━━━━━━━━━━\u001b[0m\u001b[91m╸\u001b[0m\u001b[90m━━━━━━━━━━━━━━━━━━━━━━\u001b[0m \u001b[32m1.2/2.8 MB\u001b[0m \u001b[31m537.6 kB/s\u001b[0m eta \u001b[36m0:00:03\u001b[0m"
                },
                {
                    "output_type": "stream",
                    "name": "stdout",
                    "text": "\r\u001b[2K   \u001b[91m━━━━━━━━━━━━━━━━━\u001b[0m\u001b[91m╸\u001b[0m\u001b[90m━━━━━━━━━━━━━━━━━━━━━━\u001b[0m \u001b[32m1.2/2.8 MB\u001b[0m \u001b[31m537.6 kB/s\u001b[0m eta \u001b[36m0:00:03\u001b[0m"
                },
                {
                    "output_type": "stream",
                    "name": "stdout",
                    "text": "\r\u001b[2K   \u001b[91m━━━━━━━━━━━━━━━━━\u001b[0m\u001b[91m╸\u001b[0m\u001b[90m━━━━━━━━━━━━━━━━━━━━━━\u001b[0m \u001b[32m1.2/2.8 MB\u001b[0m \u001b[31m537.6 kB/s\u001b[0m eta \u001b[36m0:00:03\u001b[0m\r\u001b[2K   \u001b[91m━━━━━━━━━━━━━━━━━\u001b[0m\u001b[91m╸\u001b[0m\u001b[90m━━━━━━━━━━━━━━━━━━━━━━\u001b[0m \u001b[32m1.2/2.8 MB\u001b[0m \u001b[31m413.3 kB/s\u001b[0m eta \u001b[36m0:00:04\u001b[0m"
                },
                {
                    "output_type": "stream",
                    "name": "stdout",
                    "text": "\r\u001b[2K   \u001b[91m━━━━━━━━━━━━━━━━━━\u001b[0m\u001b[90m╺\u001b[0m\u001b[90m━━━━━━━━━━━━━━━━━━━━━\u001b[0m \u001b[32m1.3/2.8 MB\u001b[0m \u001b[31m411.3 kB/s\u001b[0m eta \u001b[36m0:00:04\u001b[0m"
                },
                {
                    "output_type": "stream",
                    "name": "stdout",
                    "text": "\r\u001b[2K   \u001b[91m━━━━━━━━━━━━━━━━━━\u001b[0m\u001b[90m╺\u001b[0m\u001b[90m━━━━━━━━━━━━━━━━━━━━━\u001b[0m \u001b[32m1.3/2.8 MB\u001b[0m \u001b[31m411.3 kB/s\u001b[0m eta \u001b[36m0:00:04\u001b[0m\r\u001b[2K   \u001b[91m━━━━━━━━━━━━━━━━━━\u001b[0m\u001b[90m╺\u001b[0m\u001b[90m━━━━━━━━━━━━━━━━━━━━━\u001b[0m \u001b[32m1.3/2.8 MB\u001b[0m \u001b[31m411.3 kB/s\u001b[0m eta \u001b[36m0:00:04\u001b[0m"
                },
                {
                    "output_type": "stream",
                    "name": "stdout",
                    "text": "\r\u001b[2K   \u001b[91m━━━━━━━━━━━━━━━━━━\u001b[0m\u001b[90m╺\u001b[0m\u001b[90m━━━━━━━━━━━━━━━━━━━━━\u001b[0m \u001b[32m1.3/2.8 MB\u001b[0m \u001b[31m411.3 kB/s\u001b[0m eta \u001b[36m0:00:04\u001b[0m"
                },
                {
                    "output_type": "stream",
                    "name": "stdout",
                    "text": "\r\u001b[2K   \u001b[91m━━━━━━━━━━━━━━━━━━\u001b[0m\u001b[90m╺\u001b[0m\u001b[90m━━━━━━━━━━━━━━━━━━━━━\u001b[0m \u001b[32m1.3/2.8 MB\u001b[0m \u001b[31m411.3 kB/s\u001b[0m eta \u001b[36m0:00:04\u001b[0m"
                },
                {
                    "output_type": "stream",
                    "name": "stdout",
                    "text": "\r\u001b[2K   \u001b[91m━━━━━━━━━━━━━━━━━━\u001b[0m\u001b[90m╺\u001b[0m\u001b[90m━━━━━━━━━━━━━━━━━━━━━\u001b[0m \u001b[32m1.3/2.8 MB\u001b[0m \u001b[31m411.3 kB/s\u001b[0m eta \u001b[36m0:00:04\u001b[0m\r\u001b[2K   \u001b[91m━━━━━━━━━━━━━━━━━━\u001b[0m\u001b[90m╺\u001b[0m\u001b[90m━━━━━━━━━━━━━━━━━━━━━\u001b[0m \u001b[32m1.3/2.8 MB\u001b[0m \u001b[31m411.3 kB/s\u001b[0m eta \u001b[36m0:00:04\u001b[0m"
                },
                {
                    "output_type": "stream",
                    "name": "stdout",
                    "text": "\r\u001b[2K   \u001b[91m━━━━━━━━━━━━━━━━━━\u001b[0m\u001b[90m╺\u001b[0m\u001b[90m━━━━━━━━━━━━━━━━━━━━━\u001b[0m \u001b[32m1.3/2.8 MB\u001b[0m \u001b[31m411.3 kB/s\u001b[0m eta \u001b[36m0:00:04\u001b[0m"
                },
                {
                    "output_type": "stream",
                    "name": "stdout",
                    "text": "\r\u001b[2K   \u001b[91m━━━━━━━━━━━━━━━━━━\u001b[0m\u001b[90m╺\u001b[0m\u001b[90m━━━━━━━━━━━━━━━━━━━━━\u001b[0m \u001b[32m1.3/2.8 MB\u001b[0m \u001b[31m411.3 kB/s\u001b[0m eta \u001b[36m0:00:04\u001b[0m\r\u001b[2K   \u001b[91m━━━━━━━━━━━━━━━━━━\u001b[0m\u001b[90m╺\u001b[0m\u001b[90m━━━━━━━━━━━━━━━━━━━━━\u001b[0m \u001b[32m1.3/2.8 MB\u001b[0m \u001b[31m411.3 kB/s\u001b[0m eta \u001b[36m0:00:04\u001b[0m"
                },
                {
                    "output_type": "stream",
                    "name": "stdout",
                    "text": "\r\u001b[2K   \u001b[91m━━━━━━━━━━━━━━━━━━\u001b[0m\u001b[91m╸\u001b[0m\u001b[90m━━━━━━━━━━━━━━━━━━━━━\u001b[0m \u001b[32m1.3/2.8 MB\u001b[0m \u001b[31m374.0 kB/s\u001b[0m eta \u001b[36m0:00:04\u001b[0m"
                },
                {
                    "output_type": "stream",
                    "name": "stdout",
                    "text": "\r\u001b[2K   \u001b[91m━━━━━━━━━━━━━━━━━━\u001b[0m\u001b[91m╸\u001b[0m\u001b[90m━━━━━━━━━━━━━━━━━━━━━\u001b[0m \u001b[32m1.3/2.8 MB\u001b[0m \u001b[31m374.0 kB/s\u001b[0m eta \u001b[36m0:00:04\u001b[0m"
                },
                {
                    "output_type": "stream",
                    "name": "stdout",
                    "text": "\r\u001b[2K   \u001b[91m━━━━━━━━━━━━━━━━━━\u001b[0m\u001b[91m╸\u001b[0m\u001b[90m━━━━━━━━━━━━━━━━━━━━━\u001b[0m \u001b[32m1.3/2.8 MB\u001b[0m \u001b[31m372.8 kB/s\u001b[0m eta \u001b[36m0:00:04\u001b[0m\r\u001b[2K   \u001b[91m━━━━━━━━━━━━━━━━━━\u001b[0m\u001b[91m╸\u001b[0m\u001b[90m━━━━━━━━━━━━━━━━━━━━━\u001b[0m \u001b[32m1.3/2.8 MB\u001b[0m \u001b[31m372.8 kB/s\u001b[0m eta \u001b[36m0:00:04\u001b[0m"
                },
                {
                    "output_type": "stream",
                    "name": "stdout",
                    "text": "\r\u001b[2K   \u001b[91m━━━━━━━━━━━━━━━━━━━\u001b[0m\u001b[90m╺\u001b[0m\u001b[90m━━━━━━━━━━━━━━━━━━━━\u001b[0m \u001b[32m1.3/2.8 MB\u001b[0m \u001b[31m372.6 kB/s\u001b[0m eta \u001b[36m0:00:04\u001b[0m"
                },
                {
                    "output_type": "stream",
                    "name": "stdout",
                    "text": "\r\u001b[2K   \u001b[91m━━━━━━━━━━━━━━━━━━━\u001b[0m\u001b[91m╸\u001b[0m\u001b[90m━━━━━━━━━━━━━━━━━━━━\u001b[0m \u001b[32m1.4/2.8 MB\u001b[0m \u001b[31m374.0 kB/s\u001b[0m eta \u001b[36m0:00:04\u001b[0m\r\u001b[2K   \u001b[91m━━━━━━━━━━━━━━━━━━━\u001b[0m\u001b[91m╸\u001b[0m\u001b[90m━━━━━━━━━━━━━━━━━━━━\u001b[0m \u001b[32m1.4/2.8 MB\u001b[0m \u001b[31m374.8 kB/s\u001b[0m eta \u001b[36m0:00:04\u001b[0m"
                },
                {
                    "output_type": "stream",
                    "name": "stdout",
                    "text": "\r\u001b[2K   \u001b[91m━━━━━━━━━━━━━━━━━━━━\u001b[0m\u001b[90m╺\u001b[0m\u001b[90m━━━━━━━━━━━━━━━━━━━\u001b[0m \u001b[32m1.4/2.8 MB\u001b[0m \u001b[31m381.3 kB/s\u001b[0m eta \u001b[36m0:00:04\u001b[0m"
                },
                {
                    "output_type": "stream",
                    "name": "stdout",
                    "text": "\r\u001b[2K   \u001b[91m━━━━━━━━━━━━━━━━━━━━\u001b[0m\u001b[91m╸\u001b[0m\u001b[90m━━━━━━━━━━━━━━━━━━━\u001b[0m \u001b[32m1.5/2.8 MB\u001b[0m \u001b[31m388.3 kB/s\u001b[0m eta \u001b[36m0:00:04\u001b[0m\r\u001b[2K   \u001b[91m━━━━━━━━━━━━━━━━━━━━━\u001b[0m\u001b[90m╺\u001b[0m\u001b[90m━━━━━━━━━━━━━━━━━━\u001b[0m \u001b[32m1.5/2.8 MB\u001b[0m \u001b[31m395.9 kB/s\u001b[0m eta \u001b[36m0:00:04\u001b[0m"
                },
                {
                    "output_type": "stream",
                    "name": "stdout",
                    "text": "\r\u001b[2K   \u001b[91m━━━━━━━━━━━━━━━━━━━━━━\u001b[0m\u001b[90m╺\u001b[0m\u001b[90m━━━━━━━━━━━━━━━━━\u001b[0m \u001b[32m1.5/2.8 MB\u001b[0m \u001b[31m402.1 kB/s\u001b[0m eta \u001b[36m0:00:04\u001b[0m"
                },
                {
                    "output_type": "stream",
                    "name": "stdout",
                    "text": "\r\u001b[2K   \u001b[91m━━━━━━━━━━━━━━━━━━━━━━\u001b[0m\u001b[91m╸\u001b[0m\u001b[90m━━━━━━━━━━━━━━━━━\u001b[0m \u001b[32m1.6/2.8 MB\u001b[0m \u001b[31m408.4 kB/s\u001b[0m eta \u001b[36m0:00:03\u001b[0m"
                },
                {
                    "output_type": "stream",
                    "name": "stdout",
                    "text": "\r\u001b[2K   \u001b[91m━━━━━━━━━━━━━━━━━━━━━━━\u001b[0m\u001b[90m╺\u001b[0m\u001b[90m━━━━━━━━━━━━━━━━\u001b[0m \u001b[32m1.6/2.8 MB\u001b[0m \u001b[31m415.9 kB/s\u001b[0m eta \u001b[36m0:00:03\u001b[0m\r\u001b[2K   \u001b[91m━━━━━━━━━━━━━━━━━━━━━━━\u001b[0m\u001b[91m╸\u001b[0m\u001b[90m━━━━━━━━━━━━━━━━\u001b[0m \u001b[32m1.7/2.8 MB\u001b[0m \u001b[31m421.6 kB/s\u001b[0m eta \u001b[36m0:00:03\u001b[0m"
                },
                {
                    "output_type": "stream",
                    "name": "stdout",
                    "text": "\r\u001b[2K   \u001b[91m━━━━━━━━━━━━━━━━━━━━━━━━\u001b[0m\u001b[90m╺\u001b[0m\u001b[90m━━━━━━━━━━━━━━━\u001b[0m \u001b[32m1.7/2.8 MB\u001b[0m \u001b[31m426.1 kB/s\u001b[0m eta \u001b[36m0:00:03\u001b[0m"
                },
                {
                    "output_type": "stream",
                    "name": "stdout",
                    "text": "\r\u001b[2K   \u001b[91m━━━━━━━━━━━━━━━━━━━━━━━━\u001b[0m\u001b[90m╺\u001b[0m\u001b[90m━━━━━━━━━━━━━━━\u001b[0m \u001b[32m1.7/2.8 MB\u001b[0m \u001b[31m426.1 kB/s\u001b[0m eta \u001b[36m0:00:03\u001b[0m\r\u001b[2K   \u001b[91m━━━━━━━━━━━━━━━━━━━━━━━━\u001b[0m\u001b[90m╺\u001b[0m\u001b[90m━━━━━━━━━━━━━━━\u001b[0m \u001b[32m1.7/2.8 MB\u001b[0m \u001b[31m426.1 kB/s\u001b[0m eta \u001b[36m0:00:03\u001b[0m"
                },
                {
                    "output_type": "stream",
                    "name": "stdout",
                    "text": "\r\u001b[2K   \u001b[91m━━━━━━━━━━━━━━━━━━━━━━━━━\u001b[0m\u001b[90m╺\u001b[0m\u001b[90m━━━━━━━━━━━━━━\u001b[0m \u001b[32m1.7/2.8 MB\u001b[0m \u001b[31m426.7 kB/s\u001b[0m eta \u001b[36m0:00:03\u001b[0m"
                },
                {
                    "output_type": "stream",
                    "name": "stdout",
                    "text": "\r\u001b[2K   \u001b[91m━━━━━━━━━━━━━━━━━━━━━━━━━\u001b[0m\u001b[90m╺\u001b[0m\u001b[90m━━━━━━━━━━━━━━\u001b[0m \u001b[32m1.7/2.8 MB\u001b[0m \u001b[31m426.7 kB/s\u001b[0m eta \u001b[36m0:00:03\u001b[0m"
                },
                {
                    "output_type": "stream",
                    "name": "stdout",
                    "text": "\r\u001b[2K   \u001b[91m━━━━━━━━━━━━━━━━━━━━━━━━━\u001b[0m\u001b[90m╺\u001b[0m\u001b[90m━━━━━━━━━━━━━━\u001b[0m \u001b[32m1.7/2.8 MB\u001b[0m \u001b[31m426.7 kB/s\u001b[0m eta \u001b[36m0:00:03\u001b[0m\r\u001b[2K   \u001b[91m━━━━━━━━━━━━━━━━━━━━━━━━━\u001b[0m\u001b[90m╺\u001b[0m\u001b[90m━━━━━━━━━━━━━━\u001b[0m \u001b[32m1.7/2.8 MB\u001b[0m \u001b[31m426.7 kB/s\u001b[0m eta \u001b[36m0:00:03\u001b[0m"
                },
                {
                    "output_type": "stream",
                    "name": "stdout",
                    "text": "\r\u001b[2K   \u001b[91m━━━━━━━━━━━━━━━━━━━━━━━━━\u001b[0m\u001b[90m╺\u001b[0m\u001b[90m━━━━━━━━━━━━━━\u001b[0m \u001b[32m1.7/2.8 MB\u001b[0m \u001b[31m426.7 kB/s\u001b[0m eta \u001b[36m0:00:03\u001b[0m"
                },
                {
                    "output_type": "stream",
                    "name": "stdout",
                    "text": "\r\u001b[2K   \u001b[91m━━━━━━━━━━━━━━━━━━━━━━━━━\u001b[0m\u001b[90m╺\u001b[0m\u001b[90m━━━━━━━━━━━━━━\u001b[0m \u001b[32m1.7/2.8 MB\u001b[0m \u001b[31m426.7 kB/s\u001b[0m eta \u001b[36m0:00:03\u001b[0m\r\u001b[2K   \u001b[91m━━━━━━━━━━━━━━━━━━━━━━━━━\u001b[0m\u001b[90m╺\u001b[0m\u001b[90m━━━━━━━━━━━━━━\u001b[0m \u001b[32m1.8/2.8 MB\u001b[0m \u001b[31m410.4 kB/s\u001b[0m eta \u001b[36m0:00:03\u001b[0m"
                },
                {
                    "output_type": "stream",
                    "name": "stdout",
                    "text": "\r\u001b[2K   \u001b[91m━━━━━━━━━━━━━━━━━━━━━━━━━━\u001b[0m\u001b[90m╺\u001b[0m\u001b[90m━━━━━━━━━━━━━\u001b[0m \u001b[32m1.8/2.8 MB\u001b[0m \u001b[31m419.6 kB/s\u001b[0m eta \u001b[36m0:00:03\u001b[0m"
                },
                {
                    "output_type": "stream",
                    "name": "stdout",
                    "text": "\r\u001b[2K   \u001b[91m━━━━━━━━━━━━━━━━━━━━━━━━━━\u001b[0m\u001b[91m╸\u001b[0m\u001b[90m━━━━━━━━━━━━━\u001b[0m \u001b[32m1.9/2.8 MB\u001b[0m \u001b[31m422.9 kB/s\u001b[0m eta \u001b[36m0:00:03\u001b[0m"
                },
                {
                    "output_type": "stream",
                    "name": "stdout",
                    "text": "\r\u001b[2K   \u001b[91m━━━━━━━━━━━━━━━━━━━━━━━━━━\u001b[0m\u001b[91m╸\u001b[0m\u001b[90m━━━━━━━━━━━━━\u001b[0m \u001b[32m1.9/2.8 MB\u001b[0m \u001b[31m425.7 kB/s\u001b[0m eta \u001b[36m0:00:03\u001b[0m\r\u001b[2K   \u001b[91m━━━━━━━━━━━━━━━━━━━━━━━━━━━\u001b[0m\u001b[91m╸\u001b[0m\u001b[90m━━━━━━━━━━━━\u001b[0m \u001b[32m1.9/2.8 MB\u001b[0m \u001b[31m427.7 kB/s\u001b[0m eta \u001b[36m0:00:03\u001b[0m"
                },
                {
                    "output_type": "stream",
                    "name": "stdout",
                    "text": "\r\u001b[2K   \u001b[91m━━━━━━━━━━━━━━━━━━━━━━━━━━━\u001b[0m\u001b[91m╸\u001b[0m\u001b[90m━━━━━━━━━━━━\u001b[0m \u001b[32m1.9/2.8 MB\u001b[0m \u001b[31m430.4 kB/s\u001b[0m eta \u001b[36m0:00:02\u001b[0m"
                },
                {
                    "output_type": "stream",
                    "name": "stdout",
                    "text": "\r\u001b[2K   \u001b[91m━━━━━━━━━━━━━━━━━━━━━━━━━━━━\u001b[0m\u001b[91m╸\u001b[0m\u001b[90m━━━━━━━━━━━\u001b[0m \u001b[32m2.0/2.8 MB\u001b[0m \u001b[31m437.6 kB/s\u001b[0m eta \u001b[36m0:00:02\u001b[0m"
                },
                {
                    "output_type": "stream",
                    "name": "stdout",
                    "text": "\r\u001b[2K   \u001b[91m━━━━━━━━━━━━━━━━━━━━━━━━━━━━━\u001b[0m\u001b[90m╺\u001b[0m\u001b[90m━━━━━━━━━━\u001b[0m \u001b[32m2.0/2.8 MB\u001b[0m \u001b[31m442.8 kB/s\u001b[0m eta \u001b[36m0:00:02\u001b[0m\r\u001b[2K   \u001b[91m━━━━━━━━━━━━━━━━━━━━━━━━━━━━━\u001b[0m\u001b[90m╺\u001b[0m\u001b[90m━━━━━━━━━━\u001b[0m \u001b[32m2.0/2.8 MB\u001b[0m \u001b[31m443.4 kB/s\u001b[0m eta \u001b[36m0:00:02\u001b[0m"
                },
                {
                    "output_type": "stream",
                    "name": "stdout",
                    "text": "\r\u001b[2K   \u001b[91m━━━━━━━━━━━━━━━━━━━━━━━━━━━━━━\u001b[0m\u001b[90m╺\u001b[0m\u001b[90m━━━━━━━━━\u001b[0m \u001b[32m2.1/2.8 MB\u001b[0m \u001b[31m448.0 kB/s\u001b[0m eta \u001b[36m0:00:02\u001b[0m"
                },
                {
                    "output_type": "stream",
                    "name": "stdout",
                    "text": "\r\u001b[2K   \u001b[91m━━━━━━━━━━━━━━━━━━━━━━━━━━━━━━\u001b[0m\u001b[90m╺\u001b[0m\u001b[90m━━━━━━━━━\u001b[0m \u001b[32m2.1/2.8 MB\u001b[0m \u001b[31m449.6 kB/s\u001b[0m eta \u001b[36m0:00:02\u001b[0m\r\u001b[2K   \u001b[91m━━━━━━━━━━━━━━━━━━━━━━━━━━━━━━\u001b[0m\u001b[91m╸\u001b[0m\u001b[90m━━━━━━━━━\u001b[0m \u001b[32m2.1/2.8 MB\u001b[0m \u001b[31m452.2 kB/s\u001b[0m eta \u001b[36m0:00:02\u001b[0m"
                },
                {
                    "output_type": "stream",
                    "name": "stdout",
                    "text": "\r\u001b[2K   \u001b[91m━━━━━━━━━━━━━━━━━━━━━━━━━━━━━━━\u001b[0m\u001b[90m╺\u001b[0m\u001b[90m━━━━━━━━\u001b[0m \u001b[32m2.2/2.8 MB\u001b[0m \u001b[31m455.6 kB/s\u001b[0m eta \u001b[36m0:00:02\u001b[0m"
                },
                {
                    "output_type": "stream",
                    "name": "stdout",
                    "text": "\r\u001b[2K   \u001b[91m━━━━━━━━━━━━━━━━━━━━━━━━━━━━━━━\u001b[0m\u001b[90m╺\u001b[0m\u001b[90m━━━━━━━━\u001b[0m \u001b[32m2.2/2.8 MB\u001b[0m \u001b[31m458.5 kB/s\u001b[0m eta \u001b[36m0:00:02\u001b[0m"
                },
                {
                    "output_type": "stream",
                    "name": "stdout",
                    "text": "\r\u001b[2K   \u001b[91m━━━━━━━━━━━━━━━━━━━━━━━━━━━━━━━━\u001b[0m\u001b[90m╺\u001b[0m\u001b[90m━━━━━━━\u001b[0m \u001b[32m2.2/2.8 MB\u001b[0m \u001b[31m462.7 kB/s\u001b[0m eta \u001b[36m0:00:02\u001b[0m\r\u001b[2K   \u001b[91m━━━━━━━━━━━━━━━━━━━━━━━━━━━━━━━━\u001b[0m\u001b[90m╺\u001b[0m\u001b[90m━━━━━━━\u001b[0m \u001b[32m2.3/2.8 MB\u001b[0m \u001b[31m462.8 kB/s\u001b[0m eta \u001b[36m0:00:02\u001b[0m"
                },
                {
                    "output_type": "stream",
                    "name": "stdout",
                    "text": "\r\u001b[2K   \u001b[91m━━━━━━━━━━━━━━━━━━━━━━━━━━━━━━━━\u001b[0m\u001b[91m╸\u001b[0m\u001b[90m━━━━━━━\u001b[0m \u001b[32m2.3/2.8 MB\u001b[0m \u001b[31m463.4 kB/s\u001b[0m eta \u001b[36m0:00:02\u001b[0m"
                },
                {
                    "output_type": "stream",
                    "name": "stdout",
                    "text": "\r\u001b[2K   \u001b[91m━━━━━━━━━━━━━━━━━━━━━━━━━━━━━━━━━\u001b[0m\u001b[90m╺\u001b[0m\u001b[90m━━━━━━\u001b[0m \u001b[32m2.3/2.8 MB\u001b[0m \u001b[31m465.1 kB/s\u001b[0m eta \u001b[36m0:00:02\u001b[0m\r\u001b[2K   \u001b[91m━━━━━━━━━━━━━━━━━━━━━━━━━━━━━━━━━\u001b[0m\u001b[91m╸\u001b[0m\u001b[90m━━━━━━\u001b[0m \u001b[32m2.4/2.8 MB\u001b[0m \u001b[31m471.6 kB/s\u001b[0m eta \u001b[36m0:00:01\u001b[0m"
                },
                {
                    "output_type": "stream",
                    "name": "stdout",
                    "text": "\r\u001b[2K   \u001b[91m━━━━━━━━━━━━━━━━━━━━━━━━━━━━━━━━━\u001b[0m\u001b[91m╸\u001b[0m\u001b[90m━━━━━━\u001b[0m \u001b[32m2.4/2.8 MB\u001b[0m \u001b[31m471.6 kB/s\u001b[0m eta \u001b[36m0:00:01\u001b[0m"
                },
                {
                    "output_type": "stream",
                    "name": "stdout",
                    "text": "\r\u001b[2K   \u001b[91m━━━━━━━━━━━━━━━━━━━━━━━━━━━━━━━━━\u001b[0m\u001b[91m╸\u001b[0m\u001b[90m━━━━━━\u001b[0m \u001b[32m2.4/2.8 MB\u001b[0m \u001b[31m471.6 kB/s\u001b[0m eta \u001b[36m0:00:01\u001b[0m\r\u001b[2K   \u001b[91m━━━━━━━━━━━━━━━━━━━━━━━━━━━━━━━━━\u001b[0m\u001b[91m╸\u001b[0m\u001b[90m━━━━━━\u001b[0m \u001b[32m2.4/2.8 MB\u001b[0m \u001b[31m471.6 kB/s\u001b[0m eta \u001b[36m0:00:01\u001b[0m"
                },
                {
                    "output_type": "stream",
                    "name": "stdout",
                    "text": "\r\u001b[2K   \u001b[91m━━━━━━━━━━━━━━━━━━━━━━━━━━━━━━━━━━\u001b[0m\u001b[91m╸\u001b[0m\u001b[90m━━━━━\u001b[0m \u001b[32m2.4/2.8 MB\u001b[0m \u001b[31m469.2 kB/s\u001b[0m eta \u001b[36m0:00:01\u001b[0m"
                },
                {
                    "output_type": "stream",
                    "name": "stdout",
                    "text": "\r\u001b[2K   \u001b[91m━━━━━━━━━━━━━━━━━━━━━━━━━━━━━━━━━━━\u001b[0m\u001b[90m╺\u001b[0m\u001b[90m━━━━\u001b[0m \u001b[32m2.5/2.8 MB\u001b[0m \u001b[31m473.3 kB/s\u001b[0m eta \u001b[36m0:00:01\u001b[0m"
                },
                {
                    "output_type": "stream",
                    "name": "stdout",
                    "text": "\r\u001b[2K   \u001b[91m━━━━━━━━━━━━━━━━━━━━━━━━━━━━━━━━━━━\u001b[0m\u001b[91m╸\u001b[0m\u001b[90m━━━━\u001b[0m \u001b[32m2.5/2.8 MB\u001b[0m \u001b[31m475.4 kB/s\u001b[0m eta \u001b[36m0:00:01\u001b[0m\r\u001b[2K   \u001b[91m━━━━━━━━━━━━━━━━━━━━━━━━━━━━━━━━━━━━\u001b[0m\u001b[90m╺\u001b[0m\u001b[90m━━━\u001b[0m \u001b[32m2.5/2.8 MB\u001b[0m \u001b[31m479.4 kB/s\u001b[0m eta \u001b[36m0:00:01\u001b[0m"
                },
                {
                    "output_type": "stream",
                    "name": "stdout",
                    "text": "\r\u001b[2K   \u001b[91m━━━━━━━━━━━━━━━━━━━━━━━━━━━━━━━━━━━━\u001b[0m\u001b[91m╸\u001b[0m\u001b[90m━━━\u001b[0m \u001b[32m2.6/2.8 MB\u001b[0m \u001b[31m483.9 kB/s\u001b[0m eta \u001b[36m0:00:01\u001b[0m"
                },
                {
                    "output_type": "stream",
                    "name": "stdout",
                    "text": "\r\u001b[2K   \u001b[91m━━━━━━━━━━━━━━━━━━━━━━━━━━━━━━━━━━━━━\u001b[0m\u001b[90m╺\u001b[0m\u001b[90m━━\u001b[0m \u001b[32m2.6/2.8 MB\u001b[0m \u001b[31m482.8 kB/s\u001b[0m eta \u001b[36m0:00:01\u001b[0m\r\u001b[2K   \u001b[91m━━━━━━━━━━━━━━━━━━━━━━━━━━━━━━━━━━━━━\u001b[0m\u001b[91m╸\u001b[0m\u001b[90m━━\u001b[0m \u001b[32m2.6/2.8 MB\u001b[0m \u001b[31m487.8 kB/s\u001b[0m eta \u001b[36m0:00:01\u001b[0m"
                },
                {
                    "output_type": "stream",
                    "name": "stdout",
                    "text": "\r\u001b[2K   \u001b[91m━━━━━━━━━━━━━━━━━━━━━━━━━━━━━━━━━━━━━━\u001b[0m\u001b[90m╺\u001b[0m\u001b[90m━\u001b[0m \u001b[32m2.7/2.8 MB\u001b[0m \u001b[31m490.6 kB/s\u001b[0m eta \u001b[36m0:00:01\u001b[0m"
                },
                {
                    "output_type": "stream",
                    "name": "stdout",
                    "text": "\r\u001b[2K   \u001b[91m━━━━━━━━━━━━━━━━━━━━━━━━━━━━━━━━━━━━━━\u001b[0m\u001b[91m╸\u001b[0m\u001b[90m━\u001b[0m \u001b[32m2.7/2.8 MB\u001b[0m \u001b[31m493.3 kB/s\u001b[0m eta \u001b[36m0:00:01\u001b[0m"
                },
                {
                    "output_type": "stream",
                    "name": "stdout",
                    "text": "\r\u001b[2K   \u001b[91m━━━━━━━━━━━━━━━━━━━━━━━━━━━━━━━━━━━━━━\u001b[0m\u001b[91m╸\u001b[0m\u001b[90m━\u001b[0m \u001b[32m2.7/2.8 MB\u001b[0m \u001b[31m495.3 kB/s\u001b[0m eta \u001b[36m0:00:01\u001b[0m\r\u001b[2K   \u001b[91m━━━━━━━━━━━━━━━━━━━━━━━━━━━━━━━━━━━━━━━\u001b[0m\u001b[90m╺\u001b[0m \u001b[32m2.7/2.8 MB\u001b[0m \u001b[31m494.1 kB/s\u001b[0m eta \u001b[36m0:00:01\u001b[0m"
                },
                {
                    "output_type": "stream",
                    "name": "stdout",
                    "text": "\r\u001b[2K   \u001b[91m━━━━━━━━━━━━━━━━━━━━━━━━━━━━━━━━━━━━━━━\u001b[0m\u001b[91m╸\u001b[0m \u001b[32m2.8/2.8 MB\u001b[0m \u001b[31m494.7 kB/s\u001b[0m eta \u001b[36m0:00:01\u001b[0m\r\u001b[2K   \u001b[90m━━━━━━━━━━━━━━━━━━━━━━━━━━━━━━━━━━━━━━━━\u001b[0m \u001b[32m2.8/2.8 MB\u001b[0m \u001b[31m498.0 kB/s\u001b[0m eta \u001b[36m0:00:00\u001b[0m\r\n\u001b[?25h"
                },
                {
                    "output_type": "stream",
                    "name": "stdout",
                    "text": "Downloading kiwisolver-1.4.5-cp311-cp311-macosx_11_0_arm64.whl (66 kB)\r\n\u001b[?25l   \u001b[90m━━━━━━━━━━━━━━━━━━━━━━━━━━━━━━━━━━━━━━━━\u001b[0m \u001b[32m0.0/66.2 kB\u001b[0m \u001b[31m?\u001b[0m eta \u001b[36m-:--:--\u001b[0m\r\u001b[2K   \u001b[91m━━━━━━\u001b[0m\u001b[90m╺\u001b[0m\u001b[90m━━━━━━━━━━━━━━━━━━━━━━━━━━━━━━━━━\u001b[0m \u001b[32m10.2/66.2 kB\u001b[0m \u001b[31m?\u001b[0m eta \u001b[36m-:--:--\u001b[0m"
                },
                {
                    "output_type": "stream",
                    "name": "stdout",
                    "text": "\r\u001b[2K   \u001b[90m━━━━━━━━━━━━━━━━━━━━━━━━━━━━━━━━━━━━━━━━\u001b[0m \u001b[32m66.2/66.2 kB\u001b[0m \u001b[31m1.2 MB/s\u001b[0m eta \u001b[36m0:00:00\u001b[0m\r\n\u001b[?25h"
                },
                {
                    "output_type": "stream",
                    "name": "stdout",
                    "text": "Downloading pillow-10.2.0-cp311-cp311-macosx_11_0_arm64.whl (3.3 MB)\r\n\u001b[?25l   \u001b[90m━━━━━━━━━━━━━━━━━━━━━━━━━━━━━━━━━━━━━━━━\u001b[0m \u001b[32m0.0/3.3 MB\u001b[0m \u001b[31m?\u001b[0m eta \u001b[36m-:--:--\u001b[0m\r\u001b[2K   \u001b[90m━━━━━━━━━━━━━━━━━━━━━━━━━━━━━━━━━━━━━━━━\u001b[0m \u001b[32m0.0/3.3 MB\u001b[0m \u001b[31m811.0 kB/s\u001b[0m eta \u001b[36m0:00:05\u001b[0m"
                },
                {
                    "output_type": "stream",
                    "name": "stdout",
                    "text": "\r\u001b[2K   \u001b[91m╸\u001b[0m\u001b[90m━━━━━━━━━━━━━━━━━━━━━━━━━━━━━━━━━━━━━━━\u001b[0m \u001b[32m0.1/3.3 MB\u001b[0m \u001b[31m918.3 kB/s\u001b[0m eta \u001b[36m0:00:04\u001b[0m"
                },
                {
                    "output_type": "stream",
                    "name": "stdout",
                    "text": "\r\u001b[2K   \u001b[91m╸\u001b[0m\u001b[90m━━━━━━━━━━━━━━━━━━━━━━━━━━━━━━━━━━━━━━━\u001b[0m \u001b[32m0.1/3.3 MB\u001b[0m \u001b[31m1.0 MB/s\u001b[0m eta \u001b[36m0:00:04\u001b[0m\r\u001b[2K   \u001b[91m━\u001b[0m\u001b[90m╺\u001b[0m\u001b[90m━━━━━━━━━━━━━━━━━━━━━━━━━━━━━━━━━━━━━━\u001b[0m \u001b[32m0.1/3.3 MB\u001b[0m \u001b[31m724.0 kB/s\u001b[0m eta \u001b[36m0:00:05\u001b[0m"
                },
                {
                    "output_type": "stream",
                    "name": "stdout",
                    "text": "\r\u001b[2K   \u001b[91m━\u001b[0m\u001b[90m╺\u001b[0m\u001b[90m━━━━━━━━━━━━━━━━━━━━━━━━━━━━━━━━━━━━━━\u001b[0m \u001b[32m0.1/3.3 MB\u001b[0m \u001b[31m724.0 kB/s\u001b[0m eta \u001b[36m0:00:05\u001b[0m"
                },
                {
                    "output_type": "stream",
                    "name": "stdout",
                    "text": "\r\u001b[2K   \u001b[91m━\u001b[0m\u001b[90m╺\u001b[0m\u001b[90m━━━━━━━━━━━━━━━━━━━━━━━━━━━━━━━━━━━━━━\u001b[0m \u001b[32m0.1/3.3 MB\u001b[0m \u001b[31m487.2 kB/s\u001b[0m eta \u001b[36m0:00:07\u001b[0m"
                },
                {
                    "output_type": "stream",
                    "name": "stdout",
                    "text": "\r\u001b[2K   \u001b[91m━\u001b[0m\u001b[90m╺\u001b[0m\u001b[90m━━━━━━━━━━━━━━━━━━━━━━━━━━━━━━━━━━━━━━\u001b[0m \u001b[32m0.1/3.3 MB\u001b[0m \u001b[31m487.2 kB/s\u001b[0m eta \u001b[36m0:00:07\u001b[0m\r\u001b[2K   \u001b[91m━\u001b[0m\u001b[90m╺\u001b[0m\u001b[90m━━━━━━━━━━━━━━━━━━━━━━━━━━━━━━━━━━━━━━\u001b[0m \u001b[32m0.1/3.3 MB\u001b[0m \u001b[31m487.2 kB/s\u001b[0m eta \u001b[36m0:00:07\u001b[0m"
                },
                {
                    "output_type": "stream",
                    "name": "stdout",
                    "text": "\r\u001b[2K   \u001b[91m━\u001b[0m\u001b[90m╺\u001b[0m\u001b[90m━━━━━━━━━━━━━━━━━━━━━━━━━━━━━━━━━━━━━━\u001b[0m \u001b[32m0.1/3.3 MB\u001b[0m \u001b[31m487.2 kB/s\u001b[0m eta \u001b[36m0:00:07\u001b[0m"
                },
                {
                    "output_type": "stream",
                    "name": "stdout",
                    "text": "\r\u001b[2K   \u001b[91m━\u001b[0m\u001b[90m╺\u001b[0m\u001b[90m━━━━━━━━━━━━━━━━━━━━━━━━━━━━━━━━━━━━━━\u001b[0m \u001b[32m0.1/3.3 MB\u001b[0m \u001b[31m487.2 kB/s\u001b[0m eta \u001b[36m0:00:07\u001b[0m\r\u001b[2K   \u001b[91m━\u001b[0m\u001b[90m╺\u001b[0m\u001b[90m━━━━━━━━━━━━━━━━━━━━━━━━━━━━━━━━━━━━━━\u001b[0m \u001b[32m0.1/3.3 MB\u001b[0m \u001b[31m487.2 kB/s\u001b[0m eta \u001b[36m0:00:07\u001b[0m"
                },
                {
                    "output_type": "stream",
                    "name": "stdout",
                    "text": "\r\u001b[2K   \u001b[91m━\u001b[0m\u001b[90m╺\u001b[0m\u001b[90m━━━━━━━━━━━━━━━━━━━━━━━━━━━━━━━━━━━━━━\u001b[0m \u001b[32m0.1/3.3 MB\u001b[0m \u001b[31m487.2 kB/s\u001b[0m eta \u001b[36m0:00:07\u001b[0m\r\u001b[2K   \u001b[91m━\u001b[0m\u001b[90m╺\u001b[0m\u001b[90m━━━━━━━━━━━━━━━━━━━━━━━━━━━━━━━━━━━━━━\u001b[0m \u001b[32m0.1/3.3 MB\u001b[0m \u001b[31m487.2 kB/s\u001b[0m eta \u001b[36m0:00:07\u001b[0m"
                },
                {
                    "output_type": "stream",
                    "name": "stdout",
                    "text": "\r\u001b[2K   \u001b[91m━\u001b[0m\u001b[90m╺\u001b[0m\u001b[90m━━━━━━━━━━━━━━━━━━━━━━━━━━━━━━━━━━━━━━\u001b[0m \u001b[32m0.1/3.3 MB\u001b[0m \u001b[31m487.2 kB/s\u001b[0m eta \u001b[36m0:00:07\u001b[0m\r\u001b[2K   \u001b[91m━\u001b[0m\u001b[90m╺\u001b[0m\u001b[90m━━━━━━━━━━━━━━━━━━━━━━━━━━━━━━━━━━━━━━\u001b[0m \u001b[32m0.1/3.3 MB\u001b[0m \u001b[31m487.2 kB/s\u001b[0m eta \u001b[36m0:00:07\u001b[0m"
                },
                {
                    "output_type": "stream",
                    "name": "stdout",
                    "text": "\r\u001b[2K   \u001b[91m━\u001b[0m\u001b[90m╺\u001b[0m\u001b[90m━━━━━━━━━━━━━━━━━━━━━━━━━━━━━━━━━━━━━━\u001b[0m \u001b[32m0.1/3.3 MB\u001b[0m \u001b[31m487.2 kB/s\u001b[0m eta \u001b[36m0:00:07\u001b[0m"
                },
                {
                    "output_type": "stream",
                    "name": "stdout",
                    "text": "\r\u001b[2K   \u001b[91m━\u001b[0m\u001b[90m╺\u001b[0m\u001b[90m━━━━━━━━━━━━━━━━━━━━━━━━━━━━━━━━━━━━━━\u001b[0m \u001b[32m0.1/3.3 MB\u001b[0m \u001b[31m487.2 kB/s\u001b[0m eta \u001b[36m0:00:07\u001b[0m"
                },
                {
                    "output_type": "stream",
                    "name": "stdout",
                    "text": "\r\u001b[2K   \u001b[91m━\u001b[0m\u001b[90m╺\u001b[0m\u001b[90m━━━━━━━━━━━━━━━━━━━━━━━━━━━━━━━━━━━━━━\u001b[0m \u001b[32m0.1/3.3 MB\u001b[0m \u001b[31m487.2 kB/s\u001b[0m eta \u001b[36m0:00:07\u001b[0m\r\u001b[2K   \u001b[91m━\u001b[0m\u001b[90m╺\u001b[0m\u001b[90m━━━━━━━━━━━━━━━━━━━━━━━━━━━━━━━━━━━━━━\u001b[0m \u001b[32m0.1/3.3 MB\u001b[0m \u001b[31m487.2 kB/s\u001b[0m eta \u001b[36m0:00:07\u001b[0m"
                },
                {
                    "output_type": "stream",
                    "name": "stdout",
                    "text": "\r\u001b[2K   \u001b[91m━\u001b[0m\u001b[90m╺\u001b[0m\u001b[90m━━━━━━━━━━━━━━━━━━━━━━━━━━━━━━━━━━━━━━\u001b[0m \u001b[32m0.1/3.3 MB\u001b[0m \u001b[31m487.2 kB/s\u001b[0m eta \u001b[36m0:00:07\u001b[0m"
                },
                {
                    "output_type": "stream",
                    "name": "stdout",
                    "text": "\r\u001b[2K   \u001b[91m━\u001b[0m\u001b[90m╺\u001b[0m\u001b[90m━━━━━━━━━━━━━━━━━━━━━━━━━━━━━━━━━━━━━━\u001b[0m \u001b[32m0.1/3.3 MB\u001b[0m \u001b[31m487.2 kB/s\u001b[0m eta \u001b[36m0:00:07\u001b[0m\r\u001b[2K   \u001b[91m━\u001b[0m\u001b[90m╺\u001b[0m\u001b[90m━━━━━━━━━━━━━━━━━━━━━━━━━━━━━━━━━━━━━━\u001b[0m \u001b[32m0.1/3.3 MB\u001b[0m \u001b[31m487.2 kB/s\u001b[0m eta \u001b[36m0:00:07\u001b[0m"
                },
                {
                    "output_type": "stream",
                    "name": "stdout",
                    "text": "\r\u001b[2K   \u001b[91m━\u001b[0m\u001b[90m╺\u001b[0m\u001b[90m━━━━━━━━━━━━━━━━━━━━━━━━━━━━━━━━━━━━━━\u001b[0m \u001b[32m0.1/3.3 MB\u001b[0m \u001b[31m487.2 kB/s\u001b[0m eta \u001b[36m0:00:07\u001b[0m"
                },
                {
                    "output_type": "stream",
                    "name": "stdout",
                    "text": "\r\u001b[2K   \u001b[91m━\u001b[0m\u001b[90m╺\u001b[0m\u001b[90m━━━━━━━━━━━━━━━━━━━━━━━━━━━━━━━━━━━━━━\u001b[0m \u001b[32m0.1/3.3 MB\u001b[0m \u001b[31m487.2 kB/s\u001b[0m eta \u001b[36m0:00:07\u001b[0m"
                },
                {
                    "output_type": "stream",
                    "name": "stdout",
                    "text": "\r\u001b[2K   \u001b[91m━\u001b[0m\u001b[90m╺\u001b[0m\u001b[90m━━━━━━━━━━━━━━━━━━━━━━━━━━━━━━━━━━━━━━\u001b[0m \u001b[32m0.1/3.3 MB\u001b[0m \u001b[31m487.2 kB/s\u001b[0m eta \u001b[36m0:00:07\u001b[0m\r\u001b[2K   \u001b[91m━\u001b[0m\u001b[90m╺\u001b[0m\u001b[90m━━━━━━━━━━━━━━━━━━━━━━━━━━━━━━━━━━━━━━\u001b[0m \u001b[32m0.1/3.3 MB\u001b[0m \u001b[31m487.2 kB/s\u001b[0m eta \u001b[36m0:00:07\u001b[0m"
                },
                {
                    "output_type": "stream",
                    "name": "stdout",
                    "text": "\r\u001b[2K   \u001b[91m━\u001b[0m\u001b[90m╺\u001b[0m\u001b[90m━━━━━━━━━━━━━━━━━━━━━━━━━━━━━━━━━━━━━━\u001b[0m \u001b[32m0.1/3.3 MB\u001b[0m \u001b[31m487.2 kB/s\u001b[0m eta \u001b[36m0:00:07\u001b[0m"
                },
                {
                    "output_type": "stream",
                    "name": "stdout",
                    "text": "\r\u001b[2K   \u001b[91m━\u001b[0m\u001b[90m╺\u001b[0m\u001b[90m━━━━━━━━━━━━━━━━━━━━━━━━━━━━━━━━━━━━━━\u001b[0m \u001b[32m0.1/3.3 MB\u001b[0m \u001b[31m487.2 kB/s\u001b[0m eta \u001b[36m0:00:07\u001b[0m\r\u001b[2K   \u001b[91m━\u001b[0m\u001b[90m╺\u001b[0m\u001b[90m━━━━━━━━━━━━━━━━━━━━━━━━━━━━━━━━━━━━━━\u001b[0m \u001b[32m0.1/3.3 MB\u001b[0m \u001b[31m487.2 kB/s\u001b[0m eta \u001b[36m0:00:07\u001b[0m"
                },
                {
                    "output_type": "stream",
                    "name": "stdout",
                    "text": "\r\u001b[2K   \u001b[91m━\u001b[0m\u001b[90m╺\u001b[0m\u001b[90m━━━━━━━━━━━━━━━━━━━━━━━━━━━━━━━━━━━━━━\u001b[0m \u001b[32m0.1/3.3 MB\u001b[0m \u001b[31m487.2 kB/s\u001b[0m eta \u001b[36m0:00:07\u001b[0m"
                },
                {
                    "output_type": "stream",
                    "name": "stdout",
                    "text": "\r\u001b[2K   \u001b[91m━\u001b[0m\u001b[90m╺\u001b[0m\u001b[90m━━━━━━━━━━━━━━━━━━━━━━━━━━━━━━━━━━━━━━\u001b[0m \u001b[32m0.1/3.3 MB\u001b[0m \u001b[31m487.2 kB/s\u001b[0m eta \u001b[36m0:00:07\u001b[0m"
                },
                {
                    "output_type": "stream",
                    "name": "stdout",
                    "text": "\r\u001b[2K   \u001b[91m━\u001b[0m\u001b[90m╺\u001b[0m\u001b[90m━━━━━━━━━━━━━━━━━━━━━━━━━━━━━━━━━━━━━━\u001b[0m \u001b[32m0.1/3.3 MB\u001b[0m \u001b[31m487.2 kB/s\u001b[0m eta \u001b[36m0:00:07\u001b[0m\r\u001b[2K   \u001b[91m━\u001b[0m\u001b[90m╺\u001b[0m\u001b[90m━━━━━━━━━━━━━━━━━━━━━━━━━━━━━━━━━━━━━━\u001b[0m \u001b[32m0.1/3.3 MB\u001b[0m \u001b[31m487.2 kB/s\u001b[0m eta \u001b[36m0:00:07\u001b[0m"
                },
                {
                    "output_type": "stream",
                    "name": "stdout",
                    "text": "\r\u001b[2K   \u001b[91m━\u001b[0m\u001b[90m╺\u001b[0m\u001b[90m━━━━━━━━━━━━━━━━━━━━━━━━━━━━━━━━━━━━━━\u001b[0m \u001b[32m0.1/3.3 MB\u001b[0m \u001b[31m487.2 kB/s\u001b[0m eta \u001b[36m0:00:07\u001b[0m"
                },
                {
                    "output_type": "stream",
                    "name": "stdout",
                    "text": "\r\u001b[2K   \u001b[91m━\u001b[0m\u001b[90m╺\u001b[0m\u001b[90m━━━━━━━━━━━━━━━━━━━━━━━━━━━━━━━━━━━━━━\u001b[0m \u001b[32m0.1/3.3 MB\u001b[0m \u001b[31m487.2 kB/s\u001b[0m eta \u001b[36m0:00:07\u001b[0m\r\u001b[2K   \u001b[91m━\u001b[0m\u001b[90m╺\u001b[0m\u001b[90m━━━━━━━━━━━━━━━━━━━━━━━━━━━━━━━━━━━━━━\u001b[0m \u001b[32m0.1/3.3 MB\u001b[0m \u001b[31m487.2 kB/s\u001b[0m eta \u001b[36m0:00:07\u001b[0m"
                },
                {
                    "output_type": "stream",
                    "name": "stdout",
                    "text": "\r\u001b[2K   \u001b[91m━\u001b[0m\u001b[90m╺\u001b[0m\u001b[90m━━━━━━━━━━━━━━━━━━━━━━━━━━━━━━━━━━━━━━\u001b[0m \u001b[32m0.1/3.3 MB\u001b[0m \u001b[31m487.2 kB/s\u001b[0m eta \u001b[36m0:00:07\u001b[0m"
                },
                {
                    "output_type": "stream",
                    "name": "stdout",
                    "text": "\r\u001b[2K   \u001b[91m━\u001b[0m\u001b[90m╺\u001b[0m\u001b[90m━━━━━━━━━━━━━━━━━━━━━━━━━━━━━━━━━━━━━━\u001b[0m \u001b[32m0.1/3.3 MB\u001b[0m \u001b[31m487.2 kB/s\u001b[0m eta \u001b[36m0:00:07\u001b[0m\r\u001b[2K   \u001b[91m━\u001b[0m\u001b[90m╺\u001b[0m\u001b[90m━━━━━━━━━━━━━━━━━━━━━━━━━━━━━━━━━━━━━━\u001b[0m \u001b[32m0.1/3.3 MB\u001b[0m \u001b[31m487.2 kB/s\u001b[0m eta \u001b[36m0:00:07\u001b[0m"
                },
                {
                    "output_type": "stream",
                    "name": "stdout",
                    "text": "\r\u001b[2K   \u001b[91m━\u001b[0m\u001b[90m╺\u001b[0m\u001b[90m━━━━━━━━━━━━━━━━━━━━━━━━━━━━━━━━━━━━━━\u001b[0m \u001b[32m0.1/3.3 MB\u001b[0m \u001b[31m487.2 kB/s\u001b[0m eta \u001b[36m0:00:07\u001b[0m"
                },
                {
                    "output_type": "stream",
                    "name": "stdout",
                    "text": "\r\u001b[2K   \u001b[91m━\u001b[0m\u001b[90m╺\u001b[0m\u001b[90m━━━━━━━━━━━━━━━━━━━━━━━━━━━━━━━━━━━━━━\u001b[0m \u001b[32m0.1/3.3 MB\u001b[0m \u001b[31m487.2 kB/s\u001b[0m eta \u001b[36m0:00:07\u001b[0m"
                },
                {
                    "output_type": "stream",
                    "name": "stdout",
                    "text": "\r\u001b[2K   \u001b[91m━\u001b[0m\u001b[90m╺\u001b[0m\u001b[90m━━━━━━━━━━━━━━━━━━━━━━━━━━━━━━━━━━━━━━\u001b[0m \u001b[32m0.1/3.3 MB\u001b[0m \u001b[31m487.2 kB/s\u001b[0m eta \u001b[36m0:00:07\u001b[0m\r\u001b[2K   \u001b[91m━\u001b[0m\u001b[90m╺\u001b[0m\u001b[90m━━━━━━━━━━━━━━━━━━━━━━━━━━━━━━━━━━━━━━\u001b[0m \u001b[32m0.1/3.3 MB\u001b[0m \u001b[31m487.2 kB/s\u001b[0m eta \u001b[36m0:00:07\u001b[0m"
                },
                {
                    "output_type": "stream",
                    "name": "stdout",
                    "text": "\r\u001b[2K   \u001b[91m━\u001b[0m\u001b[90m╺\u001b[0m\u001b[90m━━━━━━━━━━━━━━━━━━━━━━━━━━━━━━━━━━━━━━\u001b[0m \u001b[32m0.1/3.3 MB\u001b[0m \u001b[31m487.2 kB/s\u001b[0m eta \u001b[36m0:00:07\u001b[0m"
                },
                {
                    "output_type": "stream",
                    "name": "stdout",
                    "text": "\r\u001b[2K   \u001b[91m━\u001b[0m\u001b[90m╺\u001b[0m\u001b[90m━━━━━━━━━━━━━━━━━━━━━━━━━━━━━━━━━━━━━━\u001b[0m \u001b[32m0.1/3.3 MB\u001b[0m \u001b[31m487.2 kB/s\u001b[0m eta \u001b[36m0:00:07\u001b[0m\r\u001b[2K   \u001b[91m━\u001b[0m\u001b[91m╸\u001b[0m\u001b[90m━━━━━━━━━━━━━━━━━━━━━━━━━━━━━━━━━━━━━━\u001b[0m \u001b[32m0.1/3.3 MB\u001b[0m \u001b[31m76.9 kB/s\u001b[0m eta \u001b[36m0:00:42\u001b[0m"
                },
                {
                    "output_type": "stream",
                    "name": "stdout",
                    "text": "\r\u001b[2K   \u001b[91m━\u001b[0m\u001b[91m╸\u001b[0m\u001b[90m━━━━━━━━━━━━━━━━━━━━━━━━━━━━━━━━━━━━━━\u001b[0m \u001b[32m0.1/3.3 MB\u001b[0m \u001b[31m76.9 kB/s\u001b[0m eta \u001b[36m0:00:42\u001b[0m"
                },
                {
                    "output_type": "stream",
                    "name": "stdout",
                    "text": "\r\u001b[2K   \u001b[91m━\u001b[0m\u001b[91m╸\u001b[0m\u001b[90m━━━━━━━━━━━━━━━━━━━━━━━━━━━━━━━━━━━━━━\u001b[0m \u001b[32m0.1/3.3 MB\u001b[0m \u001b[31m76.9 kB/s\u001b[0m eta \u001b[36m0:00:42\u001b[0m"
                },
                {
                    "output_type": "stream",
                    "name": "stdout",
                    "text": "\r\u001b[2K   \u001b[91m━\u001b[0m\u001b[91m╸\u001b[0m\u001b[90m━━━━━━━━━━━━━━━━━━━━━━━━━━━━━━━━━━━━━━\u001b[0m \u001b[32m0.2/3.3 MB\u001b[0m \u001b[31m82.6 kB/s\u001b[0m eta \u001b[36m0:00:39\u001b[0m\r\u001b[2K   \u001b[91m━\u001b[0m\u001b[91m╸\u001b[0m\u001b[90m━━━━━━━━━━━━━━━━━━━━━━━━━━━━━━━━━━━━━━\u001b[0m \u001b[32m0.2/3.3 MB\u001b[0m \u001b[31m82.6 kB/s\u001b[0m eta \u001b[36m0:00:39\u001b[0m"
                },
                {
                    "output_type": "stream",
                    "name": "stdout",
                    "text": "\r\u001b[2K   \u001b[91m━\u001b[0m\u001b[91m╸\u001b[0m\u001b[90m━━━━━━━━━━━━━━━━━━━━━━━━━━━━━━━━━━━━━━\u001b[0m \u001b[32m0.2/3.3 MB\u001b[0m \u001b[31m82.6 kB/s\u001b[0m eta \u001b[36m0:00:39\u001b[0m"
                },
                {
                    "output_type": "stream",
                    "name": "stdout",
                    "text": "\r\u001b[2K   \u001b[91m━\u001b[0m\u001b[91m╸\u001b[0m\u001b[90m━━━━━━━━━━━━━━━━━━━━━━━━━━━━━━━━━━━━━━\u001b[0m \u001b[32m0.2/3.3 MB\u001b[0m \u001b[31m82.6 kB/s\u001b[0m eta \u001b[36m0:00:39\u001b[0m\r\u001b[2K   \u001b[91m━\u001b[0m\u001b[91m╸\u001b[0m\u001b[90m━━━━━━━━━━━━━━━━━━━━━━━━━━━━━━━━━━━━━━\u001b[0m \u001b[32m0.2/3.3 MB\u001b[0m \u001b[31m82.6 kB/s\u001b[0m eta \u001b[36m0:00:39\u001b[0m"
                },
                {
                    "output_type": "stream",
                    "name": "stdout",
                    "text": "\r\u001b[2K   \u001b[91m━\u001b[0m\u001b[91m╸\u001b[0m\u001b[90m━━━━━━━━━━━━━━━━━━━━━━━━━━━━━━━━━━━━━━\u001b[0m \u001b[32m0.2/3.3 MB\u001b[0m \u001b[31m82.6 kB/s\u001b[0m eta \u001b[36m0:00:39\u001b[0m"
                },
                {
                    "output_type": "stream",
                    "name": "stdout",
                    "text": "\r\u001b[2K   \u001b[91m━\u001b[0m\u001b[91m╸\u001b[0m\u001b[90m━━━━━━━━━━━━━━━━━━━━━━━━━━━━━━━━━━━━━━\u001b[0m \u001b[32m0.2/3.3 MB\u001b[0m \u001b[31m82.6 kB/s\u001b[0m eta \u001b[36m0:00:39\u001b[0m"
                },
                {
                    "output_type": "stream",
                    "name": "stdout",
                    "text": "\r\u001b[2K   \u001b[91m━\u001b[0m\u001b[91m╸\u001b[0m\u001b[90m━━━━━━━━━━━━━━━━━━━━━━━━━━━━━━━━━━━━━━\u001b[0m \u001b[32m0.2/3.3 MB\u001b[0m \u001b[31m82.6 kB/s\u001b[0m eta \u001b[36m0:00:39\u001b[0m\r\u001b[2K   \u001b[91m━━\u001b[0m\u001b[90m╺\u001b[0m\u001b[90m━━━━━━━━━━━━━━━━━━━━━━━━━━━━━━━━━━━━━\u001b[0m \u001b[32m0.2/3.3 MB\u001b[0m \u001b[31m76.8 kB/s\u001b[0m eta \u001b[36m0:00:41\u001b[0m"
                },
                {
                    "output_type": "stream",
                    "name": "stdout",
                    "text": "\r\u001b[2K   \u001b[91m━━\u001b[0m\u001b[90m╺\u001b[0m\u001b[90m━━━━━━━━━━━━━━━━━━━━━━━━━━━━━━━━━━━━━\u001b[0m \u001b[32m0.2/3.3 MB\u001b[0m \u001b[31m76.8 kB/s\u001b[0m eta \u001b[36m0:00:41\u001b[0m"
                },
                {
                    "output_type": "stream",
                    "name": "stdout",
                    "text": "\r\u001b[2K   \u001b[91m━━\u001b[0m\u001b[90m╺\u001b[0m\u001b[90m━━━━━━━━━━━━━━━━━━━━━━━━━━━━━━━━━━━━━\u001b[0m \u001b[32m0.2/3.3 MB\u001b[0m \u001b[31m76.8 kB/s\u001b[0m eta \u001b[36m0:00:41\u001b[0m\r\u001b[2K   \u001b[91m━━\u001b[0m\u001b[90m╺\u001b[0m\u001b[90m━━━━━━━━━━━━━━━━━━━━━━━━━━━━━━━━━━━━━\u001b[0m \u001b[32m0.2/3.3 MB\u001b[0m \u001b[31m81.7 kB/s\u001b[0m eta \u001b[36m0:00:39\u001b[0m"
                },
                {
                    "output_type": "stream",
                    "name": "stdout",
                    "text": "\r\u001b[2K   \u001b[91m━━\u001b[0m\u001b[90m╺\u001b[0m\u001b[90m━━━━━━━━━━━━━━━━━━━━━━━━━━━━━━━━━━━━━\u001b[0m \u001b[32m0.2/3.3 MB\u001b[0m \u001b[31m81.7 kB/s\u001b[0m eta \u001b[36m0:00:39\u001b[0m"
                },
                {
                    "output_type": "stream",
                    "name": "stdout",
                    "text": "\r\u001b[2K   \u001b[91m━━\u001b[0m\u001b[90m╺\u001b[0m\u001b[90m━━━━━━━━━━━━━━━━━━━━━━━━━━━━━━━━━━━━━\u001b[0m \u001b[32m0.2/3.3 MB\u001b[0m \u001b[31m81.7 kB/s\u001b[0m eta \u001b[36m0:00:39\u001b[0m\r\u001b[2K   \u001b[91m━━\u001b[0m\u001b[90m╺\u001b[0m\u001b[90m━━━━━━━━━━━━━━━━━━━━━━━━━━━━━━━━━━━━━\u001b[0m \u001b[32m0.2/3.3 MB\u001b[0m \u001b[31m82.3 kB/s\u001b[0m eta \u001b[36m0:00:38\u001b[0m"
                },
                {
                    "output_type": "stream",
                    "name": "stdout",
                    "text": "\r\u001b[2K   \u001b[91m━━\u001b[0m\u001b[91m╸\u001b[0m\u001b[90m━━━━━━━━━━━━━━━━━━━━━━━━━━━━━━━━━━━━━\u001b[0m \u001b[32m0.2/3.3 MB\u001b[0m \u001b[31m88.5 kB/s\u001b[0m eta \u001b[36m0:00:35\u001b[0m"
                },
                {
                    "output_type": "stream",
                    "name": "stdout",
                    "text": "\r\u001b[2K   \u001b[91m━━\u001b[0m\u001b[91m╸\u001b[0m\u001b[90m━━━━━━━━━━━━━━━━━━━━━━━━━━━━━━━━━━━━━\u001b[0m \u001b[32m0.2/3.3 MB\u001b[0m \u001b[31m88.5 kB/s\u001b[0m eta \u001b[36m0:00:35\u001b[0m"
                },
                {
                    "output_type": "stream",
                    "name": "stdout",
                    "text": "\r\u001b[2K   \u001b[91m━━\u001b[0m\u001b[91m╸\u001b[0m\u001b[90m━━━━━━━━━━━━━━━━━━━━━━━━━━━━━━━━━━━━━\u001b[0m \u001b[32m0.2/3.3 MB\u001b[0m \u001b[31m88.5 kB/s\u001b[0m eta \u001b[36m0:00:35\u001b[0m\r\u001b[2K   \u001b[91m━━\u001b[0m\u001b[91m╸\u001b[0m\u001b[90m━━━━━━━━━━━━━━━━━━━━━━━━━━━━━━━━━━━━━\u001b[0m \u001b[32m0.2/3.3 MB\u001b[0m \u001b[31m92.8 kB/s\u001b[0m eta \u001b[36m0:00:34\u001b[0m"
                },
                {
                    "output_type": "stream",
                    "name": "stdout",
                    "text": "\r\u001b[2K   \u001b[91m━━\u001b[0m\u001b[91m╸\u001b[0m\u001b[90m━━━━━━━━━━━━━━━━━━━━━━━━━━━━━━━━━━━━━\u001b[0m \u001b[32m0.2/3.3 MB\u001b[0m \u001b[31m92.8 kB/s\u001b[0m eta \u001b[36m0:00:34\u001b[0m"
                },
                {
                    "output_type": "stream",
                    "name": "stdout",
                    "text": "\r\u001b[2K   \u001b[91m━━\u001b[0m\u001b[91m╸\u001b[0m\u001b[90m━━━━━━━━━━━━━━━━━━━━━━━━━━━━━━━━━━━━━\u001b[0m \u001b[32m0.2/3.3 MB\u001b[0m \u001b[31m92.8 kB/s\u001b[0m eta \u001b[36m0:00:34\u001b[0m\r\u001b[2K   \u001b[91m━━━\u001b[0m\u001b[90m╺\u001b[0m\u001b[90m━━━━━━━━━━━━━━━━━━━━━━━━━━━━━━━━━━━━\u001b[0m \u001b[32m0.3/3.3 MB\u001b[0m \u001b[31m97.0 kB/s\u001b[0m eta \u001b[36m0:00:32\u001b[0m"
                },
                {
                    "output_type": "stream",
                    "name": "stdout",
                    "text": "\r\u001b[2K   \u001b[91m━━━\u001b[0m\u001b[90m╺\u001b[0m\u001b[90m━━━━━━━━━━━━━━━━━━━━━━━━━━━━━━━━━━━━\u001b[0m \u001b[32m0.3/3.3 MB\u001b[0m \u001b[31m102.8 kB/s\u001b[0m eta \u001b[36m0:00:30\u001b[0m"
                },
                {
                    "output_type": "stream",
                    "name": "stdout",
                    "text": "\r\u001b[2K   \u001b[91m━━━\u001b[0m\u001b[90m╺\u001b[0m\u001b[90m━━━━━━━━━━━━━━━━━━━━━━━━━━━━━━━━━━━━\u001b[0m \u001b[32m0.3/3.3 MB\u001b[0m \u001b[31m102.8 kB/s\u001b[0m eta \u001b[36m0:00:30\u001b[0m"
                },
                {
                    "output_type": "stream",
                    "name": "stdout",
                    "text": "\r\u001b[2K   \u001b[91m━━━\u001b[0m\u001b[91m╸\u001b[0m\u001b[90m━━━━━━━━━━━━━━━━━━━━━━━━━━━━━━━━━━━━\u001b[0m \u001b[32m0.3/3.3 MB\u001b[0m \u001b[31m111.3 kB/s\u001b[0m eta \u001b[36m0:00:27\u001b[0m\r\u001b[2K   \u001b[91m━━━\u001b[0m\u001b[91m╸\u001b[0m\u001b[90m━━━━━━━━━━━━━━━━━━━━━━━━━━━━━━━━━━━━\u001b[0m \u001b[32m0.3/3.3 MB\u001b[0m \u001b[31m111.3 kB/s\u001b[0m eta \u001b[36m0:00:27\u001b[0m"
                },
                {
                    "output_type": "stream",
                    "name": "stdout",
                    "text": "\r\u001b[2K   \u001b[91m━━━\u001b[0m\u001b[91m╸\u001b[0m\u001b[90m━━━━━━━━━━━━━━━━━━━━━━━━━━━━━━━━━━━━\u001b[0m \u001b[32m0.3/3.3 MB\u001b[0m \u001b[31m111.3 kB/s\u001b[0m eta \u001b[36m0:00:27\u001b[0m"
                },
                {
                    "output_type": "stream",
                    "name": "stdout",
                    "text": "\r\u001b[2K   \u001b[91m━━━\u001b[0m\u001b[91m╸\u001b[0m\u001b[90m━━━━━━━━━━━━━━━━━━━━━━━━━━━━━━━━━━━━\u001b[0m \u001b[32m0.3/3.3 MB\u001b[0m \u001b[31m111.3 kB/s\u001b[0m eta \u001b[36m0:00:27\u001b[0m"
                },
                {
                    "output_type": "stream",
                    "name": "stdout",
                    "text": "\r\u001b[2K   \u001b[91m━━━━\u001b[0m\u001b[90m╺\u001b[0m\u001b[90m━━━━━━━━━━━━━━━━━━━━━━━━━━━━━━━━━━━\u001b[0m \u001b[32m0.3/3.3 MB\u001b[0m \u001b[31m115.1 kB/s\u001b[0m eta \u001b[36m0:00:26\u001b[0m\r\u001b[2K   \u001b[91m━━━━\u001b[0m\u001b[90m╺\u001b[0m\u001b[90m━━━━━━━━━━━━━━━━━━━━━━━━━━━━━━━━━━━\u001b[0m \u001b[32m0.3/3.3 MB\u001b[0m \u001b[31m115.1 kB/s\u001b[0m eta \u001b[36m0:00:26\u001b[0m"
                },
                {
                    "output_type": "stream",
                    "name": "stdout",
                    "text": "\r\u001b[2K   \u001b[91m━━━━\u001b[0m\u001b[90m╺\u001b[0m\u001b[90m━━━━━━━━━━━━━━━━━━━━━━━━━━━━━━━━━━━\u001b[0m \u001b[32m0.3/3.3 MB\u001b[0m \u001b[31m115.1 kB/s\u001b[0m eta \u001b[36m0:00:26\u001b[0m"
                },
                {
                    "output_type": "stream",
                    "name": "stdout",
                    "text": "\r\u001b[2K   \u001b[91m━━━━\u001b[0m\u001b[90m╺\u001b[0m\u001b[90m━━━━━━━━━━━━━━━━━━━━━━━━━━━━━━━━━━━\u001b[0m \u001b[32m0.4/3.3 MB\u001b[0m \u001b[31m117.7 kB/s\u001b[0m eta \u001b[36m0:00:26\u001b[0m\r\u001b[2K   \u001b[91m━━━━\u001b[0m\u001b[90m╺\u001b[0m\u001b[90m━━━━━━━━━━━━━━━━━━━━━━━━━━━━━━━━━━━\u001b[0m \u001b[32m0.4/3.3 MB\u001b[0m \u001b[31m117.7 kB/s\u001b[0m eta \u001b[36m0:00:26\u001b[0m"
                },
                {
                    "output_type": "stream",
                    "name": "stdout",
                    "text": "\r\u001b[2K   \u001b[91m━━━━\u001b[0m\u001b[90m╺\u001b[0m\u001b[90m━━━━━━━━━━━━━━━━━━━━━━━━━━━━━━━━━━━\u001b[0m \u001b[32m0.4/3.3 MB\u001b[0m \u001b[31m117.7 kB/s\u001b[0m eta \u001b[36m0:00:26\u001b[0m"
                },
                {
                    "output_type": "stream",
                    "name": "stdout",
                    "text": "\r\u001b[2K   \u001b[91m━━━━\u001b[0m\u001b[91m╸\u001b[0m\u001b[90m━━━━━━━━━━━━━━━━━━━━━━━━━━━━━━━━━━━\u001b[0m \u001b[32m0.4/3.3 MB\u001b[0m \u001b[31m116.4 kB/s\u001b[0m eta \u001b[36m0:00:26\u001b[0m"
                },
                {
                    "output_type": "stream",
                    "name": "stdout",
                    "text": "\r\u001b[2K   \u001b[91m━━━━\u001b[0m\u001b[91m╸\u001b[0m\u001b[90m━━━━━━━━━━━━━━━━━━━━━━━━━━━━━━━━━━━\u001b[0m \u001b[32m0.4/3.3 MB\u001b[0m \u001b[31m116.4 kB/s\u001b[0m eta \u001b[36m0:00:26\u001b[0m"
                },
                {
                    "output_type": "stream",
                    "name": "stdout",
                    "text": "\r\u001b[2K   \u001b[91m━━━━\u001b[0m\u001b[91m╸\u001b[0m\u001b[90m━━━━━━━━━━━━━━━━━━━━━━━━━━━━━━━━━━━\u001b[0m \u001b[32m0.4/3.3 MB\u001b[0m \u001b[31m120.4 kB/s\u001b[0m eta \u001b[36m0:00:25\u001b[0m\r\u001b[2K   \u001b[91m━━━━\u001b[0m\u001b[91m╸\u001b[0m\u001b[90m━━━━━━━━━━━━━━━━━━━━━━━━━━━━━━━━━━━\u001b[0m \u001b[32m0.4/3.3 MB\u001b[0m \u001b[31m121.9 kB/s\u001b[0m eta \u001b[36m0:00:24\u001b[0m"
                },
                {
                    "output_type": "stream",
                    "name": "stdout",
                    "text": "\r\u001b[2K   \u001b[91m━━━━\u001b[0m\u001b[91m╸\u001b[0m\u001b[90m━━━━━━━━━━━━━━━━━━━━━━━━━━━━━━━━━━━\u001b[0m \u001b[32m0.4/3.3 MB\u001b[0m \u001b[31m121.9 kB/s\u001b[0m eta \u001b[36m0:00:24\u001b[0m"
                },
                {
                    "output_type": "stream",
                    "name": "stdout",
                    "text": "\r\u001b[2K   \u001b[91m━━━━━\u001b[0m\u001b[90m╺\u001b[0m\u001b[90m━━━━━━━━━━━━━━━━━━━━━━━━━━━━━━━━━━\u001b[0m \u001b[32m0.4/3.3 MB\u001b[0m \u001b[31m125.1 kB/s\u001b[0m eta \u001b[36m0:00:24\u001b[0m\r\u001b[2K   \u001b[91m━━━━━\u001b[0m\u001b[91m╸\u001b[0m\u001b[90m━━━━━━━━━━━━━━━━━━━━━━━━━━━━━━━━━━\u001b[0m \u001b[32m0.5/3.3 MB\u001b[0m \u001b[31m132.4 kB/s\u001b[0m eta \u001b[36m0:00:22\u001b[0m"
                },
                {
                    "output_type": "stream",
                    "name": "stdout",
                    "text": "\r\u001b[2K   \u001b[91m━━━━━\u001b[0m\u001b[91m╸\u001b[0m\u001b[90m━━━━━━━━━━━━━━━━━━━━━━━━━━━━━━━━━━\u001b[0m \u001b[32m0.5/3.3 MB\u001b[0m \u001b[31m137.7 kB/s\u001b[0m eta \u001b[36m0:00:21\u001b[0m"
                },
                {
                    "output_type": "stream",
                    "name": "stdout",
                    "text": "\r\u001b[2K   \u001b[91m━━━━━\u001b[0m\u001b[91m╸\u001b[0m\u001b[90m━━━━━━━━━━━━━━━━━━━━━━━━━━━━━━━━━━\u001b[0m \u001b[32m0.5/3.3 MB\u001b[0m \u001b[31m137.7 kB/s\u001b[0m eta \u001b[36m0:00:21\u001b[0m"
                },
                {
                    "output_type": "stream",
                    "name": "stdout",
                    "text": "\r\u001b[2K   \u001b[91m━━━━━\u001b[0m\u001b[91m╸\u001b[0m\u001b[90m━━━━━━━━━━━━━━━━━━━━━━━━━━━━━━━━━━\u001b[0m \u001b[32m0.5/3.3 MB\u001b[0m \u001b[31m137.7 kB/s\u001b[0m eta \u001b[36m0:00:21\u001b[0m\r\u001b[2K   \u001b[91m━━━━━\u001b[0m\u001b[91m╸\u001b[0m\u001b[90m━━━━━━━━━━━━━━━━━━━━━━━━━━━━━━━━━━\u001b[0m \u001b[32m0.5/3.3 MB\u001b[0m \u001b[31m137.7 kB/s\u001b[0m eta \u001b[36m0:00:21\u001b[0m"
                },
                {
                    "output_type": "stream",
                    "name": "stdout",
                    "text": "\r\u001b[2K   \u001b[91m━━━━━\u001b[0m\u001b[91m╸\u001b[0m\u001b[90m━━━━━━━━━━━━━━━━━━━━━━━━━━━━━━━━━━\u001b[0m \u001b[32m0.5/3.3 MB\u001b[0m \u001b[31m134.0 kB/s\u001b[0m eta \u001b[36m0:00:22\u001b[0m"
                },
                {
                    "output_type": "stream",
                    "name": "stdout",
                    "text": "\r\u001b[2K   \u001b[91m━━━━━\u001b[0m\u001b[91m╸\u001b[0m\u001b[90m━━━━━━━━━━━━━━━━━━━━━━━━━━━━━━━━━━\u001b[0m \u001b[32m0.5/3.3 MB\u001b[0m \u001b[31m134.0 kB/s\u001b[0m eta \u001b[36m0:00:22\u001b[0m\r\u001b[2K   \u001b[91m━━━━━\u001b[0m\u001b[91m╸\u001b[0m\u001b[90m━━━━━━━━━━━━━━━━━━━━━━━━━━━━━━━━━━\u001b[0m \u001b[32m0.5/3.3 MB\u001b[0m \u001b[31m134.0 kB/s\u001b[0m eta \u001b[36m0:00:22\u001b[0m"
                },
                {
                    "output_type": "stream",
                    "name": "stdout",
                    "text": "\r\u001b[2K   \u001b[91m━━━━━━\u001b[0m\u001b[90m╺\u001b[0m\u001b[90m━━━━━━━━━━━━━━━━━━━━━━━━━━━━━━━━━\u001b[0m \u001b[32m0.5/3.3 MB\u001b[0m \u001b[31m135.7 kB/s\u001b[0m eta \u001b[36m0:00:21\u001b[0m"
                },
                {
                    "output_type": "stream",
                    "name": "stdout",
                    "text": "\r\u001b[2K   \u001b[91m━━━━━━\u001b[0m\u001b[90m╺\u001b[0m\u001b[90m━━━━━━━━━━━━━━━━━━━━━━━━━━━━━━━━━\u001b[0m \u001b[32m0.5/3.3 MB\u001b[0m \u001b[31m135.7 kB/s\u001b[0m eta \u001b[36m0:00:21\u001b[0m"
                },
                {
                    "output_type": "stream",
                    "name": "stdout",
                    "text": "\r\u001b[2K   \u001b[91m━━━━━━\u001b[0m\u001b[90m╺\u001b[0m\u001b[90m━━━━━━━━━━━━━━━━━━━━━━━━━━━━━━━━━\u001b[0m \u001b[32m0.5/3.3 MB\u001b[0m \u001b[31m135.7 kB/s\u001b[0m eta \u001b[36m0:00:21\u001b[0m\r\u001b[2K   \u001b[91m━━━━━━\u001b[0m\u001b[90m╺\u001b[0m\u001b[90m━━━━━━━━━━━━━━━━━━━━━━━━━━━━━━━━━\u001b[0m \u001b[32m0.5/3.3 MB\u001b[0m \u001b[31m135.7 kB/s\u001b[0m eta \u001b[36m0:00:21\u001b[0m"
                },
                {
                    "output_type": "stream",
                    "name": "stdout",
                    "text": "\r\u001b[2K   \u001b[91m━━━━━━\u001b[0m\u001b[90m╺\u001b[0m\u001b[90m━━━━━━━━━━━━━━━━━━━━━━━━━━━━━━━━━\u001b[0m \u001b[32m0.5/3.3 MB\u001b[0m \u001b[31m135.7 kB/s\u001b[0m eta \u001b[36m0:00:21\u001b[0m"
                },
                {
                    "output_type": "stream",
                    "name": "stdout",
                    "text": "\r\u001b[2K   \u001b[91m━━━━━━\u001b[0m\u001b[90m╺\u001b[0m\u001b[90m━━━━━━━━━━━━━━━━━━━━━━━━━━━━━━━━━\u001b[0m \u001b[32m0.5/3.3 MB\u001b[0m \u001b[31m135.7 kB/s\u001b[0m eta \u001b[36m0:00:21\u001b[0m"
                },
                {
                    "output_type": "stream",
                    "name": "stdout",
                    "text": "\r\u001b[2K   \u001b[91m━━━━━━\u001b[0m\u001b[91m╸\u001b[0m\u001b[90m━━━━━━━━━━━━━━━━━━━━━━━━━━━━━━━━━\u001b[0m \u001b[32m0.5/3.3 MB\u001b[0m \u001b[31m135.7 kB/s\u001b[0m eta \u001b[36m0:00:21\u001b[0m\r\u001b[2K   \u001b[91m━━━━━━\u001b[0m\u001b[91m╸\u001b[0m\u001b[90m━━━━━━━━━━━━━━━━━━━━━━━━━━━━━━━━━\u001b[0m \u001b[32m0.5/3.3 MB\u001b[0m \u001b[31m135.7 kB/s\u001b[0m eta \u001b[36m0:00:21\u001b[0m"
                },
                {
                    "output_type": "stream",
                    "name": "stdout",
                    "text": "\r\u001b[2K   \u001b[91m━━━━━━\u001b[0m\u001b[91m╸\u001b[0m\u001b[90m━━━━━━━━━━━━━━━━━━━━━━━━━━━━━━━━━\u001b[0m \u001b[32m0.6/3.3 MB\u001b[0m \u001b[31m138.6 kB/s\u001b[0m eta \u001b[36m0:00:20\u001b[0m"
                },
                {
                    "output_type": "stream",
                    "name": "stdout",
                    "text": "\r\u001b[2K   \u001b[91m━━━━━━\u001b[0m\u001b[91m╸\u001b[0m\u001b[90m━━━━━━━━━━━━━━━━━━━━━━━━━━━━━━━━━\u001b[0m \u001b[32m0.6/3.3 MB\u001b[0m \u001b[31m138.6 kB/s\u001b[0m eta \u001b[36m0:00:20\u001b[0m\r\u001b[2K   \u001b[91m━━━━━━━\u001b[0m\u001b[90m╺\u001b[0m\u001b[90m━━━━━━━━━━━━━━━━━━━━━━━━━━━━━━━━\u001b[0m \u001b[32m0.6/3.3 MB\u001b[0m \u001b[31m142.6 kB/s\u001b[0m eta \u001b[36m0:00:20\u001b[0m"
                },
                {
                    "output_type": "stream",
                    "name": "stdout",
                    "text": "\r\u001b[2K   \u001b[91m━━━━━━━\u001b[0m\u001b[90m╺\u001b[0m\u001b[90m━━━━━━━━━━━━━━━━━━━━━━━━━━━━━━━━\u001b[0m \u001b[32m0.6/3.3 MB\u001b[0m \u001b[31m142.6 kB/s\u001b[0m eta \u001b[36m0:00:20\u001b[0m"
                },
                {
                    "output_type": "stream",
                    "name": "stdout",
                    "text": "\r\u001b[2K   \u001b[91m━━━━━━━\u001b[0m\u001b[90m╺\u001b[0m\u001b[90m━━━━━━━━━━━━━━━━━━━━━━━━━━━━━━━━\u001b[0m \u001b[32m0.6/3.3 MB\u001b[0m \u001b[31m145.3 kB/s\u001b[0m eta \u001b[36m0:00:19\u001b[0m\r\u001b[2K   \u001b[91m━━━━━━━\u001b[0m\u001b[91m╸\u001b[0m\u001b[90m━━━━━━━━━━━━━━━━━━━━━━━━━━━━━━━━\u001b[0m \u001b[32m0.6/3.3 MB\u001b[0m \u001b[31m151.1 kB/s\u001b[0m eta \u001b[36m0:00:18\u001b[0m"
                },
                {
                    "output_type": "stream",
                    "name": "stdout",
                    "text": "\r\u001b[2K   \u001b[91m━━━━━━━━\u001b[0m\u001b[90m╺\u001b[0m\u001b[90m━━━━━━━━━━━━━━━━━━━━━━━━━━━━━━━\u001b[0m \u001b[32m0.7/3.3 MB\u001b[0m \u001b[31m157.0 kB/s\u001b[0m eta \u001b[36m0:00:17\u001b[0m"
                },
                {
                    "output_type": "stream",
                    "name": "stdout",
                    "text": "\r\u001b[2K   \u001b[91m━━━━━━━━\u001b[0m\u001b[91m╸\u001b[0m\u001b[90m━━━━━━━━━━━━━━━━━━━━━━━━━━━━━━━\u001b[0m \u001b[32m0.7/3.3 MB\u001b[0m \u001b[31m162.7 kB/s\u001b[0m eta \u001b[36m0:00:17\u001b[0m"
                },
                {
                    "output_type": "stream",
                    "name": "stdout",
                    "text": "\r\u001b[2K   \u001b[91m━━━━━━━━━\u001b[0m\u001b[90m╺\u001b[0m\u001b[90m━━━━━━━━━━━━━━━━━━━━━━━━━━━━━━\u001b[0m \u001b[32m0.8/3.3 MB\u001b[0m \u001b[31m173.0 kB/s\u001b[0m eta \u001b[36m0:00:15\u001b[0m\r\u001b[2K   \u001b[91m━━━━━━━━━\u001b[0m\u001b[91m╸\u001b[0m\u001b[90m━━━━━━━━━━━━━━━━━━━━━━━━━━━━━━\u001b[0m \u001b[32m0.8/3.3 MB\u001b[0m \u001b[31m183.1 kB/s\u001b[0m eta \u001b[36m0:00:14\u001b[0m"
                },
                {
                    "output_type": "stream",
                    "name": "stdout",
                    "text": "\r\u001b[2K   \u001b[91m━━━━━━━━━━\u001b[0m\u001b[90m╺\u001b[0m\u001b[90m━━━━━━━━━━━━━━━━━━━━━━━━━━━━━\u001b[0m \u001b[32m0.8/3.3 MB\u001b[0m \u001b[31m189.3 kB/s\u001b[0m eta \u001b[36m0:00:14\u001b[0m"
                },
                {
                    "output_type": "stream",
                    "name": "stdout",
                    "text": "\r\u001b[2K   \u001b[91m━━━━━━━━━━\u001b[0m\u001b[90m╺\u001b[0m\u001b[90m━━━━━━━━━━━━━━━━━━━━━━━━━━━━━\u001b[0m \u001b[32m0.9/3.3 MB\u001b[0m \u001b[31m193.6 kB/s\u001b[0m eta \u001b[36m0:00:13\u001b[0m"
                },
                {
                    "output_type": "stream",
                    "name": "stdout",
                    "text": "\r\u001b[2K   \u001b[91m━━━━━━━━━━\u001b[0m\u001b[91m╸\u001b[0m\u001b[90m━━━━━━━━━━━━━━━━━━━━━━━━━━━━━\u001b[0m \u001b[32m0.9/3.3 MB\u001b[0m \u001b[31m199.0 kB/s\u001b[0m eta \u001b[36m0:00:13\u001b[0m\r\u001b[2K   \u001b[91m━━━━━━━━━━━\u001b[0m\u001b[90m╺\u001b[0m\u001b[90m━━━━━━━━━━━━━━━━━━━━━━━━━━━━\u001b[0m \u001b[32m0.9/3.3 MB\u001b[0m \u001b[31m202.2 kB/s\u001b[0m eta \u001b[36m0:00:12\u001b[0m"
                },
                {
                    "output_type": "stream",
                    "name": "stdout",
                    "text": "\r\u001b[2K   \u001b[91m━━━━━━━━━━━\u001b[0m\u001b[90m╺\u001b[0m\u001b[90m━━━━━━━━━━━━━━━━━━━━━━━━━━━━\u001b[0m \u001b[32m0.9/3.3 MB\u001b[0m \u001b[31m203.0 kB/s\u001b[0m eta \u001b[36m0:00:12\u001b[0m"
                },
                {
                    "output_type": "stream",
                    "name": "stdout",
                    "text": "\r\u001b[2K   \u001b[91m━━━━━━━━━━━\u001b[0m\u001b[90m╺\u001b[0m\u001b[90m━━━━━━━━━━━━━━━━━━━━━━━━━━━━\u001b[0m \u001b[32m0.9/3.3 MB\u001b[0m \u001b[31m203.0 kB/s\u001b[0m eta \u001b[36m0:00:12\u001b[0m\r\u001b[2K   \u001b[91m━━━━━━━━━━━\u001b[0m\u001b[90m╺\u001b[0m\u001b[90m━━━━━━━━━━━━━━━━━━━━━━━━━━━━\u001b[0m \u001b[32m0.9/3.3 MB\u001b[0m \u001b[31m203.0 kB/s\u001b[0m eta \u001b[36m0:00:12\u001b[0m"
                },
                {
                    "output_type": "stream",
                    "name": "stdout",
                    "text": "\r\u001b[2K   \u001b[91m━━━━━━━━━━━\u001b[0m\u001b[90m╺\u001b[0m\u001b[90m━━━━━━━━━━━━━━━━━━━━━━━━━━━━\u001b[0m \u001b[32m1.0/3.3 MB\u001b[0m \u001b[31m203.2 kB/s\u001b[0m eta \u001b[36m0:00:12\u001b[0m"
                },
                {
                    "output_type": "stream",
                    "name": "stdout",
                    "text": "\r\u001b[2K   \u001b[91m━━━━━━━━━━━\u001b[0m\u001b[91m╸\u001b[0m\u001b[90m━━━━━━━━━━━━━━━━━━━━━━━━━━━━\u001b[0m \u001b[32m1.0/3.3 MB\u001b[0m \u001b[31m206.4 kB/s\u001b[0m eta \u001b[36m0:00:12\u001b[0m\r\u001b[2K   \u001b[91m━━━━━━━━━━━\u001b[0m\u001b[91m╸\u001b[0m\u001b[90m━━━━━━━━━━━━━━━━━━━━━━━━━━━━\u001b[0m \u001b[32m1.0/3.3 MB\u001b[0m \u001b[31m206.4 kB/s\u001b[0m eta \u001b[36m0:00:12\u001b[0m"
                },
                {
                    "output_type": "stream",
                    "name": "stdout",
                    "text": "\r\u001b[2K   \u001b[91m━━━━━━━━━━━━\u001b[0m\u001b[90m╺\u001b[0m\u001b[90m━━━━━━━━━━━━━━━━━━━━━━━━━━━\u001b[0m \u001b[32m1.0/3.3 MB\u001b[0m \u001b[31m208.7 kB/s\u001b[0m eta \u001b[36m0:00:12\u001b[0m"
                },
                {
                    "output_type": "stream",
                    "name": "stdout",
                    "text": "\r\u001b[2K   \u001b[91m━━━━━━━━━━━━\u001b[0m\u001b[90m╺\u001b[0m\u001b[90m━━━━━━━━━━━━━━━━━━━━━━━━━━━\u001b[0m \u001b[32m1.0/3.3 MB\u001b[0m \u001b[31m208.7 kB/s\u001b[0m eta \u001b[36m0:00:12\u001b[0m"
                },
                {
                    "output_type": "stream",
                    "name": "stdout",
                    "text": "\r\u001b[2K   \u001b[91m━━━━━━━━━━━━\u001b[0m\u001b[90m╺\u001b[0m\u001b[90m━━━━━━━━━━━━━━━━━━━━━━━━━━━\u001b[0m \u001b[32m1.0/3.3 MB\u001b[0m \u001b[31m206.5 kB/s\u001b[0m eta \u001b[36m0:00:12\u001b[0m\r\u001b[2K   \u001b[91m━━━━━━━━━━━━\u001b[0m\u001b[90m╺\u001b[0m\u001b[90m━━━━━━━━━━━━━━━━━━━━━━━━━━━\u001b[0m \u001b[32m1.0/3.3 MB\u001b[0m \u001b[31m209.5 kB/s\u001b[0m eta \u001b[36m0:00:11\u001b[0m"
                },
                {
                    "output_type": "stream",
                    "name": "stdout",
                    "text": "\r\u001b[2K   \u001b[91m━━━━━━━━━━━━\u001b[0m\u001b[90m╺\u001b[0m\u001b[90m━━━━━━━━━━━━━━━━━━━━━━━━━━━\u001b[0m \u001b[32m1.0/3.3 MB\u001b[0m \u001b[31m209.5 kB/s\u001b[0m eta \u001b[36m0:00:11\u001b[0m"
                },
                {
                    "output_type": "stream",
                    "name": "stdout",
                    "text": "\r\u001b[2K   \u001b[91m━━━━━━━━━━━━\u001b[0m\u001b[90m╺\u001b[0m\u001b[90m━━━━━━━━━━━━━━━━━━━━━━━━━━━\u001b[0m \u001b[32m1.0/3.3 MB\u001b[0m \u001b[31m209.5 kB/s\u001b[0m eta \u001b[36m0:00:11\u001b[0m"
                },
                {
                    "output_type": "stream",
                    "name": "stdout",
                    "text": "\r\u001b[2K   \u001b[91m━━━━━━━━━━━━\u001b[0m\u001b[90m╺\u001b[0m\u001b[90m━━━━━━━━━━━━━━━━━━━━━━━━━━━\u001b[0m \u001b[32m1.0/3.3 MB\u001b[0m \u001b[31m209.5 kB/s\u001b[0m eta \u001b[36m0:00:11\u001b[0m\r\u001b[2K   \u001b[91m━━━━━━━━━━━━\u001b[0m\u001b[90m╺\u001b[0m\u001b[90m━━━━━━━━━━━━━━━━━━━━━━━━━━━\u001b[0m \u001b[32m1.0/3.3 MB\u001b[0m \u001b[31m209.5 kB/s\u001b[0m eta \u001b[36m0:00:11\u001b[0m"
                },
                {
                    "output_type": "stream",
                    "name": "stdout",
                    "text": "\r\u001b[2K   \u001b[91m━━━━━━━━━━━━\u001b[0m\u001b[90m╺\u001b[0m\u001b[90m━━━━━━━━━━━━━━━━━━━━━━━━━━━\u001b[0m \u001b[32m1.0/3.3 MB\u001b[0m \u001b[31m209.5 kB/s\u001b[0m eta \u001b[36m0:00:11\u001b[0m"
                },
                {
                    "output_type": "stream",
                    "name": "stdout",
                    "text": "\r\u001b[2K   \u001b[91m━━━━━━━━━━━━\u001b[0m\u001b[90m╺\u001b[0m\u001b[90m━━━━━━━━━━━━━━━━━━━━━━━━━━━\u001b[0m \u001b[32m1.0/3.3 MB\u001b[0m \u001b[31m209.5 kB/s\u001b[0m eta \u001b[36m0:00:11\u001b[0m\r\u001b[2K   \u001b[91m━━━━━━━━━━━━\u001b[0m\u001b[90m╺\u001b[0m\u001b[90m━━━━━━━━━━━━━━━━━━━━━━━━━━━\u001b[0m \u001b[32m1.0/3.3 MB\u001b[0m \u001b[31m209.5 kB/s\u001b[0m eta \u001b[36m0:00:11\u001b[0m"
                },
                {
                    "output_type": "stream",
                    "name": "stdout",
                    "text": "\r\u001b[2K   \u001b[91m━━━━━━━━━━━━\u001b[0m\u001b[90m╺\u001b[0m\u001b[90m━━━━━━━━━━━━━━━━━━━━━━━━━━━\u001b[0m \u001b[32m1.0/3.3 MB\u001b[0m \u001b[31m209.5 kB/s\u001b[0m eta \u001b[36m0:00:11\u001b[0m"
                },
                {
                    "output_type": "stream",
                    "name": "stdout",
                    "text": "\r\u001b[2K   \u001b[91m━━━━━━━━━━━━\u001b[0m\u001b[90m╺\u001b[0m\u001b[90m━━━━━━━━━━━━━━━━━━━━━━━━━━━\u001b[0m \u001b[32m1.0/3.3 MB\u001b[0m \u001b[31m209.5 kB/s\u001b[0m eta \u001b[36m0:00:11\u001b[0m"
                },
                {
                    "output_type": "stream",
                    "name": "stdout",
                    "text": "\r\u001b[2K   \u001b[91m━━━━━━━━━━━━\u001b[0m\u001b[90m╺\u001b[0m\u001b[90m━━━━━━━━━━━━━━━━━━━━━━━━━━━\u001b[0m \u001b[32m1.0/3.3 MB\u001b[0m \u001b[31m209.5 kB/s\u001b[0m eta \u001b[36m0:00:11\u001b[0m\r\u001b[2K   \u001b[91m━━━━━━━━━━━━\u001b[0m\u001b[91m╸\u001b[0m\u001b[90m━━━━━━━━━━━━━━━━━━━━━━━━━━━\u001b[0m \u001b[32m1.0/3.3 MB\u001b[0m \u001b[31m194.8 kB/s\u001b[0m eta \u001b[36m0:00:12\u001b[0m"
                },
                {
                    "output_type": "stream",
                    "name": "stdout",
                    "text": "\r\u001b[2K   \u001b[91m━━━━━━━━━━━━\u001b[0m\u001b[91m╸\u001b[0m\u001b[90m━━━━━━━━━━━━━━━━━━━━━━━━━━━\u001b[0m \u001b[32m1.0/3.3 MB\u001b[0m \u001b[31m194.8 kB/s\u001b[0m eta \u001b[36m0:00:12\u001b[0m"
                },
                {
                    "output_type": "stream",
                    "name": "stdout",
                    "text": "\r\u001b[2K   \u001b[91m━━━━━━━━━━━━\u001b[0m\u001b[91m╸\u001b[0m\u001b[90m━━━━━━━━━━━━━━━━━━━━━━━━━━━\u001b[0m \u001b[32m1.0/3.3 MB\u001b[0m \u001b[31m194.8 kB/s\u001b[0m eta \u001b[36m0:00:12\u001b[0m\r\u001b[2K   \u001b[91m━━━━━━━━━━━━\u001b[0m\u001b[91m╸\u001b[0m\u001b[90m━━━━━━━━━━━━━━━━━━━━━━━━━━━\u001b[0m \u001b[32m1.0/3.3 MB\u001b[0m \u001b[31m194.8 kB/s\u001b[0m eta \u001b[36m0:00:12\u001b[0m"
                },
                {
                    "output_type": "stream",
                    "name": "stdout",
                    "text": "\r\u001b[2K   \u001b[91m━━━━━━━━━━━━\u001b[0m\u001b[91m╸\u001b[0m\u001b[90m━━━━━━━━━━━━━━━━━━━━━━━━━━━\u001b[0m \u001b[32m1.0/3.3 MB\u001b[0m \u001b[31m194.8 kB/s\u001b[0m eta \u001b[36m0:00:12\u001b[0m"
                },
                {
                    "output_type": "stream",
                    "name": "stdout",
                    "text": "\r\u001b[2K   \u001b[91m━━━━━━━━━━━━\u001b[0m\u001b[91m╸\u001b[0m\u001b[90m━━━━━━━━━━━━━━━━━━━━━━━━━━━\u001b[0m \u001b[32m1.0/3.3 MB\u001b[0m \u001b[31m194.8 kB/s\u001b[0m eta \u001b[36m0:00:12\u001b[0m"
                },
                {
                    "output_type": "stream",
                    "name": "stdout",
                    "text": "\r\u001b[2K   \u001b[91m━━━━━━━━━━━━\u001b[0m\u001b[91m╸\u001b[0m\u001b[90m━━━━━━━━━━━━━━━━━━━━━━━━━━━\u001b[0m \u001b[32m1.0/3.3 MB\u001b[0m \u001b[31m194.8 kB/s\u001b[0m eta \u001b[36m0:00:12\u001b[0m\r\u001b[2K   \u001b[91m━━━━━━━━━━━━\u001b[0m\u001b[91m╸\u001b[0m\u001b[90m━━━━━━━━━━━━━━━━━━━━━━━━━━━\u001b[0m \u001b[32m1.0/3.3 MB\u001b[0m \u001b[31m194.8 kB/s\u001b[0m eta \u001b[36m0:00:12\u001b[0m"
                },
                {
                    "output_type": "stream",
                    "name": "stdout",
                    "text": "\r\u001b[2K   \u001b[91m━━━━━━━━━━━━\u001b[0m\u001b[91m╸\u001b[0m\u001b[90m━━━━━━━━━━━━━━━━━━━━━━━━━━━\u001b[0m \u001b[32m1.0/3.3 MB\u001b[0m \u001b[31m194.8 kB/s\u001b[0m eta \u001b[36m0:00:12\u001b[0m"
                },
                {
                    "output_type": "stream",
                    "name": "stdout",
                    "text": "\r\u001b[2K   \u001b[91m━━━━━━━━━━━━\u001b[0m\u001b[91m╸\u001b[0m\u001b[90m━━━━━━━━━━━━━━━━━━━━━━━━━━━\u001b[0m \u001b[32m1.0/3.3 MB\u001b[0m \u001b[31m194.8 kB/s\u001b[0m eta \u001b[36m0:00:12\u001b[0m\r\u001b[2K   \u001b[91m━━━━━━━━━━━━\u001b[0m\u001b[91m╸\u001b[0m\u001b[90m━━━━━━━━━━━━━━━━━━━━━━━━━━━\u001b[0m \u001b[32m1.0/3.3 MB\u001b[0m \u001b[31m194.8 kB/s\u001b[0m eta \u001b[36m0:00:12\u001b[0m"
                },
                {
                    "output_type": "stream",
                    "name": "stdout",
                    "text": "\r\u001b[2K   \u001b[91m━━━━━━━━━━━━\u001b[0m\u001b[91m╸\u001b[0m\u001b[90m━━━━━━━━━━━━━━━━━━━━━━━━━━━\u001b[0m \u001b[32m1.0/3.3 MB\u001b[0m \u001b[31m194.8 kB/s\u001b[0m eta \u001b[36m0:00:12\u001b[0m"
                },
                {
                    "output_type": "stream",
                    "name": "stdout",
                    "text": "\r\u001b[2K   \u001b[91m━━━━━━━━━━━━\u001b[0m\u001b[91m╸\u001b[0m\u001b[90m━━━━━━━━━━━━━━━━━━━━━━━━━━━\u001b[0m \u001b[32m1.1/3.3 MB\u001b[0m \u001b[31m182.4 kB/s\u001b[0m eta \u001b[36m0:00:13\u001b[0m"
                },
                {
                    "output_type": "stream",
                    "name": "stdout",
                    "text": "\r\u001b[2K   \u001b[91m━━━━━━━━━━━━━\u001b[0m\u001b[90m╺\u001b[0m\u001b[90m━━━━━━━━━━━━━━━━━━━━━━━━━━\u001b[0m \u001b[32m1.1/3.3 MB\u001b[0m \u001b[31m185.5 kB/s\u001b[0m eta \u001b[36m0:00:13\u001b[0m\r\u001b[2K   \u001b[91m━━━━━━━━━━━━━\u001b[0m\u001b[90m╺\u001b[0m\u001b[90m━━━━━━━━━━━━━━━━━━━━━━━━━━\u001b[0m \u001b[32m1.1/3.3 MB\u001b[0m \u001b[31m185.5 kB/s\u001b[0m eta \u001b[36m0:00:13\u001b[0m"
                },
                {
                    "output_type": "stream",
                    "name": "stdout",
                    "text": "\r\u001b[2K   \u001b[91m━━━━━━━━━━━━━\u001b[0m\u001b[90m╺\u001b[0m\u001b[90m━━━━━━━━━━━━━━━━━━━━━━━━━━\u001b[0m \u001b[32m1.1/3.3 MB\u001b[0m \u001b[31m185.5 kB/s\u001b[0m eta \u001b[36m0:00:13\u001b[0m"
                },
                {
                    "output_type": "stream",
                    "name": "stdout",
                    "text": "\r\u001b[2K   \u001b[91m━━━━━━━━━━━━━\u001b[0m\u001b[90m╺\u001b[0m\u001b[90m━━━━━━━━━━━━━━━━━━━━━━━━━━\u001b[0m \u001b[32m1.1/3.3 MB\u001b[0m \u001b[31m185.5 kB/s\u001b[0m eta \u001b[36m0:00:13\u001b[0m\r\u001b[2K   \u001b[91m━━━━━━━━━━━━━\u001b[0m\u001b[90m╺\u001b[0m\u001b[90m━━━━━━━━━━━━━━━━━━━━━━━━━━\u001b[0m \u001b[32m1.1/3.3 MB\u001b[0m \u001b[31m185.5 kB/s\u001b[0m eta \u001b[36m0:00:13\u001b[0m"
                },
                {
                    "output_type": "stream",
                    "name": "stdout",
                    "text": "\r\u001b[2K   \u001b[91m━━━━━━━━━━━━━\u001b[0m\u001b[90m╺\u001b[0m\u001b[90m━━━━━━━━━━━━━━━━━━━━━━━━━━\u001b[0m \u001b[32m1.1/3.3 MB\u001b[0m \u001b[31m185.5 kB/s\u001b[0m eta \u001b[36m0:00:13\u001b[0m"
                },
                {
                    "output_type": "stream",
                    "name": "stdout",
                    "text": "\r\u001b[2K   \u001b[91m━━━━━━━━━━━━━\u001b[0m\u001b[90m╺\u001b[0m\u001b[90m━━━━━━━━━━━━━━━━━━━━━━━━━━\u001b[0m \u001b[32m1.1/3.3 MB\u001b[0m \u001b[31m185.5 kB/s\u001b[0m eta \u001b[36m0:00:13\u001b[0m"
                },
                {
                    "output_type": "stream",
                    "name": "stdout",
                    "text": "\r\u001b[2K   \u001b[91m━━━━━━━━━━━━━\u001b[0m\u001b[90m╺\u001b[0m\u001b[90m━━━━━━━━━━━━━━━━━━━━━━━━━━\u001b[0m \u001b[32m1.1/3.3 MB\u001b[0m \u001b[31m185.5 kB/s\u001b[0m eta \u001b[36m0:00:13\u001b[0m\r\u001b[2K   \u001b[91m━━━━━━━━━━━━━\u001b[0m\u001b[90m╺\u001b[0m\u001b[90m━━━━━━━━━━━━━━━━━━━━━━━━━━\u001b[0m \u001b[32m1.1/3.3 MB\u001b[0m \u001b[31m185.5 kB/s\u001b[0m eta \u001b[36m0:00:13\u001b[0m"
                },
                {
                    "output_type": "stream",
                    "name": "stdout",
                    "text": "\r\u001b[2K   \u001b[91m━━━━━━━━━━━━━\u001b[0m\u001b[90m╺\u001b[0m\u001b[90m━━━━━━━━━━━━━━━━━━━━━━━━━━\u001b[0m \u001b[32m1.1/3.3 MB\u001b[0m \u001b[31m176.0 kB/s\u001b[0m eta \u001b[36m0:00:13\u001b[0m"
                },
                {
                    "output_type": "stream",
                    "name": "stdout",
                    "text": "\r\u001b[2K   \u001b[91m━━━━━━━━━━━━━\u001b[0m\u001b[90m╺\u001b[0m\u001b[90m━━━━━━━━━━━━━━━━━━━━━━━━━━\u001b[0m \u001b[32m1.1/3.3 MB\u001b[0m \u001b[31m176.0 kB/s\u001b[0m eta \u001b[36m0:00:13\u001b[0m\r\u001b[2K   \u001b[91m━━━━━━━━━━━━━\u001b[0m\u001b[90m╺\u001b[0m\u001b[90m━━━━━━━━━━━━━━━━━━━━━━━━━━\u001b[0m \u001b[32m1.1/3.3 MB\u001b[0m \u001b[31m176.0 kB/s\u001b[0m eta \u001b[36m0:00:13\u001b[0m"
                },
                {
                    "output_type": "stream",
                    "name": "stdout",
                    "text": "\r\u001b[2K   \u001b[91m━━━━━━━━━━━━━\u001b[0m\u001b[90m╺\u001b[0m\u001b[90m━━━━━━━━━━━━━━━━━━━━━━━━━━\u001b[0m \u001b[32m1.1/3.3 MB\u001b[0m \u001b[31m176.0 kB/s\u001b[0m eta \u001b[36m0:00:13\u001b[0m"
                },
                {
                    "output_type": "stream",
                    "name": "stdout",
                    "text": "\r\u001b[2K   \u001b[91m━━━━━━━━━━━━━\u001b[0m\u001b[90m╺\u001b[0m\u001b[90m━━━━━━━━━━━━━━━━━━━━━━━━━━\u001b[0m \u001b[32m1.1/3.3 MB\u001b[0m \u001b[31m176.0 kB/s\u001b[0m eta \u001b[36m0:00:13\u001b[0m"
                },
                {
                    "output_type": "stream",
                    "name": "stdout",
                    "text": "\r\u001b[2K   \u001b[91m━━━━━━━━━━━━━\u001b[0m\u001b[90m╺\u001b[0m\u001b[90m━━━━━━━━━━━━━━━━━━━━━━━━━━\u001b[0m \u001b[32m1.1/3.3 MB\u001b[0m \u001b[31m174.1 kB/s\u001b[0m eta \u001b[36m0:00:13\u001b[0m\r\u001b[2K   \u001b[91m━━━━━━━━━━━━━\u001b[0m\u001b[90m╺\u001b[0m\u001b[90m━━━━━━━━━━━━━━━━━━━━━━━━━━\u001b[0m \u001b[32m1.1/3.3 MB\u001b[0m \u001b[31m174.1 kB/s\u001b[0m eta \u001b[36m0:00:13\u001b[0m"
                },
                {
                    "output_type": "stream",
                    "name": "stdout",
                    "text": "\r\u001b[2K   \u001b[91m━━━━━━━━━━━━━\u001b[0m\u001b[90m╺\u001b[0m\u001b[90m━━━━━━━━━━━━━━━━━━━━━━━━━━\u001b[0m \u001b[32m1.1/3.3 MB\u001b[0m \u001b[31m174.1 kB/s\u001b[0m eta \u001b[36m0:00:13\u001b[0m"
                },
                {
                    "output_type": "stream",
                    "name": "stdout",
                    "text": "\r\u001b[2K   \u001b[91m━━━━━━━━━━━━━\u001b[0m\u001b[90m╺\u001b[0m\u001b[90m━━━━━━━━━━━━━━━━━━━━━━━━━━\u001b[0m \u001b[32m1.1/3.3 MB\u001b[0m \u001b[31m174.1 kB/s\u001b[0m eta \u001b[36m0:00:13\u001b[0m\r\u001b[2K   \u001b[91m━━━━━━━━━━━━━\u001b[0m\u001b[90m╺\u001b[0m\u001b[90m━━━━━━━━━━━━━━━━━━━━━━━━━━\u001b[0m \u001b[32m1.1/3.3 MB\u001b[0m \u001b[31m174.1 kB/s\u001b[0m eta \u001b[36m0:00:13\u001b[0m"
                },
                {
                    "output_type": "stream",
                    "name": "stdout",
                    "text": "\r\u001b[2K   \u001b[91m━━━━━━━━━━━━━\u001b[0m\u001b[91m╸\u001b[0m\u001b[90m━━━━━━━━━━━━━━━━━━━━━━━━━━\u001b[0m \u001b[32m1.1/3.3 MB\u001b[0m \u001b[31m170.5 kB/s\u001b[0m eta \u001b[36m0:00:13\u001b[0m"
                },
                {
                    "output_type": "stream",
                    "name": "stdout",
                    "text": "\r\u001b[2K   \u001b[91m━━━━━━━━━━━━━\u001b[0m\u001b[91m╸\u001b[0m\u001b[90m━━━━━━━━━━━━━━━━━━━━━━━━━━\u001b[0m \u001b[32m1.1/3.3 MB\u001b[0m \u001b[31m170.5 kB/s\u001b[0m eta \u001b[36m0:00:13\u001b[0m"
                },
                {
                    "output_type": "stream",
                    "name": "stdout",
                    "text": "\r\u001b[2K   \u001b[91m━━━━━━━━━━━━━\u001b[0m\u001b[91m╸\u001b[0m\u001b[90m━━━━━━━━━━━━━━━━━━━━━━━━━━\u001b[0m \u001b[32m1.1/3.3 MB\u001b[0m \u001b[31m170.5 kB/s\u001b[0m eta \u001b[36m0:00:13\u001b[0m\r\u001b[2K   \u001b[91m━━━━━━━━━━━━━\u001b[0m\u001b[91m╸\u001b[0m\u001b[90m━━━━━━━━━━━━━━━━━━━━━━━━━━\u001b[0m \u001b[32m1.1/3.3 MB\u001b[0m \u001b[31m170.5 kB/s\u001b[0m eta \u001b[36m0:00:13\u001b[0m"
                },
                {
                    "output_type": "stream",
                    "name": "stdout",
                    "text": "\r\u001b[2K   \u001b[91m━━━━━━━━━━━━━\u001b[0m\u001b[91m╸\u001b[0m\u001b[90m━━━━━━━━━━━━━━━━━━━━━━━━━━\u001b[0m \u001b[32m1.1/3.3 MB\u001b[0m \u001b[31m170.5 kB/s\u001b[0m eta \u001b[36m0:00:13\u001b[0m"
                },
                {
                    "output_type": "stream",
                    "name": "stdout",
                    "text": "\r\u001b[2K   \u001b[91m━━━━━━━━━━━━━\u001b[0m\u001b[91m╸\u001b[0m\u001b[90m━━━━━━━━━━━━━━━━━━━━━━━━━━\u001b[0m \u001b[32m1.1/3.3 MB\u001b[0m \u001b[31m170.5 kB/s\u001b[0m eta \u001b[36m0:00:13\u001b[0m"
                },
                {
                    "output_type": "stream",
                    "name": "stdout",
                    "text": "\r\u001b[2K   \u001b[91m━━━━━━━━━━━━━\u001b[0m\u001b[91m╸\u001b[0m\u001b[90m━━━━━━━━━━━━━━━━━━━━━━━━━━\u001b[0m \u001b[32m1.1/3.3 MB\u001b[0m \u001b[31m170.5 kB/s\u001b[0m eta \u001b[36m0:00:13\u001b[0m\r\u001b[2K   \u001b[91m━━━━━━━━━━━━━\u001b[0m\u001b[91m╸\u001b[0m\u001b[90m━━━━━━━━━━━━━━━━━━━━━━━━━━\u001b[0m \u001b[32m1.1/3.3 MB\u001b[0m \u001b[31m170.5 kB/s\u001b[0m eta \u001b[36m0:00:13\u001b[0m"
                },
                {
                    "output_type": "stream",
                    "name": "stdout",
                    "text": "\r\u001b[2K   \u001b[91m━━━━━━━━━━━━━\u001b[0m\u001b[91m╸\u001b[0m\u001b[90m━━━━━━━━━━━━━━━━━━━━━━━━━━\u001b[0m \u001b[32m1.1/3.3 MB\u001b[0m \u001b[31m170.5 kB/s\u001b[0m eta \u001b[36m0:00:13\u001b[0m"
                },
                {
                    "output_type": "stream",
                    "name": "stdout",
                    "text": "\r\u001b[2K   \u001b[91m━━━━━━━━━━━━━\u001b[0m\u001b[91m╸\u001b[0m\u001b[90m━━━━━━━━━━━━━━━━━━━━━━━━━━\u001b[0m \u001b[32m1.1/3.3 MB\u001b[0m \u001b[31m170.5 kB/s\u001b[0m eta \u001b[36m0:00:13\u001b[0m\r\u001b[2K   \u001b[91m━━━━━━━━━━━━━\u001b[0m\u001b[91m╸\u001b[0m\u001b[90m━━━━━━━━━━━━━━━━━━━━━━━━━━\u001b[0m \u001b[32m1.1/3.3 MB\u001b[0m \u001b[31m170.5 kB/s\u001b[0m eta \u001b[36m0:00:13\u001b[0m"
                },
                {
                    "output_type": "stream",
                    "name": "stdout",
                    "text": "\r\u001b[2K   \u001b[91m━━━━━━━━━━━━━\u001b[0m\u001b[91m╸\u001b[0m\u001b[90m━━━━━━━━━━━━━━━━━━━━━━━━━━\u001b[0m \u001b[32m1.1/3.3 MB\u001b[0m \u001b[31m170.5 kB/s\u001b[0m eta \u001b[36m0:00:13\u001b[0m"
                },
                {
                    "output_type": "stream",
                    "name": "stdout",
                    "text": "\r\u001b[2K   \u001b[91m━━━━━━━━━━━━━\u001b[0m\u001b[91m╸\u001b[0m\u001b[90m━━━━━━━━━━━━━━━━━━━━━━━━━━\u001b[0m \u001b[32m1.1/3.3 MB\u001b[0m \u001b[31m170.5 kB/s\u001b[0m eta \u001b[36m0:00:13\u001b[0m"
                },
                {
                    "output_type": "stream",
                    "name": "stdout",
                    "text": "\r\u001b[2K   \u001b[91m━━━━━━━━━━━━━\u001b[0m\u001b[91m╸\u001b[0m\u001b[90m━━━━━━━━━━━━━━━━━━━━━━━━━━\u001b[0m \u001b[32m1.1/3.3 MB\u001b[0m \u001b[31m170.5 kB/s\u001b[0m eta \u001b[36m0:00:13\u001b[0m\r\u001b[2K   \u001b[91m━━━━━━━━━━━━━\u001b[0m\u001b[91m╸\u001b[0m\u001b[90m━━━━━━━━━━━━━━━━━━━━━━━━━━\u001b[0m \u001b[32m1.1/3.3 MB\u001b[0m \u001b[31m170.5 kB/s\u001b[0m eta \u001b[36m0:00:13\u001b[0m"
                },
                {
                    "output_type": "stream",
                    "name": "stdout",
                    "text": "\r\u001b[2K   \u001b[91m━━━━━━━━━━━━━\u001b[0m\u001b[91m╸\u001b[0m\u001b[90m━━━━━━━━━━━━━━━━━━━━━━━━━━\u001b[0m \u001b[32m1.1/3.3 MB\u001b[0m \u001b[31m170.5 kB/s\u001b[0m eta \u001b[36m0:00:13\u001b[0m"
                },
                {
                    "output_type": "stream",
                    "name": "stdout",
                    "text": "\r\u001b[2K   \u001b[91m━━━━━━━━━━━━━\u001b[0m\u001b[91m╸\u001b[0m\u001b[90m━━━━━━━━━━━━━━━━━━━━━━━━━━\u001b[0m \u001b[32m1.1/3.3 MB\u001b[0m \u001b[31m170.5 kB/s\u001b[0m eta \u001b[36m0:00:13\u001b[0m\r\u001b[2K   \u001b[91m━━━━━━━━━━━━━\u001b[0m\u001b[91m╸\u001b[0m\u001b[90m━━━━━━━━━━━━━━━━━━━━━━━━━━\u001b[0m \u001b[32m1.1/3.3 MB\u001b[0m \u001b[31m170.5 kB/s\u001b[0m eta \u001b[36m0:00:13\u001b[0m"
                },
                {
                    "output_type": "stream",
                    "name": "stdout",
                    "text": "\r\u001b[2K   \u001b[91m━━━━━━━━━━━━━━\u001b[0m\u001b[90m╺\u001b[0m\u001b[90m━━━━━━━━━━━━━━━━━━━━━━━━━\u001b[0m \u001b[32m1.2/3.3 MB\u001b[0m \u001b[31m160.1 kB/s\u001b[0m eta \u001b[36m0:00:14\u001b[0m"
                },
                {
                    "output_type": "stream",
                    "name": "stdout",
                    "text": "\r\u001b[2K   \u001b[91m━━━━━━━━━━━━━━\u001b[0m\u001b[90m╺\u001b[0m\u001b[90m━━━━━━━━━━━━━━━━━━━━━━━━━\u001b[0m \u001b[32m1.2/3.3 MB\u001b[0m \u001b[31m160.1 kB/s\u001b[0m eta \u001b[36m0:00:14\u001b[0m"
                },
                {
                    "output_type": "stream",
                    "name": "stdout",
                    "text": "\r\u001b[2K   \u001b[91m━━━━━━━━━━━━━━\u001b[0m\u001b[90m╺\u001b[0m\u001b[90m━━━━━━━━━━━━━━━━━━━━━━━━━\u001b[0m \u001b[32m1.2/3.3 MB\u001b[0m \u001b[31m160.1 kB/s\u001b[0m eta \u001b[36m0:00:14\u001b[0m\r\u001b[2K   \u001b[91m━━━━━━━━━━━━━━\u001b[0m\u001b[90m╺\u001b[0m\u001b[90m━━━━━━━━━━━━━━━━━━━━━━━━━\u001b[0m \u001b[32m1.2/3.3 MB\u001b[0m \u001b[31m160.1 kB/s\u001b[0m eta \u001b[36m0:00:14\u001b[0m"
                },
                {
                    "output_type": "stream",
                    "name": "stdout",
                    "text": "\r\u001b[2K   \u001b[91m━━━━━━━━━━━━━━\u001b[0m\u001b[90m╺\u001b[0m\u001b[90m━━━━━━━━━━━━━━━━━━━━━━━━━\u001b[0m \u001b[32m1.2/3.3 MB\u001b[0m \u001b[31m160.1 kB/s\u001b[0m eta \u001b[36m0:00:14\u001b[0m"
                },
                {
                    "output_type": "stream",
                    "name": "stdout",
                    "text": "\r\u001b[2K   \u001b[91m━━━━━━━━━━━━━━\u001b[0m\u001b[90m╺\u001b[0m\u001b[90m━━━━━━━━━━━━━━━━━━━━━━━━━\u001b[0m \u001b[32m1.2/3.3 MB\u001b[0m \u001b[31m160.1 kB/s\u001b[0m eta \u001b[36m0:00:14\u001b[0m"
                },
                {
                    "output_type": "stream",
                    "name": "stdout",
                    "text": "\r\u001b[2K   \u001b[91m━━━━━━━━━━━━━━\u001b[0m\u001b[90m╺\u001b[0m\u001b[90m━━━━━━━━━━━━━━━━━━━━━━━━━\u001b[0m \u001b[32m1.2/3.3 MB\u001b[0m \u001b[31m160.1 kB/s\u001b[0m eta \u001b[36m0:00:14\u001b[0m\r\u001b[2K   \u001b[91m━━━━━━━━━━━━━━\u001b[0m\u001b[90m╺\u001b[0m\u001b[90m━━━━━━━━━━━━━━━━━━━━━━━━━\u001b[0m \u001b[32m1.2/3.3 MB\u001b[0m \u001b[31m160.1 kB/s\u001b[0m eta \u001b[36m0:00:14\u001b[0m"
                },
                {
                    "output_type": "stream",
                    "name": "stdout",
                    "text": "\r\u001b[2K   \u001b[91m━━━━━━━━━━━━━━\u001b[0m\u001b[90m╺\u001b[0m\u001b[90m━━━━━━━━━━━━━━━━━━━━━━━━━\u001b[0m \u001b[32m1.2/3.3 MB\u001b[0m \u001b[31m160.1 kB/s\u001b[0m eta \u001b[36m0:00:14\u001b[0m"
                },
                {
                    "output_type": "stream",
                    "name": "stdout",
                    "text": "\r\u001b[2K   \u001b[91m━━━━━━━━━━━━━━\u001b[0m\u001b[90m╺\u001b[0m\u001b[90m━━━━━━━━━━━━━━━━━━━━━━━━━\u001b[0m \u001b[32m1.2/3.3 MB\u001b[0m \u001b[31m160.1 kB/s\u001b[0m eta \u001b[36m0:00:14\u001b[0m\r\u001b[2K   \u001b[91m━━━━━━━━━━━━━━\u001b[0m\u001b[90m╺\u001b[0m\u001b[90m━━━━━━━━━━━━━━━━━━━━━━━━━\u001b[0m \u001b[32m1.2/3.3 MB\u001b[0m \u001b[31m160.1 kB/s\u001b[0m eta \u001b[36m0:00:14\u001b[0m"
                },
                {
                    "output_type": "stream",
                    "name": "stdout",
                    "text": "\r\u001b[2K   \u001b[91m━━━━━━━━━━━━━━\u001b[0m\u001b[90m╺\u001b[0m\u001b[90m━━━━━━━━━━━━━━━━━━━━━━━━━\u001b[0m \u001b[32m1.2/3.3 MB\u001b[0m \u001b[31m160.1 kB/s\u001b[0m eta \u001b[36m0:00:14\u001b[0m"
                },
                {
                    "output_type": "stream",
                    "name": "stdout",
                    "text": "\r\u001b[2K   \u001b[91m━━━━━━━━━━━━━━\u001b[0m\u001b[90m╺\u001b[0m\u001b[90m━━━━━━━━━━━━━━━━━━━━━━━━━\u001b[0m \u001b[32m1.2/3.3 MB\u001b[0m \u001b[31m160.1 kB/s\u001b[0m eta \u001b[36m0:00:14\u001b[0m"
                },
                {
                    "output_type": "stream",
                    "name": "stdout",
                    "text": "\r\u001b[2K   \u001b[91m━━━━━━━━━━━━━━\u001b[0m\u001b[90m╺\u001b[0m\u001b[90m━━━━━━━━━━━━━━━━━━━━━━━━━\u001b[0m \u001b[32m1.2/3.3 MB\u001b[0m \u001b[31m160.1 kB/s\u001b[0m eta \u001b[36m0:00:14\u001b[0m\r\u001b[2K   \u001b[91m━━━━━━━━━━━━━━\u001b[0m\u001b[90m╺\u001b[0m\u001b[90m━━━━━━━━━━━━━━━━━━━━━━━━━\u001b[0m \u001b[32m1.2/3.3 MB\u001b[0m \u001b[31m160.1 kB/s\u001b[0m eta \u001b[36m0:00:14\u001b[0m"
                },
                {
                    "output_type": "stream",
                    "name": "stdout",
                    "text": "\r\u001b[2K   \u001b[91m━━━━━━━━━━━━━━\u001b[0m\u001b[90m╺\u001b[0m\u001b[90m━━━━━━━━━━━━━━━━━━━━━━━━━\u001b[0m \u001b[32m1.2/3.3 MB\u001b[0m \u001b[31m149.2 kB/s\u001b[0m eta \u001b[36m0:00:15\u001b[0m"
                },
                {
                    "output_type": "stream",
                    "name": "stdout",
                    "text": "\r\u001b[2K   \u001b[91m━━━━━━━━━━━━━━\u001b[0m\u001b[90m╺\u001b[0m\u001b[90m━━━━━━━━━━━━━━━━━━━━━━━━━\u001b[0m \u001b[32m1.2/3.3 MB\u001b[0m \u001b[31m149.2 kB/s\u001b[0m eta \u001b[36m0:00:15\u001b[0m\r\u001b[2K   \u001b[91m━━━━━━━━━━━━━━\u001b[0m\u001b[90m╺\u001b[0m\u001b[90m━━━━━━━━━━━━━━━━━━━━━━━━━\u001b[0m \u001b[32m1.2/3.3 MB\u001b[0m \u001b[31m149.2 kB/s\u001b[0m eta \u001b[36m0:00:15\u001b[0m"
                },
                {
                    "output_type": "stream",
                    "name": "stdout",
                    "text": "\r\u001b[2K   \u001b[91m━━━━━━━━━━━━━━\u001b[0m\u001b[90m╺\u001b[0m\u001b[90m━━━━━━━━━━━━━━━━━━━━━━━━━\u001b[0m \u001b[32m1.2/3.3 MB\u001b[0m \u001b[31m149.2 kB/s\u001b[0m eta \u001b[36m0:00:15\u001b[0m"
                },
                {
                    "output_type": "stream",
                    "name": "stdout",
                    "text": "\r\u001b[2K   \u001b[91m━━━━━━━━━━━━━━\u001b[0m\u001b[90m╺\u001b[0m\u001b[90m━━━━━━━━━━━━━━━━━━━━━━━━━\u001b[0m \u001b[32m1.2/3.3 MB\u001b[0m \u001b[31m149.2 kB/s\u001b[0m eta \u001b[36m0:00:15\u001b[0m"
                },
                {
                    "output_type": "stream",
                    "name": "stdout",
                    "text": "\r\u001b[2K   \u001b[91m━━━━━━━━━━━━━━\u001b[0m\u001b[90m╺\u001b[0m\u001b[90m━━━━━━━━━━━━━━━━━━━━━━━━━\u001b[0m \u001b[32m1.2/3.3 MB\u001b[0m \u001b[31m149.2 kB/s\u001b[0m eta \u001b[36m0:00:15\u001b[0m\r\u001b[2K   \u001b[91m━━━━━━━━━━━━━━\u001b[0m\u001b[90m╺\u001b[0m\u001b[90m━━━━━━━━━━━━━━━━━━━━━━━━━\u001b[0m \u001b[32m1.2/3.3 MB\u001b[0m \u001b[31m149.2 kB/s\u001b[0m eta \u001b[36m0:00:15\u001b[0m"
                },
                {
                    "output_type": "stream",
                    "name": "stdout",
                    "text": "\r\u001b[2K   \u001b[91m━━━━━━━━━━━━━━\u001b[0m\u001b[90m╺\u001b[0m\u001b[90m━━━━━━━━━━━━━━━━━━━━━━━━━\u001b[0m \u001b[32m1.2/3.3 MB\u001b[0m \u001b[31m149.2 kB/s\u001b[0m eta \u001b[36m0:00:15\u001b[0m"
                },
                {
                    "output_type": "stream",
                    "name": "stdout",
                    "text": "\r\u001b[2K   \u001b[91m━━━━━━━━━━━━━━\u001b[0m\u001b[90m╺\u001b[0m\u001b[90m━━━━━━━━━━━━━━━━━━━━━━━━━\u001b[0m \u001b[32m1.2/3.3 MB\u001b[0m \u001b[31m149.2 kB/s\u001b[0m eta \u001b[36m0:00:15\u001b[0m\r\u001b[2K   \u001b[91m━━━━━━━━━━━━━━\u001b[0m\u001b[90m╺\u001b[0m\u001b[90m━━━━━━━━━━━━━━━━━━━━━━━━━\u001b[0m \u001b[32m1.2/3.3 MB\u001b[0m \u001b[31m149.2 kB/s\u001b[0m eta \u001b[36m0:00:15\u001b[0m"
                },
                {
                    "output_type": "stream",
                    "name": "stdout",
                    "text": "\r\u001b[2K   \u001b[91m━━━━━━━━━━━━━━\u001b[0m\u001b[90m╺\u001b[0m\u001b[90m━━━━━━━━━━━━━━━━━━━━━━━━━\u001b[0m \u001b[32m1.2/3.3 MB\u001b[0m \u001b[31m149.2 kB/s\u001b[0m eta \u001b[36m0:00:15\u001b[0m"
                },
                {
                    "output_type": "stream",
                    "name": "stdout",
                    "text": "\r\u001b[2K   \u001b[91m━━━━━━━━━━━━━━\u001b[0m\u001b[90m╺\u001b[0m\u001b[90m━━━━━━━━━━━━━━━━━━━━━━━━━\u001b[0m \u001b[32m1.2/3.3 MB\u001b[0m \u001b[31m149.2 kB/s\u001b[0m eta \u001b[36m0:00:15\u001b[0m\r\u001b[2K   \u001b[91m━━━━━━━━━━━━━━\u001b[0m\u001b[90m╺\u001b[0m\u001b[90m━━━━━━━━━━━━━━━━━━━━━━━━━\u001b[0m \u001b[32m1.2/3.3 MB\u001b[0m \u001b[31m149.2 kB/s\u001b[0m eta \u001b[36m0:00:15\u001b[0m"
                },
                {
                    "output_type": "stream",
                    "name": "stdout",
                    "text": "\r\u001b[2K   \u001b[91m━━━━━━━━━━━━━━\u001b[0m\u001b[90m╺\u001b[0m\u001b[90m━━━━━━━━━━━━━━━━━━━━━━━━━\u001b[0m \u001b[32m1.2/3.3 MB\u001b[0m \u001b[31m149.2 kB/s\u001b[0m eta \u001b[36m0:00:15\u001b[0m"
                },
                {
                    "output_type": "stream",
                    "name": "stdout",
                    "text": "\r\u001b[2K   \u001b[91m━━━━━━━━━━━━━━\u001b[0m\u001b[90m╺\u001b[0m\u001b[90m━━━━━━━━━━━━━━━━━━━━━━━━━\u001b[0m \u001b[32m1.2/3.3 MB\u001b[0m \u001b[31m149.2 kB/s\u001b[0m eta \u001b[36m0:00:15\u001b[0m"
                },
                {
                    "output_type": "stream",
                    "name": "stdout",
                    "text": "\r\u001b[2K   \u001b[91m━━━━━━━━━━━━━━\u001b[0m\u001b[90m╺\u001b[0m\u001b[90m━━━━━━━━━━━━━━━━━━━━━━━━━\u001b[0m \u001b[32m1.2/3.3 MB\u001b[0m \u001b[31m149.2 kB/s\u001b[0m eta \u001b[36m0:00:15\u001b[0m\r\u001b[2K   \u001b[91m━━━━━━━━━━━━━━\u001b[0m\u001b[90m╺\u001b[0m\u001b[90m━━━━━━━━━━━━━━━━━━━━━━━━━\u001b[0m \u001b[32m1.2/3.3 MB\u001b[0m \u001b[31m149.2 kB/s\u001b[0m eta \u001b[36m0:00:15\u001b[0m"
                },
                {
                    "output_type": "stream",
                    "name": "stdout",
                    "text": "\r\u001b[2K   \u001b[91m━━━━━━━━━━━━━━\u001b[0m\u001b[90m╺\u001b[0m\u001b[90m━━━━━━━━━━━━━━━━━━━━━━━━━\u001b[0m \u001b[32m1.2/3.3 MB\u001b[0m \u001b[31m149.2 kB/s\u001b[0m eta \u001b[36m0:00:15\u001b[0m"
                },
                {
                    "output_type": "stream",
                    "name": "stdout",
                    "text": "\r\u001b[2K   \u001b[91m━━━━━━━━━━━━━━\u001b[0m\u001b[90m╺\u001b[0m\u001b[90m━━━━━━━━━━━━━━━━━━━━━━━━━\u001b[0m \u001b[32m1.2/3.3 MB\u001b[0m \u001b[31m149.2 kB/s\u001b[0m eta \u001b[36m0:00:15\u001b[0m\r\u001b[2K   \u001b[91m━━━━━━━━━━━━━━\u001b[0m\u001b[91m╸\u001b[0m\u001b[90m━━━━━━━━━━━━━━━━━━━━━━━━━\u001b[0m \u001b[32m1.2/3.3 MB\u001b[0m \u001b[31m140.3 kB/s\u001b[0m eta \u001b[36m0:00:16\u001b[0m"
                },
                {
                    "output_type": "stream",
                    "name": "stdout",
                    "text": "\r\u001b[2K   \u001b[91m━━━━━━━━━━━━━━\u001b[0m\u001b[91m╸\u001b[0m\u001b[90m━━━━━━━━━━━━━━━━━━━━━━━━━\u001b[0m \u001b[32m1.2/3.3 MB\u001b[0m \u001b[31m140.3 kB/s\u001b[0m eta \u001b[36m0:00:16\u001b[0m"
                },
                {
                    "output_type": "stream",
                    "name": "stdout",
                    "text": "\r\u001b[2K   \u001b[91m━━━━━━━━━━━━━━\u001b[0m\u001b[91m╸\u001b[0m\u001b[90m━━━━━━━━━━━━━━━━━━━━━━━━━\u001b[0m \u001b[32m1.2/3.3 MB\u001b[0m \u001b[31m140.3 kB/s\u001b[0m eta \u001b[36m0:00:16\u001b[0m"
                },
                {
                    "output_type": "stream",
                    "name": "stdout",
                    "text": "\r\u001b[2K   \u001b[91m━━━━━━━━━━━━━━\u001b[0m\u001b[91m╸\u001b[0m\u001b[90m━━━━━━━━━━━━━━━━━━━━━━━━━\u001b[0m \u001b[32m1.2/3.3 MB\u001b[0m \u001b[31m140.3 kB/s\u001b[0m eta \u001b[36m0:00:16\u001b[0m\r\u001b[2K   \u001b[91m━━━━━━━━━━━━━━\u001b[0m\u001b[91m╸\u001b[0m\u001b[90m━━━━━━━━━━━━━━━━━━━━━━━━━\u001b[0m \u001b[32m1.2/3.3 MB\u001b[0m \u001b[31m140.2 kB/s\u001b[0m eta \u001b[36m0:00:15\u001b[0m"
                },
                {
                    "output_type": "stream",
                    "name": "stdout",
                    "text": "\r\u001b[2K   \u001b[91m━━━━━━━━━━━━━━\u001b[0m\u001b[91m╸\u001b[0m\u001b[90m━━━━━━━━━━━━━━━━━━━━━━━━━\u001b[0m \u001b[32m1.2/3.3 MB\u001b[0m \u001b[31m140.2 kB/s\u001b[0m eta \u001b[36m0:00:15\u001b[0m"
                },
                {
                    "output_type": "stream",
                    "name": "stdout",
                    "text": "\r\u001b[2K   \u001b[91m━━━━━━━━━━━━━━\u001b[0m\u001b[91m╸\u001b[0m\u001b[90m━━━━━━━━━━━━━━━━━━━━━━━━━\u001b[0m \u001b[32m1.2/3.3 MB\u001b[0m \u001b[31m140.2 kB/s\u001b[0m eta \u001b[36m0:00:15\u001b[0m\r\u001b[2K   \u001b[91m━━━━━━━━━━━━━━\u001b[0m\u001b[91m╸\u001b[0m\u001b[90m━━━━━━━━━━━━━━━━━━━━━━━━━\u001b[0m \u001b[32m1.2/3.3 MB\u001b[0m \u001b[31m140.2 kB/s\u001b[0m eta \u001b[36m0:00:15\u001b[0m"
                },
                {
                    "output_type": "stream",
                    "name": "stdout",
                    "text": "\r\u001b[2K   \u001b[91m━━━━━━━━━━━━━━\u001b[0m\u001b[91m╸\u001b[0m\u001b[90m━━━━━━━━━━━━━━━━━━━━━━━━━\u001b[0m \u001b[32m1.2/3.3 MB\u001b[0m \u001b[31m140.2 kB/s\u001b[0m eta \u001b[36m0:00:15\u001b[0m"
                },
                {
                    "output_type": "stream",
                    "name": "stdout",
                    "text": "\r\u001b[2K   \u001b[91m━━━━━━━━━━━━━━\u001b[0m\u001b[91m╸\u001b[0m\u001b[90m━━━━━━━━━━━━━━━━━━━━━━━━━\u001b[0m \u001b[32m1.2/3.3 MB\u001b[0m \u001b[31m140.2 kB/s\u001b[0m eta \u001b[36m0:00:15\u001b[0m"
                },
                {
                    "output_type": "stream",
                    "name": "stdout",
                    "text": "\r\u001b[2K   \u001b[91m━━━━━━━━━━━━━━\u001b[0m\u001b[91m╸\u001b[0m\u001b[90m━━━━━━━━━━━━━━━━━━━━━━━━━\u001b[0m \u001b[32m1.2/3.3 MB\u001b[0m \u001b[31m140.2 kB/s\u001b[0m eta \u001b[36m0:00:15\u001b[0m\r\u001b[2K   \u001b[91m━━━━━━━━━━━━━━\u001b[0m\u001b[91m╸\u001b[0m\u001b[90m━━━━━━━━━━━━━━━━━━━━━━━━━\u001b[0m \u001b[32m1.2/3.3 MB\u001b[0m \u001b[31m140.2 kB/s\u001b[0m eta \u001b[36m0:00:15\u001b[0m"
                },
                {
                    "output_type": "stream",
                    "name": "stdout",
                    "text": "\r\u001b[2K   \u001b[91m━━━━━━━━━━━━━━\u001b[0m\u001b[91m╸\u001b[0m\u001b[90m━━━━━━━━━━━━━━━━━━━━━━━━━\u001b[0m \u001b[32m1.2/3.3 MB\u001b[0m \u001b[31m140.2 kB/s\u001b[0m eta \u001b[36m0:00:15\u001b[0m"
                },
                {
                    "output_type": "stream",
                    "name": "stdout",
                    "text": "\r\u001b[2K   \u001b[91m━━━━━━━━━━━━━━\u001b[0m\u001b[91m╸\u001b[0m\u001b[90m━━━━━━━━━━━━━━━━━━━━━━━━━\u001b[0m \u001b[32m1.2/3.3 MB\u001b[0m \u001b[31m140.2 kB/s\u001b[0m eta \u001b[36m0:00:15\u001b[0m\r\u001b[2K   \u001b[91m━━━━━━━━━━━━━━\u001b[0m\u001b[91m╸\u001b[0m\u001b[90m━━━━━━━━━━━━━━━━━━━━━━━━━\u001b[0m \u001b[32m1.2/3.3 MB\u001b[0m \u001b[31m140.2 kB/s\u001b[0m eta \u001b[36m0:00:15\u001b[0m"
                },
                {
                    "output_type": "stream",
                    "name": "stdout",
                    "text": "\r\u001b[2K   \u001b[91m━━━━━━━━━━━━━━\u001b[0m\u001b[91m╸\u001b[0m\u001b[90m━━━━━━━━━━━━━━━━━━━━━━━━━\u001b[0m \u001b[32m1.2/3.3 MB\u001b[0m \u001b[31m140.2 kB/s\u001b[0m eta \u001b[36m0:00:15\u001b[0m"
                },
                {
                    "output_type": "stream",
                    "name": "stdout",
                    "text": "\r\u001b[2K   \u001b[91m━━━━━━━━━━━━━━\u001b[0m\u001b[91m╸\u001b[0m\u001b[90m━━━━━━━━━━━━━━━━━━━━━━━━━\u001b[0m \u001b[32m1.2/3.3 MB\u001b[0m \u001b[31m140.2 kB/s\u001b[0m eta \u001b[36m0:00:15\u001b[0m"
                },
                {
                    "output_type": "stream",
                    "name": "stdout",
                    "text": "\r\u001b[2K   \u001b[91m━━━━━━━━━━━━━━\u001b[0m\u001b[91m╸\u001b[0m\u001b[90m━━━━━━━━━━━━━━━━━━━━━━━━━\u001b[0m \u001b[32m1.2/3.3 MB\u001b[0m \u001b[31m140.2 kB/s\u001b[0m eta \u001b[36m0:00:15\u001b[0m\r\u001b[2K   \u001b[91m━━━━━━━━━━━━━━\u001b[0m\u001b[91m╸\u001b[0m\u001b[90m━━━━━━━━━━━━━━━━━━━━━━━━━\u001b[0m \u001b[32m1.2/3.3 MB\u001b[0m \u001b[31m140.2 kB/s\u001b[0m eta \u001b[36m0:00:15\u001b[0m"
                },
                {
                    "output_type": "stream",
                    "name": "stdout",
                    "text": "\r\u001b[2K   \u001b[91m━━━━━━━━━━━━━━\u001b[0m\u001b[91m╸\u001b[0m\u001b[90m━━━━━━━━━━━━━━━━━━━━━━━━━\u001b[0m \u001b[32m1.2/3.3 MB\u001b[0m \u001b[31m140.2 kB/s\u001b[0m eta \u001b[36m0:00:15\u001b[0m"
                },
                {
                    "output_type": "stream",
                    "name": "stdout",
                    "text": "\r\u001b[2K   \u001b[91m━━━━━━━━━━━━━━━\u001b[0m\u001b[90m╺\u001b[0m\u001b[90m━━━━━━━━━━━━━━━━━━━━━━━━\u001b[0m \u001b[32m1.3/3.3 MB\u001b[0m \u001b[31m134.1 kB/s\u001b[0m eta \u001b[36m0:00:16\u001b[0m\r\u001b[2K   \u001b[91m━━━━━━━━━━━━━━━\u001b[0m\u001b[90m╺\u001b[0m\u001b[90m━━━━━━━━━━━━━━━━━━━━━━━━\u001b[0m \u001b[32m1.3/3.3 MB\u001b[0m \u001b[31m134.1 kB/s\u001b[0m eta \u001b[36m0:00:16\u001b[0m"
                },
                {
                    "output_type": "stream",
                    "name": "stdout",
                    "text": "\r\u001b[2K   \u001b[91m━━━━━━━━━━━━━━━\u001b[0m\u001b[90m╺\u001b[0m\u001b[90m━━━━━━━━━━━━━━━━━━━━━━━━\u001b[0m \u001b[32m1.3/3.3 MB\u001b[0m \u001b[31m134.1 kB/s\u001b[0m eta \u001b[36m0:00:16\u001b[0m"
                },
                {
                    "output_type": "stream",
                    "name": "stdout",
                    "text": "\r\u001b[2K   \u001b[91m━━━━━━━━━━━━━━━\u001b[0m\u001b[90m╺\u001b[0m\u001b[90m━━━━━━━━━━━━━━━━━━━━━━━━\u001b[0m \u001b[32m1.3/3.3 MB\u001b[0m \u001b[31m134.1 kB/s\u001b[0m eta \u001b[36m0:00:16\u001b[0m"
                },
                {
                    "output_type": "stream",
                    "name": "stdout",
                    "text": "\r\u001b[2K   \u001b[91m━━━━━━━━━━━━━━━\u001b[0m\u001b[90m╺\u001b[0m\u001b[90m━━━━━━━━━━━━━━━━━━━━━━━━\u001b[0m \u001b[32m1.3/3.3 MB\u001b[0m \u001b[31m134.1 kB/s\u001b[0m eta \u001b[36m0:00:16\u001b[0m\r\u001b[2K   \u001b[91m━━━━━━━━━━━━━━━\u001b[0m\u001b[90m╺\u001b[0m\u001b[90m━━━━━━━━━━━━━━━━━━━━━━━━\u001b[0m \u001b[32m1.3/3.3 MB\u001b[0m \u001b[31m134.1 kB/s\u001b[0m eta \u001b[36m0:00:16\u001b[0m"
                },
                {
                    "output_type": "stream",
                    "name": "stdout",
                    "text": "\r\u001b[2K   \u001b[91m━━━━━━━━━━━━━━━\u001b[0m\u001b[90m╺\u001b[0m\u001b[90m━━━━━━━━━━━━━━━━━━━━━━━━\u001b[0m \u001b[32m1.3/3.3 MB\u001b[0m \u001b[31m133.3 kB/s\u001b[0m eta \u001b[36m0:00:16\u001b[0m"
                },
                {
                    "output_type": "stream",
                    "name": "stdout",
                    "text": "\r\u001b[2K   \u001b[91m━━━━━━━━━━━━━━━\u001b[0m\u001b[90m╺\u001b[0m\u001b[90m━━━━━━━━━━━━━━━━━━━━━━━━\u001b[0m \u001b[32m1.3/3.3 MB\u001b[0m \u001b[31m133.3 kB/s\u001b[0m eta \u001b[36m0:00:16\u001b[0m\r\u001b[2K   \u001b[91m━━━━━━━━━━━━━━━\u001b[0m\u001b[90m╺\u001b[0m\u001b[90m━━━━━━━━━━━━━━━━━━━━━━━━\u001b[0m \u001b[32m1.3/3.3 MB\u001b[0m \u001b[31m133.3 kB/s\u001b[0m eta \u001b[36m0:00:16\u001b[0m"
                },
                {
                    "output_type": "stream",
                    "name": "stdout",
                    "text": "\r\u001b[2K   \u001b[91m━━━━━━━━━━━━━━━\u001b[0m\u001b[91m╸\u001b[0m\u001b[90m━━━━━━━━━━━━━━━━━━━━━━━━\u001b[0m \u001b[32m1.3/3.3 MB\u001b[0m \u001b[31m132.9 kB/s\u001b[0m eta \u001b[36m0:00:16\u001b[0m"
                },
                {
                    "output_type": "stream",
                    "name": "stdout",
                    "text": "\r\u001b[2K   \u001b[91m━━━━━━━━━━━━━━━\u001b[0m\u001b[91m╸\u001b[0m\u001b[90m━━━━━━━━━━━━━━━━━━━━━━━━\u001b[0m \u001b[32m1.3/3.3 MB\u001b[0m \u001b[31m134.2 kB/s\u001b[0m eta \u001b[36m0:00:15\u001b[0m"
                },
                {
                    "output_type": "stream",
                    "name": "stdout",
                    "text": "\r\u001b[2K   \u001b[91m━━━━━━━━━━━━━━━━\u001b[0m\u001b[90m╺\u001b[0m\u001b[90m━━━━━━━━━━━━━━━━━━━━━━━\u001b[0m \u001b[32m1.3/3.3 MB\u001b[0m \u001b[31m136.0 kB/s\u001b[0m eta \u001b[36m0:00:15\u001b[0m\r\u001b[2K   \u001b[91m━━━━━━━━━━━━━━━━\u001b[0m\u001b[90m╺\u001b[0m\u001b[90m━━━━━━━━━━━━━━━━━━━━━━━\u001b[0m \u001b[32m1.4/3.3 MB\u001b[0m \u001b[31m138.5 kB/s\u001b[0m eta \u001b[36m0:00:15\u001b[0m"
                },
                {
                    "output_type": "stream",
                    "name": "stdout",
                    "text": "\r\u001b[2K   \u001b[91m━━━━━━━━━━━━━━━━\u001b[0m\u001b[90m╺\u001b[0m\u001b[90m━━━━━━━━━━━━━━━━━━━━━━━\u001b[0m \u001b[32m1.4/3.3 MB\u001b[0m \u001b[31m138.5 kB/s\u001b[0m eta \u001b[36m0:00:15\u001b[0m"
                },
                {
                    "output_type": "stream",
                    "name": "stdout",
                    "text": "\r\u001b[2K   \u001b[91m━━━━━━━━━━━━━━━━\u001b[0m\u001b[90m╺\u001b[0m\u001b[90m━━━━━━━━━━━━━━━━━━━━━━━\u001b[0m \u001b[32m1.4/3.3 MB\u001b[0m \u001b[31m138.5 kB/s\u001b[0m eta \u001b[36m0:00:15\u001b[0m"
                },
                {
                    "output_type": "stream",
                    "name": "stdout",
                    "text": "\r\u001b[2K   \u001b[91m━━━━━━━━━━━━━━━━\u001b[0m\u001b[91m╸\u001b[0m\u001b[90m━━━━━━━━━━━━━━━━━━━━━━━\u001b[0m \u001b[32m1.4/3.3 MB\u001b[0m \u001b[31m137.9 kB/s\u001b[0m eta \u001b[36m0:00:15\u001b[0m\r\u001b[2K   \u001b[91m━━━━━━━━━━━━━━━━\u001b[0m\u001b[91m╸\u001b[0m\u001b[90m━━━━━━━━━━━━━━━━━━━━━━━\u001b[0m \u001b[32m1.4/3.3 MB\u001b[0m \u001b[31m139.8 kB/s\u001b[0m eta \u001b[36m0:00:14\u001b[0m"
                },
                {
                    "output_type": "stream",
                    "name": "stdout",
                    "text": "\r\u001b[2K   \u001b[91m━━━━━━━━━━━━━━━━━\u001b[0m\u001b[90m╺\u001b[0m\u001b[90m━━━━━━━━━━━━━━━━━━━━━━\u001b[0m \u001b[32m1.4/3.3 MB\u001b[0m \u001b[31m141.9 kB/s\u001b[0m eta \u001b[36m0:00:14\u001b[0m"
                },
                {
                    "output_type": "stream",
                    "name": "stdout",
                    "text": "\r\u001b[2K   \u001b[91m━━━━━━━━━━━━━━━━━\u001b[0m\u001b[90m╺\u001b[0m\u001b[90m━━━━━━━━━━━━━━━━━━━━━━\u001b[0m \u001b[32m1.4/3.3 MB\u001b[0m \u001b[31m141.9 kB/s\u001b[0m eta \u001b[36m0:00:14\u001b[0m\r\u001b[2K   \u001b[91m━━━━━━━━━━━━━━━━━\u001b[0m\u001b[90m╺\u001b[0m\u001b[90m━━━━━━━━━━━━━━━━━━━━━━\u001b[0m \u001b[32m1.4/3.3 MB\u001b[0m \u001b[31m143.0 kB/s\u001b[0m eta \u001b[36m0:00:14\u001b[0m"
                },
                {
                    "output_type": "stream",
                    "name": "stdout",
                    "text": "\r\u001b[2K   \u001b[91m━━━━━━━━━━━━━━━━━\u001b[0m\u001b[90m╺\u001b[0m\u001b[90m━━━━━━━━━━━━━━━━━━━━━━\u001b[0m \u001b[32m1.4/3.3 MB\u001b[0m \u001b[31m143.0 kB/s\u001b[0m eta \u001b[36m0:00:14\u001b[0m"
                },
                {
                    "output_type": "stream",
                    "name": "stdout",
                    "text": "\r\u001b[2K   \u001b[91m━━━━━━━━━━━━━━━━━\u001b[0m\u001b[90m╺\u001b[0m\u001b[90m━━━━━━━━━━━━━━━━━━━━━━\u001b[0m \u001b[32m1.4/3.3 MB\u001b[0m \u001b[31m143.0 kB/s\u001b[0m eta \u001b[36m0:00:14\u001b[0m"
                },
                {
                    "output_type": "stream",
                    "name": "stdout",
                    "text": "\r\u001b[2K   \u001b[91m━━━━━━━━━━━━━━━━━\u001b[0m\u001b[91m╸\u001b[0m\u001b[90m━━━━━━━━━━━━━━━━━━━━━━\u001b[0m \u001b[32m1.5/3.3 MB\u001b[0m \u001b[31m142.6 kB/s\u001b[0m eta \u001b[36m0:00:14\u001b[0m\r\u001b[2K   \u001b[91m━━━━━━━━━━━━━━━━━\u001b[0m\u001b[91m╸\u001b[0m\u001b[90m━━━━━━━━━━━━━━━━━━━━━━\u001b[0m \u001b[32m1.5/3.3 MB\u001b[0m \u001b[31m142.6 kB/s\u001b[0m eta \u001b[36m0:00:14\u001b[0m"
                },
                {
                    "output_type": "stream",
                    "name": "stdout",
                    "text": "\r\u001b[2K   \u001b[91m━━━━━━━━━━━━━━━━━\u001b[0m\u001b[91m╸\u001b[0m\u001b[90m━━━━━━━━━━━━━━━━━━━━━━\u001b[0m \u001b[32m1.5/3.3 MB\u001b[0m \u001b[31m142.6 kB/s\u001b[0m eta \u001b[36m0:00:14\u001b[0m"
                },
                {
                    "output_type": "stream",
                    "name": "stdout",
                    "text": "\r\u001b[2K   \u001b[91m━━━━━━━━━━━━━━━━━\u001b[0m\u001b[91m╸\u001b[0m\u001b[90m━━━━━━━━━━━━━━━━━━━━━━\u001b[0m \u001b[32m1.5/3.3 MB\u001b[0m \u001b[31m142.6 kB/s\u001b[0m eta \u001b[36m0:00:14\u001b[0m\r\u001b[2K   \u001b[91m━━━━━━━━━━━━━━━━━━\u001b[0m\u001b[90m╺\u001b[0m\u001b[90m━━━━━━━━━━━━━━━━━━━━━\u001b[0m \u001b[32m1.5/3.3 MB\u001b[0m \u001b[31m144.5 kB/s\u001b[0m eta \u001b[36m0:00:13\u001b[0m"
                },
                {
                    "output_type": "stream",
                    "name": "stdout",
                    "text": "\r\u001b[2K   \u001b[91m━━━━━━━━━━━━━━━━━━\u001b[0m\u001b[90m╺\u001b[0m\u001b[90m━━━━━━━━━━━━━━━━━━━━━\u001b[0m \u001b[32m1.5/3.3 MB\u001b[0m \u001b[31m144.5 kB/s\u001b[0m eta \u001b[36m0:00:13\u001b[0m"
                },
                {
                    "output_type": "stream",
                    "name": "stdout",
                    "text": "\r\u001b[2K   \u001b[91m━━━━━━━━━━━━━━━━━━\u001b[0m\u001b[90m╺\u001b[0m\u001b[90m━━━━━━━━━━━━━━━━━━━━━\u001b[0m \u001b[32m1.5/3.3 MB\u001b[0m \u001b[31m145.1 kB/s\u001b[0m eta \u001b[36m0:00:13\u001b[0m"
                },
                {
                    "output_type": "stream",
                    "name": "stdout",
                    "text": "\r\u001b[2K   \u001b[91m━━━━━━━━━━━━━━━━━━\u001b[0m\u001b[90m╺\u001b[0m\u001b[90m━━━━━━━━━━━━━━━━━━━━━\u001b[0m \u001b[32m1.5/3.3 MB\u001b[0m \u001b[31m145.1 kB/s\u001b[0m eta \u001b[36m0:00:13\u001b[0m\r\u001b[2K   \u001b[91m━━━━━━━━━━━━━━━━━━\u001b[0m\u001b[90m╺\u001b[0m\u001b[90m━━━━━━━━━━━━━━━━━━━━━\u001b[0m \u001b[32m1.5/3.3 MB\u001b[0m \u001b[31m145.1 kB/s\u001b[0m eta \u001b[36m0:00:13\u001b[0m"
                },
                {
                    "output_type": "stream",
                    "name": "stdout",
                    "text": "\r\u001b[2K   \u001b[91m━━━━━━━━━━━━━━━━━━\u001b[0m\u001b[90m╺\u001b[0m\u001b[90m━━━━━━━━━━━━━━━━━━━━━\u001b[0m \u001b[32m1.5/3.3 MB\u001b[0m \u001b[31m145.1 kB/s\u001b[0m eta \u001b[36m0:00:13\u001b[0m"
                },
                {
                    "output_type": "stream",
                    "name": "stdout",
                    "text": "\r\u001b[2K   \u001b[91m━━━━━━━━━━━━━━━━━━\u001b[0m\u001b[90m╺\u001b[0m\u001b[90m━━━━━━━━━━━━━━━━━━━━━\u001b[0m \u001b[32m1.5/3.3 MB\u001b[0m \u001b[31m145.1 kB/s\u001b[0m eta \u001b[36m0:00:13\u001b[0m\r\u001b[2K   \u001b[91m━━━━━━━━━━━━━━━━━━\u001b[0m\u001b[90m╺\u001b[0m\u001b[90m━━━━━━━━━━━━━━━━━━━━━\u001b[0m \u001b[32m1.5/3.3 MB\u001b[0m \u001b[31m145.1 kB/s\u001b[0m eta \u001b[36m0:00:13\u001b[0m"
                },
                {
                    "output_type": "stream",
                    "name": "stdout",
                    "text": "\r\u001b[2K   \u001b[91m━━━━━━━━━━━━━━━━━━\u001b[0m\u001b[90m╺\u001b[0m\u001b[90m━━━━━━━━━━━━━━━━━━━━━\u001b[0m \u001b[32m1.5/3.3 MB\u001b[0m \u001b[31m145.1 kB/s\u001b[0m eta \u001b[36m0:00:13\u001b[0m"
                },
                {
                    "output_type": "stream",
                    "name": "stdout",
                    "text": "\r\u001b[2K   \u001b[91m━━━━━━━━━━━━━━━━━━\u001b[0m\u001b[90m╺\u001b[0m\u001b[90m━━━━━━━━━━━━━━━━━━━━━\u001b[0m \u001b[32m1.5/3.3 MB\u001b[0m \u001b[31m145.1 kB/s\u001b[0m eta \u001b[36m0:00:13\u001b[0m"
                },
                {
                    "output_type": "stream",
                    "name": "stdout",
                    "text": "\r\u001b[2K   \u001b[91m━━━━━━━━━━━━━━━━━━\u001b[0m\u001b[91m╸\u001b[0m\u001b[90m━━━━━━━━━━━━━━━━━━━━━\u001b[0m \u001b[32m1.5/3.3 MB\u001b[0m \u001b[31m143.1 kB/s\u001b[0m eta \u001b[36m0:00:13\u001b[0m\r\u001b[2K   \u001b[91m━━━━━━━━━━━━━━━━━━\u001b[0m\u001b[91m╸\u001b[0m\u001b[90m━━━━━━━━━━━━━━━━━━━━━\u001b[0m \u001b[32m1.5/3.3 MB\u001b[0m \u001b[31m143.3 kB/s\u001b[0m eta \u001b[36m0:00:13\u001b[0m"
                },
                {
                    "output_type": "stream",
                    "name": "stdout",
                    "text": "\r\u001b[2K   \u001b[91m━━━━━━━━━━━━━━━━━━\u001b[0m\u001b[91m╸\u001b[0m\u001b[90m━━━━━━━━━━━━━━━━━━━━━\u001b[0m \u001b[32m1.5/3.3 MB\u001b[0m \u001b[31m143.3 kB/s\u001b[0m eta \u001b[36m0:00:13\u001b[0m"
                },
                {
                    "output_type": "stream",
                    "name": "stdout",
                    "text": "\r\u001b[2K   \u001b[91m━━━━━━━━━━━━━━━━━━\u001b[0m\u001b[91m╸\u001b[0m\u001b[90m━━━━━━━━━━━━━━━━━━━━━\u001b[0m \u001b[32m1.5/3.3 MB\u001b[0m \u001b[31m143.3 kB/s\u001b[0m eta \u001b[36m0:00:13\u001b[0m\r\u001b[2K   \u001b[91m━━━━━━━━━━━━━━━━━━\u001b[0m\u001b[91m╸\u001b[0m\u001b[90m━━━━━━━━━━━━━━━━━━━━━\u001b[0m \u001b[32m1.5/3.3 MB\u001b[0m \u001b[31m143.3 kB/s\u001b[0m eta \u001b[36m0:00:13\u001b[0m"
                },
                {
                    "output_type": "stream",
                    "name": "stdout",
                    "text": "\r\u001b[2K   \u001b[91m━━━━━━━━━━━━━━━━━━\u001b[0m\u001b[91m╸\u001b[0m\u001b[90m━━━━━━━━━━━━━━━━━━━━━\u001b[0m \u001b[32m1.5/3.3 MB\u001b[0m \u001b[31m143.3 kB/s\u001b[0m eta \u001b[36m0:00:13\u001b[0m"
                },
                {
                    "output_type": "stream",
                    "name": "stdout",
                    "text": "\r\u001b[2K   \u001b[91m━━━━━━━━━━━━━━━━━━\u001b[0m\u001b[91m╸\u001b[0m\u001b[90m━━━━━━━━━━━━━━━━━━━━━\u001b[0m \u001b[32m1.5/3.3 MB\u001b[0m \u001b[31m143.3 kB/s\u001b[0m eta \u001b[36m0:00:13\u001b[0m"
                },
                {
                    "output_type": "stream",
                    "name": "stdout",
                    "text": "\r\u001b[2K   \u001b[91m━━━━━━━━━━━━━━━━━━━\u001b[0m\u001b[90m╺\u001b[0m\u001b[90m━━━━━━━━━━━━━━━━━━━━\u001b[0m \u001b[32m1.6/3.3 MB\u001b[0m \u001b[31m143.0 kB/s\u001b[0m eta \u001b[36m0:00:13\u001b[0m\r\u001b[2K   \u001b[91m━━━━━━━━━━━━━━━━━━━\u001b[0m\u001b[90m╺\u001b[0m\u001b[90m━━━━━━━━━━━━━━━━━━━━\u001b[0m \u001b[32m1.6/3.3 MB\u001b[0m \u001b[31m143.0 kB/s\u001b[0m eta \u001b[36m0:00:13\u001b[0m"
                },
                {
                    "output_type": "stream",
                    "name": "stdout",
                    "text": "\r\u001b[2K   \u001b[91m━━━━━━━━━━━━━━━━━━━\u001b[0m\u001b[90m╺\u001b[0m\u001b[90m━━━━━━━━━━━━━━━━━━━━\u001b[0m \u001b[32m1.6/3.3 MB\u001b[0m \u001b[31m144.0 kB/s\u001b[0m eta \u001b[36m0:00:12\u001b[0m"
                },
                {
                    "output_type": "stream",
                    "name": "stdout",
                    "text": "\r\u001b[2K   \u001b[91m━━━━━━━━━━━━━━━━━━━\u001b[0m\u001b[90m╺\u001b[0m\u001b[90m━━━━━━━━━━━━━━━━━━━━\u001b[0m \u001b[32m1.6/3.3 MB\u001b[0m \u001b[31m144.0 kB/s\u001b[0m eta \u001b[36m0:00:12\u001b[0m\r\u001b[2K   \u001b[91m━━━━━━━━━━━━━━━━━━━\u001b[0m\u001b[91m╸\u001b[0m\u001b[90m━━━━━━━━━━━━━━━━━━━━\u001b[0m \u001b[32m1.6/3.3 MB\u001b[0m \u001b[31m144.9 kB/s\u001b[0m eta \u001b[36m0:00:12\u001b[0m"
                },
                {
                    "output_type": "stream",
                    "name": "stdout",
                    "text": "\r\u001b[2K   \u001b[91m━━━━━━━━━━━━━━━━━━━\u001b[0m\u001b[91m╸\u001b[0m\u001b[90m━━━━━━━━━━━━━━━━━━━━\u001b[0m \u001b[32m1.6/3.3 MB\u001b[0m \u001b[31m144.9 kB/s\u001b[0m eta \u001b[36m0:00:12\u001b[0m"
                },
                {
                    "output_type": "stream",
                    "name": "stdout",
                    "text": "\r\u001b[2K   \u001b[91m━━━━━━━━━━━━━━━━━━━\u001b[0m\u001b[91m╸\u001b[0m\u001b[90m━━━━━━━━━━━━━━━━━━━━\u001b[0m \u001b[32m1.6/3.3 MB\u001b[0m \u001b[31m144.9 kB/s\u001b[0m eta \u001b[36m0:00:12\u001b[0m"
                },
                {
                    "output_type": "stream",
                    "name": "stdout",
                    "text": "\r\u001b[2K   \u001b[91m━━━━━━━━━━━━━━━━━━━\u001b[0m\u001b[91m╸\u001b[0m\u001b[90m━━━━━━━━━━━━━━━━━━━━\u001b[0m \u001b[32m1.6/3.3 MB\u001b[0m \u001b[31m144.9 kB/s\u001b[0m eta \u001b[36m0:00:12\u001b[0m\r\u001b[2K   \u001b[91m━━━━━━━━━━━━━━━━━━━\u001b[0m\u001b[91m╸\u001b[0m\u001b[90m━━━━━━━━━━━━━━━━━━━━\u001b[0m \u001b[32m1.6/3.3 MB\u001b[0m \u001b[31m144.9 kB/s\u001b[0m eta \u001b[36m0:00:12\u001b[0m"
                },
                {
                    "output_type": "stream",
                    "name": "stdout",
                    "text": "\r\u001b[2K   \u001b[91m━━━━━━━━━━━━━━━━━━━\u001b[0m\u001b[91m╸\u001b[0m\u001b[90m━━━━━━━━━━━━━━━━━━━━\u001b[0m \u001b[32m1.6/3.3 MB\u001b[0m \u001b[31m144.9 kB/s\u001b[0m eta \u001b[36m0:00:12\u001b[0m"
                },
                {
                    "output_type": "stream",
                    "name": "stdout",
                    "text": "\r\u001b[2K   \u001b[91m━━━━━━━━━━━━━━━━━━━\u001b[0m\u001b[91m╸\u001b[0m\u001b[90m━━━━━━━━━━━━━━━━━━━━\u001b[0m \u001b[32m1.6/3.3 MB\u001b[0m \u001b[31m144.9 kB/s\u001b[0m eta \u001b[36m0:00:12\u001b[0m\r\u001b[2K   \u001b[91m━━━━━━━━━━━━━━━━━━━\u001b[0m\u001b[91m╸\u001b[0m\u001b[90m━━━━━━━━━━━━━━━━━━━━\u001b[0m \u001b[32m1.6/3.3 MB\u001b[0m \u001b[31m144.9 kB/s\u001b[0m eta \u001b[36m0:00:12\u001b[0m"
                },
                {
                    "output_type": "stream",
                    "name": "stdout",
                    "text": "\r\u001b[2K   \u001b[91m━━━━━━━━━━━━━━━━━━━\u001b[0m\u001b[91m╸\u001b[0m\u001b[90m━━━━━━━━━━━━━━━━━━━━\u001b[0m \u001b[32m1.6/3.3 MB\u001b[0m \u001b[31m144.9 kB/s\u001b[0m eta \u001b[36m0:00:12\u001b[0m"
                },
                {
                    "output_type": "stream",
                    "name": "stdout",
                    "text": "\r\u001b[2K   \u001b[91m━━━━━━━━━━━━━━━━━━━\u001b[0m\u001b[91m╸\u001b[0m\u001b[90m━━━━━━━━━━━━━━━━━━━━\u001b[0m \u001b[32m1.6/3.3 MB\u001b[0m \u001b[31m144.9 kB/s\u001b[0m eta \u001b[36m0:00:12\u001b[0m"
                },
                {
                    "output_type": "stream",
                    "name": "stdout",
                    "text": "\r\u001b[2K   \u001b[91m━━━━━━━━━━━━━━━━━━━\u001b[0m\u001b[91m╸\u001b[0m\u001b[90m━━━━━━━━━━━━━━━━━━━━\u001b[0m \u001b[32m1.6/3.3 MB\u001b[0m \u001b[31m144.9 kB/s\u001b[0m eta \u001b[36m0:00:12\u001b[0m\r\u001b[2K   \u001b[91m━━━━━━━━━━━━━━━━━━━\u001b[0m\u001b[91m╸\u001b[0m\u001b[90m━━━━━━━━━━━━━━━━━━━━\u001b[0m \u001b[32m1.6/3.3 MB\u001b[0m \u001b[31m144.9 kB/s\u001b[0m eta \u001b[36m0:00:12\u001b[0m"
                },
                {
                    "output_type": "stream",
                    "name": "stdout",
                    "text": "\r\u001b[2K   \u001b[91m━━━━━━━━━━━━━━━━━━━\u001b[0m\u001b[91m╸\u001b[0m\u001b[90m━━━━━━━━━━━━━━━━━━━━\u001b[0m \u001b[32m1.6/3.3 MB\u001b[0m \u001b[31m144.9 kB/s\u001b[0m eta \u001b[36m0:00:12\u001b[0m"
                },
                {
                    "output_type": "stream",
                    "name": "stdout",
                    "text": "\r\u001b[2K   \u001b[91m━━━━━━━━━━━━━━━━━━━\u001b[0m\u001b[91m╸\u001b[0m\u001b[90m━━━━━━━━━━━━━━━━━━━━\u001b[0m \u001b[32m1.6/3.3 MB\u001b[0m \u001b[31m144.9 kB/s\u001b[0m eta \u001b[36m0:00:12\u001b[0m"
                },
                {
                    "output_type": "stream",
                    "name": "stdout",
                    "text": "\r\u001b[2K   \u001b[91m━━━━━━━━━━━━━━━━━━━\u001b[0m\u001b[91m╸\u001b[0m\u001b[90m━━━━━━━━━━━━━━━━━━━━\u001b[0m \u001b[32m1.6/3.3 MB\u001b[0m \u001b[31m144.9 kB/s\u001b[0m eta \u001b[36m0:00:12\u001b[0m\r\u001b[2K   \u001b[91m━━━━━━━━━━━━━━━━━━━\u001b[0m\u001b[91m╸\u001b[0m\u001b[90m━━━━━━━━━━━━━━━━━━━━\u001b[0m \u001b[32m1.6/3.3 MB\u001b[0m \u001b[31m144.9 kB/s\u001b[0m eta \u001b[36m0:00:12\u001b[0m"
                },
                {
                    "output_type": "stream",
                    "name": "stdout",
                    "text": "\r\u001b[2K   \u001b[91m━━━━━━━━━━━━━━━━━━━\u001b[0m\u001b[91m╸\u001b[0m\u001b[90m━━━━━━━━━━━━━━━━━━━━\u001b[0m \u001b[32m1.6/3.3 MB\u001b[0m \u001b[31m144.9 kB/s\u001b[0m eta \u001b[36m0:00:12\u001b[0m"
                },
                {
                    "output_type": "stream",
                    "name": "stdout",
                    "text": "\r\u001b[2K   \u001b[91m━━━━━━━━━━━━━━━━━━━\u001b[0m\u001b[91m╸\u001b[0m\u001b[90m━━━━━━━━━━━━━━━━━━━━\u001b[0m \u001b[32m1.6/3.3 MB\u001b[0m \u001b[31m144.9 kB/s\u001b[0m eta \u001b[36m0:00:12\u001b[0m\r\u001b[2K   \u001b[91m━━━━━━━━━━━━━━━━━━━\u001b[0m\u001b[91m╸\u001b[0m\u001b[90m━━━━━━━━━━━━━━━━━━━━\u001b[0m \u001b[32m1.6/3.3 MB\u001b[0m \u001b[31m144.9 kB/s\u001b[0m eta \u001b[36m0:00:12\u001b[0m"
                },
                {
                    "output_type": "stream",
                    "name": "stdout",
                    "text": "\r\u001b[2K   \u001b[91m━━━━━━━━━━━━━━━━━━━\u001b[0m\u001b[91m╸\u001b[0m\u001b[90m━━━━━━━━━━━━━━━━━━━━\u001b[0m \u001b[32m1.6/3.3 MB\u001b[0m \u001b[31m144.9 kB/s\u001b[0m eta \u001b[36m0:00:12\u001b[0m"
                },
                {
                    "output_type": "stream",
                    "name": "stdout",
                    "text": "\r\u001b[2K   \u001b[91m━━━━━━━━━━━━━━━━━━━\u001b[0m\u001b[91m╸\u001b[0m\u001b[90m━━━━━━━━━━━━━━━━━━━━\u001b[0m \u001b[32m1.6/3.3 MB\u001b[0m \u001b[31m144.9 kB/s\u001b[0m eta \u001b[36m0:00:12\u001b[0m\r\u001b[2K   \u001b[91m━━━━━━━━━━━━━━━━━━━\u001b[0m\u001b[91m╸\u001b[0m\u001b[90m━━━━━━━━━━━━━━━━━━━━\u001b[0m \u001b[32m1.6/3.3 MB\u001b[0m \u001b[31m144.9 kB/s\u001b[0m eta \u001b[36m0:00:12\u001b[0m"
                },
                {
                    "output_type": "stream",
                    "name": "stdout",
                    "text": "\r\u001b[2K   \u001b[91m━━━━━━━━━━━━━━━━━━━\u001b[0m\u001b[91m╸\u001b[0m\u001b[90m━━━━━━━━━━━━━━━━━━━━\u001b[0m \u001b[32m1.6/3.3 MB\u001b[0m \u001b[31m144.9 kB/s\u001b[0m eta \u001b[36m0:00:12\u001b[0m"
                },
                {
                    "output_type": "stream",
                    "name": "stdout",
                    "text": "\r\u001b[2K   \u001b[91m━━━━━━━━━━━━━━━━━━━\u001b[0m\u001b[91m╸\u001b[0m\u001b[90m━━━━━━━━━━━━━━━━━━━━\u001b[0m \u001b[32m1.6/3.3 MB\u001b[0m \u001b[31m144.9 kB/s\u001b[0m eta \u001b[36m0:00:12\u001b[0m"
                },
                {
                    "output_type": "stream",
                    "name": "stdout",
                    "text": "\r\u001b[2K   \u001b[91m━━━━━━━━━━━━━━━━━━━\u001b[0m\u001b[91m╸\u001b[0m\u001b[90m━━━━━━━━━━━━━━━━━━━━\u001b[0m \u001b[32m1.6/3.3 MB\u001b[0m \u001b[31m144.9 kB/s\u001b[0m eta \u001b[36m0:00:12\u001b[0m\r\u001b[2K   \u001b[91m━━━━━━━━━━━━━━━━━━━\u001b[0m\u001b[91m╸\u001b[0m\u001b[90m━━━━━━━━━━━━━━━━━━━━\u001b[0m \u001b[32m1.6/3.3 MB\u001b[0m \u001b[31m144.9 kB/s\u001b[0m eta \u001b[36m0:00:12\u001b[0m"
                },
                {
                    "output_type": "stream",
                    "name": "stdout",
                    "text": "\r\u001b[2K   \u001b[91m━━━━━━━━━━━━━━━━━━━\u001b[0m\u001b[91m╸\u001b[0m\u001b[90m━━━━━━━━━━━━━━━━━━━━\u001b[0m \u001b[32m1.6/3.3 MB\u001b[0m \u001b[31m144.9 kB/s\u001b[0m eta \u001b[36m0:00:12\u001b[0m"
                },
                {
                    "output_type": "stream",
                    "name": "stdout",
                    "text": "\r\u001b[2K   \u001b[91m━━━━━━━━━━━━━━━━━━━\u001b[0m\u001b[91m╸\u001b[0m\u001b[90m━━━━━━━━━━━━━━━━━━━━\u001b[0m \u001b[32m1.6/3.3 MB\u001b[0m \u001b[31m144.9 kB/s\u001b[0m eta \u001b[36m0:00:12\u001b[0m\r\u001b[2K   \u001b[91m━━━━━━━━━━━━━━━━━━━\u001b[0m\u001b[91m╸\u001b[0m\u001b[90m━━━━━━━━━━━━━━━━━━━━\u001b[0m \u001b[32m1.6/3.3 MB\u001b[0m \u001b[31m144.9 kB/s\u001b[0m eta \u001b[36m0:00:12\u001b[0m"
                },
                {
                    "output_type": "stream",
                    "name": "stdout",
                    "text": "\r\u001b[2K   \u001b[91m━━━━━━━━━━━━━━━━━━━\u001b[0m\u001b[91m╸\u001b[0m\u001b[90m━━━━━━━━━━━━━━━━━━━━\u001b[0m \u001b[32m1.6/3.3 MB\u001b[0m \u001b[31m144.9 kB/s\u001b[0m eta \u001b[36m0:00:12\u001b[0m"
                },
                {
                    "output_type": "stream",
                    "name": "stdout",
                    "text": "\r\u001b[2K   \u001b[91m━━━━━━━━━━━━━━━━━━━\u001b[0m\u001b[91m╸\u001b[0m\u001b[90m━━━━━━━━━━━━━━━━━━━━\u001b[0m \u001b[32m1.6/3.3 MB\u001b[0m \u001b[31m144.9 kB/s\u001b[0m eta \u001b[36m0:00:12\u001b[0m"
                },
                {
                    "output_type": "stream",
                    "name": "stdout",
                    "text": "\r\u001b[2K   \u001b[91m━━━━━━━━━━━━━━━━━━━\u001b[0m\u001b[91m╸\u001b[0m\u001b[90m━━━━━━━━━━━━━━━━━━━━\u001b[0m \u001b[32m1.6/3.3 MB\u001b[0m \u001b[31m144.9 kB/s\u001b[0m eta \u001b[36m0:00:12\u001b[0m\r\u001b[2K   \u001b[91m━━━━━━━━━━━━━━━━━━━\u001b[0m\u001b[91m╸\u001b[0m\u001b[90m━━━━━━━━━━━━━━━━━━━━\u001b[0m \u001b[32m1.6/3.3 MB\u001b[0m \u001b[31m144.9 kB/s\u001b[0m eta \u001b[36m0:00:12\u001b[0m"
                },
                {
                    "output_type": "stream",
                    "name": "stdout",
                    "text": "\r\u001b[2K   \u001b[91m━━━━━━━━━━━━━━━━━━━\u001b[0m\u001b[91m╸\u001b[0m\u001b[90m━━━━━━━━━━━━━━━━━━━━\u001b[0m \u001b[32m1.6/3.3 MB\u001b[0m \u001b[31m144.9 kB/s\u001b[0m eta \u001b[36m0:00:12\u001b[0m"
                },
                {
                    "output_type": "stream",
                    "name": "stdout",
                    "text": "\r\u001b[2K   \u001b[91m━━━━━━━━━━━━━━━━━━━\u001b[0m\u001b[91m╸\u001b[0m\u001b[90m━━━━━━━━━━━━━━━━━━━━\u001b[0m \u001b[32m1.6/3.3 MB\u001b[0m \u001b[31m144.9 kB/s\u001b[0m eta \u001b[36m0:00:12\u001b[0m\r\u001b[2K   \u001b[91m━━━━━━━━━━━━━━━━━━━\u001b[0m\u001b[91m╸\u001b[0m\u001b[90m━━━━━━━━━━━━━━━━━━━━\u001b[0m \u001b[32m1.6/3.3 MB\u001b[0m \u001b[31m144.9 kB/s\u001b[0m eta \u001b[36m0:00:12\u001b[0m"
                },
                {
                    "output_type": "stream",
                    "name": "stdout",
                    "text": "\r\u001b[2K   \u001b[91m━━━━━━━━━━━━━━━━━━━\u001b[0m\u001b[91m╸\u001b[0m\u001b[90m━━━━━━━━━━━━━━━━━━━━\u001b[0m \u001b[32m1.6/3.3 MB\u001b[0m \u001b[31m144.9 kB/s\u001b[0m eta \u001b[36m0:00:12\u001b[0m"
                },
                {
                    "output_type": "stream",
                    "name": "stdout",
                    "text": "\r\u001b[2K   \u001b[91m━━━━━━━━━━━━━━━━━━━\u001b[0m\u001b[91m╸\u001b[0m\u001b[90m━━━━━━━━━━━━━━━━━━━━\u001b[0m \u001b[32m1.6/3.3 MB\u001b[0m \u001b[31m144.9 kB/s\u001b[0m eta \u001b[36m0:00:12\u001b[0m"
                },
                {
                    "output_type": "stream",
                    "name": "stdout",
                    "text": "\r\u001b[2K   \u001b[91m━━━━━━━━━━━━━━━━━━━\u001b[0m\u001b[91m╸\u001b[0m\u001b[90m━━━━━━━━━━━━━━━━━━━━\u001b[0m \u001b[32m1.6/3.3 MB\u001b[0m \u001b[31m144.9 kB/s\u001b[0m eta \u001b[36m0:00:12\u001b[0m\r\u001b[2K   \u001b[91m━━━━━━━━━━━━━━━━━━━\u001b[0m\u001b[91m╸\u001b[0m\u001b[90m━━━━━━━━━━━━━━━━━━━━\u001b[0m \u001b[32m1.6/3.3 MB\u001b[0m \u001b[31m144.9 kB/s\u001b[0m eta \u001b[36m0:00:12\u001b[0m"
                },
                {
                    "output_type": "stream",
                    "name": "stdout",
                    "text": "\r\u001b[2K   \u001b[91m━━━━━━━━━━━━━━━━━━━\u001b[0m\u001b[91m╸\u001b[0m\u001b[90m━━━━━━━━━━━━━━━━━━━━\u001b[0m \u001b[32m1.6/3.3 MB\u001b[0m \u001b[31m129.9 kB/s\u001b[0m eta \u001b[36m0:00:13\u001b[0m"
                },
                {
                    "output_type": "stream",
                    "name": "stdout",
                    "text": "\r\u001b[2K   \u001b[91m━━━━━━━━━━━━━━━━━━━\u001b[0m\u001b[91m╸\u001b[0m\u001b[90m━━━━━━━━━━━━━━━━━━━━\u001b[0m \u001b[32m1.6/3.3 MB\u001b[0m \u001b[31m129.9 kB/s\u001b[0m eta \u001b[36m0:00:13\u001b[0m\r\u001b[2K   \u001b[91m━━━━━━━━━━━━━━━━━━━\u001b[0m\u001b[91m╸\u001b[0m\u001b[90m━━━━━━━━━━━━━━━━━━━━\u001b[0m \u001b[32m1.6/3.3 MB\u001b[0m \u001b[31m129.9 kB/s\u001b[0m eta \u001b[36m0:00:13\u001b[0m"
                },
                {
                    "output_type": "stream",
                    "name": "stdout",
                    "text": "\r\u001b[2K   \u001b[91m━━━━━━━━━━━━━━━━━━━\u001b[0m\u001b[91m╸\u001b[0m\u001b[90m━━━━━━━━━━━━━━━━━━━━\u001b[0m \u001b[32m1.6/3.3 MB\u001b[0m \u001b[31m129.9 kB/s\u001b[0m eta \u001b[36m0:00:13\u001b[0m"
                },
                {
                    "output_type": "stream",
                    "name": "stdout",
                    "text": "\r\u001b[2K   \u001b[91m━━━━━━━━━━━━━━━━━━━\u001b[0m\u001b[91m╸\u001b[0m\u001b[90m━━━━━━━━━━━━━━━━━━━━\u001b[0m \u001b[32m1.6/3.3 MB\u001b[0m \u001b[31m129.9 kB/s\u001b[0m eta \u001b[36m0:00:13\u001b[0m"
                },
                {
                    "output_type": "stream",
                    "name": "stdout",
                    "text": "\r\u001b[2K   \u001b[91m━━━━━━━━━━━━━━━━━━━\u001b[0m\u001b[91m╸\u001b[0m\u001b[90m━━━━━━━━━━━━━━━━━━━━\u001b[0m \u001b[32m1.6/3.3 MB\u001b[0m \u001b[31m129.9 kB/s\u001b[0m eta \u001b[36m0:00:13\u001b[0m\r\u001b[2K   \u001b[91m━━━━━━━━━━━━━━━━━━━\u001b[0m\u001b[91m╸\u001b[0m\u001b[90m━━━━━━━━━━━━━━━━━━━━\u001b[0m \u001b[32m1.7/3.3 MB\u001b[0m \u001b[31m128.3 kB/s\u001b[0m eta \u001b[36m0:00:13\u001b[0m"
                },
                {
                    "output_type": "stream",
                    "name": "stdout",
                    "text": "\r\u001b[2K   \u001b[91m━━━━━━━━━━━━━━━━━━━\u001b[0m\u001b[91m╸\u001b[0m\u001b[90m━━━━━━━━━━━━━━━━━━━━\u001b[0m \u001b[32m1.7/3.3 MB\u001b[0m \u001b[31m128.3 kB/s\u001b[0m eta \u001b[36m0:00:13\u001b[0m"
                },
                {
                    "output_type": "stream",
                    "name": "stdout",
                    "text": "\r\u001b[2K   \u001b[91m━━━━━━━━━━━━━━━━━━━\u001b[0m\u001b[91m╸\u001b[0m\u001b[90m━━━━━━━━━━━━━━━━━━━━\u001b[0m \u001b[32m1.7/3.3 MB\u001b[0m \u001b[31m128.3 kB/s\u001b[0m eta \u001b[36m0:00:13\u001b[0m"
                },
                {
                    "output_type": "stream",
                    "name": "stdout",
                    "text": "\r\u001b[2K   \u001b[91m━━━━━━━━━━━━━━━━━━━\u001b[0m\u001b[91m╸\u001b[0m\u001b[90m━━━━━━━━━━━━━━━━━━━━\u001b[0m \u001b[32m1.7/3.3 MB\u001b[0m \u001b[31m128.3 kB/s\u001b[0m eta \u001b[36m0:00:13\u001b[0m\r\u001b[2K   \u001b[91m━━━━━━━━━━━━━━━━━━━\u001b[0m\u001b[91m╸\u001b[0m\u001b[90m━━━━━━━━━━━━━━━━━━━━\u001b[0m \u001b[32m1.7/3.3 MB\u001b[0m \u001b[31m128.3 kB/s\u001b[0m eta \u001b[36m0:00:13\u001b[0m"
                },
                {
                    "output_type": "stream",
                    "name": "stdout",
                    "text": "\r\u001b[2K   \u001b[91m━━━━━━━━━━━━━━━━━━━\u001b[0m\u001b[91m╸\u001b[0m\u001b[90m━━━━━━━━━━━━━━━━━━━━\u001b[0m \u001b[32m1.7/3.3 MB\u001b[0m \u001b[31m128.3 kB/s\u001b[0m eta \u001b[36m0:00:13\u001b[0m"
                },
                {
                    "output_type": "stream",
                    "name": "stdout",
                    "text": "\r\u001b[2K   \u001b[91m━━━━━━━━━━━━━━━━━━━\u001b[0m\u001b[91m╸\u001b[0m\u001b[90m━━━━━━━━━━━━━━━━━━━━\u001b[0m \u001b[32m1.7/3.3 MB\u001b[0m \u001b[31m128.3 kB/s\u001b[0m eta \u001b[36m0:00:13\u001b[0m\r\u001b[2K   \u001b[91m━━━━━━━━━━━━━━━━━━━\u001b[0m\u001b[91m╸\u001b[0m\u001b[90m━━━━━━━━━━━━━━━━━━━━\u001b[0m \u001b[32m1.7/3.3 MB\u001b[0m \u001b[31m128.3 kB/s\u001b[0m eta \u001b[36m0:00:13\u001b[0m"
                },
                {
                    "output_type": "stream",
                    "name": "stdout",
                    "text": "\r\u001b[2K   \u001b[91m━━━━━━━━━━━━━━━━━━━\u001b[0m\u001b[91m╸\u001b[0m\u001b[90m━━━━━━━━━━━━━━━━━━━━\u001b[0m \u001b[32m1.7/3.3 MB\u001b[0m \u001b[31m128.3 kB/s\u001b[0m eta \u001b[36m0:00:13\u001b[0m"
                },
                {
                    "output_type": "stream",
                    "name": "stdout",
                    "text": "\r\u001b[2K   \u001b[91m━━━━━━━━━━━━━━━━━━━\u001b[0m\u001b[91m╸\u001b[0m\u001b[90m━━━━━━━━━━━━━━━━━━━━\u001b[0m \u001b[32m1.7/3.3 MB\u001b[0m \u001b[31m128.3 kB/s\u001b[0m eta \u001b[36m0:00:13\u001b[0m\r\u001b[2K   \u001b[91m━━━━━━━━━━━━━━━━━━━\u001b[0m\u001b[91m╸\u001b[0m\u001b[90m━━━━━━━━━━━━━━━━━━━━\u001b[0m \u001b[32m1.7/3.3 MB\u001b[0m \u001b[31m128.3 kB/s\u001b[0m eta \u001b[36m0:00:13\u001b[0m"
                },
                {
                    "output_type": "stream",
                    "name": "stdout",
                    "text": "\r\u001b[2K   \u001b[91m━━━━━━━━━━━━━━━━━━━\u001b[0m\u001b[91m╸\u001b[0m\u001b[90m━━━━━━━━━━━━━━━━━━━━\u001b[0m \u001b[32m1.7/3.3 MB\u001b[0m \u001b[31m128.3 kB/s\u001b[0m eta \u001b[36m0:00:13\u001b[0m"
                },
                {
                    "output_type": "stream",
                    "name": "stdout",
                    "text": "\r\u001b[2K   \u001b[91m━━━━━━━━━━━━━━━━━━━\u001b[0m\u001b[91m╸\u001b[0m\u001b[90m━━━━━━━━━━━━━━━━━━━━\u001b[0m \u001b[32m1.7/3.3 MB\u001b[0m \u001b[31m128.3 kB/s\u001b[0m eta \u001b[36m0:00:13\u001b[0m"
                },
                {
                    "output_type": "stream",
                    "name": "stdout",
                    "text": "\r\u001b[2K   \u001b[91m━━━━━━━━━━━━━━━━━━━\u001b[0m\u001b[91m╸\u001b[0m\u001b[90m━━━━━━━━━━━━━━━━━━━━\u001b[0m \u001b[32m1.7/3.3 MB\u001b[0m \u001b[31m128.3 kB/s\u001b[0m eta \u001b[36m0:00:13\u001b[0m\r\u001b[2K   \u001b[91m━━━━━━━━━━━━━━━━━━━\u001b[0m\u001b[91m╸\u001b[0m\u001b[90m━━━━━━━━━━━━━━━━━━━━\u001b[0m \u001b[32m1.7/3.3 MB\u001b[0m \u001b[31m128.3 kB/s\u001b[0m eta \u001b[36m0:00:13\u001b[0m"
                },
                {
                    "output_type": "stream",
                    "name": "stdout",
                    "text": "\r\u001b[2K   \u001b[91m━━━━━━━━━━━━━━━━━━━\u001b[0m\u001b[91m╸\u001b[0m\u001b[90m━━━━━━━━━━━━━━━━━━━━\u001b[0m \u001b[32m1.7/3.3 MB\u001b[0m \u001b[31m128.3 kB/s\u001b[0m eta \u001b[36m0:00:13\u001b[0m"
                },
                {
                    "output_type": "stream",
                    "name": "stdout",
                    "text": "\r\u001b[2K   \u001b[91m━━━━━━━━━━━━━━━━━━━\u001b[0m\u001b[91m╸\u001b[0m\u001b[90m━━━━━━━━━━━━━━━━━━━━\u001b[0m \u001b[32m1.7/3.3 MB\u001b[0m \u001b[31m128.3 kB/s\u001b[0m eta \u001b[36m0:00:13\u001b[0m\r\u001b[2K   \u001b[91m━━━━━━━━━━━━━━━━━━━\u001b[0m\u001b[91m╸\u001b[0m\u001b[90m━━━━━━━━━━━━━━━━━━━━\u001b[0m \u001b[32m1.7/3.3 MB\u001b[0m \u001b[31m128.3 kB/s\u001b[0m eta \u001b[36m0:00:13\u001b[0m"
                },
                {
                    "output_type": "stream",
                    "name": "stdout",
                    "text": "\r\u001b[2K   \u001b[91m━━━━━━━━━━━━━━━━━━━\u001b[0m\u001b[91m╸\u001b[0m\u001b[90m━━━━━━━━━━━━━━━━━━━━\u001b[0m \u001b[32m1.7/3.3 MB\u001b[0m \u001b[31m128.3 kB/s\u001b[0m eta \u001b[36m0:00:13\u001b[0m"
                },
                {
                    "output_type": "stream",
                    "name": "stdout",
                    "text": "\r\u001b[2K   \u001b[91m━━━━━━━━━━━━━━━━━━━\u001b[0m\u001b[91m╸\u001b[0m\u001b[90m━━━━━━━━━━━━━━━━━━━━\u001b[0m \u001b[32m1.7/3.3 MB\u001b[0m \u001b[31m128.3 kB/s\u001b[0m eta \u001b[36m0:00:13\u001b[0m\r\u001b[2K   \u001b[91m━━━━━━━━━━━━━━━━━━━━\u001b[0m\u001b[90m╺\u001b[0m\u001b[90m━━━━━━━━━━━━━━━━━━━\u001b[0m \u001b[32m1.7/3.3 MB\u001b[0m \u001b[31m122.8 kB/s\u001b[0m eta \u001b[36m0:00:14\u001b[0m"
                },
                {
                    "output_type": "stream",
                    "name": "stdout",
                    "text": "\r\u001b[2K   \u001b[91m━━━━━━━━━━━━━━━━━━━━\u001b[0m\u001b[90m╺\u001b[0m\u001b[90m━━━━━━━━━━━━━━━━━━━\u001b[0m \u001b[32m1.7/3.3 MB\u001b[0m \u001b[31m122.8 kB/s\u001b[0m eta \u001b[36m0:00:14\u001b[0m"
                },
                {
                    "output_type": "stream",
                    "name": "stdout",
                    "text": "\r\u001b[2K   \u001b[91m━━━━━━━━━━━━━━━━━━━━\u001b[0m\u001b[90m╺\u001b[0m\u001b[90m━━━━━━━━━━━━━━━━━━━\u001b[0m \u001b[32m1.7/3.3 MB\u001b[0m \u001b[31m122.8 kB/s\u001b[0m eta \u001b[36m0:00:14\u001b[0m"
                },
                {
                    "output_type": "stream",
                    "name": "stdout",
                    "text": "\r\u001b[2K   \u001b[91m━━━━━━━━━━━━━━━━━━━━\u001b[0m\u001b[90m╺\u001b[0m\u001b[90m━━━━━━━━━━━━━━━━━━━\u001b[0m \u001b[32m1.7/3.3 MB\u001b[0m \u001b[31m122.8 kB/s\u001b[0m eta \u001b[36m0:00:14\u001b[0m\r\u001b[2K   \u001b[91m━━━━━━━━━━━━━━━━━━━━\u001b[0m\u001b[90m╺\u001b[0m\u001b[90m━━━━━━━━━━━━━━━━━━━\u001b[0m \u001b[32m1.7/3.3 MB\u001b[0m \u001b[31m122.8 kB/s\u001b[0m eta \u001b[36m0:00:14\u001b[0m"
                },
                {
                    "output_type": "stream",
                    "name": "stdout",
                    "text": "\r\u001b[2K   \u001b[91m━━━━━━━━━━━━━━━━━━━━\u001b[0m\u001b[90m╺\u001b[0m\u001b[90m━━━━━━━━━━━━━━━━━━━\u001b[0m \u001b[32m1.7/3.3 MB\u001b[0m \u001b[31m122.8 kB/s\u001b[0m eta \u001b[36m0:00:14\u001b[0m"
                },
                {
                    "output_type": "stream",
                    "name": "stdout",
                    "text": "\r\u001b[2K   \u001b[91m━━━━━━━━━━━━━━━━━━━━\u001b[0m\u001b[90m╺\u001b[0m\u001b[90m━━━━━━━━━━━━━━━━━━━\u001b[0m \u001b[32m1.7/3.3 MB\u001b[0m \u001b[31m122.8 kB/s\u001b[0m eta \u001b[36m0:00:14\u001b[0m\r\u001b[2K   \u001b[91m━━━━━━━━━━━━━━━━━━━━\u001b[0m\u001b[90m╺\u001b[0m\u001b[90m━━━━━━━━━━━━━━━━━━━\u001b[0m \u001b[32m1.7/3.3 MB\u001b[0m \u001b[31m122.8 kB/s\u001b[0m eta \u001b[36m0:00:14\u001b[0m"
                },
                {
                    "output_type": "stream",
                    "name": "stdout",
                    "text": "\r\u001b[2K   \u001b[91m━━━━━━━━━━━━━━━━━━━━\u001b[0m\u001b[90m╺\u001b[0m\u001b[90m━━━━━━━━━━━━━━━━━━━\u001b[0m \u001b[32m1.7/3.3 MB\u001b[0m \u001b[31m122.8 kB/s\u001b[0m eta \u001b[36m0:00:14\u001b[0m"
                },
                {
                    "output_type": "stream",
                    "name": "stdout",
                    "text": "\r\u001b[2K   \u001b[91m━━━━━━━━━━━━━━━━━━━━\u001b[0m\u001b[90m╺\u001b[0m\u001b[90m━━━━━━━━━━━━━━━━━━━\u001b[0m \u001b[32m1.7/3.3 MB\u001b[0m \u001b[31m122.8 kB/s\u001b[0m eta \u001b[36m0:00:14\u001b[0m"
                },
                {
                    "output_type": "stream",
                    "name": "stdout",
                    "text": "\r\u001b[2K   \u001b[91m━━━━━━━━━━━━━━━━━━━━\u001b[0m\u001b[90m╺\u001b[0m\u001b[90m━━━━━━━━━━━━━━━━━━━\u001b[0m \u001b[32m1.7/3.3 MB\u001b[0m \u001b[31m120.9 kB/s\u001b[0m eta \u001b[36m0:00:14\u001b[0m\r\u001b[2K   \u001b[91m━━━━━━━━━━━━━━━━━━━━\u001b[0m\u001b[90m╺\u001b[0m\u001b[90m━━━━━━━━━━━━━━━━━━━\u001b[0m \u001b[32m1.7/3.3 MB\u001b[0m \u001b[31m120.9 kB/s\u001b[0m eta \u001b[36m0:00:14\u001b[0m"
                },
                {
                    "output_type": "stream",
                    "name": "stdout",
                    "text": "\r\u001b[2K   \u001b[91m━━━━━━━━━━━━━━━━━━━━\u001b[0m\u001b[90m╺\u001b[0m\u001b[90m━━━━━━━━━━━━━━━━━━━\u001b[0m \u001b[32m1.7/3.3 MB\u001b[0m \u001b[31m120.9 kB/s\u001b[0m eta \u001b[36m0:00:14\u001b[0m"
                },
                {
                    "output_type": "stream",
                    "name": "stdout",
                    "text": "\r\u001b[2K   \u001b[91m━━━━━━━━━━━━━━━━━━━━\u001b[0m\u001b[90m╺\u001b[0m\u001b[90m━━━━━━━━━━━━━━━━━━━\u001b[0m \u001b[32m1.7/3.3 MB\u001b[0m \u001b[31m120.9 kB/s\u001b[0m eta \u001b[36m0:00:14\u001b[0m"
                },
                {
                    "output_type": "stream",
                    "name": "stdout",
                    "text": "\r\u001b[2K   \u001b[91m━━━━━━━━━━━━━━━━━━━━\u001b[0m\u001b[90m╺\u001b[0m\u001b[90m━━━━━━━━━━━━━━━━━━━\u001b[0m \u001b[32m1.7/3.3 MB\u001b[0m \u001b[31m120.9 kB/s\u001b[0m eta \u001b[36m0:00:14\u001b[0m\r\u001b[2K   \u001b[91m━━━━━━━━━━━━━━━━━━━━\u001b[0m\u001b[90m╺\u001b[0m\u001b[90m━━━━━━━━━━━━━━━━━━━\u001b[0m \u001b[32m1.7/3.3 MB\u001b[0m \u001b[31m120.9 kB/s\u001b[0m eta \u001b[36m0:00:14\u001b[0m"
                },
                {
                    "output_type": "stream",
                    "name": "stdout",
                    "text": "\r\u001b[2K   \u001b[91m━━━━━━━━━━━━━━━━━━━━\u001b[0m\u001b[90m╺\u001b[0m\u001b[90m━━━━━━━━━━━━━━━━━━━\u001b[0m \u001b[32m1.7/3.3 MB\u001b[0m \u001b[31m120.9 kB/s\u001b[0m eta \u001b[36m0:00:14\u001b[0m"
                },
                {
                    "output_type": "stream",
                    "name": "stdout",
                    "text": "\r\u001b[2K   \u001b[91m━━━━━━━━━━━━━━━━━━━━\u001b[0m\u001b[90m╺\u001b[0m\u001b[90m━━━━━━━━━━━━━━━━━━━\u001b[0m \u001b[32m1.7/3.3 MB\u001b[0m \u001b[31m120.9 kB/s\u001b[0m eta \u001b[36m0:00:14\u001b[0m\r\u001b[2K   \u001b[91m━━━━━━━━━━━━━━━━━━━━\u001b[0m\u001b[90m╺\u001b[0m\u001b[90m━━━━━━━━━━━━━━━━━━━\u001b[0m \u001b[32m1.7/3.3 MB\u001b[0m \u001b[31m120.9 kB/s\u001b[0m eta \u001b[36m0:00:14\u001b[0m"
                },
                {
                    "output_type": "stream",
                    "name": "stdout",
                    "text": "\r\u001b[2K   \u001b[91m━━━━━━━━━━━━━━━━━━━━\u001b[0m\u001b[91m╸\u001b[0m\u001b[90m━━━━━━━━━━━━━━━━━━━\u001b[0m \u001b[32m1.7/3.3 MB\u001b[0m \u001b[31m118.8 kB/s\u001b[0m eta \u001b[36m0:00:14\u001b[0m"
                },
                {
                    "output_type": "stream",
                    "name": "stdout",
                    "text": "\r\u001b[2K   \u001b[91m━━━━━━━━━━━━━━━━━━━━\u001b[0m\u001b[91m╸\u001b[0m\u001b[90m━━━━━━━━━━━━━━━━━━━\u001b[0m \u001b[32m1.7/3.3 MB\u001b[0m \u001b[31m118.8 kB/s\u001b[0m eta \u001b[36m0:00:14\u001b[0m"
                },
                {
                    "output_type": "stream",
                    "name": "stdout",
                    "text": "\r\u001b[2K   \u001b[91m━━━━━━━━━━━━━━━━━━━━\u001b[0m\u001b[91m╸\u001b[0m\u001b[90m━━━━━━━━━━━━━━━━━━━\u001b[0m \u001b[32m1.7/3.3 MB\u001b[0m \u001b[31m119.4 kB/s\u001b[0m eta \u001b[36m0:00:14\u001b[0m\r\u001b[2K   \u001b[91m━━━━━━━━━━━━━━━━━━━━\u001b[0m\u001b[91m╸\u001b[0m\u001b[90m━━━━━━━━━━━━━━━━━━━\u001b[0m \u001b[32m1.7/3.3 MB\u001b[0m \u001b[31m119.4 kB/s\u001b[0m eta \u001b[36m0:00:14\u001b[0m"
                },
                {
                    "output_type": "stream",
                    "name": "stdout",
                    "text": "\r\u001b[2K   \u001b[91m━━━━━━━━━━━━━━━━━━━━\u001b[0m\u001b[91m╸\u001b[0m\u001b[90m━━━━━━━━━━━━━━━━━━━\u001b[0m \u001b[32m1.7/3.3 MB\u001b[0m \u001b[31m119.6 kB/s\u001b[0m eta \u001b[36m0:00:14\u001b[0m"
                },
                {
                    "output_type": "stream",
                    "name": "stdout",
                    "text": "\r\u001b[2K   \u001b[91m━━━━━━━━━━━━━━━━━━━━\u001b[0m\u001b[91m╸\u001b[0m\u001b[90m━━━━━━━━━━━━━━━━━━━\u001b[0m \u001b[32m1.7/3.3 MB\u001b[0m \u001b[31m119.6 kB/s\u001b[0m eta \u001b[36m0:00:14\u001b[0m"
                },
                {
                    "output_type": "stream",
                    "name": "stdout",
                    "text": "\r\u001b[2K   \u001b[91m━━━━━━━━━━━━━━━━━━━━\u001b[0m\u001b[91m╸\u001b[0m\u001b[90m━━━━━━━━━━━━━━━━━━━\u001b[0m \u001b[32m1.7/3.3 MB\u001b[0m \u001b[31m119.6 kB/s\u001b[0m eta \u001b[36m0:00:14\u001b[0m\r\u001b[2K   \u001b[91m━━━━━━━━━━━━━━━━━━━━━\u001b[0m\u001b[90m╺\u001b[0m\u001b[90m━━━━━━━━━━━━━━━━━━\u001b[0m \u001b[32m1.8/3.3 MB\u001b[0m \u001b[31m119.4 kB/s\u001b[0m eta \u001b[36m0:00:14\u001b[0m"
                },
                {
                    "output_type": "stream",
                    "name": "stdout",
                    "text": "\r\u001b[2K   \u001b[91m━━━━━━━━━━━━━━━━━━━━━\u001b[0m\u001b[90m╺\u001b[0m\u001b[90m━━━━━━━━━━━━━━━━━━\u001b[0m \u001b[32m1.8/3.3 MB\u001b[0m \u001b[31m120.2 kB/s\u001b[0m eta \u001b[36m0:00:13\u001b[0m"
                },
                {
                    "output_type": "stream",
                    "name": "stdout",
                    "text": "\r\u001b[2K   \u001b[91m━━━━━━━━━━━━━━━━━━━━━\u001b[0m\u001b[90m╺\u001b[0m\u001b[90m━━━━━━━━━━━━━━━━━━\u001b[0m \u001b[32m1.8/3.3 MB\u001b[0m \u001b[31m120.2 kB/s\u001b[0m eta \u001b[36m0:00:13\u001b[0m\r\u001b[2K   \u001b[91m━━━━━━━━━━━━━━━━━━━━━\u001b[0m\u001b[90m╺\u001b[0m\u001b[90m━━━━━━━━━━━━━━━━━━\u001b[0m \u001b[32m1.8/3.3 MB\u001b[0m \u001b[31m120.2 kB/s\u001b[0m eta \u001b[36m0:00:13\u001b[0m"
                },
                {
                    "output_type": "stream",
                    "name": "stdout",
                    "text": "\r\u001b[2K   \u001b[91m━━━━━━━━━━━━━━━━━━━━━\u001b[0m\u001b[91m╸\u001b[0m\u001b[90m━━━━━━━━━━━━━━━━━━\u001b[0m \u001b[32m1.8/3.3 MB\u001b[0m \u001b[31m120.7 kB/s\u001b[0m eta \u001b[36m0:00:13\u001b[0m"
                },
                {
                    "output_type": "stream",
                    "name": "stdout",
                    "text": "\r\u001b[2K   \u001b[91m━━━━━━━━━━━━━━━━━━━━━\u001b[0m\u001b[91m╸\u001b[0m\u001b[90m━━━━━━━━━━━━━━━━━━\u001b[0m \u001b[32m1.8/3.3 MB\u001b[0m \u001b[31m120.7 kB/s\u001b[0m eta \u001b[36m0:00:13\u001b[0m"
                },
                {
                    "output_type": "stream",
                    "name": "stdout",
                    "text": "\r\u001b[2K   \u001b[91m━━━━━━━━━━━━━━━━━━━━━\u001b[0m\u001b[91m╸\u001b[0m\u001b[90m━━━━━━━━━━━━━━━━━━\u001b[0m \u001b[32m1.8/3.3 MB\u001b[0m \u001b[31m121.0 kB/s\u001b[0m eta \u001b[36m0:00:13\u001b[0m\r\u001b[2K   \u001b[91m━━━━━━━━━━━━━━━━━━━━━\u001b[0m\u001b[91m╸\u001b[0m\u001b[90m━━━━━━━━━━━━━━━━━━\u001b[0m \u001b[32m1.8/3.3 MB\u001b[0m \u001b[31m121.0 kB/s\u001b[0m eta \u001b[36m0:00:13\u001b[0m"
                },
                {
                    "output_type": "stream",
                    "name": "stdout",
                    "text": "\r\u001b[2K   \u001b[91m━━━━━━━━━━━━━━━━━━━━━\u001b[0m\u001b[91m╸\u001b[0m\u001b[90m━━━━━━━━━━━━━━━━━━\u001b[0m \u001b[32m1.8/3.3 MB\u001b[0m \u001b[31m121.0 kB/s\u001b[0m eta \u001b[36m0:00:13\u001b[0m"
                },
                {
                    "output_type": "stream",
                    "name": "stdout",
                    "text": "\r\u001b[2K   \u001b[91m━━━━━━━━━━━━━━━━━━━━━\u001b[0m\u001b[91m╸\u001b[0m\u001b[90m━━━━━━━━━━━━━━━━━━\u001b[0m \u001b[32m1.8/3.3 MB\u001b[0m \u001b[31m121.3 kB/s\u001b[0m eta \u001b[36m0:00:13\u001b[0m\r\u001b[2K   \u001b[91m━━━━━━━━━━━━━━━━━━━━━\u001b[0m\u001b[91m╸\u001b[0m\u001b[90m━━━━━━━━━━━━━━━━━━\u001b[0m \u001b[32m1.8/3.3 MB\u001b[0m \u001b[31m121.3 kB/s\u001b[0m eta \u001b[36m0:00:13\u001b[0m"
                },
                {
                    "output_type": "stream",
                    "name": "stdout",
                    "text": "\r\u001b[2K   \u001b[91m━━━━━━━━━━━━━━━━━━━━━\u001b[0m\u001b[91m╸\u001b[0m\u001b[90m━━━━━━━━━━━━━━━━━━\u001b[0m \u001b[32m1.8/3.3 MB\u001b[0m \u001b[31m121.3 kB/s\u001b[0m eta \u001b[36m0:00:13\u001b[0m"
                },
                {
                    "output_type": "stream",
                    "name": "stdout",
                    "text": "\r\u001b[2K   \u001b[91m━━━━━━━━━━━━━━━━━━━━━\u001b[0m\u001b[91m╸\u001b[0m\u001b[90m━━━━━━━━━━━━━━━━━━\u001b[0m \u001b[32m1.8/3.3 MB\u001b[0m \u001b[31m121.3 kB/s\u001b[0m eta \u001b[36m0:00:13\u001b[0m"
                },
                {
                    "output_type": "stream",
                    "name": "stdout",
                    "text": "\r\u001b[2K   \u001b[91m━━━━━━━━━━━━━━━━━━━━━\u001b[0m\u001b[91m╸\u001b[0m\u001b[90m━━━━━━━━━━━━━━━━━━\u001b[0m \u001b[32m1.8/3.3 MB\u001b[0m \u001b[31m121.3 kB/s\u001b[0m eta \u001b[36m0:00:13\u001b[0m\r\u001b[2K   \u001b[91m━━━━━━━━━━━━━━━━━━━━━\u001b[0m\u001b[91m╸\u001b[0m\u001b[90m━━━━━━━━━━━━━━━━━━\u001b[0m \u001b[32m1.8/3.3 MB\u001b[0m \u001b[31m121.3 kB/s\u001b[0m eta \u001b[36m0:00:13\u001b[0m"
                },
                {
                    "output_type": "stream",
                    "name": "stdout",
                    "text": "\r\u001b[2K   \u001b[91m━━━━━━━━━━━━━━━━━━━━━\u001b[0m\u001b[91m╸\u001b[0m\u001b[90m━━━━━━━━━━━━━━━━━━\u001b[0m \u001b[32m1.8/3.3 MB\u001b[0m \u001b[31m121.3 kB/s\u001b[0m eta \u001b[36m0:00:13\u001b[0m"
                },
                {
                    "output_type": "stream",
                    "name": "stdout",
                    "text": "\r\u001b[2K   \u001b[91m━━━━━━━━━━━━━━━━━━━━━\u001b[0m\u001b[91m╸\u001b[0m\u001b[90m━━━━━━━━━━━━━━━━━━\u001b[0m \u001b[32m1.8/3.3 MB\u001b[0m \u001b[31m121.3 kB/s\u001b[0m eta \u001b[36m0:00:13\u001b[0m\r\u001b[2K   \u001b[91m━━━━━━━━━━━━━━━━━━━━━\u001b[0m\u001b[91m╸\u001b[0m\u001b[90m━━━━━━━━━━━━━━━━━━\u001b[0m \u001b[32m1.8/3.3 MB\u001b[0m \u001b[31m121.3 kB/s\u001b[0m eta \u001b[36m0:00:13\u001b[0m"
                },
                {
                    "output_type": "stream",
                    "name": "stdout",
                    "text": "\r\u001b[2K   \u001b[91m━━━━━━━━━━━━━━━━━━━━━\u001b[0m\u001b[91m╸\u001b[0m\u001b[90m━━━━━━━━━━━━━━━━━━\u001b[0m \u001b[32m1.8/3.3 MB\u001b[0m \u001b[31m121.3 kB/s\u001b[0m eta \u001b[36m0:00:13\u001b[0m"
                },
                {
                    "output_type": "stream",
                    "name": "stdout",
                    "text": "\r\u001b[2K   \u001b[91m━━━━━━━━━━━━━━━━━━━━━\u001b[0m\u001b[91m╸\u001b[0m\u001b[90m━━━━━━━━━━━━━━━━━━\u001b[0m \u001b[32m1.8/3.3 MB\u001b[0m \u001b[31m121.3 kB/s\u001b[0m eta \u001b[36m0:00:13\u001b[0m"
                },
                {
                    "output_type": "stream",
                    "name": "stdout",
                    "text": "\r\u001b[2K   \u001b[91m━━━━━━━━━━━━━━━━━━━━━\u001b[0m\u001b[91m╸\u001b[0m\u001b[90m━━━━━━━━━━━━━━━━━━\u001b[0m \u001b[32m1.8/3.3 MB\u001b[0m \u001b[31m121.3 kB/s\u001b[0m eta \u001b[36m0:00:13\u001b[0m\r\u001b[2K   \u001b[91m━━━━━━━━━━━━━━━━━━━━━\u001b[0m\u001b[91m╸\u001b[0m\u001b[90m━━━━━━━━━━━━━━━━━━\u001b[0m \u001b[32m1.8/3.3 MB\u001b[0m \u001b[31m121.3 kB/s\u001b[0m eta \u001b[36m0:00:13\u001b[0m"
                },
                {
                    "output_type": "stream",
                    "name": "stdout",
                    "text": "\r\u001b[2K   \u001b[91m━━━━━━━━━━━━━━━━━━━━━\u001b[0m\u001b[91m╸\u001b[0m\u001b[90m━━━━━━━━━━━━━━━━━━\u001b[0m \u001b[32m1.8/3.3 MB\u001b[0m \u001b[31m121.3 kB/s\u001b[0m eta \u001b[36m0:00:13\u001b[0m"
                },
                {
                    "output_type": "stream",
                    "name": "stdout",
                    "text": "\r\u001b[2K   \u001b[91m━━━━━━━━━━━━━━━━━━━━━\u001b[0m\u001b[91m╸\u001b[0m\u001b[90m━━━━━━━━━━━━━━━━━━\u001b[0m \u001b[32m1.8/3.3 MB\u001b[0m \u001b[31m121.3 kB/s\u001b[0m eta \u001b[36m0:00:13\u001b[0m\r\u001b[2K   \u001b[91m━━━━━━━━━━━━━━━━━━━━━\u001b[0m\u001b[91m╸\u001b[0m\u001b[90m━━━━━━━━━━━━━━━━━━\u001b[0m \u001b[32m1.8/3.3 MB\u001b[0m \u001b[31m121.3 kB/s\u001b[0m eta \u001b[36m0:00:13\u001b[0m"
                },
                {
                    "output_type": "stream",
                    "name": "stdout",
                    "text": "\r\u001b[2K   \u001b[91m━━━━━━━━━━━━━━━━━━━━━\u001b[0m\u001b[91m╸\u001b[0m\u001b[90m━━━━━━━━━━━━━━━━━━\u001b[0m \u001b[32m1.8/3.3 MB\u001b[0m \u001b[31m121.3 kB/s\u001b[0m eta \u001b[36m0:00:13\u001b[0m"
                },
                {
                    "output_type": "stream",
                    "name": "stdout",
                    "text": "\r\u001b[2K   \u001b[91m━━━━━━━━━━━━━━━━━━━━━\u001b[0m\u001b[91m╸\u001b[0m\u001b[90m━━━━━━━━━━━━━━━━━━\u001b[0m \u001b[32m1.8/3.3 MB\u001b[0m \u001b[31m121.3 kB/s\u001b[0m eta \u001b[36m0:00:13\u001b[0m"
                },
                {
                    "output_type": "stream",
                    "name": "stdout",
                    "text": "\r\u001b[2K   \u001b[91m━━━━━━━━━━━━━━━━━━━━━\u001b[0m\u001b[91m╸\u001b[0m\u001b[90m━━━━━━━━━━━━━━━━━━\u001b[0m \u001b[32m1.8/3.3 MB\u001b[0m \u001b[31m121.3 kB/s\u001b[0m eta \u001b[36m0:00:13\u001b[0m\r\u001b[2K   \u001b[91m━━━━━━━━━━━━━━━━━━━━━\u001b[0m\u001b[91m╸\u001b[0m\u001b[90m━━━━━━━━━━━━━━━━━━\u001b[0m \u001b[32m1.8/3.3 MB\u001b[0m \u001b[31m121.3 kB/s\u001b[0m eta \u001b[36m0:00:13\u001b[0m"
                },
                {
                    "output_type": "stream",
                    "name": "stdout",
                    "text": "\r\u001b[2K   \u001b[91m━━━━━━━━━━━━━━━━━━━━━\u001b[0m\u001b[91m╸\u001b[0m\u001b[90m━━━━━━━━━━━━━━━━━━\u001b[0m \u001b[32m1.8/3.3 MB\u001b[0m \u001b[31m121.3 kB/s\u001b[0m eta \u001b[36m0:00:13\u001b[0m"
                },
                {
                    "output_type": "stream",
                    "name": "stdout",
                    "text": "\r\u001b[2K   \u001b[91m━━━━━━━━━━━━━━━━━━━━━\u001b[0m\u001b[91m╸\u001b[0m\u001b[90m━━━━━━━━━━━━━━━━━━\u001b[0m \u001b[32m1.8/3.3 MB\u001b[0m \u001b[31m121.3 kB/s\u001b[0m eta \u001b[36m0:00:13\u001b[0m\r\u001b[2K   \u001b[91m━━━━━━━━━━━━━━━━━━━━━\u001b[0m\u001b[91m╸\u001b[0m\u001b[90m━━━━━━━━━━━━━━━━━━\u001b[0m \u001b[32m1.8/3.3 MB\u001b[0m \u001b[31m121.3 kB/s\u001b[0m eta \u001b[36m0:00:13\u001b[0m"
                },
                {
                    "output_type": "stream",
                    "name": "stdout",
                    "text": "\r\u001b[2K   \u001b[91m━━━━━━━━━━━━━━━━━━━━━\u001b[0m\u001b[91m╸\u001b[0m\u001b[90m━━━━━━━━━━━━━━━━━━\u001b[0m \u001b[32m1.8/3.3 MB\u001b[0m \u001b[31m121.3 kB/s\u001b[0m eta \u001b[36m0:00:13\u001b[0m"
                },
                {
                    "output_type": "stream",
                    "name": "stdout",
                    "text": "\r\u001b[2K   \u001b[91m━━━━━━━━━━━━━━━━━━━━━\u001b[0m\u001b[91m╸\u001b[0m\u001b[90m━━━━━━━━━━━━━━━━━━\u001b[0m \u001b[32m1.8/3.3 MB\u001b[0m \u001b[31m121.3 kB/s\u001b[0m eta \u001b[36m0:00:13\u001b[0m"
                },
                {
                    "output_type": "stream",
                    "name": "stdout",
                    "text": "\r\u001b[2K   \u001b[91m━━━━━━━━━━━━━━━━━━━━━\u001b[0m\u001b[91m╸\u001b[0m\u001b[90m━━━━━━━━━━━━━━━━━━\u001b[0m \u001b[32m1.8/3.3 MB\u001b[0m \u001b[31m121.3 kB/s\u001b[0m eta \u001b[36m0:00:13\u001b[0m\r\u001b[2K   \u001b[91m━━━━━━━━━━━━━━━━━━━━━\u001b[0m\u001b[91m╸\u001b[0m\u001b[90m━━━━━━━━━━━━━━━━━━\u001b[0m \u001b[32m1.8/3.3 MB\u001b[0m \u001b[31m121.3 kB/s\u001b[0m eta \u001b[36m0:00:13\u001b[0m"
                },
                {
                    "output_type": "stream",
                    "name": "stdout",
                    "text": "\r\u001b[2K   \u001b[91m━━━━━━━━━━━━━━━━━━━━━\u001b[0m\u001b[91m╸\u001b[0m\u001b[90m━━━━━━━━━━━━━━━━━━\u001b[0m \u001b[32m1.8/3.3 MB\u001b[0m \u001b[31m121.3 kB/s\u001b[0m eta \u001b[36m0:00:13\u001b[0m"
                },
                {
                    "output_type": "stream",
                    "name": "stdout",
                    "text": "\r\u001b[2K   \u001b[91m━━━━━━━━━━━━━━━━━━━━━\u001b[0m\u001b[91m╸\u001b[0m\u001b[90m━━━━━━━━━━━━━━━━━━\u001b[0m \u001b[32m1.8/3.3 MB\u001b[0m \u001b[31m121.3 kB/s\u001b[0m eta \u001b[36m0:00:13\u001b[0m\r\u001b[2K   \u001b[91m━━━━━━━━━━━━━━━━━━━━━\u001b[0m\u001b[91m╸\u001b[0m\u001b[90m━━━━━━━━━━━━━━━━━━\u001b[0m \u001b[32m1.8/3.3 MB\u001b[0m \u001b[31m121.3 kB/s\u001b[0m eta \u001b[36m0:00:13\u001b[0m"
                },
                {
                    "output_type": "stream",
                    "name": "stdout",
                    "text": "\r\u001b[2K   \u001b[91m━━━━━━━━━━━━━━━━━━━━━\u001b[0m\u001b[91m╸\u001b[0m\u001b[90m━━━━━━━━━━━━━━━━━━\u001b[0m \u001b[32m1.8/3.3 MB\u001b[0m \u001b[31m121.3 kB/s\u001b[0m eta \u001b[36m0:00:13\u001b[0m"
                },
                {
                    "output_type": "stream",
                    "name": "stdout",
                    "text": "\r\u001b[2K   \u001b[91m━━━━━━━━━━━━━━━━━━━━━\u001b[0m\u001b[91m╸\u001b[0m\u001b[90m━━━━━━━━━━━━━━━━━━\u001b[0m \u001b[32m1.8/3.3 MB\u001b[0m \u001b[31m121.3 kB/s\u001b[0m eta \u001b[36m0:00:13\u001b[0m"
                },
                {
                    "output_type": "stream",
                    "name": "stdout",
                    "text": "\r\u001b[2K   \u001b[91m━━━━━━━━━━━━━━━━━━━━━\u001b[0m\u001b[91m╸\u001b[0m\u001b[90m━━━━━━━━━━━━━━━━━━\u001b[0m \u001b[32m1.8/3.3 MB\u001b[0m \u001b[31m121.3 kB/s\u001b[0m eta \u001b[36m0:00:13\u001b[0m"
                },
                {
                    "output_type": "stream",
                    "name": "stdout",
                    "text": "\r\u001b[2K   \u001b[91m━━━━━━━━━━━━━━━━━━━━━\u001b[0m\u001b[91m╸\u001b[0m\u001b[90m━━━━━━━━━━━━━━━━━━\u001b[0m \u001b[32m1.8/3.3 MB\u001b[0m \u001b[31m121.3 kB/s\u001b[0m eta \u001b[36m0:00:13\u001b[0m\r\u001b[2K   \u001b[91m━━━━━━━━━━━━━━━━━━━━━\u001b[0m\u001b[91m╸\u001b[0m\u001b[90m━━━━━━━━━━━━━━━━━━\u001b[0m \u001b[32m1.8/3.3 MB\u001b[0m \u001b[31m121.3 kB/s\u001b[0m eta \u001b[36m0:00:13\u001b[0m"
                },
                {
                    "output_type": "stream",
                    "name": "stdout",
                    "text": "\r\u001b[2K   \u001b[91m━━━━━━━━━━━━━━━━━━━━━━\u001b[0m\u001b[90m╺\u001b[0m\u001b[90m━━━━━━━━━━━━━━━━━\u001b[0m \u001b[32m1.8/3.3 MB\u001b[0m \u001b[31m112.0 kB/s\u001b[0m eta \u001b[36m0:00:14\u001b[0m"
                },
                {
                    "output_type": "stream",
                    "name": "stdout",
                    "text": "\r\u001b[2K   \u001b[91m━━━━━━━━━━━━━━━━━━━━━━\u001b[0m\u001b[90m╺\u001b[0m\u001b[90m━━━━━━━━━━━━━━━━━\u001b[0m \u001b[32m1.8/3.3 MB\u001b[0m \u001b[31m112.0 kB/s\u001b[0m eta \u001b[36m0:00:14\u001b[0m\r\u001b[2K   \u001b[91m━━━━━━━━━━━━━━━━━━━━━━\u001b[0m\u001b[90m╺\u001b[0m\u001b[90m━━━━━━━━━━━━━━━━━\u001b[0m \u001b[32m1.8/3.3 MB\u001b[0m \u001b[31m112.0 kB/s\u001b[0m eta \u001b[36m0:00:14\u001b[0m"
                },
                {
                    "output_type": "stream",
                    "name": "stdout",
                    "text": "\r\u001b[2K   \u001b[91m━━━━━━━━━━━━━━━━━━━━━━\u001b[0m\u001b[90m╺\u001b[0m\u001b[90m━━━━━━━━━━━━━━━━━\u001b[0m \u001b[32m1.8/3.3 MB\u001b[0m \u001b[31m112.0 kB/s\u001b[0m eta \u001b[36m0:00:14\u001b[0m"
                },
                {
                    "output_type": "stream",
                    "name": "stdout",
                    "text": "\r\u001b[2K   \u001b[91m━━━━━━━━━━━━━━━━━━━━━━\u001b[0m\u001b[90m╺\u001b[0m\u001b[90m━━━━━━━━━━━━━━━━━\u001b[0m \u001b[32m1.8/3.3 MB\u001b[0m \u001b[31m112.0 kB/s\u001b[0m eta \u001b[36m0:00:14\u001b[0m"
                },
                {
                    "output_type": "stream",
                    "name": "stdout",
                    "text": "\r\u001b[2K   \u001b[91m━━━━━━━━━━━━━━━━━━━━━━\u001b[0m\u001b[90m╺\u001b[0m\u001b[90m━━━━━━━━━━━━━━━━━\u001b[0m \u001b[32m1.8/3.3 MB\u001b[0m \u001b[31m112.0 kB/s\u001b[0m eta \u001b[36m0:00:14\u001b[0m\r\u001b[2K   \u001b[91m━━━━━━━━━━━━━━━━━━━━━━\u001b[0m\u001b[90m╺\u001b[0m\u001b[90m━━━━━━━━━━━━━━━━━\u001b[0m \u001b[32m1.8/3.3 MB\u001b[0m \u001b[31m112.0 kB/s\u001b[0m eta \u001b[36m0:00:14\u001b[0m"
                },
                {
                    "output_type": "stream",
                    "name": "stdout",
                    "text": "\r\u001b[2K   \u001b[91m━━━━━━━━━━━━━━━━━━━━━━\u001b[0m\u001b[90m╺\u001b[0m\u001b[90m━━━━━━━━━━━━━━━━━\u001b[0m \u001b[32m1.8/3.3 MB\u001b[0m \u001b[31m112.0 kB/s\u001b[0m eta \u001b[36m0:00:14\u001b[0m"
                },
                {
                    "output_type": "stream",
                    "name": "stdout",
                    "text": "\r\u001b[2K   \u001b[91m━━━━━━━━━━━━━━━━━━━━━━\u001b[0m\u001b[90m╺\u001b[0m\u001b[90m━━━━━━━━━━━━━━━━━\u001b[0m \u001b[32m1.8/3.3 MB\u001b[0m \u001b[31m112.0 kB/s\u001b[0m eta \u001b[36m0:00:14\u001b[0m\r\u001b[2K   \u001b[91m━━━━━━━━━━━━━━━━━━━━━━\u001b[0m\u001b[90m╺\u001b[0m\u001b[90m━━━━━━━━━━━━━━━━━\u001b[0m \u001b[32m1.8/3.3 MB\u001b[0m \u001b[31m112.0 kB/s\u001b[0m eta \u001b[36m0:00:14\u001b[0m"
                },
                {
                    "output_type": "stream",
                    "name": "stdout",
                    "text": "\r\u001b[2K   \u001b[91m━━━━━━━━━━━━━━━━━━━━━━\u001b[0m\u001b[90m╺\u001b[0m\u001b[90m━━━━━━━━━━━━━━━━━\u001b[0m \u001b[32m1.8/3.3 MB\u001b[0m \u001b[31m112.0 kB/s\u001b[0m eta \u001b[36m0:00:14\u001b[0m"
                },
                {
                    "output_type": "stream",
                    "name": "stdout",
                    "text": "\r\u001b[2K   \u001b[91m━━━━━━━━━━━━━━━━━━━━━━\u001b[0m\u001b[90m╺\u001b[0m\u001b[90m━━━━━━━━━━━━━━━━━\u001b[0m \u001b[32m1.8/3.3 MB\u001b[0m \u001b[31m112.0 kB/s\u001b[0m eta \u001b[36m0:00:14\u001b[0m"
                },
                {
                    "output_type": "stream",
                    "name": "stdout",
                    "text": "\r\u001b[2K   \u001b[91m━━━━━━━━━━━━━━━━━━━━━━\u001b[0m\u001b[90m╺\u001b[0m\u001b[90m━━━━━━━━━━━━━━━━━\u001b[0m \u001b[32m1.8/3.3 MB\u001b[0m \u001b[31m112.0 kB/s\u001b[0m eta \u001b[36m0:00:14\u001b[0m\r\u001b[2K   \u001b[91m━━━━━━━━━━━━━━━━━━━━━━\u001b[0m\u001b[90m╺\u001b[0m\u001b[90m━━━━━━━━━━━━━━━━━\u001b[0m \u001b[32m1.8/3.3 MB\u001b[0m \u001b[31m112.0 kB/s\u001b[0m eta \u001b[36m0:00:14\u001b[0m"
                },
                {
                    "output_type": "stream",
                    "name": "stdout",
                    "text": "\r\u001b[2K   \u001b[91m━━━━━━━━━━━━━━━━━━━━━━\u001b[0m\u001b[90m╺\u001b[0m\u001b[90m━━━━━━━━━━━━━━━━━\u001b[0m \u001b[32m1.8/3.3 MB\u001b[0m \u001b[31m112.0 kB/s\u001b[0m eta \u001b[36m0:00:14\u001b[0m"
                },
                {
                    "output_type": "stream",
                    "name": "stdout",
                    "text": "\r\u001b[2K   \u001b[91m━━━━━━━━━━━━━━━━━━━━━━\u001b[0m\u001b[90m╺\u001b[0m\u001b[90m━━━━━━━━━━━━━━━━━\u001b[0m \u001b[32m1.8/3.3 MB\u001b[0m \u001b[31m112.0 kB/s\u001b[0m eta \u001b[36m0:00:14\u001b[0m\r\u001b[2K   \u001b[91m━━━━━━━━━━━━━━━━━━━━━━\u001b[0m\u001b[90m╺\u001b[0m\u001b[90m━━━━━━━━━━━━━━━━━\u001b[0m \u001b[32m1.8/3.3 MB\u001b[0m \u001b[31m112.0 kB/s\u001b[0m eta \u001b[36m0:00:14\u001b[0m"
                },
                {
                    "output_type": "stream",
                    "name": "stdout",
                    "text": "\r\u001b[2K   \u001b[91m━━━━━━━━━━━━━━━━━━━━━━\u001b[0m\u001b[90m╺\u001b[0m\u001b[90m━━━━━━━━━━━━━━━━━\u001b[0m \u001b[32m1.8/3.3 MB\u001b[0m \u001b[31m112.0 kB/s\u001b[0m eta \u001b[36m0:00:14\u001b[0m"
                },
                {
                    "output_type": "stream",
                    "name": "stdout",
                    "text": "\r\u001b[2K   \u001b[91m━━━━━━━━━━━━━━━━━━━━━━\u001b[0m\u001b[90m╺\u001b[0m\u001b[90m━━━━━━━━━━━━━━━━━\u001b[0m \u001b[32m1.8/3.3 MB\u001b[0m \u001b[31m112.0 kB/s\u001b[0m eta \u001b[36m0:00:14\u001b[0m"
                },
                {
                    "output_type": "stream",
                    "name": "stdout",
                    "text": "\r\u001b[2K   \u001b[91m━━━━━━━━━━━━━━━━━━━━━━\u001b[0m\u001b[90m╺\u001b[0m\u001b[90m━━━━━━━━━━━━━━━━━\u001b[0m \u001b[32m1.8/3.3 MB\u001b[0m \u001b[31m112.0 kB/s\u001b[0m eta \u001b[36m0:00:14\u001b[0m\r\u001b[2K   \u001b[91m━━━━━━━━━━━━━━━━━━━━━━\u001b[0m\u001b[90m╺\u001b[0m\u001b[90m━━━━━━━━━━━━━━━━━\u001b[0m \u001b[32m1.8/3.3 MB\u001b[0m \u001b[31m112.0 kB/s\u001b[0m eta \u001b[36m0:00:14\u001b[0m"
                },
                {
                    "output_type": "stream",
                    "name": "stdout",
                    "text": "\r\u001b[2K   \u001b[91m━━━━━━━━━━━━━━━━━━━━━━\u001b[0m\u001b[90m╺\u001b[0m\u001b[90m━━━━━━━━━━━━━━━━━\u001b[0m \u001b[32m1.8/3.3 MB\u001b[0m \u001b[31m112.0 kB/s\u001b[0m eta \u001b[36m0:00:14\u001b[0m"
                },
                {
                    "output_type": "stream",
                    "name": "stdout",
                    "text": "\r\u001b[2K   \u001b[91m━━━━━━━━━━━━━━━━━━━━━━\u001b[0m\u001b[90m╺\u001b[0m\u001b[90m━━━━━━━━━━━━━━━━━\u001b[0m \u001b[32m1.8/3.3 MB\u001b[0m \u001b[31m112.0 kB/s\u001b[0m eta \u001b[36m0:00:14\u001b[0m"
                },
                {
                    "output_type": "stream",
                    "name": "stdout",
                    "text": "\r\u001b[2K   \u001b[91m━━━━━━━━━━━━━━━━━━━━━━\u001b[0m\u001b[90m╺\u001b[0m\u001b[90m━━━━━━━━━━━━━━━━━\u001b[0m \u001b[32m1.8/3.3 MB\u001b[0m \u001b[31m112.0 kB/s\u001b[0m eta \u001b[36m0:00:14\u001b[0m\r\u001b[2K   \u001b[91m━━━━━━━━━━━━━━━━━━━━━━\u001b[0m\u001b[90m╺\u001b[0m\u001b[90m━━━━━━━━━━━━━━━━━\u001b[0m \u001b[32m1.8/3.3 MB\u001b[0m \u001b[31m112.0 kB/s\u001b[0m eta \u001b[36m0:00:14\u001b[0m"
                },
                {
                    "output_type": "stream",
                    "name": "stdout",
                    "text": "\r\u001b[2K   \u001b[91m━━━━━━━━━━━━━━━━━━━━━━\u001b[0m\u001b[90m╺\u001b[0m\u001b[90m━━━━━━━━━━━━━━━━━\u001b[0m \u001b[32m1.8/3.3 MB\u001b[0m \u001b[31m112.0 kB/s\u001b[0m eta \u001b[36m0:00:14\u001b[0m"
                },
                {
                    "output_type": "stream",
                    "name": "stdout",
                    "text": "\r\u001b[2K   \u001b[91m━━━━━━━━━━━━━━━━━━━━━━\u001b[0m\u001b[90m╺\u001b[0m\u001b[90m━━━━━━━━━━━━━━━━━\u001b[0m \u001b[32m1.8/3.3 MB\u001b[0m \u001b[31m112.0 kB/s\u001b[0m eta \u001b[36m0:00:14\u001b[0m\r\u001b[2K   \u001b[91m━━━━━━━━━━━━━━━━━━━━━━\u001b[0m\u001b[90m╺\u001b[0m\u001b[90m━━━━━━━━━━━━━━━━━\u001b[0m \u001b[32m1.8/3.3 MB\u001b[0m \u001b[31m112.0 kB/s\u001b[0m eta \u001b[36m0:00:14\u001b[0m"
                },
                {
                    "output_type": "stream",
                    "name": "stdout",
                    "text": "\r\u001b[2K   \u001b[91m━━━━━━━━━━━━━━━━━━━━━━\u001b[0m\u001b[90m╺\u001b[0m\u001b[90m━━━━━━━━━━━━━━━━━\u001b[0m \u001b[32m1.8/3.3 MB\u001b[0m \u001b[31m112.0 kB/s\u001b[0m eta \u001b[36m0:00:14\u001b[0m"
                },
                {
                    "output_type": "stream",
                    "name": "stdout",
                    "text": "\r\u001b[2K   \u001b[91m━━━━━━━━━━━━━━━━━━━━━━\u001b[0m\u001b[90m╺\u001b[0m\u001b[90m━━━━━━━━━━━━━━━━━\u001b[0m \u001b[32m1.8/3.3 MB\u001b[0m \u001b[31m112.0 kB/s\u001b[0m eta \u001b[36m0:00:14\u001b[0m"
                },
                {
                    "output_type": "stream",
                    "name": "stdout",
                    "text": "\r\u001b[2K   \u001b[91m━━━━━━━━━━━━━━━━━━━━━━\u001b[0m\u001b[90m╺\u001b[0m\u001b[90m━━━━━━━━━━━━━━━━━\u001b[0m \u001b[32m1.8/3.3 MB\u001b[0m \u001b[31m112.0 kB/s\u001b[0m eta \u001b[36m0:00:14\u001b[0m\r\u001b[2K   \u001b[91m━━━━━━━━━━━━━━━━━━━━━━\u001b[0m\u001b[90m╺\u001b[0m\u001b[90m━━━━━━━━━━━━━━━━━\u001b[0m \u001b[32m1.8/3.3 MB\u001b[0m \u001b[31m112.0 kB/s\u001b[0m eta \u001b[36m0:00:14\u001b[0m"
                },
                {
                    "output_type": "stream",
                    "name": "stdout",
                    "text": "\r\u001b[2K   \u001b[91m━━━━━━━━━━━━━━━━━━━━━━\u001b[0m\u001b[90m╺\u001b[0m\u001b[90m━━━━━━━━━━━━━━━━━\u001b[0m \u001b[32m1.8/3.3 MB\u001b[0m \u001b[31m112.0 kB/s\u001b[0m eta \u001b[36m0:00:14\u001b[0m"
                },
                {
                    "output_type": "stream",
                    "name": "stdout",
                    "text": "\r\u001b[2K   \u001b[91m━━━━━━━━━━━━━━━━━━━━━━\u001b[0m\u001b[90m╺\u001b[0m\u001b[90m━━━━━━━━━━━━━━━━━\u001b[0m \u001b[32m1.8/3.3 MB\u001b[0m \u001b[31m112.0 kB/s\u001b[0m eta \u001b[36m0:00:14\u001b[0m"
                },
                {
                    "output_type": "stream",
                    "name": "stdout",
                    "text": "\r\u001b[2K   \u001b[91m━━━━━━━━━━━━━━━━━━━━━━\u001b[0m\u001b[90m╺\u001b[0m\u001b[90m━━━━━━━━━━━━━━━━━\u001b[0m \u001b[32m1.8/3.3 MB\u001b[0m \u001b[31m112.0 kB/s\u001b[0m eta \u001b[36m0:00:14\u001b[0m\r\u001b[2K   \u001b[91m━━━━━━━━━━━━━━━━━━━━━━\u001b[0m\u001b[90m╺\u001b[0m\u001b[90m━━━━━━━━━━━━━━━━━\u001b[0m \u001b[32m1.8/3.3 MB\u001b[0m \u001b[31m112.0 kB/s\u001b[0m eta \u001b[36m0:00:14\u001b[0m"
                },
                {
                    "output_type": "stream",
                    "name": "stdout",
                    "text": "\r\u001b[2K   \u001b[91m━━━━━━━━━━━━━━━━━━━━━━\u001b[0m\u001b[90m╺\u001b[0m\u001b[90m━━━━━━━━━━━━━━━━━\u001b[0m \u001b[32m1.8/3.3 MB\u001b[0m \u001b[31m112.0 kB/s\u001b[0m eta \u001b[36m0:00:14\u001b[0m"
                },
                {
                    "output_type": "stream",
                    "name": "stdout",
                    "text": "\r\u001b[2K   \u001b[91m━━━━━━━━━━━━━━━━━━━━━━\u001b[0m\u001b[90m╺\u001b[0m\u001b[90m━━━━━━━━━━━━━━━━━\u001b[0m \u001b[32m1.8/3.3 MB\u001b[0m \u001b[31m112.0 kB/s\u001b[0m eta \u001b[36m0:00:14\u001b[0m\r\u001b[2K   \u001b[91m━━━━━━━━━━━━━━━━━━━━━━\u001b[0m\u001b[90m╺\u001b[0m\u001b[90m━━━━━━━━━━━━━━━━━\u001b[0m \u001b[32m1.9/3.3 MB\u001b[0m \u001b[31m103.8 kB/s\u001b[0m eta \u001b[36m0:00:15\u001b[0m"
                },
                {
                    "output_type": "stream",
                    "name": "stdout",
                    "text": "\r\u001b[2K   \u001b[91m━━━━━━━━━━━━━━━━━━━━━━\u001b[0m\u001b[90m╺\u001b[0m\u001b[90m━━━━━━━━━━━━━━━━━\u001b[0m \u001b[32m1.9/3.3 MB\u001b[0m \u001b[31m103.8 kB/s\u001b[0m eta \u001b[36m0:00:15\u001b[0m"
                },
                {
                    "output_type": "stream",
                    "name": "stdout",
                    "text": "\r\u001b[2K   \u001b[91m━━━━━━━━━━━━━━━━━━━━━━\u001b[0m\u001b[90m╺\u001b[0m\u001b[90m━━━━━━━━━━━━━━━━━\u001b[0m \u001b[32m1.9/3.3 MB\u001b[0m \u001b[31m103.8 kB/s\u001b[0m eta \u001b[36m0:00:15\u001b[0m\r\u001b[2K   \u001b[91m━━━━━━━━━━━━━━━━━━━━━━\u001b[0m\u001b[90m╺\u001b[0m\u001b[90m━━━━━━━━━━━━━━━━━\u001b[0m \u001b[32m1.9/3.3 MB\u001b[0m \u001b[31m103.8 kB/s\u001b[0m eta \u001b[36m0:00:15\u001b[0m"
                },
                {
                    "output_type": "stream",
                    "name": "stdout",
                    "text": "\r\u001b[2K   \u001b[91m━━━━━━━━━━━━━━━━━━━━━━\u001b[0m\u001b[90m╺\u001b[0m\u001b[90m━━━━━━━━━━━━━━━━━\u001b[0m \u001b[32m1.9/3.3 MB\u001b[0m \u001b[31m103.8 kB/s\u001b[0m eta \u001b[36m0:00:15\u001b[0m"
                },
                {
                    "output_type": "stream",
                    "name": "stdout",
                    "text": "\r\u001b[2K   \u001b[91m━━━━━━━━━━━━━━━━━━━━━━\u001b[0m\u001b[90m╺\u001b[0m\u001b[90m━━━━━━━━━━━━━━━━━\u001b[0m \u001b[32m1.9/3.3 MB\u001b[0m \u001b[31m103.8 kB/s\u001b[0m eta \u001b[36m0:00:15\u001b[0m"
                },
                {
                    "output_type": "stream",
                    "name": "stdout",
                    "text": "\r\u001b[2K   \u001b[91m━━━━━━━━━━━━━━━━━━━━━━\u001b[0m\u001b[90m╺\u001b[0m\u001b[90m━━━━━━━━━━━━━━━━━\u001b[0m \u001b[32m1.9/3.3 MB\u001b[0m \u001b[31m103.8 kB/s\u001b[0m eta \u001b[36m0:00:15\u001b[0m\r\u001b[2K   \u001b[91m━━━━━━━━━━━━━━━━━━━━━━\u001b[0m\u001b[90m╺\u001b[0m\u001b[90m━━━━━━━━━━━━━━━━━\u001b[0m \u001b[32m1.9/3.3 MB\u001b[0m \u001b[31m103.8 kB/s\u001b[0m eta \u001b[36m0:00:15\u001b[0m"
                },
                {
                    "output_type": "stream",
                    "name": "stdout",
                    "text": "\r\u001b[2K   \u001b[91m━━━━━━━━━━━━━━━━━━━━━━\u001b[0m\u001b[90m╺\u001b[0m\u001b[90m━━━━━━━━━━━━━━━━━\u001b[0m \u001b[32m1.9/3.3 MB\u001b[0m \u001b[31m103.8 kB/s\u001b[0m eta \u001b[36m0:00:15\u001b[0m"
                },
                {
                    "output_type": "stream",
                    "name": "stdout",
                    "text": "\r\u001b[2K   \u001b[91m━━━━━━━━━━━━━━━━━━━━━━\u001b[0m\u001b[90m╺\u001b[0m\u001b[90m━━━━━━━━━━━━━━━━━\u001b[0m \u001b[32m1.9/3.3 MB\u001b[0m \u001b[31m103.8 kB/s\u001b[0m eta \u001b[36m0:00:15\u001b[0m\r\u001b[2K   \u001b[91m━━━━━━━━━━━━━━━━━━━━━━\u001b[0m\u001b[90m╺\u001b[0m\u001b[90m━━━━━━━━━━━━━━━━━\u001b[0m \u001b[32m1.9/3.3 MB\u001b[0m \u001b[31m103.8 kB/s\u001b[0m eta \u001b[36m0:00:15\u001b[0m"
                },
                {
                    "output_type": "stream",
                    "name": "stdout",
                    "text": "\r\u001b[2K   \u001b[91m━━━━━━━━━━━━━━━━━━━━━━\u001b[0m\u001b[90m╺\u001b[0m\u001b[90m━━━━━━━━━━━━━━━━━\u001b[0m \u001b[32m1.9/3.3 MB\u001b[0m \u001b[31m103.8 kB/s\u001b[0m eta \u001b[36m0:00:15\u001b[0m"
                },
                {
                    "output_type": "stream",
                    "name": "stdout",
                    "text": "\r\u001b[2K   \u001b[91m━━━━━━━━━━━━━━━━━━━━━━\u001b[0m\u001b[90m╺\u001b[0m\u001b[90m━━━━━━━━━━━━━━━━━\u001b[0m \u001b[32m1.9/3.3 MB\u001b[0m \u001b[31m103.8 kB/s\u001b[0m eta \u001b[36m0:00:15\u001b[0m\r\u001b[2K   \u001b[91m━━━━━━━━━━━━━━━━━━━━━━\u001b[0m\u001b[90m╺\u001b[0m\u001b[90m━━━━━━━━━━━━━━━━━\u001b[0m \u001b[32m1.9/3.3 MB\u001b[0m \u001b[31m103.8 kB/s\u001b[0m eta \u001b[36m0:00:15\u001b[0m"
                },
                {
                    "output_type": "stream",
                    "name": "stdout",
                    "text": "\r\u001b[2K   \u001b[91m━━━━━━━━━━━━━━━━━━━━━━\u001b[0m\u001b[90m╺\u001b[0m\u001b[90m━━━━━━━━━━━━━━━━━\u001b[0m \u001b[32m1.9/3.3 MB\u001b[0m \u001b[31m103.8 kB/s\u001b[0m eta \u001b[36m0:00:15\u001b[0m"
                },
                {
                    "output_type": "stream",
                    "name": "stdout",
                    "text": "\r\u001b[2K   \u001b[91m━━━━━━━━━━━━━━━━━━━━━━\u001b[0m\u001b[90m╺\u001b[0m\u001b[90m━━━━━━━━━━━━━━━━━\u001b[0m \u001b[32m1.9/3.3 MB\u001b[0m \u001b[31m103.8 kB/s\u001b[0m eta \u001b[36m0:00:15\u001b[0m"
                },
                {
                    "output_type": "stream",
                    "name": "stdout",
                    "text": "\r\u001b[2K   \u001b[91m━━━━━━━━━━━━━━━━━━━━━━\u001b[0m\u001b[90m╺\u001b[0m\u001b[90m━━━━━━━━━━━━━━━━━\u001b[0m \u001b[32m1.9/3.3 MB\u001b[0m \u001b[31m103.8 kB/s\u001b[0m eta \u001b[36m0:00:15\u001b[0m\r\u001b[2K   \u001b[91m━━━━━━━━━━━━━━━━━━━━━━\u001b[0m\u001b[90m╺\u001b[0m\u001b[90m━━━━━━━━━━━━━━━━━\u001b[0m \u001b[32m1.9/3.3 MB\u001b[0m \u001b[31m103.8 kB/s\u001b[0m eta \u001b[36m0:00:15\u001b[0m"
                },
                {
                    "output_type": "stream",
                    "name": "stdout",
                    "text": "\r\u001b[2K   \u001b[91m━━━━━━━━━━━━━━━━━━━━━━\u001b[0m\u001b[90m╺\u001b[0m\u001b[90m━━━━━━━━━━━━━━━━━\u001b[0m \u001b[32m1.9/3.3 MB\u001b[0m \u001b[31m103.8 kB/s\u001b[0m eta \u001b[36m0:00:15\u001b[0m"
                },
                {
                    "output_type": "stream",
                    "name": "stdout",
                    "text": "\r\u001b[2K   \u001b[91m━━━━━━━━━━━━━━━━━━━━━━\u001b[0m\u001b[90m╺\u001b[0m\u001b[90m━━━━━━━━━━━━━━━━━\u001b[0m \u001b[32m1.9/3.3 MB\u001b[0m \u001b[31m103.8 kB/s\u001b[0m eta \u001b[36m0:00:15\u001b[0m\r\u001b[2K   \u001b[91m━━━━━━━━━━━━━━━━━━━━━━\u001b[0m\u001b[90m╺\u001b[0m\u001b[90m━━━━━━━━━━━━━━━━━\u001b[0m \u001b[32m1.9/3.3 MB\u001b[0m \u001b[31m103.8 kB/s\u001b[0m eta \u001b[36m0:00:15\u001b[0m"
                },
                {
                    "output_type": "stream",
                    "name": "stdout",
                    "text": "\r\u001b[2K   \u001b[91m━━━━━━━━━━━━━━━━━━━━━━\u001b[0m\u001b[90m╺\u001b[0m\u001b[90m━━━━━━━━━━━━━━━━━\u001b[0m \u001b[32m1.9/3.3 MB\u001b[0m \u001b[31m103.8 kB/s\u001b[0m eta \u001b[36m0:00:15\u001b[0m"
                },
                {
                    "output_type": "stream",
                    "name": "stdout",
                    "text": "\r\u001b[2K   \u001b[91m━━━━━━━━━━━━━━━━━━━━━━\u001b[0m\u001b[91m╸\u001b[0m\u001b[90m━━━━━━━━━━━━━━━━━\u001b[0m \u001b[32m1.9/3.3 MB\u001b[0m \u001b[31m100.2 kB/s\u001b[0m eta \u001b[36m0:00:15\u001b[0m"
                },
                {
                    "output_type": "stream",
                    "name": "stdout",
                    "text": "\r\u001b[2K   \u001b[91m━━━━━━━━━━━━━━━━━━━━━━\u001b[0m\u001b[91m╸\u001b[0m\u001b[90m━━━━━━━━━━━━━━━━━\u001b[0m \u001b[32m1.9/3.3 MB\u001b[0m \u001b[31m100.2 kB/s\u001b[0m eta \u001b[36m0:00:15\u001b[0m\r\u001b[2K   \u001b[91m━━━━━━━━━━━━━━━━━━━━━━\u001b[0m\u001b[91m╸\u001b[0m\u001b[90m━━━━━━━━━━━━━━━━━\u001b[0m \u001b[32m1.9/3.3 MB\u001b[0m \u001b[31m100.2 kB/s\u001b[0m eta \u001b[36m0:00:15\u001b[0m"
                },
                {
                    "output_type": "stream",
                    "name": "stdout",
                    "text": "\r\u001b[2K   \u001b[91m━━━━━━━━━━━━━━━━━━━━━━\u001b[0m\u001b[91m╸\u001b[0m\u001b[90m━━━━━━━━━━━━━━━━━\u001b[0m \u001b[32m1.9/3.3 MB\u001b[0m \u001b[31m100.2 kB/s\u001b[0m eta \u001b[36m0:00:15\u001b[0m"
                },
                {
                    "output_type": "stream",
                    "name": "stdout",
                    "text": "\r\u001b[2K   \u001b[91m━━━━━━━━━━━━━━━━━━━━━━\u001b[0m\u001b[91m╸\u001b[0m\u001b[90m━━━━━━━━━━━━━━━━━\u001b[0m \u001b[32m1.9/3.3 MB\u001b[0m \u001b[31m100.2 kB/s\u001b[0m eta \u001b[36m0:00:15\u001b[0m\r\u001b[2K   \u001b[91m━━━━━━━━━━━━━━━━━━━━━━\u001b[0m\u001b[91m╸\u001b[0m\u001b[90m━━━━━━━━━━━━━━━━━\u001b[0m \u001b[32m1.9/3.3 MB\u001b[0m \u001b[31m100.2 kB/s\u001b[0m eta \u001b[36m0:00:15\u001b[0m"
                },
                {
                    "output_type": "stream",
                    "name": "stdout",
                    "text": "\r\u001b[2K   \u001b[91m━━━━━━━━━━━━━━━━━━━━━━\u001b[0m\u001b[91m╸\u001b[0m\u001b[90m━━━━━━━━━━━━━━━━━\u001b[0m \u001b[32m1.9/3.3 MB\u001b[0m \u001b[31m100.2 kB/s\u001b[0m eta \u001b[36m0:00:15\u001b[0m"
                },
                {
                    "output_type": "stream",
                    "name": "stdout",
                    "text": "\r\u001b[2K   \u001b[91m━━━━━━━━━━━━━━━━━━━━━━\u001b[0m\u001b[91m╸\u001b[0m\u001b[90m━━━━━━━━━━━━━━━━━\u001b[0m \u001b[32m1.9/3.3 MB\u001b[0m \u001b[31m100.2 kB/s\u001b[0m eta \u001b[36m0:00:15\u001b[0m"
                },
                {
                    "output_type": "stream",
                    "name": "stdout",
                    "text": "\r\u001b[2K   \u001b[91m━━━━━━━━━━━━━━━━━━━━━━\u001b[0m\u001b[91m╸\u001b[0m\u001b[90m━━━━━━━━━━━━━━━━━\u001b[0m \u001b[32m1.9/3.3 MB\u001b[0m \u001b[31m100.2 kB/s\u001b[0m eta \u001b[36m0:00:15\u001b[0m\r\u001b[2K   \u001b[91m━━━━━━━━━━━━━━━━━━━━━━\u001b[0m\u001b[91m╸\u001b[0m\u001b[90m━━━━━━━━━━━━━━━━━\u001b[0m \u001b[32m1.9/3.3 MB\u001b[0m \u001b[31m100.2 kB/s\u001b[0m eta \u001b[36m0:00:15\u001b[0m"
                },
                {
                    "output_type": "stream",
                    "name": "stdout",
                    "text": "\r\u001b[2K   \u001b[91m━━━━━━━━━━━━━━━━━━━━━━\u001b[0m\u001b[91m╸\u001b[0m\u001b[90m━━━━━━━━━━━━━━━━━\u001b[0m \u001b[32m1.9/3.3 MB\u001b[0m \u001b[31m100.2 kB/s\u001b[0m eta \u001b[36m0:00:15\u001b[0m"
                },
                {
                    "output_type": "stream",
                    "name": "stdout",
                    "text": "\r\u001b[2K   \u001b[91m━━━━━━━━━━━━━━━━━━━━━━\u001b[0m\u001b[91m╸\u001b[0m\u001b[90m━━━━━━━━━━━━━━━━━\u001b[0m \u001b[32m1.9/3.3 MB\u001b[0m \u001b[31m100.2 kB/s\u001b[0m eta \u001b[36m0:00:15\u001b[0m"
                },
                {
                    "output_type": "stream",
                    "name": "stdout",
                    "text": "\r\u001b[2K   \u001b[91m━━━━━━━━━━━━━━━━━━━━━━\u001b[0m\u001b[91m╸\u001b[0m\u001b[90m━━━━━━━━━━━━━━━━━\u001b[0m \u001b[32m1.9/3.3 MB\u001b[0m \u001b[31m100.2 kB/s\u001b[0m eta \u001b[36m0:00:15\u001b[0m\r\u001b[2K   \u001b[91m━━━━━━━━━━━━━━━━━━━━━━\u001b[0m\u001b[91m╸\u001b[0m\u001b[90m━━━━━━━━━━━━━━━━━\u001b[0m \u001b[32m1.9/3.3 MB\u001b[0m \u001b[31m100.2 kB/s\u001b[0m eta \u001b[36m0:00:15\u001b[0m"
                },
                {
                    "output_type": "stream",
                    "name": "stdout",
                    "text": "\r\u001b[2K   \u001b[91m━━━━━━━━━━━━━━━━━━━━━━\u001b[0m\u001b[91m╸\u001b[0m\u001b[90m━━━━━━━━━━━━━━━━━\u001b[0m \u001b[32m1.9/3.3 MB\u001b[0m \u001b[31m100.2 kB/s\u001b[0m eta \u001b[36m0:00:15\u001b[0m"
                },
                {
                    "output_type": "stream",
                    "name": "stdout",
                    "text": "\r\u001b[2K   \u001b[91m━━━━━━━━━━━━━━━━━━━━━━\u001b[0m\u001b[91m╸\u001b[0m\u001b[90m━━━━━━━━━━━━━━━━━\u001b[0m \u001b[32m1.9/3.3 MB\u001b[0m \u001b[31m100.2 kB/s\u001b[0m eta \u001b[36m0:00:15\u001b[0m\r\u001b[2K   \u001b[91m━━━━━━━━━━━━━━━━━━━━━━\u001b[0m\u001b[91m╸\u001b[0m\u001b[90m━━━━━━━━━━━━━━━━━\u001b[0m \u001b[32m1.9/3.3 MB\u001b[0m \u001b[31m100.2 kB/s\u001b[0m eta \u001b[36m0:00:15\u001b[0m"
                },
                {
                    "output_type": "stream",
                    "name": "stdout",
                    "text": "\r\u001b[2K   \u001b[91m━━━━━━━━━━━━━━━━━━━━━━\u001b[0m\u001b[91m╸\u001b[0m\u001b[90m━━━━━━━━━━━━━━━━━\u001b[0m \u001b[32m1.9/3.3 MB\u001b[0m \u001b[31m100.2 kB/s\u001b[0m eta \u001b[36m0:00:15\u001b[0m"
                },
                {
                    "output_type": "stream",
                    "name": "stdout",
                    "text": "\r\u001b[2K   \u001b[91m━━━━━━━━━━━━━━━━━━━━━━\u001b[0m\u001b[91m╸\u001b[0m\u001b[90m━━━━━━━━━━━━━━━━━\u001b[0m \u001b[32m1.9/3.3 MB\u001b[0m \u001b[31m100.2 kB/s\u001b[0m eta \u001b[36m0:00:15\u001b[0m"
                },
                {
                    "output_type": "stream",
                    "name": "stdout",
                    "text": "\r\u001b[2K   \u001b[91m━━━━━━━━━━━━━━━━━━━━━━\u001b[0m\u001b[91m╸\u001b[0m\u001b[90m━━━━━━━━━━━━━━━━━\u001b[0m \u001b[32m1.9/3.3 MB\u001b[0m \u001b[31m100.2 kB/s\u001b[0m eta \u001b[36m0:00:15\u001b[0m\r\u001b[2K   \u001b[91m━━━━━━━━━━━━━━━━━━━━━━\u001b[0m\u001b[91m╸\u001b[0m\u001b[90m━━━━━━━━━━━━━━━━━\u001b[0m \u001b[32m1.9/3.3 MB\u001b[0m \u001b[31m100.2 kB/s\u001b[0m eta \u001b[36m0:00:15\u001b[0m"
                },
                {
                    "output_type": "stream",
                    "name": "stdout",
                    "text": "\r\u001b[2K   \u001b[91m━━━━━━━━━━━━━━━━━━━━━━\u001b[0m\u001b[91m╸\u001b[0m\u001b[90m━━━━━━━━━━━━━━━━━\u001b[0m \u001b[32m1.9/3.3 MB\u001b[0m \u001b[31m100.2 kB/s\u001b[0m eta \u001b[36m0:00:15\u001b[0m"
                },
                {
                    "output_type": "stream",
                    "name": "stdout",
                    "text": "\r\u001b[2K   \u001b[91m━━━━━━━━━━━━━━━━━━━━━━\u001b[0m\u001b[91m╸\u001b[0m\u001b[90m━━━━━━━━━━━━━━━━━\u001b[0m \u001b[32m1.9/3.3 MB\u001b[0m \u001b[31m100.2 kB/s\u001b[0m eta \u001b[36m0:00:15\u001b[0m\r\u001b[2K   \u001b[91m━━━━━━━━━━━━━━━━━━━━━━\u001b[0m\u001b[91m╸\u001b[0m\u001b[90m━━━━━━━━━━━━━━━━━\u001b[0m \u001b[32m1.9/3.3 MB\u001b[0m \u001b[31m100.2 kB/s\u001b[0m eta \u001b[36m0:00:15\u001b[0m"
                },
                {
                    "output_type": "stream",
                    "name": "stdout",
                    "text": "\r\u001b[2K   \u001b[91m━━━━━━━━━━━━━━━━━━━━━━\u001b[0m\u001b[91m╸\u001b[0m\u001b[90m━━━━━━━━━━━━━━━━━\u001b[0m \u001b[32m1.9/3.3 MB\u001b[0m \u001b[31m100.2 kB/s\u001b[0m eta \u001b[36m0:00:15\u001b[0m"
                },
                {
                    "output_type": "stream",
                    "name": "stdout",
                    "text": "\r\u001b[2K   \u001b[91m━━━━━━━━━━━━━━━━━━━━━━\u001b[0m\u001b[91m╸\u001b[0m\u001b[90m━━━━━━━━━━━━━━━━━\u001b[0m \u001b[32m1.9/3.3 MB\u001b[0m \u001b[31m100.2 kB/s\u001b[0m eta \u001b[36m0:00:15\u001b[0m\r\u001b[2K   \u001b[91m━━━━━━━━━━━━━━━━━━━━━━\u001b[0m\u001b[91m╸\u001b[0m\u001b[90m━━━━━━━━━━━━━━━━━\u001b[0m \u001b[32m1.9/3.3 MB\u001b[0m \u001b[31m100.2 kB/s\u001b[0m eta \u001b[36m0:00:15\u001b[0m"
                },
                {
                    "output_type": "stream",
                    "name": "stdout",
                    "text": "\r\u001b[2K   \u001b[91m━━━━━━━━━━━━━━━━━━━━━━\u001b[0m\u001b[91m╸\u001b[0m\u001b[90m━━━━━━━━━━━━━━━━━\u001b[0m \u001b[32m1.9/3.3 MB\u001b[0m \u001b[31m100.2 kB/s\u001b[0m eta \u001b[36m0:00:15\u001b[0m"
                },
                {
                    "output_type": "stream",
                    "name": "stdout",
                    "text": "\r\u001b[2K   \u001b[91m━━━━━━━━━━━━━━━━━━━━━━\u001b[0m\u001b[91m╸\u001b[0m\u001b[90m━━━━━━━━━━━━━━━━━\u001b[0m \u001b[32m1.9/3.3 MB\u001b[0m \u001b[31m100.2 kB/s\u001b[0m eta \u001b[36m0:00:15\u001b[0m"
                },
                {
                    "output_type": "stream",
                    "name": "stdout",
                    "text": "\r\u001b[2K   \u001b[91m━━━━━━━━━━━━━━━━━━━━━━\u001b[0m\u001b[91m╸\u001b[0m\u001b[90m━━━━━━━━━━━━━━━━━\u001b[0m \u001b[32m1.9/3.3 MB\u001b[0m \u001b[31m100.2 kB/s\u001b[0m eta \u001b[36m0:00:15\u001b[0m\r\u001b[2K   \u001b[91m━━━━━━━━━━━━━━━━━━━━━━\u001b[0m\u001b[91m╸\u001b[0m\u001b[90m━━━━━━━━━━━━━━━━━\u001b[0m \u001b[32m1.9/3.3 MB\u001b[0m \u001b[31m100.2 kB/s\u001b[0m eta \u001b[36m0:00:15\u001b[0m"
                },
                {
                    "output_type": "stream",
                    "name": "stdout",
                    "text": "\r\u001b[2K   \u001b[91m━━━━━━━━━━━━━━━━━━━━━━\u001b[0m\u001b[91m╸\u001b[0m\u001b[90m━━━━━━━━━━━━━━━━━\u001b[0m \u001b[32m1.9/3.3 MB\u001b[0m \u001b[31m100.2 kB/s\u001b[0m eta \u001b[36m0:00:15\u001b[0m"
                },
                {
                    "output_type": "stream",
                    "name": "stdout",
                    "text": "\r\u001b[2K   \u001b[91m━━━━━━━━━━━━━━━━━━━━━━\u001b[0m\u001b[91m╸\u001b[0m\u001b[90m━━━━━━━━━━━━━━━━━\u001b[0m \u001b[32m1.9/3.3 MB\u001b[0m \u001b[31m100.2 kB/s\u001b[0m eta \u001b[36m0:00:15\u001b[0m\r\u001b[2K   \u001b[91m━━━━━━━━━━━━━━━━━━━━━━\u001b[0m\u001b[91m╸\u001b[0m\u001b[90m━━━━━━━━━━━━━━━━━\u001b[0m \u001b[32m1.9/3.3 MB\u001b[0m \u001b[31m100.2 kB/s\u001b[0m eta \u001b[36m0:00:15\u001b[0m"
                },
                {
                    "output_type": "stream",
                    "name": "stdout",
                    "text": "\r\u001b[2K   \u001b[91m━━━━━━━━━━━━━━━━━━━━━━\u001b[0m\u001b[91m╸\u001b[0m\u001b[90m━━━━━━━━━━━━━━━━━\u001b[0m \u001b[32m1.9/3.3 MB\u001b[0m \u001b[31m100.2 kB/s\u001b[0m eta \u001b[36m0:00:15\u001b[0m"
                },
                {
                    "output_type": "stream",
                    "name": "stdout",
                    "text": "\r\u001b[2K   \u001b[91m━━━━━━━━━━━━━━━━━━━━━━\u001b[0m\u001b[91m╸\u001b[0m\u001b[90m━━━━━━━━━━━━━━━━━\u001b[0m \u001b[32m1.9/3.3 MB\u001b[0m \u001b[31m100.2 kB/s\u001b[0m eta \u001b[36m0:00:15\u001b[0m\r\u001b[2K   \u001b[91m━━━━━━━━━━━━━━━━━━━━━━\u001b[0m\u001b[91m╸\u001b[0m\u001b[90m━━━━━━━━━━━━━━━━━\u001b[0m \u001b[32m1.9/3.3 MB\u001b[0m \u001b[31m100.2 kB/s\u001b[0m eta \u001b[36m0:00:15\u001b[0m"
                },
                {
                    "output_type": "stream",
                    "name": "stdout",
                    "text": "\r\u001b[2K   \u001b[91m━━━━━━━━━━━━━━━━━━━━━━\u001b[0m\u001b[91m╸\u001b[0m\u001b[90m━━━━━━━━━━━━━━━━━\u001b[0m \u001b[32m1.9/3.3 MB\u001b[0m \u001b[31m100.2 kB/s\u001b[0m eta \u001b[36m0:00:15\u001b[0m"
                },
                {
                    "output_type": "stream",
                    "name": "stdout",
                    "text": "\r\u001b[2K   \u001b[91m━━━━━━━━━━━━━━━━━━━━━━\u001b[0m\u001b[91m╸\u001b[0m\u001b[90m━━━━━━━━━━━━━━━━━\u001b[0m \u001b[32m1.9/3.3 MB\u001b[0m \u001b[31m100.2 kB/s\u001b[0m eta \u001b[36m0:00:15\u001b[0m"
                },
                {
                    "output_type": "stream",
                    "name": "stdout",
                    "text": "\r\u001b[2K   \u001b[91m━━━━━━━━━━━━━━━━━━━━━━\u001b[0m\u001b[91m╸\u001b[0m\u001b[90m━━━━━━━━━━━━━━━━━\u001b[0m \u001b[32m1.9/3.3 MB\u001b[0m \u001b[31m100.2 kB/s\u001b[0m eta \u001b[36m0:00:15\u001b[0m\r\u001b[2K   \u001b[91m━━━━━━━━━━━━━━━━━━━━━━\u001b[0m\u001b[91m╸\u001b[0m\u001b[90m━━━━━━━━━━━━━━━━━\u001b[0m \u001b[32m1.9/3.3 MB\u001b[0m \u001b[31m100.2 kB/s\u001b[0m eta \u001b[36m0:00:15\u001b[0m"
                },
                {
                    "output_type": "stream",
                    "name": "stdout",
                    "text": "\r\u001b[2K   \u001b[91m━━━━━━━━━━━━━━━━━━━━━━\u001b[0m\u001b[91m╸\u001b[0m\u001b[90m━━━━━━━━━━━━━━━━━\u001b[0m \u001b[32m1.9/3.3 MB\u001b[0m \u001b[31m100.2 kB/s\u001b[0m eta \u001b[36m0:00:15\u001b[0m"
                },
                {
                    "output_type": "stream",
                    "name": "stdout",
                    "text": "\r\u001b[2K   \u001b[91m━━━━━━━━━━━━━━━━━━━━━━\u001b[0m\u001b[91m╸\u001b[0m\u001b[90m━━━━━━━━━━━━━━━━━\u001b[0m \u001b[32m1.9/3.3 MB\u001b[0m \u001b[31m100.2 kB/s\u001b[0m eta \u001b[36m0:00:15\u001b[0m"
                },
                {
                    "output_type": "stream",
                    "name": "stdout",
                    "text": "\r\u001b[2K   \u001b[91m━━━━━━━━━━━━━━━━━━━━━━\u001b[0m\u001b[91m╸\u001b[0m\u001b[90m━━━━━━━━━━━━━━━━━\u001b[0m \u001b[32m1.9/3.3 MB\u001b[0m \u001b[31m100.2 kB/s\u001b[0m eta \u001b[36m0:00:15\u001b[0m\r\u001b[2K   \u001b[91m━━━━━━━━━━━━━━━━━━━━━━\u001b[0m\u001b[91m╸\u001b[0m\u001b[90m━━━━━━━━━━━━━━━━━\u001b[0m \u001b[32m1.9/3.3 MB\u001b[0m \u001b[31m100.2 kB/s\u001b[0m eta \u001b[36m0:00:15\u001b[0m"
                },
                {
                    "output_type": "stream",
                    "name": "stdout",
                    "text": "\r\u001b[2K   \u001b[91m━━━━━━━━━━━━━━━━━━━━━━\u001b[0m\u001b[91m╸\u001b[0m\u001b[90m━━━━━━━━━━━━━━━━━\u001b[0m \u001b[32m1.9/3.3 MB\u001b[0m \u001b[31m100.2 kB/s\u001b[0m eta \u001b[36m0:00:15\u001b[0m"
                },
                {
                    "output_type": "stream",
                    "name": "stdout",
                    "text": "\r\u001b[2K   \u001b[91m━━━━━━━━━━━━━━━━━━━━━━\u001b[0m\u001b[91m╸\u001b[0m\u001b[90m━━━━━━━━━━━━━━━━━\u001b[0m \u001b[32m1.9/3.3 MB\u001b[0m \u001b[31m100.2 kB/s\u001b[0m eta \u001b[36m0:00:15\u001b[0m\r\u001b[2K   \u001b[91m━━━━━━━━━━━━━━━━━━━━━━\u001b[0m\u001b[91m╸\u001b[0m\u001b[90m━━━━━━━━━━━━━━━━━\u001b[0m \u001b[32m1.9/3.3 MB\u001b[0m \u001b[31m100.2 kB/s\u001b[0m eta \u001b[36m0:00:15\u001b[0m"
                },
                {
                    "output_type": "stream",
                    "name": "stdout",
                    "text": "\r\u001b[2K   \u001b[91m━━━━━━━━━━━━━━━━━━━━━━\u001b[0m\u001b[91m╸\u001b[0m\u001b[90m━━━━━━━━━━━━━━━━━\u001b[0m \u001b[32m1.9/3.3 MB\u001b[0m \u001b[31m91.8 kB/s\u001b[0m eta \u001b[36m0:00:16\u001b[0m"
                },
                {
                    "output_type": "stream",
                    "name": "stdout",
                    "text": "\r\u001b[2K   \u001b[91m━━━━━━━━━━━━━━━━━━━━━━\u001b[0m\u001b[91m╸\u001b[0m\u001b[90m━━━━━━━━━━━━━━━━━\u001b[0m \u001b[32m1.9/3.3 MB\u001b[0m \u001b[31m91.8 kB/s\u001b[0m eta \u001b[36m0:00:16\u001b[0m\r\u001b[2K   \u001b[91m━━━━━━━━━━━━━━━━━━━━━━\u001b[0m\u001b[91m╸\u001b[0m\u001b[90m━━━━━━━━━━━━━━━━━\u001b[0m \u001b[32m1.9/3.3 MB\u001b[0m \u001b[31m91.8 kB/s\u001b[0m eta \u001b[36m0:00:16\u001b[0m"
                },
                {
                    "output_type": "stream",
                    "name": "stdout",
                    "text": "\r\u001b[2K   \u001b[91m━━━━━━━━━━━━━━━━━━━━━━\u001b[0m\u001b[91m╸\u001b[0m\u001b[90m━━━━━━━━━━━━━━━━━\u001b[0m \u001b[32m1.9/3.3 MB\u001b[0m \u001b[31m91.8 kB/s\u001b[0m eta \u001b[36m0:00:16\u001b[0m"
                },
                {
                    "output_type": "stream",
                    "name": "stdout",
                    "text": "\r\u001b[2K   \u001b[91m━━━━━━━━━━━━━━━━━━━━━━\u001b[0m\u001b[91m╸\u001b[0m\u001b[90m━━━━━━━━━━━━━━━━━\u001b[0m \u001b[32m1.9/3.3 MB\u001b[0m \u001b[31m91.8 kB/s\u001b[0m eta \u001b[36m0:00:16\u001b[0m\r\u001b[2K   \u001b[91m━━━━━━━━━━━━━━━━━━━━━━\u001b[0m\u001b[91m╸\u001b[0m\u001b[90m━━━━━━━━━━━━━━━━━\u001b[0m \u001b[32m1.9/3.3 MB\u001b[0m \u001b[31m91.8 kB/s\u001b[0m eta \u001b[36m0:00:16\u001b[0m"
                },
                {
                    "output_type": "stream",
                    "name": "stdout",
                    "text": "\r\u001b[2K   \u001b[91m━━━━━━━━━━━━━━━━━━━━━━\u001b[0m\u001b[91m╸\u001b[0m\u001b[90m━━━━━━━━━━━━━━━━━\u001b[0m \u001b[32m1.9/3.3 MB\u001b[0m \u001b[31m91.8 kB/s\u001b[0m eta \u001b[36m0:00:16\u001b[0m"
                },
                {
                    "output_type": "stream",
                    "name": "stdout",
                    "text": "\r\u001b[2K   \u001b[91m━━━━━━━━━━━━━━━━━━━━━━\u001b[0m\u001b[91m╸\u001b[0m\u001b[90m━━━━━━━━━━━━━━━━━\u001b[0m \u001b[32m1.9/3.3 MB\u001b[0m \u001b[31m91.8 kB/s\u001b[0m eta \u001b[36m0:00:16\u001b[0m\r\u001b[2K   \u001b[91m━━━━━━━━━━━━━━━━━━━━━━\u001b[0m\u001b[91m╸\u001b[0m\u001b[90m━━━━━━━━━━━━━━━━━\u001b[0m \u001b[32m1.9/3.3 MB\u001b[0m \u001b[31m91.8 kB/s\u001b[0m eta \u001b[36m0:00:16\u001b[0m"
                },
                {
                    "output_type": "stream",
                    "name": "stdout",
                    "text": "\r\u001b[2K   \u001b[91m━━━━━━━━━━━━━━━━━━━━━━\u001b[0m\u001b[91m╸\u001b[0m\u001b[90m━━━━━━━━━━━━━━━━━\u001b[0m \u001b[32m1.9/3.3 MB\u001b[0m \u001b[31m91.8 kB/s\u001b[0m eta \u001b[36m0:00:16\u001b[0m"
                },
                {
                    "output_type": "stream",
                    "name": "stdout",
                    "text": "\r\u001b[2K   \u001b[91m━━━━━━━━━━━━━━━━━━━━━━\u001b[0m\u001b[91m╸\u001b[0m\u001b[90m━━━━━━━━━━━━━━━━━\u001b[0m \u001b[32m1.9/3.3 MB\u001b[0m \u001b[31m91.8 kB/s\u001b[0m eta \u001b[36m0:00:16\u001b[0m\r\u001b[2K   \u001b[91m━━━━━━━━━━━━━━━━━━━━━━\u001b[0m\u001b[91m╸\u001b[0m\u001b[90m━━━━━━━━━━━━━━━━━\u001b[0m \u001b[32m1.9/3.3 MB\u001b[0m \u001b[31m91.8 kB/s\u001b[0m eta \u001b[36m0:00:16\u001b[0m"
                },
                {
                    "output_type": "stream",
                    "name": "stdout",
                    "text": "\r\u001b[2K   \u001b[91m━━━━━━━━━━━━━━━━━━━━━━\u001b[0m\u001b[91m╸\u001b[0m\u001b[90m━━━━━━━━━━━━━━━━━\u001b[0m \u001b[32m1.9/3.3 MB\u001b[0m \u001b[31m91.8 kB/s\u001b[0m eta \u001b[36m0:00:16\u001b[0m"
                },
                {
                    "output_type": "stream",
                    "name": "stdout",
                    "text": "\r\u001b[2K   \u001b[91m━━━━━━━━━━━━━━━━━━━━━━\u001b[0m\u001b[91m╸\u001b[0m\u001b[90m━━━━━━━━━━━━━━━━━\u001b[0m \u001b[32m1.9/3.3 MB\u001b[0m \u001b[31m91.8 kB/s\u001b[0m eta \u001b[36m0:00:16\u001b[0m"
                },
                {
                    "output_type": "stream",
                    "name": "stdout",
                    "text": "\r\u001b[2K   \u001b[91m━━━━━━━━━━━━━━━━━━━━━━\u001b[0m\u001b[91m╸\u001b[0m\u001b[90m━━━━━━━━━━━━━━━━━\u001b[0m \u001b[32m1.9/3.3 MB\u001b[0m \u001b[31m91.8 kB/s\u001b[0m eta \u001b[36m0:00:16\u001b[0m\r\u001b[2K   \u001b[91m━━━━━━━━━━━━━━━━━━━━━━\u001b[0m\u001b[91m╸\u001b[0m\u001b[90m━━━━━━━━━━━━━━━━━\u001b[0m \u001b[32m1.9/3.3 MB\u001b[0m \u001b[31m91.8 kB/s\u001b[0m eta \u001b[36m0:00:16\u001b[0m"
                },
                {
                    "output_type": "stream",
                    "name": "stdout",
                    "text": "\r\u001b[2K   \u001b[91m━━━━━━━━━━━━━━━━━━━━━━\u001b[0m\u001b[91m╸\u001b[0m\u001b[90m━━━━━━━━━━━━━━━━━\u001b[0m \u001b[32m1.9/3.3 MB\u001b[0m \u001b[31m91.8 kB/s\u001b[0m eta \u001b[36m0:00:16\u001b[0m"
                },
                {
                    "output_type": "stream",
                    "name": "stdout",
                    "text": "\r\u001b[2K   \u001b[91m━━━━━━━━━━━━━━━━━━━━━━\u001b[0m\u001b[91m╸\u001b[0m\u001b[90m━━━━━━━━━━━━━━━━━\u001b[0m \u001b[32m1.9/3.3 MB\u001b[0m \u001b[31m91.8 kB/s\u001b[0m eta \u001b[36m0:00:16\u001b[0m\r\u001b[2K   \u001b[91m━━━━━━━━━━━━━━━━━━━━━━\u001b[0m\u001b[91m╸\u001b[0m\u001b[90m━━━━━━━━━━━━━━━━━\u001b[0m \u001b[32m1.9/3.3 MB\u001b[0m \u001b[31m91.8 kB/s\u001b[0m eta \u001b[36m0:00:16\u001b[0m"
                },
                {
                    "output_type": "stream",
                    "name": "stdout",
                    "text": "\r\u001b[2K   \u001b[91m━━━━━━━━━━━━━━━━━━━━━━\u001b[0m\u001b[91m╸\u001b[0m\u001b[90m━━━━━━━━━━━━━━━━━\u001b[0m \u001b[32m1.9/3.3 MB\u001b[0m \u001b[31m91.8 kB/s\u001b[0m eta \u001b[36m0:00:16\u001b[0m"
                },
                {
                    "output_type": "stream",
                    "name": "stdout",
                    "text": "\r\u001b[2K   \u001b[91m━━━━━━━━━━━━━━━━━━━━━━\u001b[0m\u001b[91m╸\u001b[0m\u001b[90m━━━━━━━━━━━━━━━━━\u001b[0m \u001b[32m1.9/3.3 MB\u001b[0m \u001b[31m91.8 kB/s\u001b[0m eta \u001b[36m0:00:16\u001b[0m\r\u001b[2K   \u001b[91m━━━━━━━━━━━━━━━━━━━━━━\u001b[0m\u001b[91m╸\u001b[0m\u001b[90m━━━━━━━━━━━━━━━━━\u001b[0m \u001b[32m1.9/3.3 MB\u001b[0m \u001b[31m91.8 kB/s\u001b[0m eta \u001b[36m0:00:16\u001b[0m"
                },
                {
                    "output_type": "stream",
                    "name": "stdout",
                    "text": "\r\u001b[2K   \u001b[91m━━━━━━━━━━━━━━━━━━━━━━\u001b[0m\u001b[91m╸\u001b[0m\u001b[90m━━━━━━━━━━━━━━━━━\u001b[0m \u001b[32m1.9/3.3 MB\u001b[0m \u001b[31m91.8 kB/s\u001b[0m eta \u001b[36m0:00:16\u001b[0m"
                },
                {
                    "output_type": "stream",
                    "name": "stdout",
                    "text": "\r\u001b[2K   \u001b[91m━━━━━━━━━━━━━━━━━━━━━━\u001b[0m\u001b[91m╸\u001b[0m\u001b[90m━━━━━━━━━━━━━━━━━\u001b[0m \u001b[32m1.9/3.3 MB\u001b[0m \u001b[31m91.8 kB/s\u001b[0m eta \u001b[36m0:00:16\u001b[0m\r\u001b[2K   \u001b[91m━━━━━━━━━━━━━━━━━━━━━━\u001b[0m\u001b[91m╸\u001b[0m\u001b[90m━━━━━━━━━━━━━━━━━\u001b[0m \u001b[32m1.9/3.3 MB\u001b[0m \u001b[31m91.8 kB/s\u001b[0m eta \u001b[36m0:00:16\u001b[0m"
                },
                {
                    "output_type": "stream",
                    "name": "stdout",
                    "text": "\r\u001b[2K   \u001b[91m━━━━━━━━━━━━━━━━━━━━━━\u001b[0m\u001b[91m╸\u001b[0m\u001b[90m━━━━━━━━━━━━━━━━━\u001b[0m \u001b[32m1.9/3.3 MB\u001b[0m \u001b[31m91.8 kB/s\u001b[0m eta \u001b[36m0:00:16\u001b[0m"
                },
                {
                    "output_type": "stream",
                    "name": "stdout",
                    "text": "\r\u001b[2K   \u001b[91m━━━━━━━━━━━━━━━━━━━━━━\u001b[0m\u001b[91m╸\u001b[0m\u001b[90m━━━━━━━━━━━━━━━━━\u001b[0m \u001b[32m1.9/3.3 MB\u001b[0m \u001b[31m91.8 kB/s\u001b[0m eta \u001b[36m0:00:16\u001b[0m\r\u001b[2K   \u001b[91m━━━━━━━━━━━━━━━━━━━━━━\u001b[0m\u001b[91m╸\u001b[0m\u001b[90m━━━━━━━━━━━━━━━━━\u001b[0m \u001b[32m1.9/3.3 MB\u001b[0m \u001b[31m91.8 kB/s\u001b[0m eta \u001b[36m0:00:16\u001b[0m"
                },
                {
                    "output_type": "stream",
                    "name": "stdout",
                    "text": "\r\u001b[2K   \u001b[91m━━━━━━━━━━━━━━━━━━━━━━\u001b[0m\u001b[91m╸\u001b[0m\u001b[90m━━━━━━━━━━━━━━━━━\u001b[0m \u001b[32m1.9/3.3 MB\u001b[0m \u001b[31m91.8 kB/s\u001b[0m eta \u001b[36m0:00:16\u001b[0m"
                },
                {
                    "output_type": "stream",
                    "name": "stdout",
                    "text": "\r\u001b[2K   \u001b[91m━━━━━━━━━━━━━━━━━━━━━━\u001b[0m\u001b[91m╸\u001b[0m\u001b[90m━━━━━━━━━━━━━━━━━\u001b[0m \u001b[32m1.9/3.3 MB\u001b[0m \u001b[31m91.8 kB/s\u001b[0m eta \u001b[36m0:00:16\u001b[0m"
                },
                {
                    "output_type": "stream",
                    "name": "stdout",
                    "text": "\r\u001b[2K   \u001b[91m━━━━━━━━━━━━━━━━━━━━━━\u001b[0m\u001b[91m╸\u001b[0m\u001b[90m━━━━━━━━━━━━━━━━━\u001b[0m \u001b[32m1.9/3.3 MB\u001b[0m \u001b[31m91.8 kB/s\u001b[0m eta \u001b[36m0:00:16\u001b[0m\r\u001b[2K   \u001b[91m━━━━━━━━━━━━━━━━━━━━━━\u001b[0m\u001b[91m╸\u001b[0m\u001b[90m━━━━━━━━━━━━━━━━━\u001b[0m \u001b[32m1.9/3.3 MB\u001b[0m \u001b[31m91.8 kB/s\u001b[0m eta \u001b[36m0:00:16\u001b[0m"
                },
                {
                    "output_type": "stream",
                    "name": "stdout",
                    "text": "\r\u001b[2K   \u001b[91m━━━━━━━━━━━━━━━━━━━━━━\u001b[0m\u001b[91m╸\u001b[0m\u001b[90m━━━━━━━━━━━━━━━━━\u001b[0m \u001b[32m1.9/3.3 MB\u001b[0m \u001b[31m91.8 kB/s\u001b[0m eta \u001b[36m0:00:16\u001b[0m"
                },
                {
                    "output_type": "stream",
                    "name": "stdout",
                    "text": "\r\u001b[2K   \u001b[91m━━━━━━━━━━━━━━━━━━━━━━\u001b[0m\u001b[91m╸\u001b[0m\u001b[90m━━━━━━━━━━━━━━━━━\u001b[0m \u001b[32m1.9/3.3 MB\u001b[0m \u001b[31m91.8 kB/s\u001b[0m eta \u001b[36m0:00:16\u001b[0m"
                },
                {
                    "output_type": "stream",
                    "name": "stdout",
                    "text": "\r\u001b[2K   \u001b[91m━━━━━━━━━━━━━━━━━━━━━━\u001b[0m\u001b[91m╸\u001b[0m\u001b[90m━━━━━━━━━━━━━━━━━\u001b[0m \u001b[32m1.9/3.3 MB\u001b[0m \u001b[31m91.8 kB/s\u001b[0m eta \u001b[36m0:00:16\u001b[0m\r\u001b[2K   \u001b[91m━━━━━━━━━━━━━━━━━━━━━━\u001b[0m\u001b[91m╸\u001b[0m\u001b[90m━━━━━━━━━━━━━━━━━\u001b[0m \u001b[32m1.9/3.3 MB\u001b[0m \u001b[31m91.8 kB/s\u001b[0m eta \u001b[36m0:00:16\u001b[0m"
                },
                {
                    "output_type": "stream",
                    "name": "stdout",
                    "text": "\r\u001b[2K   \u001b[91m━━━━━━━━━━━━━━━━━━━━━━\u001b[0m\u001b[91m╸\u001b[0m\u001b[90m━━━━━━━━━━━━━━━━━\u001b[0m \u001b[32m1.9/3.3 MB\u001b[0m \u001b[31m91.8 kB/s\u001b[0m eta \u001b[36m0:00:16\u001b[0m"
                },
                {
                    "output_type": "stream",
                    "name": "stdout",
                    "text": "\r\u001b[2K   \u001b[91m━━━━━━━━━━━━━━━━━━━━━━\u001b[0m\u001b[91m╸\u001b[0m\u001b[90m━━━━━━━━━━━━━━━━━\u001b[0m \u001b[32m1.9/3.3 MB\u001b[0m \u001b[31m91.8 kB/s\u001b[0m eta \u001b[36m0:00:16\u001b[0m\r\u001b[2K   \u001b[91m━━━━━━━━━━━━━━━━━━━━━━\u001b[0m\u001b[91m╸\u001b[0m\u001b[90m━━━━━━━━━━━━━━━━━\u001b[0m \u001b[32m1.9/3.3 MB\u001b[0m \u001b[31m91.8 kB/s\u001b[0m eta \u001b[36m0:00:16\u001b[0m"
                },
                {
                    "output_type": "stream",
                    "name": "stdout",
                    "text": "\r\u001b[2K   \u001b[91m━━━━━━━━━━━━━━━━━━━━━━\u001b[0m\u001b[91m╸\u001b[0m\u001b[90m━━━━━━━━━━━━━━━━━\u001b[0m \u001b[32m1.9/3.3 MB\u001b[0m \u001b[31m91.8 kB/s\u001b[0m eta \u001b[36m0:00:16\u001b[0m"
                },
                {
                    "output_type": "stream",
                    "name": "stdout",
                    "text": "\r\u001b[2K   \u001b[91m━━━━━━━━━━━━━━━━━━━━━━\u001b[0m\u001b[91m╸\u001b[0m\u001b[90m━━━━━━━━━━━━━━━━━\u001b[0m \u001b[32m1.9/3.3 MB\u001b[0m \u001b[31m91.8 kB/s\u001b[0m eta \u001b[36m0:00:16\u001b[0m"
                },
                {
                    "output_type": "stream",
                    "name": "stdout",
                    "text": "\r\u001b[2K   \u001b[91m━━━━━━━━━━━━━━━━━━━━━━\u001b[0m\u001b[91m╸\u001b[0m\u001b[90m━━━━━━━━━━━━━━━━━\u001b[0m \u001b[32m1.9/3.3 MB\u001b[0m \u001b[31m91.8 kB/s\u001b[0m eta \u001b[36m0:00:16\u001b[0m\r\u001b[2K   \u001b[91m━━━━━━━━━━━━━━━━━━━━━━\u001b[0m\u001b[91m╸\u001b[0m\u001b[90m━━━━━━━━━━━━━━━━━\u001b[0m \u001b[32m1.9/3.3 MB\u001b[0m \u001b[31m91.8 kB/s\u001b[0m eta \u001b[36m0:00:16\u001b[0m"
                },
                {
                    "output_type": "stream",
                    "name": "stdout",
                    "text": "\r\u001b[2K   \u001b[91m━━━━━━━━━━━━━━━━━━━━━━\u001b[0m\u001b[91m╸\u001b[0m\u001b[90m━━━━━━━━━━━━━━━━━\u001b[0m \u001b[32m1.9/3.3 MB\u001b[0m \u001b[31m91.8 kB/s\u001b[0m eta \u001b[36m0:00:16\u001b[0m"
                },
                {
                    "output_type": "stream",
                    "name": "stdout",
                    "text": "\r\u001b[2K   \u001b[91m━━━━━━━━━━━━━━━━━━━━━━\u001b[0m\u001b[91m╸\u001b[0m\u001b[90m━━━━━━━━━━━━━━━━━\u001b[0m \u001b[32m1.9/3.3 MB\u001b[0m \u001b[31m91.8 kB/s\u001b[0m eta \u001b[36m0:00:16\u001b[0m\r\u001b[2K   \u001b[91m━━━━━━━━━━━━━━━━━━━━━━\u001b[0m\u001b[91m╸\u001b[0m\u001b[90m━━━━━━━━━━━━━━━━━\u001b[0m \u001b[32m1.9/3.3 MB\u001b[0m \u001b[31m91.8 kB/s\u001b[0m eta \u001b[36m0:00:16\u001b[0m"
                },
                {
                    "output_type": "stream",
                    "name": "stdout",
                    "text": "\r\u001b[2K   \u001b[91m━━━━━━━━━━━━━━━━━━━━━━\u001b[0m\u001b[91m╸\u001b[0m\u001b[90m━━━━━━━━━━━━━━━━━\u001b[0m \u001b[32m1.9/3.3 MB\u001b[0m \u001b[31m91.8 kB/s\u001b[0m eta \u001b[36m0:00:16\u001b[0m"
                },
                {
                    "output_type": "stream",
                    "name": "stdout",
                    "text": "\r\u001b[2K   \u001b[91m━━━━━━━━━━━━━━━━━━━━━━\u001b[0m\u001b[91m╸\u001b[0m\u001b[90m━━━━━━━━━━━━━━━━━\u001b[0m \u001b[32m1.9/3.3 MB\u001b[0m \u001b[31m91.8 kB/s\u001b[0m eta \u001b[36m0:00:16\u001b[0m"
                },
                {
                    "output_type": "stream",
                    "name": "stdout",
                    "text": "\r\u001b[2K   \u001b[91m━━━━━━━━━━━━━━━━━━━━━━\u001b[0m\u001b[91m╸\u001b[0m\u001b[90m━━━━━━━━━━━━━━━━━\u001b[0m \u001b[32m1.9/3.3 MB\u001b[0m \u001b[31m91.8 kB/s\u001b[0m eta \u001b[36m0:00:16\u001b[0m\r\u001b[2K   \u001b[91m━━━━━━━━━━━━━━━━━━━━━━\u001b[0m\u001b[91m╸\u001b[0m\u001b[90m━━━━━━━━━━━━━━━━━\u001b[0m \u001b[32m1.9/3.3 MB\u001b[0m \u001b[31m91.8 kB/s\u001b[0m eta \u001b[36m0:00:16\u001b[0m"
                },
                {
                    "output_type": "stream",
                    "name": "stdout",
                    "text": "\r\u001b[2K   \u001b[91m━━━━━━━━━━━━━━━━━━━━━━\u001b[0m\u001b[91m╸\u001b[0m\u001b[90m━━━━━━━━━━━━━━━━━\u001b[0m \u001b[32m1.9/3.3 MB\u001b[0m \u001b[31m91.8 kB/s\u001b[0m eta \u001b[36m0:00:16\u001b[0m"
                },
                {
                    "output_type": "stream",
                    "name": "stdout",
                    "text": "\r\u001b[2K   \u001b[91m━━━━━━━━━━━━━━━━━━━━━━\u001b[0m\u001b[91m╸\u001b[0m\u001b[90m━━━━━━━━━━━━━━━━━\u001b[0m \u001b[32m1.9/3.3 MB\u001b[0m \u001b[31m91.8 kB/s\u001b[0m eta \u001b[36m0:00:16\u001b[0m\r\u001b[2K   \u001b[91m━━━━━━━━━━━━━━━━━━━━━━\u001b[0m\u001b[91m╸\u001b[0m\u001b[90m━━━━━━━━━━━━━━━━━\u001b[0m \u001b[32m1.9/3.3 MB\u001b[0m \u001b[31m91.8 kB/s\u001b[0m eta \u001b[36m0:00:16\u001b[0m"
                },
                {
                    "output_type": "stream",
                    "name": "stdout",
                    "text": "\r\u001b[2K   \u001b[91m━━━━━━━━━━━━━━━━━━━━━━\u001b[0m\u001b[91m╸\u001b[0m\u001b[90m━━━━━━━━━━━━━━━━━\u001b[0m \u001b[32m1.9/3.3 MB\u001b[0m \u001b[31m91.8 kB/s\u001b[0m eta \u001b[36m0:00:16\u001b[0m"
                },
                {
                    "output_type": "stream",
                    "name": "stdout",
                    "text": "\r\u001b[2K   \u001b[91m━━━━━━━━━━━━━━━━━━━━━━\u001b[0m\u001b[91m╸\u001b[0m\u001b[90m━━━━━━━━━━━━━━━━━\u001b[0m \u001b[32m1.9/3.3 MB\u001b[0m \u001b[31m91.8 kB/s\u001b[0m eta \u001b[36m0:00:16\u001b[0m"
                },
                {
                    "output_type": "stream",
                    "name": "stdout",
                    "text": "\r\u001b[2K   \u001b[91m━━━━━━━━━━━━━━━━━━━━━━\u001b[0m\u001b[91m╸\u001b[0m\u001b[90m━━━━━━━━━━━━━━━━━\u001b[0m \u001b[32m1.9/3.3 MB\u001b[0m \u001b[31m91.8 kB/s\u001b[0m eta \u001b[36m0:00:16\u001b[0m\r\u001b[2K   \u001b[91m━━━━━━━━━━━━━━━━━━━━━━\u001b[0m\u001b[91m╸\u001b[0m\u001b[90m━━━━━━━━━━━━━━━━━\u001b[0m \u001b[32m1.9/3.3 MB\u001b[0m \u001b[31m91.8 kB/s\u001b[0m eta \u001b[36m0:00:16\u001b[0m"
                },
                {
                    "output_type": "stream",
                    "name": "stdout",
                    "text": "\r\u001b[2K   \u001b[91m━━━━━━━━━━━━━━━━━━━━━━\u001b[0m\u001b[91m╸\u001b[0m\u001b[90m━━━━━━━━━━━━━━━━━\u001b[0m \u001b[32m1.9/3.3 MB\u001b[0m \u001b[31m91.8 kB/s\u001b[0m eta \u001b[36m0:00:16\u001b[0m"
                },
                {
                    "output_type": "stream",
                    "name": "stdout",
                    "text": "\r\u001b[2K   \u001b[91m━━━━━━━━━━━━━━━━━━━━━━\u001b[0m\u001b[91m╸\u001b[0m\u001b[90m━━━━━━━━━━━━━━━━━\u001b[0m \u001b[32m1.9/3.3 MB\u001b[0m \u001b[31m91.8 kB/s\u001b[0m eta \u001b[36m0:00:16\u001b[0m\r\u001b[2K   \u001b[91m━━━━━━━━━━━━━━━━━━━━━━\u001b[0m\u001b[91m╸\u001b[0m\u001b[90m━━━━━━━━━━━━━━━━━\u001b[0m \u001b[32m1.9/3.3 MB\u001b[0m \u001b[31m91.8 kB/s\u001b[0m eta \u001b[36m0:00:16\u001b[0m"
                },
                {
                    "output_type": "stream",
                    "name": "stdout",
                    "text": "\r\u001b[2K   \u001b[91m━━━━━━━━━━━━━━━━━━━━━━\u001b[0m\u001b[91m╸\u001b[0m\u001b[90m━━━━━━━━━━━━━━━━━\u001b[0m \u001b[32m1.9/3.3 MB\u001b[0m \u001b[31m91.8 kB/s\u001b[0m eta \u001b[36m0:00:16\u001b[0m"
                },
                {
                    "output_type": "stream",
                    "name": "stdout",
                    "text": "\r\u001b[2K   \u001b[91m━━━━━━━━━━━━━━━━━━━━━━\u001b[0m\u001b[91m╸\u001b[0m\u001b[90m━━━━━━━━━━━━━━━━━\u001b[0m \u001b[32m1.9/3.3 MB\u001b[0m \u001b[31m91.8 kB/s\u001b[0m eta \u001b[36m0:00:16\u001b[0m"
                },
                {
                    "output_type": "stream",
                    "name": "stdout",
                    "text": "\r\u001b[2K   \u001b[91m━━━━━━━━━━━━━━━━━━━━━━\u001b[0m\u001b[91m╸\u001b[0m\u001b[90m━━━━━━━━━━━━━━━━━\u001b[0m \u001b[32m1.9/3.3 MB\u001b[0m \u001b[31m91.8 kB/s\u001b[0m eta \u001b[36m0:00:16\u001b[0m\r\u001b[2K   \u001b[91m━━━━━━━━━━━━━━━━━━━━━━\u001b[0m\u001b[91m╸\u001b[0m\u001b[90m━━━━━━━━━━━━━━━━━\u001b[0m \u001b[32m1.9/3.3 MB\u001b[0m \u001b[31m91.8 kB/s\u001b[0m eta \u001b[36m0:00:16\u001b[0m"
                },
                {
                    "output_type": "stream",
                    "name": "stdout",
                    "text": "\r\u001b[2K   \u001b[91m━━━━━━━━━━━━━━━━━━━━━━\u001b[0m\u001b[91m╸\u001b[0m\u001b[90m━━━━━━━━━━━━━━━━━\u001b[0m \u001b[32m1.9/3.3 MB\u001b[0m \u001b[31m91.8 kB/s\u001b[0m eta \u001b[36m0:00:16\u001b[0m"
                },
                {
                    "output_type": "stream",
                    "name": "stdout",
                    "text": "\r\u001b[2K   \u001b[91m━━━━━━━━━━━━━━━━━━━━━━\u001b[0m\u001b[91m╸\u001b[0m\u001b[90m━━━━━━━━━━━━━━━━━\u001b[0m \u001b[32m1.9/3.3 MB\u001b[0m \u001b[31m91.8 kB/s\u001b[0m eta \u001b[36m0:00:16\u001b[0m"
                },
                {
                    "output_type": "stream",
                    "name": "stdout",
                    "text": "\r\u001b[2K   \u001b[91m━━━━━━━━━━━━━━━━━━━━━━\u001b[0m\u001b[91m╸\u001b[0m\u001b[90m━━━━━━━━━━━━━━━━━\u001b[0m \u001b[32m1.9/3.3 MB\u001b[0m \u001b[31m91.8 kB/s\u001b[0m eta \u001b[36m0:00:16\u001b[0m\r\u001b[2K   \u001b[91m━━━━━━━━━━━━━━━━━━━━━━\u001b[0m\u001b[91m╸\u001b[0m\u001b[90m━━━━━━━━━━━━━━━━━\u001b[0m \u001b[32m1.9/3.3 MB\u001b[0m \u001b[31m91.8 kB/s\u001b[0m eta \u001b[36m0:00:16\u001b[0m"
                },
                {
                    "output_type": "stream",
                    "name": "stdout",
                    "text": "\r\u001b[2K   \u001b[91m━━━━━━━━━━━━━━━━━━━━━━\u001b[0m\u001b[91m╸\u001b[0m\u001b[90m━━━━━━━━━━━━━━━━━\u001b[0m \u001b[32m1.9/3.3 MB\u001b[0m \u001b[31m91.8 kB/s\u001b[0m eta \u001b[36m0:00:16\u001b[0m"
                },
                {
                    "output_type": "stream",
                    "name": "stdout",
                    "text": "\r\u001b[2K   \u001b[91m━━━━━━━━━━━━━━━━━━━━━━\u001b[0m\u001b[91m╸\u001b[0m\u001b[90m━━━━━━━━━━━━━━━━━\u001b[0m \u001b[32m1.9/3.3 MB\u001b[0m \u001b[31m91.8 kB/s\u001b[0m eta \u001b[36m0:00:16\u001b[0m\r\u001b[2K   \u001b[91m━━━━━━━━━━━━━━━━━━━━━━\u001b[0m\u001b[91m╸\u001b[0m\u001b[90m━━━━━━━━━━━━━━━━━\u001b[0m \u001b[32m1.9/3.3 MB\u001b[0m \u001b[31m91.8 kB/s\u001b[0m eta \u001b[36m0:00:16\u001b[0m"
                },
                {
                    "output_type": "stream",
                    "name": "stdout",
                    "text": "\r\u001b[2K   \u001b[91m━━━━━━━━━━━━━━━━━━━━━━\u001b[0m\u001b[91m╸\u001b[0m\u001b[90m━━━━━━━━━━━━━━━━━\u001b[0m \u001b[32m1.9/3.3 MB\u001b[0m \u001b[31m91.8 kB/s\u001b[0m eta \u001b[36m0:00:16\u001b[0m"
                },
                {
                    "output_type": "stream",
                    "name": "stdout",
                    "text": "\r\u001b[2K   \u001b[91m━━━━━━━━━━━━━━━━━━━━━━\u001b[0m\u001b[91m╸\u001b[0m\u001b[90m━━━━━━━━━━━━━━━━━\u001b[0m \u001b[32m1.9/3.3 MB\u001b[0m \u001b[31m91.8 kB/s\u001b[0m eta \u001b[36m0:00:16\u001b[0m"
                },
                {
                    "output_type": "stream",
                    "name": "stdout",
                    "text": "\r\u001b[2K   \u001b[91m━━━━━━━━━━━━━━━━━━━━━━\u001b[0m\u001b[91m╸\u001b[0m\u001b[90m━━━━━━━━━━━━━━━━━\u001b[0m \u001b[32m1.9/3.3 MB\u001b[0m \u001b[31m91.8 kB/s\u001b[0m eta \u001b[36m0:00:16\u001b[0m\r\u001b[2K   \u001b[91m━━━━━━━━━━━━━━━━━━━━━━\u001b[0m\u001b[91m╸\u001b[0m\u001b[90m━━━━━━━━━━━━━━━━━\u001b[0m \u001b[32m1.9/3.3 MB\u001b[0m \u001b[31m91.8 kB/s\u001b[0m eta \u001b[36m0:00:16\u001b[0m"
                },
                {
                    "output_type": "stream",
                    "name": "stdout",
                    "text": "\r\u001b[2K   \u001b[91m━━━━━━━━━━━━━━━━━━━━━━\u001b[0m\u001b[91m╸\u001b[0m\u001b[90m━━━━━━━━━━━━━━━━━\u001b[0m \u001b[32m1.9/3.3 MB\u001b[0m \u001b[31m91.8 kB/s\u001b[0m eta \u001b[36m0:00:16\u001b[0m"
                },
                {
                    "output_type": "stream",
                    "name": "stdout",
                    "text": "\r\u001b[2K   \u001b[91m━━━━━━━━━━━━━━━━━━━━━━\u001b[0m\u001b[91m╸\u001b[0m\u001b[90m━━━━━━━━━━━━━━━━━\u001b[0m \u001b[32m1.9/3.3 MB\u001b[0m \u001b[31m91.8 kB/s\u001b[0m eta \u001b[36m0:00:16\u001b[0m\r\u001b[2K   \u001b[91m━━━━━━━━━━━━━━━━━━━━━━\u001b[0m\u001b[91m╸\u001b[0m\u001b[90m━━━━━━━━━━━━━━━━━\u001b[0m \u001b[32m1.9/3.3 MB\u001b[0m \u001b[31m91.8 kB/s\u001b[0m eta \u001b[36m0:00:16\u001b[0m"
                },
                {
                    "output_type": "stream",
                    "name": "stdout",
                    "text": "\r\u001b[2K   \u001b[91m━━━━━━━━━━━━━━━━━━━━━━\u001b[0m\u001b[91m╸\u001b[0m\u001b[90m━━━━━━━━━━━━━━━━━\u001b[0m \u001b[32m1.9/3.3 MB\u001b[0m \u001b[31m91.8 kB/s\u001b[0m eta \u001b[36m0:00:16\u001b[0m"
                },
                {
                    "output_type": "stream",
                    "name": "stdout",
                    "text": "\r\u001b[2K   \u001b[91m━━━━━━━━━━━━━━━━━━━━━━\u001b[0m\u001b[91m╸\u001b[0m\u001b[90m━━━━━━━━━━━━━━━━━\u001b[0m \u001b[32m1.9/3.3 MB\u001b[0m \u001b[31m91.8 kB/s\u001b[0m eta \u001b[36m0:00:16\u001b[0m\r\u001b[2K   \u001b[91m━━━━━━━━━━━━━━━━━━━━━━\u001b[0m\u001b[91m╸\u001b[0m\u001b[90m━━━━━━━━━━━━━━━━━\u001b[0m \u001b[32m1.9/3.3 MB\u001b[0m \u001b[31m91.8 kB/s\u001b[0m eta \u001b[36m0:00:16\u001b[0m"
                },
                {
                    "output_type": "stream",
                    "name": "stdout",
                    "text": "\r\u001b[2K   \u001b[91m━━━━━━━━━━━━━━━━━━━━━━\u001b[0m\u001b[91m╸\u001b[0m\u001b[90m━━━━━━━━━━━━━━━━━\u001b[0m \u001b[32m1.9/3.3 MB\u001b[0m \u001b[31m91.8 kB/s\u001b[0m eta \u001b[36m0:00:16\u001b[0m"
                },
                {
                    "output_type": "stream",
                    "name": "stdout",
                    "text": "\r\u001b[2K   \u001b[91m━━━━━━━━━━━━━━━━━━━━━━\u001b[0m\u001b[91m╸\u001b[0m\u001b[90m━━━━━━━━━━━━━━━━━\u001b[0m \u001b[32m1.9/3.3 MB\u001b[0m \u001b[31m91.8 kB/s\u001b[0m eta \u001b[36m0:00:16\u001b[0m"
                },
                {
                    "output_type": "stream",
                    "name": "stdout",
                    "text": "\r\u001b[2K   \u001b[91m━━━━━━━━━━━━━━━━━━━━━━\u001b[0m\u001b[91m╸\u001b[0m\u001b[90m━━━━━━━━━━━━━━━━━\u001b[0m \u001b[32m1.9/3.3 MB\u001b[0m \u001b[31m91.8 kB/s\u001b[0m eta \u001b[36m0:00:16\u001b[0m\r\u001b[2K   \u001b[91m━━━━━━━━━━━━━━━━━━━━━━\u001b[0m\u001b[91m╸\u001b[0m\u001b[90m━━━━━━━━━━━━━━━━━\u001b[0m \u001b[32m1.9/3.3 MB\u001b[0m \u001b[31m91.8 kB/s\u001b[0m eta \u001b[36m0:00:16\u001b[0m"
                },
                {
                    "output_type": "stream",
                    "name": "stdout",
                    "text": "\r\u001b[2K   \u001b[91m━━━━━━━━━━━━━━━━━━━━━━\u001b[0m\u001b[91m╸\u001b[0m\u001b[90m━━━━━━━━━━━━━━━━━\u001b[0m \u001b[32m1.9/3.3 MB\u001b[0m \u001b[31m80.1 kB/s\u001b[0m eta \u001b[36m0:00:18\u001b[0m"
                },
                {
                    "output_type": "stream",
                    "name": "stdout",
                    "text": "\r\u001b[2K   \u001b[91m━━━━━━━━━━━━━━━━━━━━━━\u001b[0m\u001b[91m╸\u001b[0m\u001b[90m━━━━━━━━━━━━━━━━━\u001b[0m \u001b[32m1.9/3.3 MB\u001b[0m \u001b[31m80.1 kB/s\u001b[0m eta \u001b[36m0:00:18\u001b[0m\r\u001b[2K   \u001b[91m━━━━━━━━━━━━━━━━━━━━━━\u001b[0m\u001b[91m╸\u001b[0m\u001b[90m━━━━━━━━━━━━━━━━━\u001b[0m \u001b[32m1.9/3.3 MB\u001b[0m \u001b[31m80.1 kB/s\u001b[0m eta \u001b[36m0:00:18\u001b[0m"
                },
                {
                    "output_type": "stream",
                    "name": "stdout",
                    "text": "\r\u001b[2K   \u001b[91m━━━━━━━━━━━━━━━━━━━━━━\u001b[0m\u001b[91m╸\u001b[0m\u001b[90m━━━━━━━━━━━━━━━━━\u001b[0m \u001b[32m1.9/3.3 MB\u001b[0m \u001b[31m80.1 kB/s\u001b[0m eta \u001b[36m0:00:18\u001b[0m"
                },
                {
                    "output_type": "stream",
                    "name": "stdout",
                    "text": "\r\u001b[2K   \u001b[91m━━━━━━━━━━━━━━━━━━━━━━\u001b[0m\u001b[91m╸\u001b[0m\u001b[90m━━━━━━━━━━━━━━━━━\u001b[0m \u001b[32m1.9/3.3 MB\u001b[0m \u001b[31m80.1 kB/s\u001b[0m eta \u001b[36m0:00:18\u001b[0m"
                },
                {
                    "output_type": "stream",
                    "name": "stdout",
                    "text": "\r\u001b[2K   \u001b[91m━━━━━━━━━━━━━━━━━━━━━━\u001b[0m\u001b[91m╸\u001b[0m\u001b[90m━━━━━━━━━━━━━━━━━\u001b[0m \u001b[32m1.9/3.3 MB\u001b[0m \u001b[31m80.1 kB/s\u001b[0m eta \u001b[36m0:00:18\u001b[0m\r\u001b[2K   \u001b[91m━━━━━━━━━━━━━━━━━━━━━━\u001b[0m\u001b[91m╸\u001b[0m\u001b[90m━━━━━━━━━━━━━━━━━\u001b[0m \u001b[32m1.9/3.3 MB\u001b[0m \u001b[31m80.1 kB/s\u001b[0m eta \u001b[36m0:00:18\u001b[0m"
                },
                {
                    "output_type": "stream",
                    "name": "stdout",
                    "text": "\r\u001b[2K   \u001b[91m━━━━━━━━━━━━━━━━━━━━━━\u001b[0m\u001b[91m╸\u001b[0m\u001b[90m━━━━━━━━━━━━━━━━━\u001b[0m \u001b[32m1.9/3.3 MB\u001b[0m \u001b[31m80.1 kB/s\u001b[0m eta \u001b[36m0:00:18\u001b[0m"
                },
                {
                    "output_type": "stream",
                    "name": "stdout",
                    "text": "\r\u001b[2K   \u001b[91m━━━━━━━━━━━━━━━━━━━━━━\u001b[0m\u001b[91m╸\u001b[0m\u001b[90m━━━━━━━━━━━━━━━━━\u001b[0m \u001b[32m1.9/3.3 MB\u001b[0m \u001b[31m80.1 kB/s\u001b[0m eta \u001b[36m0:00:18\u001b[0m\r\u001b[2K   \u001b[91m━━━━━━━━━━━━━━━━━━━━━━\u001b[0m\u001b[91m╸\u001b[0m\u001b[90m━━━━━━━━━━━━━━━━━\u001b[0m \u001b[32m1.9/3.3 MB\u001b[0m \u001b[31m80.1 kB/s\u001b[0m eta \u001b[36m0:00:18\u001b[0m"
                },
                {
                    "output_type": "stream",
                    "name": "stdout",
                    "text": "\r\u001b[2K   \u001b[91m━━━━━━━━━━━━━━━━━━━━━━\u001b[0m\u001b[91m╸\u001b[0m\u001b[90m━━━━━━━━━━━━━━━━━\u001b[0m \u001b[32m1.9/3.3 MB\u001b[0m \u001b[31m80.1 kB/s\u001b[0m eta \u001b[36m0:00:18\u001b[0m"
                },
                {
                    "output_type": "stream",
                    "name": "stdout",
                    "text": "\r\u001b[2K   \u001b[91m━━━━━━━━━━━━━━━━━━━━━━\u001b[0m\u001b[91m╸\u001b[0m\u001b[90m━━━━━━━━━━━━━━━━━\u001b[0m \u001b[32m1.9/3.3 MB\u001b[0m \u001b[31m80.1 kB/s\u001b[0m eta \u001b[36m0:00:18\u001b[0m\r\u001b[2K   \u001b[91m━━━━━━━━━━━━━━━━━━━━━━\u001b[0m\u001b[91m╸\u001b[0m\u001b[90m━━━━━━━━━━━━━━━━━\u001b[0m \u001b[32m1.9/3.3 MB\u001b[0m \u001b[31m80.1 kB/s\u001b[0m eta \u001b[36m0:00:18\u001b[0m"
                },
                {
                    "output_type": "stream",
                    "name": "stdout",
                    "text": "\r\u001b[2K   \u001b[91m━━━━━━━━━━━━━━━━━━━━━━\u001b[0m\u001b[91m╸\u001b[0m\u001b[90m━━━━━━━━━━━━━━━━━\u001b[0m \u001b[32m1.9/3.3 MB\u001b[0m \u001b[31m80.1 kB/s\u001b[0m eta \u001b[36m0:00:18\u001b[0m"
                },
                {
                    "output_type": "stream",
                    "name": "stdout",
                    "text": "\r\u001b[2K   \u001b[91m━━━━━━━━━━━━━━━━━━━━━━\u001b[0m\u001b[91m╸\u001b[0m\u001b[90m━━━━━━━━━━━━━━━━━\u001b[0m \u001b[32m1.9/3.3 MB\u001b[0m \u001b[31m80.1 kB/s\u001b[0m eta \u001b[36m0:00:18\u001b[0m"
                },
                {
                    "output_type": "stream",
                    "name": "stdout",
                    "text": "\r\u001b[2K   \u001b[91m━━━━━━━━━━━━━━━━━━━━━━\u001b[0m\u001b[91m╸\u001b[0m\u001b[90m━━━━━━━━━━━━━━━━━\u001b[0m \u001b[32m1.9/3.3 MB\u001b[0m \u001b[31m80.1 kB/s\u001b[0m eta \u001b[36m0:00:18\u001b[0m\r\u001b[2K   \u001b[91m━━━━━━━━━━━━━━━━━━━━━━\u001b[0m\u001b[91m╸\u001b[0m\u001b[90m━━━━━━━━━━━━━━━━━\u001b[0m \u001b[32m1.9/3.3 MB\u001b[0m \u001b[31m80.1 kB/s\u001b[0m eta \u001b[36m0:00:18\u001b[0m"
                },
                {
                    "output_type": "stream",
                    "name": "stdout",
                    "text": "\r\u001b[2K   \u001b[91m━━━━━━━━━━━━━━━━━━━━━━\u001b[0m\u001b[91m╸\u001b[0m\u001b[90m━━━━━━━━━━━━━━━━━\u001b[0m \u001b[32m1.9/3.3 MB\u001b[0m \u001b[31m80.1 kB/s\u001b[0m eta \u001b[36m0:00:18\u001b[0m"
                },
                {
                    "output_type": "stream",
                    "name": "stdout",
                    "text": "\r\u001b[2K   \u001b[91m━━━━━━━━━━━━━━━━━━━━━━\u001b[0m\u001b[91m╸\u001b[0m\u001b[90m━━━━━━━━━━━━━━━━━\u001b[0m \u001b[32m1.9/3.3 MB\u001b[0m \u001b[31m80.1 kB/s\u001b[0m eta \u001b[36m0:00:18\u001b[0m\r\u001b[2K   \u001b[91m━━━━━━━━━━━━━━━━━━━━━━\u001b[0m\u001b[91m╸\u001b[0m\u001b[90m━━━━━━━━━━━━━━━━━\u001b[0m \u001b[32m1.9/3.3 MB\u001b[0m \u001b[31m80.1 kB/s\u001b[0m eta \u001b[36m0:00:18\u001b[0m"
                },
                {
                    "output_type": "stream",
                    "name": "stdout",
                    "text": "\r\u001b[2K   \u001b[91m━━━━━━━━━━━━━━━━━━━━━━\u001b[0m\u001b[91m╸\u001b[0m\u001b[90m━━━━━━━━━━━━━━━━━\u001b[0m \u001b[32m1.9/3.3 MB\u001b[0m \u001b[31m80.1 kB/s\u001b[0m eta \u001b[36m0:00:18\u001b[0m"
                },
                {
                    "output_type": "stream",
                    "name": "stdout",
                    "text": "\r\u001b[2K   \u001b[91m━━━━━━━━━━━━━━━━━━━━━━\u001b[0m\u001b[91m╸\u001b[0m\u001b[90m━━━━━━━━━━━━━━━━━\u001b[0m \u001b[32m1.9/3.3 MB\u001b[0m \u001b[31m80.1 kB/s\u001b[0m eta \u001b[36m0:00:18\u001b[0m"
                },
                {
                    "output_type": "stream",
                    "name": "stdout",
                    "text": "\r\u001b[2K   \u001b[91m━━━━━━━━━━━━━━━━━━━━━━\u001b[0m\u001b[91m╸\u001b[0m\u001b[90m━━━━━━━━━━━━━━━━━\u001b[0m \u001b[32m1.9/3.3 MB\u001b[0m \u001b[31m80.1 kB/s\u001b[0m eta \u001b[36m0:00:18\u001b[0m\r\u001b[2K   \u001b[91m━━━━━━━━━━━━━━━━━━━━━━\u001b[0m\u001b[91m╸\u001b[0m\u001b[90m━━━━━━━━━━━━━━━━━\u001b[0m \u001b[32m1.9/3.3 MB\u001b[0m \u001b[31m80.1 kB/s\u001b[0m eta \u001b[36m0:00:18\u001b[0m"
                },
                {
                    "output_type": "stream",
                    "name": "stdout",
                    "text": "\r\u001b[2K   \u001b[91m━━━━━━━━━━━━━━━━━━━━━━\u001b[0m\u001b[91m╸\u001b[0m\u001b[90m━━━━━━━━━━━━━━━━━\u001b[0m \u001b[32m1.9/3.3 MB\u001b[0m \u001b[31m80.1 kB/s\u001b[0m eta \u001b[36m0:00:18\u001b[0m"
                },
                {
                    "output_type": "stream",
                    "name": "stdout",
                    "text": "\r\u001b[2K   \u001b[91m━━━━━━━━━━━━━━━━━━━━━━\u001b[0m\u001b[91m╸\u001b[0m\u001b[90m━━━━━━━━━━━━━━━━━\u001b[0m \u001b[32m1.9/3.3 MB\u001b[0m \u001b[31m80.1 kB/s\u001b[0m eta \u001b[36m0:00:18\u001b[0m\r\u001b[2K   \u001b[91m━━━━━━━━━━━━━━━━━━━━━━\u001b[0m\u001b[91m╸\u001b[0m\u001b[90m━━━━━━━━━━━━━━━━━\u001b[0m \u001b[32m1.9/3.3 MB\u001b[0m \u001b[31m80.1 kB/s\u001b[0m eta \u001b[36m0:00:18\u001b[0m"
                },
                {
                    "output_type": "stream",
                    "name": "stdout",
                    "text": "\r\u001b[2K   \u001b[91m━━━━━━━━━━━━━━━━━━━━━━\u001b[0m\u001b[91m╸\u001b[0m\u001b[90m━━━━━━━━━━━━━━━━━\u001b[0m \u001b[32m1.9/3.3 MB\u001b[0m \u001b[31m80.1 kB/s\u001b[0m eta \u001b[36m0:00:18\u001b[0m"
                },
                {
                    "output_type": "stream",
                    "name": "stdout",
                    "text": "\r\u001b[2K   \u001b[91m━━━━━━━━━━━━━━━━━━━━━━\u001b[0m\u001b[91m╸\u001b[0m\u001b[90m━━━━━━━━━━━━━━━━━\u001b[0m \u001b[32m1.9/3.3 MB\u001b[0m \u001b[31m80.1 kB/s\u001b[0m eta \u001b[36m0:00:18\u001b[0m"
                },
                {
                    "output_type": "stream",
                    "name": "stdout",
                    "text": "\r\u001b[2K   \u001b[91m━━━━━━━━━━━━━━━━━━━━━━\u001b[0m\u001b[91m╸\u001b[0m\u001b[90m━━━━━━━━━━━━━━━━━\u001b[0m \u001b[32m1.9/3.3 MB\u001b[0m \u001b[31m80.1 kB/s\u001b[0m eta \u001b[36m0:00:18\u001b[0m\r\u001b[2K   \u001b[91m━━━━━━━━━━━━━━━━━━━━━━\u001b[0m\u001b[91m╸\u001b[0m\u001b[90m━━━━━━━━━━━━━━━━━\u001b[0m \u001b[32m1.9/3.3 MB\u001b[0m \u001b[31m80.1 kB/s\u001b[0m eta \u001b[36m0:00:18\u001b[0m"
                },
                {
                    "output_type": "stream",
                    "name": "stdout",
                    "text": "\r\u001b[2K   \u001b[91m━━━━━━━━━━━━━━━━━━━━━━\u001b[0m\u001b[91m╸\u001b[0m\u001b[90m━━━━━━━━━━━━━━━━━\u001b[0m \u001b[32m1.9/3.3 MB\u001b[0m \u001b[31m80.1 kB/s\u001b[0m eta \u001b[36m0:00:18\u001b[0m"
                },
                {
                    "output_type": "stream",
                    "name": "stdout",
                    "text": "\r\u001b[2K   \u001b[91m━━━━━━━━━━━━━━━━━━━━━━\u001b[0m\u001b[91m╸\u001b[0m\u001b[90m━━━━━━━━━━━━━━━━━\u001b[0m \u001b[32m1.9/3.3 MB\u001b[0m \u001b[31m80.1 kB/s\u001b[0m eta \u001b[36m0:00:18\u001b[0m\r\u001b[2K   \u001b[91m━━━━━━━━━━━━━━━━━━━━━━━\u001b[0m\u001b[90m╺\u001b[0m\u001b[90m━━━━━━━━━━━━━━━━\u001b[0m \u001b[32m1.9/3.3 MB\u001b[0m \u001b[31m76.5 kB/s\u001b[0m eta \u001b[36m0:00:19\u001b[0m"
                },
                {
                    "output_type": "stream",
                    "name": "stdout",
                    "text": "\r\u001b[2K   \u001b[91m━━━━━━━━━━━━━━━━━━━━━━━\u001b[0m\u001b[90m╺\u001b[0m\u001b[90m━━━━━━━━━━━━━━━━\u001b[0m \u001b[32m1.9/3.3 MB\u001b[0m \u001b[31m76.5 kB/s\u001b[0m eta \u001b[36m0:00:19\u001b[0m"
                },
                {
                    "output_type": "stream",
                    "name": "stdout",
                    "text": "\r\u001b[2K   \u001b[91m━━━━━━━━━━━━━━━━━━━━━━━\u001b[0m\u001b[90m╺\u001b[0m\u001b[90m━━━━━━━━━━━━━━━━\u001b[0m \u001b[32m1.9/3.3 MB\u001b[0m \u001b[31m76.5 kB/s\u001b[0m eta \u001b[36m0:00:19\u001b[0m\r\u001b[2K   \u001b[91m━━━━━━━━━━━━━━━━━━━━━━━\u001b[0m\u001b[90m╺\u001b[0m\u001b[90m━━━━━━━━━━━━━━━━\u001b[0m \u001b[32m1.9/3.3 MB\u001b[0m \u001b[31m76.5 kB/s\u001b[0m eta \u001b[36m0:00:19\u001b[0m"
                },
                {
                    "output_type": "stream",
                    "name": "stdout",
                    "text": "\r\u001b[2K   \u001b[91m━━━━━━━━━━━━━━━━━━━━━━━\u001b[0m\u001b[90m╺\u001b[0m\u001b[90m━━━━━━━━━━━━━━━━\u001b[0m \u001b[32m1.9/3.3 MB\u001b[0m \u001b[31m76.5 kB/s\u001b[0m eta \u001b[36m0:00:19\u001b[0m"
                },
                {
                    "output_type": "stream",
                    "name": "stdout",
                    "text": "\r\u001b[2K   \u001b[91m━━━━━━━━━━━━━━━━━━━━━━━\u001b[0m\u001b[90m╺\u001b[0m\u001b[90m━━━━━━━━━━━━━━━━\u001b[0m \u001b[32m1.9/3.3 MB\u001b[0m \u001b[31m76.5 kB/s\u001b[0m eta \u001b[36m0:00:19\u001b[0m"
                },
                {
                    "output_type": "stream",
                    "name": "stdout",
                    "text": "\r\u001b[2K   \u001b[91m━━━━━━━━━━━━━━━━━━━━━━━\u001b[0m\u001b[90m╺\u001b[0m\u001b[90m━━━━━━━━━━━━━━━━\u001b[0m \u001b[32m1.9/3.3 MB\u001b[0m \u001b[31m76.5 kB/s\u001b[0m eta \u001b[36m0:00:19\u001b[0m\r\u001b[2K   \u001b[91m━━━━━━━━━━━━━━━━━━━━━━━\u001b[0m\u001b[90m╺\u001b[0m\u001b[90m━━━━━━━━━━━━━━━━\u001b[0m \u001b[32m1.9/3.3 MB\u001b[0m \u001b[31m76.5 kB/s\u001b[0m eta \u001b[36m0:00:19\u001b[0m"
                },
                {
                    "output_type": "stream",
                    "name": "stdout",
                    "text": "\r\u001b[2K   \u001b[91m━━━━━━━━━━━━━━━━━━━━━━━\u001b[0m\u001b[90m╺\u001b[0m\u001b[90m━━━━━━━━━━━━━━━━\u001b[0m \u001b[32m1.9/3.3 MB\u001b[0m \u001b[31m76.5 kB/s\u001b[0m eta \u001b[36m0:00:19\u001b[0m"
                },
                {
                    "output_type": "stream",
                    "name": "stdout",
                    "text": "\r\u001b[2K   \u001b[91m━━━━━━━━━━━━━━━━━━━━━━━\u001b[0m\u001b[90m╺\u001b[0m\u001b[90m━━━━━━━━━━━━━━━━\u001b[0m \u001b[32m1.9/3.3 MB\u001b[0m \u001b[31m76.5 kB/s\u001b[0m eta \u001b[36m0:00:19\u001b[0m\r\u001b[2K   \u001b[91m━━━━━━━━━━━━━━━━━━━━━━━\u001b[0m\u001b[90m╺\u001b[0m\u001b[90m━━━━━━━━━━━━━━━━\u001b[0m \u001b[32m1.9/3.3 MB\u001b[0m \u001b[31m76.5 kB/s\u001b[0m eta \u001b[36m0:00:19\u001b[0m"
                },
                {
                    "output_type": "stream",
                    "name": "stdout",
                    "text": "\r\u001b[2K   \u001b[91m━━━━━━━━━━━━━━━━━━━━━━━\u001b[0m\u001b[90m╺\u001b[0m\u001b[90m━━━━━━━━━━━━━━━━\u001b[0m \u001b[32m1.9/3.3 MB\u001b[0m \u001b[31m76.5 kB/s\u001b[0m eta \u001b[36m0:00:19\u001b[0m"
                },
                {
                    "output_type": "stream",
                    "name": "stdout",
                    "text": "\r\u001b[2K   \u001b[91m━━━━━━━━━━━━━━━━━━━━━━━\u001b[0m\u001b[90m╺\u001b[0m\u001b[90m━━━━━━━━━━━━━━━━\u001b[0m \u001b[32m1.9/3.3 MB\u001b[0m \u001b[31m76.5 kB/s\u001b[0m eta \u001b[36m0:00:19\u001b[0m"
                },
                {
                    "output_type": "stream",
                    "name": "stdout",
                    "text": "\r\u001b[2K   \u001b[91m━━━━━━━━━━━━━━━━━━━━━━━\u001b[0m\u001b[90m╺\u001b[0m\u001b[90m━━━━━━━━━━━━━━━━\u001b[0m \u001b[32m1.9/3.3 MB\u001b[0m \u001b[31m75.8 kB/s\u001b[0m eta \u001b[36m0:00:19\u001b[0m\r\u001b[2K   \u001b[91m━━━━━━━━━━━━━━━━━━━━━━━\u001b[0m\u001b[90m╺\u001b[0m\u001b[90m━━━━━━━━━━━━━━━━\u001b[0m \u001b[32m1.9/3.3 MB\u001b[0m \u001b[31m75.8 kB/s\u001b[0m eta \u001b[36m0:00:19\u001b[0m"
                },
                {
                    "output_type": "stream",
                    "name": "stdout",
                    "text": "\r\u001b[2K   \u001b[91m━━━━━━━━━━━━━━━━━━━━━━━\u001b[0m\u001b[90m╺\u001b[0m\u001b[90m━━━━━━━━━━━━━━━━\u001b[0m \u001b[32m1.9/3.3 MB\u001b[0m \u001b[31m75.8 kB/s\u001b[0m eta \u001b[36m0:00:19\u001b[0m"
                },
                {
                    "output_type": "stream",
                    "name": "stdout",
                    "text": "\r\u001b[2K   \u001b[91m━━━━━━━━━━━━━━━━━━━━━━━\u001b[0m\u001b[90m╺\u001b[0m\u001b[90m━━━━━━━━━━━━━━━━\u001b[0m \u001b[32m1.9/3.3 MB\u001b[0m \u001b[31m75.8 kB/s\u001b[0m eta \u001b[36m0:00:19\u001b[0m\r\u001b[2K   \u001b[91m━━━━━━━━━━━━━━━━━━━━━━━\u001b[0m\u001b[90m╺\u001b[0m\u001b[90m━━━━━━━━━━━━━━━━\u001b[0m \u001b[32m1.9/3.3 MB\u001b[0m \u001b[31m75.8 kB/s\u001b[0m eta \u001b[36m0:00:19\u001b[0m"
                },
                {
                    "output_type": "stream",
                    "name": "stdout",
                    "text": "\r\u001b[2K   \u001b[91m━━━━━━━━━━━━━━━━━━━━━━━\u001b[0m\u001b[90m╺\u001b[0m\u001b[90m━━━━━━━━━━━━━━━━\u001b[0m \u001b[32m1.9/3.3 MB\u001b[0m \u001b[31m75.8 kB/s\u001b[0m eta \u001b[36m0:00:19\u001b[0m"
                },
                {
                    "output_type": "stream",
                    "name": "stdout",
                    "text": "\r\u001b[2K   \u001b[91m━━━━━━━━━━━━━━━━━━━━━━━\u001b[0m\u001b[90m╺\u001b[0m\u001b[90m━━━━━━━━━━━━━━━━\u001b[0m \u001b[32m1.9/3.3 MB\u001b[0m \u001b[31m75.8 kB/s\u001b[0m eta \u001b[36m0:00:19\u001b[0m\r\u001b[2K   \u001b[91m━━━━━━━━━━━━━━━━━━━━━━━\u001b[0m\u001b[90m╺\u001b[0m\u001b[90m━━━━━━━━━━━━━━━━\u001b[0m \u001b[32m1.9/3.3 MB\u001b[0m \u001b[31m75.8 kB/s\u001b[0m eta \u001b[36m0:00:19\u001b[0m"
                },
                {
                    "output_type": "stream",
                    "name": "stdout",
                    "text": "\r\u001b[2K   \u001b[91m━━━━━━━━━━━━━━━━━━━━━━━\u001b[0m\u001b[91m╸\u001b[0m\u001b[90m━━━━━━━━━━━━━━━━\u001b[0m \u001b[32m2.0/3.3 MB\u001b[0m \u001b[31m75.7 kB/s\u001b[0m eta \u001b[36m0:00:19\u001b[0m"
                },
                {
                    "output_type": "stream",
                    "name": "stdout",
                    "text": "\r\u001b[2K   \u001b[91m━━━━━━━━━━━━━━━━━━━━━━━\u001b[0m\u001b[91m╸\u001b[0m\u001b[90m━━━━━━━━━━━━━━━━\u001b[0m \u001b[32m2.0/3.3 MB\u001b[0m \u001b[31m75.7 kB/s\u001b[0m eta \u001b[36m0:00:19\u001b[0m\r\u001b[2K   \u001b[91m━━━━━━━━━━━━━━━━━━━━━━━\u001b[0m\u001b[91m╸\u001b[0m\u001b[90m━━━━━━━━━━━━━━━━\u001b[0m \u001b[32m2.0/3.3 MB\u001b[0m \u001b[31m75.7 kB/s\u001b[0m eta \u001b[36m0:00:19\u001b[0m"
                },
                {
                    "output_type": "stream",
                    "name": "stdout",
                    "text": "\r\u001b[2K   \u001b[91m━━━━━━━━━━━━━━━━━━━━━━━\u001b[0m\u001b[91m╸\u001b[0m\u001b[90m━━━━━━━━━━━━━━━━\u001b[0m \u001b[32m2.0/3.3 MB\u001b[0m \u001b[31m75.7 kB/s\u001b[0m eta \u001b[36m0:00:19\u001b[0m"
                },
                {
                    "output_type": "stream",
                    "name": "stdout",
                    "text": "\r\u001b[2K   \u001b[91m━━━━━━━━━━━━━━━━━━━━━━━\u001b[0m\u001b[91m╸\u001b[0m\u001b[90m━━━━━━━━━━━━━━━━\u001b[0m \u001b[32m2.0/3.3 MB\u001b[0m \u001b[31m75.7 kB/s\u001b[0m eta \u001b[36m0:00:19\u001b[0m"
                },
                {
                    "output_type": "stream",
                    "name": "stdout",
                    "text": "\r\u001b[2K   \u001b[91m━━━━━━━━━━━━━━━━━━━━━━━\u001b[0m\u001b[91m╸\u001b[0m\u001b[90m━━━━━━━━━━━━━━━━\u001b[0m \u001b[32m2.0/3.3 MB\u001b[0m \u001b[31m75.7 kB/s\u001b[0m eta \u001b[36m0:00:19\u001b[0m\r\u001b[2K   \u001b[91m━━━━━━━━━━━━━━━━━━━━━━━\u001b[0m\u001b[91m╸\u001b[0m\u001b[90m━━━━━━━━━━━━━━━━\u001b[0m \u001b[32m2.0/3.3 MB\u001b[0m \u001b[31m75.5 kB/s\u001b[0m eta \u001b[36m0:00:18\u001b[0m"
                },
                {
                    "output_type": "stream",
                    "name": "stdout",
                    "text": "\r\u001b[2K   \u001b[91m━━━━━━━━━━━━━━━━━━━━━━━\u001b[0m\u001b[91m╸\u001b[0m\u001b[90m━━━━━━━━━━━━━━━━\u001b[0m \u001b[32m2.0/3.3 MB\u001b[0m \u001b[31m75.5 kB/s\u001b[0m eta \u001b[36m0:00:18\u001b[0m"
                },
                {
                    "output_type": "stream",
                    "name": "stdout",
                    "text": "\r\u001b[2K   \u001b[91m━━━━━━━━━━━━━━━━━━━━━━━\u001b[0m\u001b[91m╸\u001b[0m\u001b[90m━━━━━━━━━━━━━━━━\u001b[0m \u001b[32m2.0/3.3 MB\u001b[0m \u001b[31m75.5 kB/s\u001b[0m eta \u001b[36m0:00:18\u001b[0m\r\u001b[2K   \u001b[91m━━━━━━━━━━━━━━━━━━━━━━━\u001b[0m\u001b[91m╸\u001b[0m\u001b[90m━━━━━━━━━━━━━━━━\u001b[0m \u001b[32m2.0/3.3 MB\u001b[0m \u001b[31m75.5 kB/s\u001b[0m eta \u001b[36m0:00:18\u001b[0m"
                },
                {
                    "output_type": "stream",
                    "name": "stdout",
                    "text": "\r\u001b[2K   \u001b[91m━━━━━━━━━━━━━━━━━━━━━━━\u001b[0m\u001b[91m╸\u001b[0m\u001b[90m━━━━━━━━━━━━━━━━\u001b[0m \u001b[32m2.0/3.3 MB\u001b[0m \u001b[31m75.5 kB/s\u001b[0m eta \u001b[36m0:00:18\u001b[0m"
                },
                {
                    "output_type": "stream",
                    "name": "stdout",
                    "text": "\r\u001b[2K   \u001b[91m━━━━━━━━━━━━━━━━━━━━━━━\u001b[0m\u001b[91m╸\u001b[0m\u001b[90m━━━━━━━━━━━━━━━━\u001b[0m \u001b[32m2.0/3.3 MB\u001b[0m \u001b[31m75.7 kB/s\u001b[0m eta \u001b[36m0:00:18\u001b[0m"
                },
                {
                    "output_type": "stream",
                    "name": "stdout",
                    "text": "\r\u001b[2K   \u001b[91m━━━━━━━━━━━━━━━━━━━━━━━\u001b[0m\u001b[91m╸\u001b[0m\u001b[90m━━━━━━━━━━━━━━━━\u001b[0m \u001b[32m2.0/3.3 MB\u001b[0m \u001b[31m75.7 kB/s\u001b[0m eta \u001b[36m0:00:18\u001b[0m\r\u001b[2K   \u001b[91m━━━━━━━━━━━━━━━━━━━━━━━\u001b[0m\u001b[91m╸\u001b[0m\u001b[90m━━━━━━━━━━━━━━━━\u001b[0m \u001b[32m2.0/3.3 MB\u001b[0m \u001b[31m75.7 kB/s\u001b[0m eta \u001b[36m0:00:18\u001b[0m"
                },
                {
                    "output_type": "stream",
                    "name": "stdout",
                    "text": "\r\u001b[2K   \u001b[91m━━━━━━━━━━━━━━━━━━━━━━━━\u001b[0m\u001b[90m╺\u001b[0m\u001b[90m━━━━━━━━━━━━━━━\u001b[0m \u001b[32m2.0/3.3 MB\u001b[0m \u001b[31m75.8 kB/s\u001b[0m eta \u001b[36m0:00:18\u001b[0m"
                },
                {
                    "output_type": "stream",
                    "name": "stdout",
                    "text": "\r\u001b[2K   \u001b[91m━━━━━━━━━━━━━━━━━━━━━━━━\u001b[0m\u001b[90m╺\u001b[0m\u001b[90m━━━━━━━━━━━━━━━\u001b[0m \u001b[32m2.0/3.3 MB\u001b[0m \u001b[31m75.8 kB/s\u001b[0m eta \u001b[36m0:00:18\u001b[0m\r\u001b[2K   \u001b[91m━━━━━━━━━━━━━━━━━━━━━━━━\u001b[0m\u001b[90m╺\u001b[0m\u001b[90m━━━━━━━━━━━━━━━\u001b[0m \u001b[32m2.0/3.3 MB\u001b[0m \u001b[31m76.3 kB/s\u001b[0m eta \u001b[36m0:00:18\u001b[0m"
                },
                {
                    "output_type": "stream",
                    "name": "stdout",
                    "text": "\r\u001b[2K   \u001b[91m━━━━━━━━━━━━━━━━━━━━━━━━\u001b[0m\u001b[90m╺\u001b[0m\u001b[90m━━━━━━━━━━━━━━━\u001b[0m \u001b[32m2.0/3.3 MB\u001b[0m \u001b[31m76.3 kB/s\u001b[0m eta \u001b[36m0:00:18\u001b[0m"
                },
                {
                    "output_type": "stream",
                    "name": "stdout",
                    "text": "\r\u001b[2K   \u001b[91m━━━━━━━━━━━━━━━━━━━━━━━━\u001b[0m\u001b[90m╺\u001b[0m\u001b[90m━━━━━━━━━━━━━━━\u001b[0m \u001b[32m2.0/3.3 MB\u001b[0m \u001b[31m76.3 kB/s\u001b[0m eta \u001b[36m0:00:18\u001b[0m"
                },
                {
                    "output_type": "stream",
                    "name": "stdout",
                    "text": "\r\u001b[2K   \u001b[91m━━━━━━━━━━━━━━━━━━━━━━━━\u001b[0m\u001b[91m╸\u001b[0m\u001b[90m━━━━━━━━━━━━━━━\u001b[0m \u001b[32m2.0/3.3 MB\u001b[0m \u001b[31m76.8 kB/s\u001b[0m eta \u001b[36m0:00:17\u001b[0m\r\u001b[2K   \u001b[91m━━━━━━━━━━━━━━━━━━━━━━━━\u001b[0m\u001b[91m╸\u001b[0m\u001b[90m━━━━━━━━━━━━━━━\u001b[0m \u001b[32m2.0/3.3 MB\u001b[0m \u001b[31m77.0 kB/s\u001b[0m eta \u001b[36m0:00:17\u001b[0m"
                },
                {
                    "output_type": "stream",
                    "name": "stdout",
                    "text": "\r\u001b[2K   \u001b[91m━━━━━━━━━━━━━━━━━━━━━━━━\u001b[0m\u001b[91m╸\u001b[0m\u001b[90m━━━━━━━━━━━━━━━\u001b[0m \u001b[32m2.0/3.3 MB\u001b[0m \u001b[31m77.0 kB/s\u001b[0m eta \u001b[36m0:00:17\u001b[0m"
                },
                {
                    "output_type": "stream",
                    "name": "stdout",
                    "text": "\r\u001b[2K   \u001b[91m━━━━━━━━━━━━━━━━━━━━━━━━\u001b[0m\u001b[91m╸\u001b[0m\u001b[90m━━━━━━━━━━━━━━━\u001b[0m \u001b[32m2.0/3.3 MB\u001b[0m \u001b[31m77.0 kB/s\u001b[0m eta \u001b[36m0:00:17\u001b[0m\r\u001b[2K   \u001b[91m━━━━━━━━━━━━━━━━━━━━━━━━\u001b[0m\u001b[91m╸\u001b[0m\u001b[90m━━━━━━━━━━━━━━━\u001b[0m \u001b[32m2.0/3.3 MB\u001b[0m \u001b[31m77.0 kB/s\u001b[0m eta \u001b[36m0:00:17\u001b[0m"
                },
                {
                    "output_type": "stream",
                    "name": "stdout",
                    "text": "\r\u001b[2K   \u001b[91m━━━━━━━━━━━━━━━━━━━━━━━━\u001b[0m\u001b[91m╸\u001b[0m\u001b[90m━━━━━━━━━━━━━━━\u001b[0m \u001b[32m2.0/3.3 MB\u001b[0m \u001b[31m77.0 kB/s\u001b[0m eta \u001b[36m0:00:17\u001b[0m"
                },
                {
                    "output_type": "stream",
                    "name": "stdout",
                    "text": "\r\u001b[2K   \u001b[91m━━━━━━━━━━━━━━━━━━━━━━━━\u001b[0m\u001b[91m╸\u001b[0m\u001b[90m━━━━━━━━━━━━━━━\u001b[0m \u001b[32m2.0/3.3 MB\u001b[0m \u001b[31m77.0 kB/s\u001b[0m eta \u001b[36m0:00:17\u001b[0m"
                },
                {
                    "output_type": "stream",
                    "name": "stdout",
                    "text": "\r\u001b[2K   \u001b[91m━━━━━━━━━━━━━━━━━━━━━━━━\u001b[0m\u001b[91m╸\u001b[0m\u001b[90m━━━━━━━━━━━━━━━\u001b[0m \u001b[32m2.0/3.3 MB\u001b[0m \u001b[31m77.0 kB/s\u001b[0m eta \u001b[36m0:00:17\u001b[0m\r\u001b[2K   \u001b[91m━━━━━━━━━━━━━━━━━━━━━━━━\u001b[0m\u001b[91m╸\u001b[0m\u001b[90m━━━━━━━━━━━━━━━\u001b[0m \u001b[32m2.0/3.3 MB\u001b[0m \u001b[31m77.0 kB/s\u001b[0m eta \u001b[36m0:00:17\u001b[0m"
                },
                {
                    "output_type": "stream",
                    "name": "stdout",
                    "text": "\r\u001b[2K   \u001b[91m━━━━━━━━━━━━━━━━━━━━━━━━\u001b[0m\u001b[91m╸\u001b[0m\u001b[90m━━━━━━━━━━━━━━━\u001b[0m \u001b[32m2.0/3.3 MB\u001b[0m \u001b[31m77.0 kB/s\u001b[0m eta \u001b[36m0:00:17\u001b[0m"
                },
                {
                    "output_type": "stream",
                    "name": "stdout",
                    "text": "\r\u001b[2K   \u001b[91m━━━━━━━━━━━━━━━━━━━━━━━━\u001b[0m\u001b[91m╸\u001b[0m\u001b[90m━━━━━━━━━━━━━━━\u001b[0m \u001b[32m2.0/3.3 MB\u001b[0m \u001b[31m77.0 kB/s\u001b[0m eta \u001b[36m0:00:17\u001b[0m\r\u001b[2K   \u001b[91m━━━━━━━━━━━━━━━━━━━━━━━━\u001b[0m\u001b[91m╸\u001b[0m\u001b[90m━━━━━━━━━━━━━━━\u001b[0m \u001b[32m2.0/3.3 MB\u001b[0m \u001b[31m77.0 kB/s\u001b[0m eta \u001b[36m0:00:17\u001b[0m"
                },
                {
                    "output_type": "stream",
                    "name": "stdout",
                    "text": "\r\u001b[2K   \u001b[91m━━━━━━━━━━━━━━━━━━━━━━━━\u001b[0m\u001b[91m╸\u001b[0m\u001b[90m━━━━━━━━━━━━━━━\u001b[0m \u001b[32m2.0/3.3 MB\u001b[0m \u001b[31m77.0 kB/s\u001b[0m eta \u001b[36m0:00:17\u001b[0m"
                },
                {
                    "output_type": "stream",
                    "name": "stdout",
                    "text": "\r\u001b[2K   \u001b[91m━━━━━━━━━━━━━━━━━━━━━━━━\u001b[0m\u001b[91m╸\u001b[0m\u001b[90m━━━━━━━━━━━━━━━\u001b[0m \u001b[32m2.0/3.3 MB\u001b[0m \u001b[31m77.0 kB/s\u001b[0m eta \u001b[36m0:00:17\u001b[0m"
                },
                {
                    "output_type": "stream",
                    "name": "stdout",
                    "text": "\r\u001b[2K   \u001b[91m━━━━━━━━━━━━━━━━━━━━━━━━\u001b[0m\u001b[91m╸\u001b[0m\u001b[90m━━━━━━━━━━━━━━━\u001b[0m \u001b[32m2.0/3.3 MB\u001b[0m \u001b[31m77.0 kB/s\u001b[0m eta \u001b[36m0:00:17\u001b[0m\r\u001b[2K   \u001b[91m━━━━━━━━━━━━━━━━━━━━━━━━\u001b[0m\u001b[91m╸\u001b[0m\u001b[90m━━━━━━━━━━━━━━━\u001b[0m \u001b[32m2.1/3.3 MB\u001b[0m \u001b[31m76.3 kB/s\u001b[0m eta \u001b[36m0:00:17\u001b[0m"
                },
                {
                    "output_type": "stream",
                    "name": "stdout",
                    "text": "\r\u001b[2K   \u001b[91m━━━━━━━━━━━━━━━━━━━━━━━━\u001b[0m\u001b[91m╸\u001b[0m\u001b[90m━━━━━━━━━━━━━━━\u001b[0m \u001b[32m2.1/3.3 MB\u001b[0m \u001b[31m76.3 kB/s\u001b[0m eta \u001b[36m0:00:17\u001b[0m"
                },
                {
                    "output_type": "stream",
                    "name": "stdout",
                    "text": "\r\u001b[2K   \u001b[91m━━━━━━━━━━━━━━━━━━━━━━━━\u001b[0m\u001b[91m╸\u001b[0m\u001b[90m━━━━━━━━━━━━━━━\u001b[0m \u001b[32m2.1/3.3 MB\u001b[0m \u001b[31m76.3 kB/s\u001b[0m eta \u001b[36m0:00:17\u001b[0m\r\u001b[2K   \u001b[91m━━━━━━━━━━━━━━━━━━━━━━━━━\u001b[0m\u001b[90m╺\u001b[0m\u001b[90m━━━━━━━━━━━━━━\u001b[0m \u001b[32m2.1/3.3 MB\u001b[0m \u001b[31m76.3 kB/s\u001b[0m eta \u001b[36m0:00:17\u001b[0m"
                },
                {
                    "output_type": "stream",
                    "name": "stdout",
                    "text": "\r\u001b[2K   \u001b[91m━━━━━━━━━━━━━━━━━━━━━━━━━\u001b[0m\u001b[90m╺\u001b[0m\u001b[90m━━━━━━━━━━━━━━\u001b[0m \u001b[32m2.1/3.3 MB\u001b[0m \u001b[31m77.0 kB/s\u001b[0m eta \u001b[36m0:00:16\u001b[0m"
                },
                {
                    "output_type": "stream",
                    "name": "stdout",
                    "text": "\r\u001b[2K   \u001b[91m━━━━━━━━━━━━━━━━━━━━━━━━━\u001b[0m\u001b[90m╺\u001b[0m\u001b[90m━━━━━━━━━━━━━━\u001b[0m \u001b[32m2.1/3.3 MB\u001b[0m \u001b[31m77.0 kB/s\u001b[0m eta \u001b[36m0:00:16\u001b[0m"
                },
                {
                    "output_type": "stream",
                    "name": "stdout",
                    "text": "\r\u001b[2K   \u001b[91m━━━━━━━━━━━━━━━━━━━━━━━━━\u001b[0m\u001b[91m╸\u001b[0m\u001b[90m━━━━━━━━━━━━━━\u001b[0m \u001b[32m2.1/3.3 MB\u001b[0m \u001b[31m77.4 kB/s\u001b[0m eta \u001b[36m0:00:16\u001b[0m\r\u001b[2K   \u001b[91m━━━━━━━━━━━━━━━━━━━━━━━━━\u001b[0m\u001b[91m╸\u001b[0m\u001b[90m━━━━━━━━━━━━━━\u001b[0m \u001b[32m2.1/3.3 MB\u001b[0m \u001b[31m77.4 kB/s\u001b[0m eta \u001b[36m0:00:16\u001b[0m"
                },
                {
                    "output_type": "stream",
                    "name": "stdout",
                    "text": "\r\u001b[2K   \u001b[91m━━━━━━━━━━━━━━━━━━━━━━━━━\u001b[0m\u001b[91m╸\u001b[0m\u001b[90m━━━━━━━━━━━━━━\u001b[0m \u001b[32m2.1/3.3 MB\u001b[0m \u001b[31m77.4 kB/s\u001b[0m eta \u001b[36m0:00:16\u001b[0m"
                },
                {
                    "output_type": "stream",
                    "name": "stdout",
                    "text": "\r\u001b[2K   \u001b[91m━━━━━━━━━━━━━━━━━━━━━━━━━\u001b[0m\u001b[91m╸\u001b[0m\u001b[90m━━━━━━━━━━━━━━\u001b[0m \u001b[32m2.1/3.3 MB\u001b[0m \u001b[31m77.5 kB/s\u001b[0m eta \u001b[36m0:00:16\u001b[0m\r\u001b[2K   \u001b[91m━━━━━━━━━━━━━━━━━━━━━━━━━\u001b[0m\u001b[91m╸\u001b[0m\u001b[90m━━━━━━━━━━━━━━\u001b[0m \u001b[32m2.1/3.3 MB\u001b[0m \u001b[31m77.5 kB/s\u001b[0m eta \u001b[36m0:00:16\u001b[0m"
                },
                {
                    "output_type": "stream",
                    "name": "stdout",
                    "text": "\r\u001b[2K   \u001b[91m━━━━━━━━━━━━━━━━━━━━━━━━━\u001b[0m\u001b[91m╸\u001b[0m\u001b[90m━━━━━━━━━━━━━━\u001b[0m \u001b[32m2.2/3.3 MB\u001b[0m \u001b[31m78.1 kB/s\u001b[0m eta \u001b[36m0:00:15\u001b[0m"
                },
                {
                    "output_type": "stream",
                    "name": "stdout",
                    "text": "\r\u001b[2K   \u001b[91m━━━━━━━━━━━━━━━━━━━━━━━━━━\u001b[0m\u001b[90m╺\u001b[0m\u001b[90m━━━━━━━━━━━━━\u001b[0m \u001b[32m2.2/3.3 MB\u001b[0m \u001b[31m78.4 kB/s\u001b[0m eta \u001b[36m0:00:15\u001b[0m\r\u001b[2K   \u001b[91m━━━━━━━━━━━━━━━━━━━━━━━━━━\u001b[0m\u001b[90m╺\u001b[0m\u001b[90m━━━━━━━━━━━━━\u001b[0m \u001b[32m2.2/3.3 MB\u001b[0m \u001b[31m78.4 kB/s\u001b[0m eta \u001b[36m0:00:15\u001b[0m"
                },
                {
                    "output_type": "stream",
                    "name": "stdout",
                    "text": "\r\u001b[2K   \u001b[91m━━━━━━━━━━━━━━━━━━━━━━━━━━\u001b[0m\u001b[90m╺\u001b[0m\u001b[90m━━━━━━━━━━━━━\u001b[0m \u001b[32m2.2/3.3 MB\u001b[0m \u001b[31m78.9 kB/s\u001b[0m eta \u001b[36m0:00:15\u001b[0m"
                },
                {
                    "output_type": "stream",
                    "name": "stdout",
                    "text": "\r\u001b[2K   \u001b[91m━━━━━━━━━━━━━━━━━━━━━━━━━━\u001b[0m\u001b[91m╸\u001b[0m\u001b[90m━━━━━━━━━━━━━\u001b[0m \u001b[32m2.2/3.3 MB\u001b[0m \u001b[31m79.5 kB/s\u001b[0m eta \u001b[36m0:00:15\u001b[0m"
                },
                {
                    "output_type": "stream",
                    "name": "stdout",
                    "text": "\r\u001b[2K   \u001b[91m━━━━━━━━━━━━━━━━━━━━━━━━━━\u001b[0m\u001b[91m╸\u001b[0m\u001b[90m━━━━━━━━━━━━━\u001b[0m \u001b[32m2.2/3.3 MB\u001b[0m \u001b[31m79.5 kB/s\u001b[0m eta \u001b[36m0:00:15\u001b[0m\r\u001b[2K   \u001b[91m━━━━━━━━━━━━━━━━━━━━━━━━━━\u001b[0m\u001b[91m╸\u001b[0m\u001b[90m━━━━━━━━━━━━━\u001b[0m \u001b[32m2.2/3.3 MB\u001b[0m \u001b[31m79.6 kB/s\u001b[0m eta \u001b[36m0:00:14\u001b[0m"
                },
                {
                    "output_type": "stream",
                    "name": "stdout",
                    "text": "\r\u001b[2K   \u001b[91m━━━━━━━━━━━━━━━━━━━━━━━━━━\u001b[0m\u001b[91m╸\u001b[0m\u001b[90m━━━━━━━━━━━━━\u001b[0m \u001b[32m2.2/3.3 MB\u001b[0m \u001b[31m79.6 kB/s\u001b[0m eta \u001b[36m0:00:14\u001b[0m"
                },
                {
                    "output_type": "stream",
                    "name": "stdout",
                    "text": "\r\u001b[2K   \u001b[91m━━━━━━━━━━━━━━━━━━━━━━━━━━\u001b[0m\u001b[91m╸\u001b[0m\u001b[90m━━━━━━━━━━━━━\u001b[0m \u001b[32m2.2/3.3 MB\u001b[0m \u001b[31m79.6 kB/s\u001b[0m eta \u001b[36m0:00:14\u001b[0m\r\u001b[2K   \u001b[91m━━━━━━━━━━━━━━━━━━━━━━━━━━━\u001b[0m\u001b[90m╺\u001b[0m\u001b[90m━━━━━━━━━━━━\u001b[0m \u001b[32m2.2/3.3 MB\u001b[0m \u001b[31m80.4 kB/s\u001b[0m eta \u001b[36m0:00:14\u001b[0m"
                },
                {
                    "output_type": "stream",
                    "name": "stdout",
                    "text": "\r\u001b[2K   \u001b[91m━━━━━━━━━━━━━━━━━━━━━━━━━━━\u001b[0m\u001b[90m╺\u001b[0m\u001b[90m━━━━━━━━━━━━\u001b[0m \u001b[32m2.2/3.3 MB\u001b[0m \u001b[31m80.4 kB/s\u001b[0m eta \u001b[36m0:00:14\u001b[0m"
                },
                {
                    "output_type": "stream",
                    "name": "stdout",
                    "text": "\r\u001b[2K   \u001b[91m━━━━━━━━━━━━━━━━━━━━━━━━━━━\u001b[0m\u001b[90m╺\u001b[0m\u001b[90m━━━━━━━━━━━━\u001b[0m \u001b[32m2.2/3.3 MB\u001b[0m \u001b[31m80.4 kB/s\u001b[0m eta \u001b[36m0:00:14\u001b[0m\r\u001b[2K   \u001b[91m━━━━━━━━━━━━━━━━━━━━━━━━━━━\u001b[0m\u001b[90m╺\u001b[0m\u001b[90m━━━━━━━━━━━━\u001b[0m \u001b[32m2.3/3.3 MB\u001b[0m \u001b[31m80.8 kB/s\u001b[0m eta \u001b[36m0:00:14\u001b[0m"
                },
                {
                    "output_type": "stream",
                    "name": "stdout",
                    "text": "\r\u001b[2K   \u001b[91m━━━━━━━━━━━━━━━━━━━━━━━━━━━\u001b[0m\u001b[91m╸\u001b[0m\u001b[90m━━━━━━━━━━━━\u001b[0m \u001b[32m2.3/3.3 MB\u001b[0m \u001b[31m81.5 kB/s\u001b[0m eta \u001b[36m0:00:13\u001b[0m"
                },
                {
                    "output_type": "stream",
                    "name": "stdout",
                    "text": "\r\u001b[2K   \u001b[91m━━━━━━━━━━━━━━━━━━━━━━━━━━━\u001b[0m\u001b[91m╸\u001b[0m\u001b[90m━━━━━━━━━━━━\u001b[0m \u001b[32m2.3/3.3 MB\u001b[0m \u001b[31m81.5 kB/s\u001b[0m eta \u001b[36m0:00:13\u001b[0m"
                },
                {
                    "output_type": "stream",
                    "name": "stdout",
                    "text": "\r\u001b[2K   \u001b[91m━━━━━━━━━━━━━━━━━━━━━━━━━━━\u001b[0m\u001b[91m╸\u001b[0m\u001b[90m━━━━━━━━━━━━\u001b[0m \u001b[32m2.3/3.3 MB\u001b[0m \u001b[31m81.7 kB/s\u001b[0m eta \u001b[36m0:00:13\u001b[0m\r\u001b[2K   \u001b[91m━━━━━━━━━━━━━━━━━━━━━━━━━━━\u001b[0m\u001b[91m╸\u001b[0m\u001b[90m━━━━━━━━━━━━\u001b[0m \u001b[32m2.3/3.3 MB\u001b[0m \u001b[31m81.7 kB/s\u001b[0m eta \u001b[36m0:00:13\u001b[0m"
                },
                {
                    "output_type": "stream",
                    "name": "stdout",
                    "text": "\r\u001b[2K   \u001b[91m━━━━━━━━━━━━━━━━━━━━━━━━━━━━\u001b[0m\u001b[90m╺\u001b[0m\u001b[90m━━━━━━━━━━━\u001b[0m \u001b[32m2.3/3.3 MB\u001b[0m \u001b[31m82.5 kB/s\u001b[0m eta \u001b[36m0:00:13\u001b[0m"
                },
                {
                    "output_type": "stream",
                    "name": "stdout",
                    "text": "\r\u001b[2K   \u001b[91m━━━━━━━━━━━━━━━━━━━━━━━━━━━━\u001b[0m\u001b[90m╺\u001b[0m\u001b[90m━━━━━━━━━━━\u001b[0m \u001b[32m2.3/3.3 MB\u001b[0m \u001b[31m82.5 kB/s\u001b[0m eta \u001b[36m0:00:13\u001b[0m\r\u001b[2K   \u001b[91m━━━━━━━━━━━━━━━━━━━━━━━━━━━━\u001b[0m\u001b[90m╺\u001b[0m\u001b[90m━━━━━━━━━━━\u001b[0m \u001b[32m2.3/3.3 MB\u001b[0m \u001b[31m82.5 kB/s\u001b[0m eta \u001b[36m0:00:13\u001b[0m"
                },
                {
                    "output_type": "stream",
                    "name": "stdout",
                    "text": "\r\u001b[2K   \u001b[91m━━━━━━━━━━━━━━━━━━━━━━━━━━━━\u001b[0m\u001b[91m╸\u001b[0m\u001b[90m━━━━━━━━━━━\u001b[0m \u001b[32m2.4/3.3 MB\u001b[0m \u001b[31m83.6 kB/s\u001b[0m eta \u001b[36m0:00:12\u001b[0m"
                },
                {
                    "output_type": "stream",
                    "name": "stdout",
                    "text": "\r\u001b[2K   \u001b[91m━━━━━━━━━━━━━━━━━━━━━━━━━━━━\u001b[0m\u001b[91m╸\u001b[0m\u001b[90m━━━━━━━━━━━\u001b[0m \u001b[32m2.4/3.3 MB\u001b[0m \u001b[31m83.9 kB/s\u001b[0m eta \u001b[36m0:00:12\u001b[0m"
                },
                {
                    "output_type": "stream",
                    "name": "stdout",
                    "text": "\r\u001b[2K   \u001b[91m━━━━━━━━━━━━━━━━━━━━━━━━━━━━━\u001b[0m\u001b[90m╺\u001b[0m\u001b[90m━━━━━━━━━━\u001b[0m \u001b[32m2.4/3.3 MB\u001b[0m \u001b[31m85.5 kB/s\u001b[0m eta \u001b[36m0:00:11\u001b[0m\r\u001b[2K   \u001b[91m━━━━━━━━━━━━━━━━━━━━━━━━━━━━━\u001b[0m\u001b[90m╺\u001b[0m\u001b[90m━━━━━━━━━━\u001b[0m \u001b[32m2.4/3.3 MB\u001b[0m \u001b[31m86.2 kB/s\u001b[0m eta \u001b[36m0:00:11\u001b[0m"
                },
                {
                    "output_type": "stream",
                    "name": "stdout",
                    "text": "\r\u001b[2K   \u001b[91m━━━━━━━━━━━━━━━━━━━━━━━━━━━━━━\u001b[0m\u001b[90m╺\u001b[0m\u001b[90m━━━━━━━━━\u001b[0m \u001b[32m2.5/3.3 MB\u001b[0m \u001b[31m88.2 kB/s\u001b[0m eta \u001b[36m0:00:10\u001b[0m"
                },
                {
                    "output_type": "stream",
                    "name": "stdout",
                    "text": "\r\u001b[2K   \u001b[91m━━━━━━━━━━━━━━━━━━━━━━━━━━━━━━\u001b[0m\u001b[91m╸\u001b[0m\u001b[90m━━━━━━━━━\u001b[0m \u001b[32m2.6/3.3 MB\u001b[0m \u001b[31m90.2 kB/s\u001b[0m eta \u001b[36m0:00:09\u001b[0m"
                },
                {
                    "output_type": "stream",
                    "name": "stdout",
                    "text": "\r\u001b[2K   \u001b[91m━━━━━━━━━━━━━━━━━━━━━━━━━━━━━━━\u001b[0m\u001b[91m╸\u001b[0m\u001b[90m━━━━━━━━\u001b[0m \u001b[32m2.6/3.3 MB\u001b[0m \u001b[31m91.9 kB/s\u001b[0m eta \u001b[36m0:00:08\u001b[0m\r\u001b[2K   \u001b[91m━━━━━━━━━━━━━━━━━━━━━━━━━━━━━━━━\u001b[0m\u001b[90m╺\u001b[0m\u001b[90m━━━━━━━\u001b[0m \u001b[32m2.7/3.3 MB\u001b[0m \u001b[31m94.3 kB/s\u001b[0m eta \u001b[36m0:00:07\u001b[0m"
                },
                {
                    "output_type": "stream",
                    "name": "stdout",
                    "text": "\r\u001b[2K   \u001b[91m━━━━━━━━━━━━━━━━━━━━━━━━━━━━━━━━\u001b[0m\u001b[91m╸\u001b[0m\u001b[90m━━━━━━━\u001b[0m \u001b[32m2.7/3.3 MB\u001b[0m \u001b[31m95.7 kB/s\u001b[0m eta \u001b[36m0:00:07\u001b[0m"
                },
                {
                    "output_type": "stream",
                    "name": "stdout",
                    "text": "\r\u001b[2K   \u001b[91m━━━━━━━━━━━━━━━━━━━━━━━━━━━━━━━━━\u001b[0m\u001b[90m╺\u001b[0m\u001b[90m━━━━━━\u001b[0m \u001b[32m2.7/3.3 MB\u001b[0m \u001b[31m95.8 kB/s\u001b[0m eta \u001b[36m0:00:06\u001b[0m"
                },
                {
                    "output_type": "stream",
                    "name": "stdout",
                    "text": "\r\u001b[2K   \u001b[91m━━━━━━━━━━━━━━━━━━━━━━━━━━━━━━━━━\u001b[0m\u001b[90m╺\u001b[0m\u001b[90m━━━━━━\u001b[0m \u001b[32m2.8/3.3 MB\u001b[0m \u001b[31m96.5 kB/s\u001b[0m eta \u001b[36m0:00:06\u001b[0m\r\u001b[2K   \u001b[91m━━━━━━━━━━━━━━━━━━━━━━━━━━━━━━━━━\u001b[0m\u001b[90m╺\u001b[0m\u001b[90m━━━━━━\u001b[0m \u001b[32m2.8/3.3 MB\u001b[0m \u001b[31m96.5 kB/s\u001b[0m eta \u001b[36m0:00:06\u001b[0m"
                },
                {
                    "output_type": "stream",
                    "name": "stdout",
                    "text": "\r\u001b[2K   \u001b[91m━━━━━━━━━━━━━━━━━━━━━━━━━━━━━━━━━\u001b[0m\u001b[90m╺\u001b[0m\u001b[90m━━━━━━\u001b[0m \u001b[32m2.8/3.3 MB\u001b[0m \u001b[31m96.5 kB/s\u001b[0m eta \u001b[36m0:00:06\u001b[0m"
                },
                {
                    "output_type": "stream",
                    "name": "stdout",
                    "text": "\r\u001b[2K   \u001b[91m━━━━━━━━━━━━━━━━━━━━━━━━━━━━━━━━━\u001b[0m\u001b[90m╺\u001b[0m\u001b[90m━━━━━━\u001b[0m \u001b[32m2.8/3.3 MB\u001b[0m \u001b[31m96.5 kB/s\u001b[0m eta \u001b[36m0:00:06\u001b[0m\r\u001b[2K   \u001b[91m━━━━━━━━━━━━━━━━━━━━━━━━━━━━━━━━━\u001b[0m\u001b[90m╺\u001b[0m\u001b[90m━━━━━━\u001b[0m \u001b[32m2.8/3.3 MB\u001b[0m \u001b[31m96.5 kB/s\u001b[0m eta \u001b[36m0:00:06\u001b[0m"
                },
                {
                    "output_type": "stream",
                    "name": "stdout",
                    "text": "\r\u001b[2K   \u001b[91m━━━━━━━━━━━━━━━━━━━━━━━━━━━━━━━━━\u001b[0m\u001b[90m╺\u001b[0m\u001b[90m━━━━━━\u001b[0m \u001b[32m2.8/3.3 MB\u001b[0m \u001b[31m96.5 kB/s\u001b[0m eta \u001b[36m0:00:06\u001b[0m"
                },
                {
                    "output_type": "stream",
                    "name": "stdout",
                    "text": "\r\u001b[2K   \u001b[91m━━━━━━━━━━━━━━━━━━━━━━━━━━━━━━━━━\u001b[0m\u001b[90m╺\u001b[0m\u001b[90m━━━━━━\u001b[0m \u001b[32m2.8/3.3 MB\u001b[0m \u001b[31m96.5 kB/s\u001b[0m eta \u001b[36m0:00:06\u001b[0m"
                },
                {
                    "output_type": "stream",
                    "name": "stdout",
                    "text": "\r\u001b[2K   \u001b[91m━━━━━━━━━━━━━━━━━━━━━━━━━━━━━━━━━\u001b[0m\u001b[90m╺\u001b[0m\u001b[90m━━━━━━\u001b[0m \u001b[32m2.8/3.3 MB\u001b[0m \u001b[31m96.5 kB/s\u001b[0m eta \u001b[36m0:00:06\u001b[0m\r\u001b[2K   \u001b[91m━━━━━━━━━━━━━━━━━━━━━━━━━━━━━━━━━\u001b[0m\u001b[90m╺\u001b[0m\u001b[90m━━━━━━\u001b[0m \u001b[32m2.8/3.3 MB\u001b[0m \u001b[31m96.5 kB/s\u001b[0m eta \u001b[36m0:00:06\u001b[0m"
                },
                {
                    "output_type": "stream",
                    "name": "stdout",
                    "text": "\r\u001b[2K   \u001b[91m━━━━━━━━━━━━━━━━━━━━━━━━━━━━━━━━━\u001b[0m\u001b[91m╸\u001b[0m\u001b[90m━━━━━━\u001b[0m \u001b[32m2.8/3.3 MB\u001b[0m \u001b[31m96.4 kB/s\u001b[0m eta \u001b[36m0:00:06\u001b[0m"
                },
                {
                    "output_type": "stream",
                    "name": "stdout",
                    "text": "\r\u001b[2K   \u001b[91m━━━━━━━━━━━━━━━━━━━━━━━━━━━━━━━━━\u001b[0m\u001b[91m╸\u001b[0m\u001b[90m━━━━━━\u001b[0m \u001b[32m2.8/3.3 MB\u001b[0m \u001b[31m96.4 kB/s\u001b[0m eta \u001b[36m0:00:06\u001b[0m\r\u001b[2K   \u001b[91m━━━━━━━━━━━━━━━━━━━━━━━━━━━━━━━━━━\u001b[0m\u001b[90m╺\u001b[0m\u001b[90m━━━━━\u001b[0m \u001b[32m2.8/3.3 MB\u001b[0m \u001b[31m97.2 kB/s\u001b[0m eta \u001b[36m0:00:06\u001b[0m"
                },
                {
                    "output_type": "stream",
                    "name": "stdout",
                    "text": "\r\u001b[2K   \u001b[91m━━━━━━━━━━━━━━━━━━━━━━━━━━━━━━━━━━\u001b[0m\u001b[90m╺\u001b[0m\u001b[90m━━━━━\u001b[0m \u001b[32m2.8/3.3 MB\u001b[0m \u001b[31m97.2 kB/s\u001b[0m eta \u001b[36m0:00:06\u001b[0m"
                },
                {
                    "output_type": "stream",
                    "name": "stdout",
                    "text": "\r\u001b[2K   \u001b[91m━━━━━━━━━━━━━━━━━━━━━━━━━━━━━━━━━━\u001b[0m\u001b[90m╺\u001b[0m\u001b[90m━━━━━\u001b[0m \u001b[32m2.8/3.3 MB\u001b[0m \u001b[31m97.2 kB/s\u001b[0m eta \u001b[36m0:00:06\u001b[0m"
                },
                {
                    "output_type": "stream",
                    "name": "stdout",
                    "text": "\r\u001b[2K   \u001b[91m━━━━━━━━━━━━━━━━━━━━━━━━━━━━━━━━━━\u001b[0m\u001b[91m╸\u001b[0m\u001b[90m━━━━━\u001b[0m \u001b[32m2.9/3.3 MB\u001b[0m \u001b[31m99.3 kB/s\u001b[0m eta \u001b[36m0:00:05\u001b[0m\r\u001b[2K   \u001b[91m━━━━━━━━━━━━━━━━━━━━━━━━━━━━━━━━━━━\u001b[0m\u001b[90m╺\u001b[0m\u001b[90m━━━━\u001b[0m \u001b[32m2.9/3.3 MB\u001b[0m \u001b[31m99.5 kB/s\u001b[0m eta \u001b[36m0:00:05\u001b[0m"
                },
                {
                    "output_type": "stream",
                    "name": "stdout",
                    "text": "\r\u001b[2K   \u001b[91m━━━━━━━━━━━━━━━━━━━━━━━━━━━━━━━━━━━\u001b[0m\u001b[90m╺\u001b[0m\u001b[90m━━━━\u001b[0m \u001b[32m2.9/3.3 MB\u001b[0m \u001b[31m100.5 kB/s\u001b[0m eta \u001b[36m0:00:04\u001b[0m"
                },
                {
                    "output_type": "stream",
                    "name": "stdout",
                    "text": "\r\u001b[2K   \u001b[91m━━━━━━━━━━━━━━━━━━━━━━━━━━━━━━━━━━━\u001b[0m\u001b[91m╸\u001b[0m\u001b[90m━━━━\u001b[0m \u001b[32m3.0/3.3 MB\u001b[0m \u001b[31m101.7 kB/s\u001b[0m eta \u001b[36m0:00:04\u001b[0m\r\u001b[2K   \u001b[91m━━━━━━━━━━━━━━━━━━━━━━━━━━━━━━━━━━━━\u001b[0m\u001b[90m╺\u001b[0m\u001b[90m━━━\u001b[0m \u001b[32m3.0/3.3 MB\u001b[0m \u001b[31m102.6 kB/s\u001b[0m eta \u001b[36m0:00:04\u001b[0m"
                },
                {
                    "output_type": "stream",
                    "name": "stdout",
                    "text": "\r\u001b[2K   \u001b[91m━━━━━━━━━━━━━━━━━━━━━━━━━━━━━━━━━━━━\u001b[0m\u001b[91m╸\u001b[0m\u001b[90m━━━\u001b[0m \u001b[32m3.1/3.3 MB\u001b[0m \u001b[31m104.2 kB/s\u001b[0m eta \u001b[36m0:00:03\u001b[0m"
                },
                {
                    "output_type": "stream",
                    "name": "stdout",
                    "text": "\r\u001b[2K   \u001b[91m━━━━━━━━━━━━━━━━━━━━━━━━━━━━━━━━━━━━━\u001b[0m\u001b[90m╺\u001b[0m\u001b[90m━━\u001b[0m \u001b[32m3.1/3.3 MB\u001b[0m \u001b[31m105.5 kB/s\u001b[0m eta \u001b[36m0:00:03\u001b[0m"
                },
                {
                    "output_type": "stream",
                    "name": "stdout",
                    "text": "\r\u001b[2K   \u001b[91m━━━━━━━━━━━━━━━━━━━━━━━━━━━━━━━━━━━━━━\u001b[0m\u001b[90m╺\u001b[0m\u001b[90m━\u001b[0m \u001b[32m3.2/3.3 MB\u001b[0m \u001b[31m107.1 kB/s\u001b[0m eta \u001b[36m0:00:02\u001b[0m\r\u001b[2K   \u001b[91m━━━━━━━━━━━━━━━━━━━━━━━━━━━━━━━━━━━━━━\u001b[0m\u001b[90m╺\u001b[0m\u001b[90m━\u001b[0m \u001b[32m3.2/3.3 MB\u001b[0m \u001b[31m108.0 kB/s\u001b[0m eta \u001b[36m0:00:02\u001b[0m"
                },
                {
                    "output_type": "stream",
                    "name": "stdout",
                    "text": "\r\u001b[2K   \u001b[91m━━━━━━━━━━━━━━━━━━━━━━━━━━━━━━━━━━━━━━\u001b[0m\u001b[91m╸\u001b[0m\u001b[90m━\u001b[0m \u001b[32m3.2/3.3 MB\u001b[0m \u001b[31m108.6 kB/s\u001b[0m eta \u001b[36m0:00:02\u001b[0m"
                },
                {
                    "output_type": "stream",
                    "name": "stdout",
                    "text": "\r\u001b[2K   \u001b[91m━━━━━━━━━━━━━━━━━━━━━━━━━━━━━━━━━━━━━━\u001b[0m\u001b[91m╸\u001b[0m\u001b[90m━\u001b[0m \u001b[32m3.2/3.3 MB\u001b[0m \u001b[31m108.6 kB/s\u001b[0m eta \u001b[36m0:00:02\u001b[0m\r\u001b[2K   \u001b[91m━━━━━━━━━━━━━━━━━━━━━━━━━━━━━━━━━━━━━━\u001b[0m\u001b[91m╸\u001b[0m\u001b[90m━\u001b[0m \u001b[32m3.2/3.3 MB\u001b[0m \u001b[31m109.0 kB/s\u001b[0m eta \u001b[36m0:00:01\u001b[0m"
                },
                {
                    "output_type": "stream",
                    "name": "stdout",
                    "text": "\r\u001b[2K   \u001b[91m━━━━━━━━━━━━━━━━━━━━━━━━━━━━━━━━━━━━━━━\u001b[0m\u001b[90m╺\u001b[0m \u001b[32m3.2/3.3 MB\u001b[0m \u001b[31m109.2 kB/s\u001b[0m eta \u001b[36m0:00:01\u001b[0m"
                },
                {
                    "output_type": "stream",
                    "name": "stdout",
                    "text": "\r\u001b[2K   \u001b[91m━━━━━━━━━━━━━━━━━━━━━━━━━━━━━━━━━━━━━━━\u001b[0m\u001b[90m╺\u001b[0m \u001b[32m3.3/3.3 MB\u001b[0m \u001b[31m110.1 kB/s\u001b[0m eta \u001b[36m0:00:01\u001b[0m\r\u001b[2K   \u001b[91m━━━━━━━━━━━━━━━━━━━━━━━━━━━━━━━━━━━━━━━\u001b[0m\u001b[91m╸\u001b[0m \u001b[32m3.3/3.3 MB\u001b[0m \u001b[31m110.7 kB/s\u001b[0m eta \u001b[36m0:00:01\u001b[0m"
                },
                {
                    "output_type": "stream",
                    "name": "stdout",
                    "text": "\r\u001b[2K   \u001b[91m━━━━━━━━━━━━━━━━━━━━━━━━━━━━━━━━━━━━━━━\u001b[0m\u001b[91m╸\u001b[0m \u001b[32m3.3/3.3 MB\u001b[0m \u001b[31m110.7 kB/s\u001b[0m eta \u001b[36m0:00:01\u001b[0m"
                },
                {
                    "output_type": "stream",
                    "name": "stdout",
                    "text": "\r\u001b[2K   \u001b[91m━━━━━━━━━━━━━━━━━━━━━━━━━━━━━━━━━━━━━━━\u001b[0m\u001b[91m╸\u001b[0m \u001b[32m3.3/3.3 MB\u001b[0m \u001b[31m110.7 kB/s\u001b[0m eta \u001b[36m0:00:01\u001b[0m"
                },
                {
                    "output_type": "stream",
                    "name": "stdout",
                    "text": "\r\u001b[2K   \u001b[91m━━━━━━━━━━━━━━━━━━━━━━━━━━━━━━━━━━━━━━━\u001b[0m\u001b[91m╸\u001b[0m \u001b[32m3.3/3.3 MB\u001b[0m \u001b[31m111.2 kB/s\u001b[0m eta \u001b[36m0:00:01\u001b[0m\r\u001b[2K   \u001b[90m━━━━━━━━━━━━━━━━━━━━━━━━━━━━━━━━━━━━━━━━\u001b[0m \u001b[32m3.3/3.3 MB\u001b[0m \u001b[31m111.2 kB/s\u001b[0m eta \u001b[36m0:00:00\u001b[0m\r\n\u001b[?25hDownloading pyparsing-3.1.1-py3-none-any.whl (103 kB)\r\n"
                },
                {
                    "output_type": "stream",
                    "name": "stdout",
                    "text": "\u001b[?25l   \u001b[90m━━━━━━━━━━━━━━━━━━━━━━━━━━━━━━━━━━━━━━━━\u001b[0m \u001b[32m0.0/103.1 kB\u001b[0m \u001b[31m?\u001b[0m eta \u001b[36m-:--:--\u001b[0m\r\u001b[2K   \u001b[90m━━━━━━━━━━━━━━━━━━━━━━━━━━━━━━━━━━━━━━━━\u001b[0m \u001b[32m0.0/103.1 kB\u001b[0m \u001b[31m?\u001b[0m eta \u001b[36m-:--:--\u001b[0m"
                },
                {
                    "output_type": "stream",
                    "name": "stdout",
                    "text": "\r\u001b[2K   \u001b[90m━━━━━━━━━━━━━━━━━━━━━━━━━━━━━━━━━━━━━━━━\u001b[0m \u001b[32m0.0/103.1 kB\u001b[0m \u001b[31m?\u001b[0m eta \u001b[36m-:--:--\u001b[0m"
                },
                {
                    "output_type": "stream",
                    "name": "stdout",
                    "text": "\r\u001b[2K   \u001b[91m━━━━━━━━━━━━━━━━━━━━━━━\u001b[0m\u001b[91m╸\u001b[0m\u001b[90m━━━━━━━━━━━━━━━━\u001b[0m \u001b[32m61.4/103.1 kB\u001b[0m \u001b[31m3.5 MB/s\u001b[0m eta \u001b[36m0:00:01\u001b[0m\r\u001b[2K   \u001b[91m━━━━━━━━━━━━━━━━━━━━━━━\u001b[0m\u001b[91m╸\u001b[0m\u001b[90m━━━━━━━━━━━━━━━━\u001b[0m \u001b[32m61.4/103.1 kB\u001b[0m \u001b[31m3.5 MB/s\u001b[0m eta \u001b[36m0:00:01\u001b[0m"
                },
                {
                    "output_type": "stream",
                    "name": "stdout",
                    "text": "\r\u001b[2K   \u001b[91m━━━━━━━━━━━━━━━━━━━━━━━━━━━━━━━━━━━━━━\u001b[0m\u001b[91m╸\u001b[0m \u001b[32m102.4/103.1 kB\u001b[0m \u001b[31m854.7 kB/s\u001b[0m eta \u001b[36m0:00:01\u001b[0m\r\u001b[2K   \u001b[90m━━━━━━━━━━━━━━━━━━━━━━━━━━━━━━━━━━━━━━━\u001b[0m \u001b[32m103.1/103.1 kB\u001b[0m \u001b[31m803.1 kB/s\u001b[0m eta \u001b[36m0:00:00\u001b[0m\r\n\u001b[?25h"
                },
                {
                    "output_type": "stream",
                    "name": "stdout",
                    "text": "Installing collected packages: pyparsing, pillow, kiwisolver, fonttools, cycler, contourpy, matplotlib, seaborn\r\n"
                },
                {
                    "output_type": "stream",
                    "name": "stdout",
                    "text": "Successfully installed contourpy-1.2.0 cycler-0.12.1 fonttools-4.47.0 kiwisolver-1.4.5 matplotlib-3.8.2 pillow-10.2.0 pyparsing-3.1.1 seaborn-0.13.1\r\n"
                },
                {
                    "output_type": "stream",
                    "name": "stdout",
                    "text": "Requirement already satisfied: matplotlib in /Library/Frameworks/Python.framework/Versions/3.11/lib/python3.11/site-packages (3.8.2)\r\nRequirement already satisfied: contourpy>=1.0.1 in /Library/Frameworks/Python.framework/Versions/3.11/lib/python3.11/site-packages (from matplotlib) (1.2.0)\r\nRequirement already satisfied: cycler>=0.10 in /Library/Frameworks/Python.framework/Versions/3.11/lib/python3.11/site-packages (from matplotlib) (0.12.1)\r\n"
                },
                {
                    "output_type": "stream",
                    "name": "stdout",
                    "text": "Requirement already satisfied: fonttools>=4.22.0 in /Library/Frameworks/Python.framework/Versions/3.11/lib/python3.11/site-packages (from matplotlib) (4.47.0)\r\nRequirement already satisfied: kiwisolver>=1.3.1 in /Library/Frameworks/Python.framework/Versions/3.11/lib/python3.11/site-packages (from matplotlib) (1.4.5)\r\nRequirement already satisfied: numpy<2,>=1.21 in /Library/Frameworks/Python.framework/Versions/3.11/lib/python3.11/site-packages (from matplotlib) (1.26.3)\r\nRequirement already satisfied: packaging>=20.0 in /Users/mohauramasedi/Library/Python/3.11/lib/python/site-packages (from matplotlib) (23.2)\r\nRequirement already satisfied: pillow>=8 in /Library/Frameworks/Python.framework/Versions/3.11/lib/python3.11/site-packages (from matplotlib) (10.2.0)\r\nRequirement already satisfied: pyparsing>=2.3.1 in /Library/Frameworks/Python.framework/Versions/3.11/lib/python3.11/site-packages (from matplotlib) (3.1.1)\r\nRequirement already satisfied: python-dateutil>=2.7 in /Users/mohauramasedi/Library/Python/3.11/lib/python/site-packages (from matplotlib) (2.8.2)\r\n"
                },
                {
                    "output_type": "stream",
                    "name": "stdout",
                    "text": "Requirement already satisfied: six>=1.5 in /Users/mohauramasedi/Library/Python/3.11/lib/python/site-packages (from python-dateutil>=2.7->matplotlib) (1.16.0)\r\n"
                }
            ],
            "execution_count": 52
        },
        {
            "cell_type": "code",
            "source": [
                "#then I instal seaborn and matplotlib\n",
                "\n",
                "import  matplotlib.pyplot as pyplot\n",
                "import seaborn as sns"
            ],
            "metadata": {
                "azdata_cell_guid": "1ec5aa09-a0c6-4bdf-aad0-c7cf03ea80c5",
                "language": "python"
            },
            "outputs": [],
            "execution_count": 32
        },
        {
            "cell_type": "code",
            "source": [
                "#I am going to change df1 to outage_av\n",
                "outage_av = df1\n",
                "outage_av\n",
                ""
            ],
            "metadata": {
                "language": "python",
                "azdata_cell_guid": "3b69f4eb-40ba-403a-92f9-e0670d870fa3"
            },
            "outputs": [
                {
                    "data": {
                        "text/plain": "   Date Time Hour Beginning  Min Installed Eskom Capacity  \\\n0                      2019                       43691.0   \n1                      2020                       44926.0   \n2                      2021                       45646.0   \n3                      2022                       46686.0   \n4                      2023                       46686.0   \n5                      2024                           NaN   \n\n   Max Installed Eskom Capacity  Min Total PCLF  Max Total PCLF  \\\n0                       45017.0         695.777        8127.000   \n1                       45646.0         895.000       11289.417   \n2                       47049.0        1273.000        9601.000   \n3                       47520.0        1018.000        8997.000   \n4                       46686.0        1814.000        8405.000   \n5                           NaN             NaN             NaN   \n\n   Min Total UCLF  Max Total UCLF  Min Total OCLF  Max Total OCLF  \\\n0        5180.671       15657.814         184.995        2910.620   \n1        4670.626       15657.494         235.900        2877.000   \n2        6711.474       16661.081         360.000        2960.157   \n3        9668.405       19168.607          78.025        5219.432   \n4       11407.476       19504.578         118.500        4178.900   \n5             NaN             NaN             NaN             NaN   \n\n   Min Total UCLF+OCLF  Max Total UCLF+OCLF  Min Non Comm Sentout  \\\n0               5658.0              17363.0                   1.0   \n1               6545.0              16652.0                   0.0   \n2               7631.0              17735.0                   0.0   \n3              10144.0              19938.0                   0.0   \n4              11922.0              21535.0                   0.0   \n5                  NaN                  NaN                   NaN   \n\n   Max Non Comm Sentout  \n0                1922.0  \n1                1423.0  \n2                1268.0  \n3                 999.0  \n4                 999.0  \n5                   NaN  ",
                        "text/html": "<div>\n<style scoped>\n    .dataframe tbody tr th:only-of-type {\n        vertical-align: middle;\n    }\n\n    .dataframe tbody tr th {\n        vertical-align: top;\n    }\n\n    .dataframe thead th {\n        text-align: right;\n    }\n</style>\n<table border=\"1\" class=\"dataframe\">\n  <thead>\n    <tr style=\"text-align: right;\">\n      <th></th>\n      <th>Date Time Hour Beginning</th>\n      <th>Min Installed Eskom Capacity</th>\n      <th>Max Installed Eskom Capacity</th>\n      <th>Min Total PCLF</th>\n      <th>Max Total PCLF</th>\n      <th>Min Total UCLF</th>\n      <th>Max Total UCLF</th>\n      <th>Min Total OCLF</th>\n      <th>Max Total OCLF</th>\n      <th>Min Total UCLF+OCLF</th>\n      <th>Max Total UCLF+OCLF</th>\n      <th>Min Non Comm Sentout</th>\n      <th>Max Non Comm Sentout</th>\n    </tr>\n  </thead>\n  <tbody>\n    <tr>\n      <th>0</th>\n      <td>2019</td>\n      <td>43691.0</td>\n      <td>45017.0</td>\n      <td>695.777</td>\n      <td>8127.000</td>\n      <td>5180.671</td>\n      <td>15657.814</td>\n      <td>184.995</td>\n      <td>2910.620</td>\n      <td>5658.0</td>\n      <td>17363.0</td>\n      <td>1.0</td>\n      <td>1922.0</td>\n    </tr>\n    <tr>\n      <th>1</th>\n      <td>2020</td>\n      <td>44926.0</td>\n      <td>45646.0</td>\n      <td>895.000</td>\n      <td>11289.417</td>\n      <td>4670.626</td>\n      <td>15657.494</td>\n      <td>235.900</td>\n      <td>2877.000</td>\n      <td>6545.0</td>\n      <td>16652.0</td>\n      <td>0.0</td>\n      <td>1423.0</td>\n    </tr>\n    <tr>\n      <th>2</th>\n      <td>2021</td>\n      <td>45646.0</td>\n      <td>47049.0</td>\n      <td>1273.000</td>\n      <td>9601.000</td>\n      <td>6711.474</td>\n      <td>16661.081</td>\n      <td>360.000</td>\n      <td>2960.157</td>\n      <td>7631.0</td>\n      <td>17735.0</td>\n      <td>0.0</td>\n      <td>1268.0</td>\n    </tr>\n    <tr>\n      <th>3</th>\n      <td>2022</td>\n      <td>46686.0</td>\n      <td>47520.0</td>\n      <td>1018.000</td>\n      <td>8997.000</td>\n      <td>9668.405</td>\n      <td>19168.607</td>\n      <td>78.025</td>\n      <td>5219.432</td>\n      <td>10144.0</td>\n      <td>19938.0</td>\n      <td>0.0</td>\n      <td>999.0</td>\n    </tr>\n    <tr>\n      <th>4</th>\n      <td>2023</td>\n      <td>46686.0</td>\n      <td>46686.0</td>\n      <td>1814.000</td>\n      <td>8405.000</td>\n      <td>11407.476</td>\n      <td>19504.578</td>\n      <td>118.500</td>\n      <td>4178.900</td>\n      <td>11922.0</td>\n      <td>21535.0</td>\n      <td>0.0</td>\n      <td>999.0</td>\n    </tr>\n    <tr>\n      <th>5</th>\n      <td>2024</td>\n      <td>NaN</td>\n      <td>NaN</td>\n      <td>NaN</td>\n      <td>NaN</td>\n      <td>NaN</td>\n      <td>NaN</td>\n      <td>NaN</td>\n      <td>NaN</td>\n      <td>NaN</td>\n      <td>NaN</td>\n      <td>NaN</td>\n      <td>NaN</td>\n    </tr>\n  </tbody>\n</table>\n</div>"
                    },
                    "metadata": {},
                    "execution_count": 29,
                    "output_type": "execute_result"
                }
            ],
            "execution_count": 29
        },
        {
            "cell_type": "code",
            "source": [
                "#then I am going to load another data set, the inflation of staples\n",
                "# I will load the CPPI history data\n",
                "\n",
                "cpi_history = '/Users/mohauramasedi/Library/CloudStorage/OneDrive-Personal/Data Analysis Projects/South African Economy Based On Loadshedding/Food Prices/Food prices/cpi history.xlsx'\n",
                "\n",
                "#I will read the data using the pd previously imported and assign it to variable cpi\n",
                "cpi = pd.read_excel(cpi_history)\n",
                "cpi"
            ],
            "metadata": {
                "language": "python",
                "azdata_cell_guid": "6d2ec9c0-6b01-4bf4-8e0a-1d6be695e539"
            },
            "outputs": [
                {
                    "data": {
                        "text/plain": "   Year    Jan    Feb    Mar    Apr    May    Jun    Jul    Aug    Sep    Oct  \\\n0  2019   87.9   88.6   89.4   89.9   90.2   90.5   90.8   91.1   91.3   91.3   \n1  2020   91.9   92.8   93.1   92.6   92.0   92.5   93.7   93.9   94.0   94.3   \n2  2021   94.8   95.4   96.1   96.7   96.8   97.0   98.1   98.5   98.7   99.0   \n3  2022  100.2  100.8  101.8  102.4  103.1  104.2  105.8  106.0  106.1  106.5   \n4  2023  107.1  107.9  109.0  109.4  109.6  109.8  110.8  111.1  111.8  112.8   \n\n     Nov    Dec  Average  \n0   91.4   91.6     90.3  \n1   94.3   94.4     93.3  \n2   99.4  100.0     97.5  \n3  106.8  107.2    104.2  \n4  112.7    0.0    101.0  ",
                        "text/html": "<div>\n<style scoped>\n    .dataframe tbody tr th:only-of-type {\n        vertical-align: middle;\n    }\n\n    .dataframe tbody tr th {\n        vertical-align: top;\n    }\n\n    .dataframe thead th {\n        text-align: right;\n    }\n</style>\n<table border=\"1\" class=\"dataframe\">\n  <thead>\n    <tr style=\"text-align: right;\">\n      <th></th>\n      <th>Year</th>\n      <th>Jan</th>\n      <th>Feb</th>\n      <th>Mar</th>\n      <th>Apr</th>\n      <th>May</th>\n      <th>Jun</th>\n      <th>Jul</th>\n      <th>Aug</th>\n      <th>Sep</th>\n      <th>Oct</th>\n      <th>Nov</th>\n      <th>Dec</th>\n      <th>Average</th>\n    </tr>\n  </thead>\n  <tbody>\n    <tr>\n      <th>0</th>\n      <td>2019</td>\n      <td>87.9</td>\n      <td>88.6</td>\n      <td>89.4</td>\n      <td>89.9</td>\n      <td>90.2</td>\n      <td>90.5</td>\n      <td>90.8</td>\n      <td>91.1</td>\n      <td>91.3</td>\n      <td>91.3</td>\n      <td>91.4</td>\n      <td>91.6</td>\n      <td>90.3</td>\n    </tr>\n    <tr>\n      <th>1</th>\n      <td>2020</td>\n      <td>91.9</td>\n      <td>92.8</td>\n      <td>93.1</td>\n      <td>92.6</td>\n      <td>92.0</td>\n      <td>92.5</td>\n      <td>93.7</td>\n      <td>93.9</td>\n      <td>94.0</td>\n      <td>94.3</td>\n      <td>94.3</td>\n      <td>94.4</td>\n      <td>93.3</td>\n    </tr>\n    <tr>\n      <th>2</th>\n      <td>2021</td>\n      <td>94.8</td>\n      <td>95.4</td>\n      <td>96.1</td>\n      <td>96.7</td>\n      <td>96.8</td>\n      <td>97.0</td>\n      <td>98.1</td>\n      <td>98.5</td>\n      <td>98.7</td>\n      <td>99.0</td>\n      <td>99.4</td>\n      <td>100.0</td>\n      <td>97.5</td>\n    </tr>\n    <tr>\n      <th>3</th>\n      <td>2022</td>\n      <td>100.2</td>\n      <td>100.8</td>\n      <td>101.8</td>\n      <td>102.4</td>\n      <td>103.1</td>\n      <td>104.2</td>\n      <td>105.8</td>\n      <td>106.0</td>\n      <td>106.1</td>\n      <td>106.5</td>\n      <td>106.8</td>\n      <td>107.2</td>\n      <td>104.2</td>\n    </tr>\n    <tr>\n      <th>4</th>\n      <td>2023</td>\n      <td>107.1</td>\n      <td>107.9</td>\n      <td>109.0</td>\n      <td>109.4</td>\n      <td>109.6</td>\n      <td>109.8</td>\n      <td>110.8</td>\n      <td>111.1</td>\n      <td>111.8</td>\n      <td>112.8</td>\n      <td>112.7</td>\n      <td>0.0</td>\n      <td>101.0</td>\n    </tr>\n  </tbody>\n</table>\n</div>"
                    },
                    "metadata": {},
                    "execution_count": 54,
                    "output_type": "execute_result"
                }
            ],
            "execution_count": 54
        },
        {
            "cell_type": "code",
            "source": [
                "# I will then assess the data\n",
                "\n",
                "print(cpi.head())\n",
                "print(cpi.info())\n",
                "print(cpi.describe())"
            ],
            "metadata": {
                "azdata_cell_guid": "fdfa4560-f228-4ca9-9e92-dd0b5f561211",
                "language": "python"
            },
            "outputs": [
                {
                    "name": "stdout",
                    "text": "   Year  Jan  Feb  Mar  Apr  May  Jun  Jul  Aug  Sep  Oct  Nov  Dec  Average\n0  1980  3.2  3.3  3.3  3.3  3.4  3.4  3.5  3.5  3.6  3.7  3.7  3.7      3.5\n1  1981  3.7  3.8  3.8  3.8  3.9  3.9  4.0  4.1  4.2  4.2  4.3  4.3      4.0\n2  1982  4.3  4.3  4.5  4.5  4.5  4.5  4.6  4.6  4.7  4.8  4.8  4.8      4.6\n3  1983  4.8  5.0  5.0  5.0  5.1  5.1  5.2  5.2  5.2  5.3  5.4  5.4      5.1\n4  1984  5.4  5.4  5.5  5.6  5.7  5.7  5.7  5.8  5.9  5.9  6.0  6.1      5.7\n<class 'pandas.core.frame.DataFrame'>\nRangeIndex: 44 entries, 0 to 43\nData columns (total 14 columns):\n #   Column   Non-Null Count  Dtype  \n---  ------   --------------  -----  \n 0   Year     44 non-null     int64  \n 1   Jan      44 non-null     float64\n 2   Feb      44 non-null     float64\n 3   Mar      44 non-null     float64\n 4   Apr      44 non-null     float64\n 5   May      44 non-null     float64\n 6   Jun      44 non-null     float64\n 7   Jul      44 non-null     float64\n 8   Aug      44 non-null     float64\n 9   Sep      44 non-null     float64\n 10  Oct      44 non-null     float64\n 11  Nov      44 non-null     float64\n 12  Dec      44 non-null     float64\n 13  Average  44 non-null     float64\ndtypes: float64(13), int64(1)\nmemory usage: 4.9 KB\nNone\n              Year         Jan         Feb         Mar         Apr  \\\ncount    44.000000   44.000000   44.000000   44.000000   44.000000   \nmean   2001.500000   40.600000   46.272727   41.245455   41.500000   \nstd      12.845233   30.491913   45.480286   31.000506   31.098336   \nmin    1980.000000    3.200000    3.300000    3.300000    3.300000   \n25%    1990.750000   14.225000   14.400000   14.450000   14.700000   \n50%    2001.500000   34.100000   37.100000   34.550000   34.950000   \n75%    2012.250000   62.325000   66.375000   63.425000   63.700000   \nmax    2023.000000  107.100000  264.000000  109.000000  109.400000   \n\n              May         Jun         Jul         Aug         Sep         Oct  \\\ncount   44.000000   44.000000   44.000000   44.000000   44.000000   44.000000   \nmean    47.118182   41.802273   42.190909   42.325000   42.504545   42.668182   \nstd     46.206615   31.251668   31.541857   31.572789   31.633710   31.732939   \nmin      3.400000    3.400000    3.500000    3.500000    3.600000    3.700000   \n25%     14.900000   14.975000   15.175000   15.375000   15.550000   15.825000   \n50%     37.850000   35.350000   35.650000   35.650000   35.900000   36.200000   \n75%     67.300000   63.850000   64.100000   64.300000   64.850000   65.100000   \nmax    269.000000  109.800000  110.800000  111.100000  111.800000  112.800000   \n\n              Nov         Dec     Average  \ncount   44.000000   44.000000   44.000000  \nmean    48.363636   40.309091   44.911364  \nstd     47.050725   30.553878   35.139544  \nmin      3.700000    0.000000    3.500000  \n25%     16.050000   14.050000   16.825000  \n50%     38.600000   33.550000   38.000000  \n75%     68.875000   61.975000   67.800000  \nmax    274.000000  107.200000  157.000000  \n",
                    "output_type": "stream"
                }
            ],
            "execution_count": 22
        },
        {
            "cell_type": "code",
            "source": [
                "cpi"
            ],
            "metadata": {
                "azdata_cell_guid": "b926c2da-09e0-438f-bbdc-28bb73056cbd",
                "language": "python"
            },
            "outputs": [
                {
                    "data": {
                        "text/plain": "    Year    Jan    Feb    Mar    Apr    May    Jun    Jul    Aug    Sep  \\\n0   1980    3.2    3.3    3.3    3.3    3.4    3.4    3.5    3.5    3.6   \n1   1981    3.7    3.8    3.8    3.8    3.9    3.9    4.0    4.1    4.2   \n2   1982    4.3    4.3    4.5    4.5    4.5    4.5    4.6    4.6    4.7   \n3   1983    4.8    5.0    5.0    5.0    5.1    5.1    5.2    5.2    5.2   \n4   1984    5.4    5.4    5.5    5.6    5.7    5.7    5.7    5.8    5.9   \n5   1985    6.1    6.3    6.3    6.5    6.6    6.7    6.7    6.8    6.8   \n6   1986    7.4    7.4    7.6    7.7    7.7    7.8    7.9    8.1    8.2   \n7   1987    8.6    8.7    8.8    9.0    9.0    9.1    9.2    9.3    9.5   \n8   1988    9.8    9.8   10.0   10.1   10.2   10.3   10.4   10.5   10.7   \n9   1989   11.1   11.2   11.4   11.6   11.8   11.8   11.9   12.1   12.2   \n10  1990   12.8   12.9   13.1   13.2   13.4   13.4   13.6   13.8   13.9   \n11  1991   14.7   14.9   14.9   15.2   15.4   15.5   15.7   15.9   16.1   \n12  1992   17.0   17.2   17.3   17.6   17.6   17.8   18.0   18.2   18.3   \n13  1993   18.7   18.7   19.0   19.4   19.5   19.6   19.8   19.9   20.0   \n14  1994   20.5   20.5   20.7   20.8   20.9   21.0   21.4   21.7   22.0   \n15  1995   22.5   22.6   22.9   23.1   23.2   23.2   23.3   23.4   23.4   \n16  1996   24.0   24.1   24.2   24.4   24.5   24.8   25.0   25.1   25.3   \n17  1997   26.2  264.0   26.5   26.8  269.0   27.0   27.2   27.2   27.4   \n18  1998   27.8   27.8   28.0   28.2   28.3   28.4   29.1   29.4   29.9   \n19  1999   30.2   30.2   30.2   30.3   30.3   30.4   30.4   30.3   30.4   \n20  2000   31.1   30.9   31.3   31.6   31.8   32.0   32.3   32.4   32.5   \n21  2001   33.3   33.3   33.5   33.7   33.8   34.0   34.0   33.9   34.0   \n22  2002   34.9   35.3   35.6   36.2   36.4   36.7   37.3   37.4   37.8   \n23  2003   38.9   38.9   39.3   39.4   39.3   39.2   39.2   39.3   39.2   \n24  2004   39.0   39.2   39.5   39.5   39.5   39.6   39.8   39.8   39.8   \n25  2005   40.2   40.2   40.6   40.8   40.8   40.7   41.1   41.3   41.5   \n26  2006   41.7   41.8   42.0   42.2   42.4   42.7   43.2   43.5   43.6   \n27  2007   44.2   44.2   44.6   45.1   45.4   45.8   46.2   46.4   46.8   \n28  2008   48.3   48.5   49.3   50.2   50.7   51.4   52.4   52.8   52.9   \n29  2009   52.6   53.1   53.8   54.1   54.3   54.6   55.1   55.3   55.5   \n30  2010   55.8   56.2   56.6   56.7   56.8   56.8   57.2   57.2   57.3   \n31  2011   57.9   58.2   58.9   59.1   59.4   59.7   60.2   60.3   60.6   \n32  2012   61.5   61.8   62.5   62.8   62.8   63.0   63.1   63.3   63.9   \n33  2013   64.8   65.4   66.2   66.4   66.2   66.4   67.1   67.3   67.7   \n34  2014   68.5   69.3   70.2   70.5   70.6   70.8   71.4   71.7   71.7   \n35  2015   71.5   72.0   73.0   73.7   73.9   74.2   75.0   75.0   75.0   \n36  2016   76.0   77.0   77.6   78.3   78.4   78.8   79.5   79.4   79.5   \n37  2017   81.0   81.9   82.4   82.4   82.7   82.9   83.1   83.2   83.6   \n38  2018   84.5   85.2   85.5   86.2   86.3   86.6   87.4   87.3   87.7   \n39  2019   87.9   88.6   89.4   89.9   90.2   90.5   90.8   91.1   91.3   \n40  2020   91.9   92.8   93.1   92.6   92.0   92.5   93.7   93.9   94.0   \n41  2021   94.8   95.4   96.1   96.7   96.8   97.0   98.1   98.5   98.7   \n42  2022  100.2  100.8  101.8  102.4  103.1  104.2  105.8  106.0  106.1   \n43  2023  107.1  107.9  109.0  109.4  109.6  109.8  110.8  111.1  111.8   \n\n      Oct    Nov    Dec  Average  \n0     3.7    3.7    3.7      3.5  \n1     4.2    4.3    4.3      4.0  \n2     4.8    4.8    4.8      4.6  \n3     5.3    5.4    5.4      5.1  \n4     5.9    6.0    6.1      5.7  \n5     6.9    7.0    7.2      6.7  \n6     8.3    8.4    8.5      7.9  \n7     9.6    9.7    9.7      9.2  \n8    10.8   10.8   11.0     10.4  \n9    12.3   12.5   12.7     11.9  \n10   14.1   14.4   14.5     13.6  \n11   16.4   16.6   16.8    157.0  \n12   18.3   18.5   18.5     17.9  \n13   20.1   20.1   20.2     19.6  \n14   22.1   22.1   22.1     21.3  \n15   23.4   23.6   23.7     23.2  \n16   25.6   25.7   26.0     24.9  \n17   27.5  274.0   27.5     27.0  \n18   30.0   30.0   30.0     28.9  \n19   30.5   30.6   30.7     30.4  \n20   32.7   32.7   32.8     32.0  \n21   34.0   34.2   34.3     33.8  \n22   38.4   38.5   38.5     36.9  \n23   38.9   38.7   38.7     39.1  \n24   39.9   40.1   40.0     39.6  \n25   41.5   41.5   41.5     41.0  \n26   43.7   43.6   43.9     42.9  \n27   47.2   47.4   47.8     45.9  \n28   52.9   52.9   52.4     51.2  \n29   55.5   55.5   55.7     54.6  \n30   57.4   57.5   57.6     56.9  \n31   60.8   61.0   61.1     59.8  \n32   64.2   64.4   64.6     63.1  \n33   67.8   67.9   68.1     66.8  \n34   71.8   71.8   71.7     70.8  \n35   75.2   75.2   75.4     74.1  \n36   79.9   80.2   80.5     78.8  \n37   83.8   83.9   84.3     82.9  \n38   88.1   88.2   88.1     86.8  \n39   91.3   91.4   91.6     90.3  \n40   94.3   94.3   94.4     93.3  \n41   99.0   99.4  100.0     97.5  \n42  106.5  106.8  107.2    104.2  \n43  112.8  112.7    0.0    101.0  ",
                        "text/html": "<div>\n<style scoped>\n    .dataframe tbody tr th:only-of-type {\n        vertical-align: middle;\n    }\n\n    .dataframe tbody tr th {\n        vertical-align: top;\n    }\n\n    .dataframe thead th {\n        text-align: right;\n    }\n</style>\n<table border=\"1\" class=\"dataframe\">\n  <thead>\n    <tr style=\"text-align: right;\">\n      <th></th>\n      <th>Year</th>\n      <th>Jan</th>\n      <th>Feb</th>\n      <th>Mar</th>\n      <th>Apr</th>\n      <th>May</th>\n      <th>Jun</th>\n      <th>Jul</th>\n      <th>Aug</th>\n      <th>Sep</th>\n      <th>Oct</th>\n      <th>Nov</th>\n      <th>Dec</th>\n      <th>Average</th>\n    </tr>\n  </thead>\n  <tbody>\n    <tr>\n      <th>0</th>\n      <td>1980</td>\n      <td>3.2</td>\n      <td>3.3</td>\n      <td>3.3</td>\n      <td>3.3</td>\n      <td>3.4</td>\n      <td>3.4</td>\n      <td>3.5</td>\n      <td>3.5</td>\n      <td>3.6</td>\n      <td>3.7</td>\n      <td>3.7</td>\n      <td>3.7</td>\n      <td>3.5</td>\n    </tr>\n    <tr>\n      <th>1</th>\n      <td>1981</td>\n      <td>3.7</td>\n      <td>3.8</td>\n      <td>3.8</td>\n      <td>3.8</td>\n      <td>3.9</td>\n      <td>3.9</td>\n      <td>4.0</td>\n      <td>4.1</td>\n      <td>4.2</td>\n      <td>4.2</td>\n      <td>4.3</td>\n      <td>4.3</td>\n      <td>4.0</td>\n    </tr>\n    <tr>\n      <th>2</th>\n      <td>1982</td>\n      <td>4.3</td>\n      <td>4.3</td>\n      <td>4.5</td>\n      <td>4.5</td>\n      <td>4.5</td>\n      <td>4.5</td>\n      <td>4.6</td>\n      <td>4.6</td>\n      <td>4.7</td>\n      <td>4.8</td>\n      <td>4.8</td>\n      <td>4.8</td>\n      <td>4.6</td>\n    </tr>\n    <tr>\n      <th>3</th>\n      <td>1983</td>\n      <td>4.8</td>\n      <td>5.0</td>\n      <td>5.0</td>\n      <td>5.0</td>\n      <td>5.1</td>\n      <td>5.1</td>\n      <td>5.2</td>\n      <td>5.2</td>\n      <td>5.2</td>\n      <td>5.3</td>\n      <td>5.4</td>\n      <td>5.4</td>\n      <td>5.1</td>\n    </tr>\n    <tr>\n      <th>4</th>\n      <td>1984</td>\n      <td>5.4</td>\n      <td>5.4</td>\n      <td>5.5</td>\n      <td>5.6</td>\n      <td>5.7</td>\n      <td>5.7</td>\n      <td>5.7</td>\n      <td>5.8</td>\n      <td>5.9</td>\n      <td>5.9</td>\n      <td>6.0</td>\n      <td>6.1</td>\n      <td>5.7</td>\n    </tr>\n    <tr>\n      <th>5</th>\n      <td>1985</td>\n      <td>6.1</td>\n      <td>6.3</td>\n      <td>6.3</td>\n      <td>6.5</td>\n      <td>6.6</td>\n      <td>6.7</td>\n      <td>6.7</td>\n      <td>6.8</td>\n      <td>6.8</td>\n      <td>6.9</td>\n      <td>7.0</td>\n      <td>7.2</td>\n      <td>6.7</td>\n    </tr>\n    <tr>\n      <th>6</th>\n      <td>1986</td>\n      <td>7.4</td>\n      <td>7.4</td>\n      <td>7.6</td>\n      <td>7.7</td>\n      <td>7.7</td>\n      <td>7.8</td>\n      <td>7.9</td>\n      <td>8.1</td>\n      <td>8.2</td>\n      <td>8.3</td>\n      <td>8.4</td>\n      <td>8.5</td>\n      <td>7.9</td>\n    </tr>\n    <tr>\n      <th>7</th>\n      <td>1987</td>\n      <td>8.6</td>\n      <td>8.7</td>\n      <td>8.8</td>\n      <td>9.0</td>\n      <td>9.0</td>\n      <td>9.1</td>\n      <td>9.2</td>\n      <td>9.3</td>\n      <td>9.5</td>\n      <td>9.6</td>\n      <td>9.7</td>\n      <td>9.7</td>\n      <td>9.2</td>\n    </tr>\n    <tr>\n      <th>8</th>\n      <td>1988</td>\n      <td>9.8</td>\n      <td>9.8</td>\n      <td>10.0</td>\n      <td>10.1</td>\n      <td>10.2</td>\n      <td>10.3</td>\n      <td>10.4</td>\n      <td>10.5</td>\n      <td>10.7</td>\n      <td>10.8</td>\n      <td>10.8</td>\n      <td>11.0</td>\n      <td>10.4</td>\n    </tr>\n    <tr>\n      <th>9</th>\n      <td>1989</td>\n      <td>11.1</td>\n      <td>11.2</td>\n      <td>11.4</td>\n      <td>11.6</td>\n      <td>11.8</td>\n      <td>11.8</td>\n      <td>11.9</td>\n      <td>12.1</td>\n      <td>12.2</td>\n      <td>12.3</td>\n      <td>12.5</td>\n      <td>12.7</td>\n      <td>11.9</td>\n    </tr>\n    <tr>\n      <th>10</th>\n      <td>1990</td>\n      <td>12.8</td>\n      <td>12.9</td>\n      <td>13.1</td>\n      <td>13.2</td>\n      <td>13.4</td>\n      <td>13.4</td>\n      <td>13.6</td>\n      <td>13.8</td>\n      <td>13.9</td>\n      <td>14.1</td>\n      <td>14.4</td>\n      <td>14.5</td>\n      <td>13.6</td>\n    </tr>\n    <tr>\n      <th>11</th>\n      <td>1991</td>\n      <td>14.7</td>\n      <td>14.9</td>\n      <td>14.9</td>\n      <td>15.2</td>\n      <td>15.4</td>\n      <td>15.5</td>\n      <td>15.7</td>\n      <td>15.9</td>\n      <td>16.1</td>\n      <td>16.4</td>\n      <td>16.6</td>\n      <td>16.8</td>\n      <td>157.0</td>\n    </tr>\n    <tr>\n      <th>12</th>\n      <td>1992</td>\n      <td>17.0</td>\n      <td>17.2</td>\n      <td>17.3</td>\n      <td>17.6</td>\n      <td>17.6</td>\n      <td>17.8</td>\n      <td>18.0</td>\n      <td>18.2</td>\n      <td>18.3</td>\n      <td>18.3</td>\n      <td>18.5</td>\n      <td>18.5</td>\n      <td>17.9</td>\n    </tr>\n    <tr>\n      <th>13</th>\n      <td>1993</td>\n      <td>18.7</td>\n      <td>18.7</td>\n      <td>19.0</td>\n      <td>19.4</td>\n      <td>19.5</td>\n      <td>19.6</td>\n      <td>19.8</td>\n      <td>19.9</td>\n      <td>20.0</td>\n      <td>20.1</td>\n      <td>20.1</td>\n      <td>20.2</td>\n      <td>19.6</td>\n    </tr>\n    <tr>\n      <th>14</th>\n      <td>1994</td>\n      <td>20.5</td>\n      <td>20.5</td>\n      <td>20.7</td>\n      <td>20.8</td>\n      <td>20.9</td>\n      <td>21.0</td>\n      <td>21.4</td>\n      <td>21.7</td>\n      <td>22.0</td>\n      <td>22.1</td>\n      <td>22.1</td>\n      <td>22.1</td>\n      <td>21.3</td>\n    </tr>\n    <tr>\n      <th>15</th>\n      <td>1995</td>\n      <td>22.5</td>\n      <td>22.6</td>\n      <td>22.9</td>\n      <td>23.1</td>\n      <td>23.2</td>\n      <td>23.2</td>\n      <td>23.3</td>\n      <td>23.4</td>\n      <td>23.4</td>\n      <td>23.4</td>\n      <td>23.6</td>\n      <td>23.7</td>\n      <td>23.2</td>\n    </tr>\n    <tr>\n      <th>16</th>\n      <td>1996</td>\n      <td>24.0</td>\n      <td>24.1</td>\n      <td>24.2</td>\n      <td>24.4</td>\n      <td>24.5</td>\n      <td>24.8</td>\n      <td>25.0</td>\n      <td>25.1</td>\n      <td>25.3</td>\n      <td>25.6</td>\n      <td>25.7</td>\n      <td>26.0</td>\n      <td>24.9</td>\n    </tr>\n    <tr>\n      <th>17</th>\n      <td>1997</td>\n      <td>26.2</td>\n      <td>264.0</td>\n      <td>26.5</td>\n      <td>26.8</td>\n      <td>269.0</td>\n      <td>27.0</td>\n      <td>27.2</td>\n      <td>27.2</td>\n      <td>27.4</td>\n      <td>27.5</td>\n      <td>274.0</td>\n      <td>27.5</td>\n      <td>27.0</td>\n    </tr>\n    <tr>\n      <th>18</th>\n      <td>1998</td>\n      <td>27.8</td>\n      <td>27.8</td>\n      <td>28.0</td>\n      <td>28.2</td>\n      <td>28.3</td>\n      <td>28.4</td>\n      <td>29.1</td>\n      <td>29.4</td>\n      <td>29.9</td>\n      <td>30.0</td>\n      <td>30.0</td>\n      <td>30.0</td>\n      <td>28.9</td>\n    </tr>\n    <tr>\n      <th>19</th>\n      <td>1999</td>\n      <td>30.2</td>\n      <td>30.2</td>\n      <td>30.2</td>\n      <td>30.3</td>\n      <td>30.3</td>\n      <td>30.4</td>\n      <td>30.4</td>\n      <td>30.3</td>\n      <td>30.4</td>\n      <td>30.5</td>\n      <td>30.6</td>\n      <td>30.7</td>\n      <td>30.4</td>\n    </tr>\n    <tr>\n      <th>20</th>\n      <td>2000</td>\n      <td>31.1</td>\n      <td>30.9</td>\n      <td>31.3</td>\n      <td>31.6</td>\n      <td>31.8</td>\n      <td>32.0</td>\n      <td>32.3</td>\n      <td>32.4</td>\n      <td>32.5</td>\n      <td>32.7</td>\n      <td>32.7</td>\n      <td>32.8</td>\n      <td>32.0</td>\n    </tr>\n    <tr>\n      <th>21</th>\n      <td>2001</td>\n      <td>33.3</td>\n      <td>33.3</td>\n      <td>33.5</td>\n      <td>33.7</td>\n      <td>33.8</td>\n      <td>34.0</td>\n      <td>34.0</td>\n      <td>33.9</td>\n      <td>34.0</td>\n      <td>34.0</td>\n      <td>34.2</td>\n      <td>34.3</td>\n      <td>33.8</td>\n    </tr>\n    <tr>\n      <th>22</th>\n      <td>2002</td>\n      <td>34.9</td>\n      <td>35.3</td>\n      <td>35.6</td>\n      <td>36.2</td>\n      <td>36.4</td>\n      <td>36.7</td>\n      <td>37.3</td>\n      <td>37.4</td>\n      <td>37.8</td>\n      <td>38.4</td>\n      <td>38.5</td>\n      <td>38.5</td>\n      <td>36.9</td>\n    </tr>\n    <tr>\n      <th>23</th>\n      <td>2003</td>\n      <td>38.9</td>\n      <td>38.9</td>\n      <td>39.3</td>\n      <td>39.4</td>\n      <td>39.3</td>\n      <td>39.2</td>\n      <td>39.2</td>\n      <td>39.3</td>\n      <td>39.2</td>\n      <td>38.9</td>\n      <td>38.7</td>\n      <td>38.7</td>\n      <td>39.1</td>\n    </tr>\n    <tr>\n      <th>24</th>\n      <td>2004</td>\n      <td>39.0</td>\n      <td>39.2</td>\n      <td>39.5</td>\n      <td>39.5</td>\n      <td>39.5</td>\n      <td>39.6</td>\n      <td>39.8</td>\n      <td>39.8</td>\n      <td>39.8</td>\n      <td>39.9</td>\n      <td>40.1</td>\n      <td>40.0</td>\n      <td>39.6</td>\n    </tr>\n    <tr>\n      <th>25</th>\n      <td>2005</td>\n      <td>40.2</td>\n      <td>40.2</td>\n      <td>40.6</td>\n      <td>40.8</td>\n      <td>40.8</td>\n      <td>40.7</td>\n      <td>41.1</td>\n      <td>41.3</td>\n      <td>41.5</td>\n      <td>41.5</td>\n      <td>41.5</td>\n      <td>41.5</td>\n      <td>41.0</td>\n    </tr>\n    <tr>\n      <th>26</th>\n      <td>2006</td>\n      <td>41.7</td>\n      <td>41.8</td>\n      <td>42.0</td>\n      <td>42.2</td>\n      <td>42.4</td>\n      <td>42.7</td>\n      <td>43.2</td>\n      <td>43.5</td>\n      <td>43.6</td>\n      <td>43.7</td>\n      <td>43.6</td>\n      <td>43.9</td>\n      <td>42.9</td>\n    </tr>\n    <tr>\n      <th>27</th>\n      <td>2007</td>\n      <td>44.2</td>\n      <td>44.2</td>\n      <td>44.6</td>\n      <td>45.1</td>\n      <td>45.4</td>\n      <td>45.8</td>\n      <td>46.2</td>\n      <td>46.4</td>\n      <td>46.8</td>\n      <td>47.2</td>\n      <td>47.4</td>\n      <td>47.8</td>\n      <td>45.9</td>\n    </tr>\n    <tr>\n      <th>28</th>\n      <td>2008</td>\n      <td>48.3</td>\n      <td>48.5</td>\n      <td>49.3</td>\n      <td>50.2</td>\n      <td>50.7</td>\n      <td>51.4</td>\n      <td>52.4</td>\n      <td>52.8</td>\n      <td>52.9</td>\n      <td>52.9</td>\n      <td>52.9</td>\n      <td>52.4</td>\n      <td>51.2</td>\n    </tr>\n    <tr>\n      <th>29</th>\n      <td>2009</td>\n      <td>52.6</td>\n      <td>53.1</td>\n      <td>53.8</td>\n      <td>54.1</td>\n      <td>54.3</td>\n      <td>54.6</td>\n      <td>55.1</td>\n      <td>55.3</td>\n      <td>55.5</td>\n      <td>55.5</td>\n      <td>55.5</td>\n      <td>55.7</td>\n      <td>54.6</td>\n    </tr>\n    <tr>\n      <th>30</th>\n      <td>2010</td>\n      <td>55.8</td>\n      <td>56.2</td>\n      <td>56.6</td>\n      <td>56.7</td>\n      <td>56.8</td>\n      <td>56.8</td>\n      <td>57.2</td>\n      <td>57.2</td>\n      <td>57.3</td>\n      <td>57.4</td>\n      <td>57.5</td>\n      <td>57.6</td>\n      <td>56.9</td>\n    </tr>\n    <tr>\n      <th>31</th>\n      <td>2011</td>\n      <td>57.9</td>\n      <td>58.2</td>\n      <td>58.9</td>\n      <td>59.1</td>\n      <td>59.4</td>\n      <td>59.7</td>\n      <td>60.2</td>\n      <td>60.3</td>\n      <td>60.6</td>\n      <td>60.8</td>\n      <td>61.0</td>\n      <td>61.1</td>\n      <td>59.8</td>\n    </tr>\n    <tr>\n      <th>32</th>\n      <td>2012</td>\n      <td>61.5</td>\n      <td>61.8</td>\n      <td>62.5</td>\n      <td>62.8</td>\n      <td>62.8</td>\n      <td>63.0</td>\n      <td>63.1</td>\n      <td>63.3</td>\n      <td>63.9</td>\n      <td>64.2</td>\n      <td>64.4</td>\n      <td>64.6</td>\n      <td>63.1</td>\n    </tr>\n    <tr>\n      <th>33</th>\n      <td>2013</td>\n      <td>64.8</td>\n      <td>65.4</td>\n      <td>66.2</td>\n      <td>66.4</td>\n      <td>66.2</td>\n      <td>66.4</td>\n      <td>67.1</td>\n      <td>67.3</td>\n      <td>67.7</td>\n      <td>67.8</td>\n      <td>67.9</td>\n      <td>68.1</td>\n      <td>66.8</td>\n    </tr>\n    <tr>\n      <th>34</th>\n      <td>2014</td>\n      <td>68.5</td>\n      <td>69.3</td>\n      <td>70.2</td>\n      <td>70.5</td>\n      <td>70.6</td>\n      <td>70.8</td>\n      <td>71.4</td>\n      <td>71.7</td>\n      <td>71.7</td>\n      <td>71.8</td>\n      <td>71.8</td>\n      <td>71.7</td>\n      <td>70.8</td>\n    </tr>\n    <tr>\n      <th>35</th>\n      <td>2015</td>\n      <td>71.5</td>\n      <td>72.0</td>\n      <td>73.0</td>\n      <td>73.7</td>\n      <td>73.9</td>\n      <td>74.2</td>\n      <td>75.0</td>\n      <td>75.0</td>\n      <td>75.0</td>\n      <td>75.2</td>\n      <td>75.2</td>\n      <td>75.4</td>\n      <td>74.1</td>\n    </tr>\n    <tr>\n      <th>36</th>\n      <td>2016</td>\n      <td>76.0</td>\n      <td>77.0</td>\n      <td>77.6</td>\n      <td>78.3</td>\n      <td>78.4</td>\n      <td>78.8</td>\n      <td>79.5</td>\n      <td>79.4</td>\n      <td>79.5</td>\n      <td>79.9</td>\n      <td>80.2</td>\n      <td>80.5</td>\n      <td>78.8</td>\n    </tr>\n    <tr>\n      <th>37</th>\n      <td>2017</td>\n      <td>81.0</td>\n      <td>81.9</td>\n      <td>82.4</td>\n      <td>82.4</td>\n      <td>82.7</td>\n      <td>82.9</td>\n      <td>83.1</td>\n      <td>83.2</td>\n      <td>83.6</td>\n      <td>83.8</td>\n      <td>83.9</td>\n      <td>84.3</td>\n      <td>82.9</td>\n    </tr>\n    <tr>\n      <th>38</th>\n      <td>2018</td>\n      <td>84.5</td>\n      <td>85.2</td>\n      <td>85.5</td>\n      <td>86.2</td>\n      <td>86.3</td>\n      <td>86.6</td>\n      <td>87.4</td>\n      <td>87.3</td>\n      <td>87.7</td>\n      <td>88.1</td>\n      <td>88.2</td>\n      <td>88.1</td>\n      <td>86.8</td>\n    </tr>\n    <tr>\n      <th>39</th>\n      <td>2019</td>\n      <td>87.9</td>\n      <td>88.6</td>\n      <td>89.4</td>\n      <td>89.9</td>\n      <td>90.2</td>\n      <td>90.5</td>\n      <td>90.8</td>\n      <td>91.1</td>\n      <td>91.3</td>\n      <td>91.3</td>\n      <td>91.4</td>\n      <td>91.6</td>\n      <td>90.3</td>\n    </tr>\n    <tr>\n      <th>40</th>\n      <td>2020</td>\n      <td>91.9</td>\n      <td>92.8</td>\n      <td>93.1</td>\n      <td>92.6</td>\n      <td>92.0</td>\n      <td>92.5</td>\n      <td>93.7</td>\n      <td>93.9</td>\n      <td>94.0</td>\n      <td>94.3</td>\n      <td>94.3</td>\n      <td>94.4</td>\n      <td>93.3</td>\n    </tr>\n    <tr>\n      <th>41</th>\n      <td>2021</td>\n      <td>94.8</td>\n      <td>95.4</td>\n      <td>96.1</td>\n      <td>96.7</td>\n      <td>96.8</td>\n      <td>97.0</td>\n      <td>98.1</td>\n      <td>98.5</td>\n      <td>98.7</td>\n      <td>99.0</td>\n      <td>99.4</td>\n      <td>100.0</td>\n      <td>97.5</td>\n    </tr>\n    <tr>\n      <th>42</th>\n      <td>2022</td>\n      <td>100.2</td>\n      <td>100.8</td>\n      <td>101.8</td>\n      <td>102.4</td>\n      <td>103.1</td>\n      <td>104.2</td>\n      <td>105.8</td>\n      <td>106.0</td>\n      <td>106.1</td>\n      <td>106.5</td>\n      <td>106.8</td>\n      <td>107.2</td>\n      <td>104.2</td>\n    </tr>\n    <tr>\n      <th>43</th>\n      <td>2023</td>\n      <td>107.1</td>\n      <td>107.9</td>\n      <td>109.0</td>\n      <td>109.4</td>\n      <td>109.6</td>\n      <td>109.8</td>\n      <td>110.8</td>\n      <td>111.1</td>\n      <td>111.8</td>\n      <td>112.8</td>\n      <td>112.7</td>\n      <td>0.0</td>\n      <td>101.0</td>\n    </tr>\n  </tbody>\n</table>\n</div>"
                    },
                    "metadata": {},
                    "execution_count": 24,
                    "output_type": "execute_result"
                }
            ],
            "execution_count": 24
        },
        {
            "cell_type": "code",
            "source": [
                "# i want to now plot a scatter plot between outages and cpi history using seaborn and matplot\n",
                "#first i want to view both data sets\n",
                "print(outage_av.head())\n",
                "print(cpi.head())\n",
                "outage_av\n",
                "cpi"
            ],
            "metadata": {
                "azdata_cell_guid": "b91b69b4-4a00-4eb9-87a3-795f96ced47c",
                "language": "python",
                "tags": []
            },
            "outputs": [
                {
                    "name": "stdout",
                    "text": "   Date Time Hour Beginning  Min Installed Eskom Capacity  \\\n0                      2019                       43691.0   \n1                      2020                       44926.0   \n2                      2021                       45646.0   \n3                      2022                       46686.0   \n4                      2023                       46686.0   \n\n   Max Installed Eskom Capacity  Min Total PCLF  Max Total PCLF  \\\n0                       45017.0         695.777        8127.000   \n1                       45646.0         895.000       11289.417   \n2                       47049.0        1273.000        9601.000   \n3                       47520.0        1018.000        8997.000   \n4                       46686.0        1814.000        8405.000   \n\n   Min Total UCLF  Max Total UCLF  Min Total OCLF  Max Total OCLF  \\\n0        5180.671       15657.814         184.995        2910.620   \n1        4670.626       15657.494         235.900        2877.000   \n2        6711.474       16661.081         360.000        2960.157   \n3        9668.405       19168.607          78.025        5219.432   \n4       11407.476       19504.578         118.500        4178.900   \n\n   Min Total UCLF+OCLF  Max Total UCLF+OCLF  Min Non Comm Sentout  \\\n0               5658.0              17363.0                   1.0   \n1               6545.0              16652.0                   0.0   \n2               7631.0              17735.0                   0.0   \n3              10144.0              19938.0                   0.0   \n4              11922.0              21535.0                   0.0   \n\n   Max Non Comm Sentout  \n0                1922.0  \n1                1423.0  \n2                1268.0  \n3                 999.0  \n4                 999.0  \n   Year  Jan  Feb  Mar  Apr  May  Jun  Jul  Aug  Sep  Oct  Nov  Dec  Average\n0  1980  3.2  3.3  3.3  3.3  3.4  3.4  3.5  3.5  3.6  3.7  3.7  3.7      3.5\n1  1981  3.7  3.8  3.8  3.8  3.9  3.9  4.0  4.1  4.2  4.2  4.3  4.3      4.0\n2  1982  4.3  4.3  4.5  4.5  4.5  4.5  4.6  4.6  4.7  4.8  4.8  4.8      4.6\n3  1983  4.8  5.0  5.0  5.0  5.1  5.1  5.2  5.2  5.2  5.3  5.4  5.4      5.1\n4  1984  5.4  5.4  5.5  5.6  5.7  5.7  5.7  5.8  5.9  5.9  6.0  6.1      5.7\n",
                    "output_type": "stream"
                },
                {
                    "data": {
                        "text/plain": "    Year    Jan    Feb    Mar    Apr    May    Jun    Jul    Aug    Sep  \\\n0   1980    3.2    3.3    3.3    3.3    3.4    3.4    3.5    3.5    3.6   \n1   1981    3.7    3.8    3.8    3.8    3.9    3.9    4.0    4.1    4.2   \n2   1982    4.3    4.3    4.5    4.5    4.5    4.5    4.6    4.6    4.7   \n3   1983    4.8    5.0    5.0    5.0    5.1    5.1    5.2    5.2    5.2   \n4   1984    5.4    5.4    5.5    5.6    5.7    5.7    5.7    5.8    5.9   \n5   1985    6.1    6.3    6.3    6.5    6.6    6.7    6.7    6.8    6.8   \n6   1986    7.4    7.4    7.6    7.7    7.7    7.8    7.9    8.1    8.2   \n7   1987    8.6    8.7    8.8    9.0    9.0    9.1    9.2    9.3    9.5   \n8   1988    9.8    9.8   10.0   10.1   10.2   10.3   10.4   10.5   10.7   \n9   1989   11.1   11.2   11.4   11.6   11.8   11.8   11.9   12.1   12.2   \n10  1990   12.8   12.9   13.1   13.2   13.4   13.4   13.6   13.8   13.9   \n11  1991   14.7   14.9   14.9   15.2   15.4   15.5   15.7   15.9   16.1   \n12  1992   17.0   17.2   17.3   17.6   17.6   17.8   18.0   18.2   18.3   \n13  1993   18.7   18.7   19.0   19.4   19.5   19.6   19.8   19.9   20.0   \n14  1994   20.5   20.5   20.7   20.8   20.9   21.0   21.4   21.7   22.0   \n15  1995   22.5   22.6   22.9   23.1   23.2   23.2   23.3   23.4   23.4   \n16  1996   24.0   24.1   24.2   24.4   24.5   24.8   25.0   25.1   25.3   \n17  1997   26.2  264.0   26.5   26.8  269.0   27.0   27.2   27.2   27.4   \n18  1998   27.8   27.8   28.0   28.2   28.3   28.4   29.1   29.4   29.9   \n19  1999   30.2   30.2   30.2   30.3   30.3   30.4   30.4   30.3   30.4   \n20  2000   31.1   30.9   31.3   31.6   31.8   32.0   32.3   32.4   32.5   \n21  2001   33.3   33.3   33.5   33.7   33.8   34.0   34.0   33.9   34.0   \n22  2002   34.9   35.3   35.6   36.2   36.4   36.7   37.3   37.4   37.8   \n23  2003   38.9   38.9   39.3   39.4   39.3   39.2   39.2   39.3   39.2   \n24  2004   39.0   39.2   39.5   39.5   39.5   39.6   39.8   39.8   39.8   \n25  2005   40.2   40.2   40.6   40.8   40.8   40.7   41.1   41.3   41.5   \n26  2006   41.7   41.8   42.0   42.2   42.4   42.7   43.2   43.5   43.6   \n27  2007   44.2   44.2   44.6   45.1   45.4   45.8   46.2   46.4   46.8   \n28  2008   48.3   48.5   49.3   50.2   50.7   51.4   52.4   52.8   52.9   \n29  2009   52.6   53.1   53.8   54.1   54.3   54.6   55.1   55.3   55.5   \n30  2010   55.8   56.2   56.6   56.7   56.8   56.8   57.2   57.2   57.3   \n31  2011   57.9   58.2   58.9   59.1   59.4   59.7   60.2   60.3   60.6   \n32  2012   61.5   61.8   62.5   62.8   62.8   63.0   63.1   63.3   63.9   \n33  2013   64.8   65.4   66.2   66.4   66.2   66.4   67.1   67.3   67.7   \n34  2014   68.5   69.3   70.2   70.5   70.6   70.8   71.4   71.7   71.7   \n35  2015   71.5   72.0   73.0   73.7   73.9   74.2   75.0   75.0   75.0   \n36  2016   76.0   77.0   77.6   78.3   78.4   78.8   79.5   79.4   79.5   \n37  2017   81.0   81.9   82.4   82.4   82.7   82.9   83.1   83.2   83.6   \n38  2018   84.5   85.2   85.5   86.2   86.3   86.6   87.4   87.3   87.7   \n39  2019   87.9   88.6   89.4   89.9   90.2   90.5   90.8   91.1   91.3   \n40  2020   91.9   92.8   93.1   92.6   92.0   92.5   93.7   93.9   94.0   \n41  2021   94.8   95.4   96.1   96.7   96.8   97.0   98.1   98.5   98.7   \n42  2022  100.2  100.8  101.8  102.4  103.1  104.2  105.8  106.0  106.1   \n43  2023  107.1  107.9  109.0  109.4  109.6  109.8  110.8  111.1  111.8   \n\n      Oct    Nov    Dec  Average  \n0     3.7    3.7    3.7      3.5  \n1     4.2    4.3    4.3      4.0  \n2     4.8    4.8    4.8      4.6  \n3     5.3    5.4    5.4      5.1  \n4     5.9    6.0    6.1      5.7  \n5     6.9    7.0    7.2      6.7  \n6     8.3    8.4    8.5      7.9  \n7     9.6    9.7    9.7      9.2  \n8    10.8   10.8   11.0     10.4  \n9    12.3   12.5   12.7     11.9  \n10   14.1   14.4   14.5     13.6  \n11   16.4   16.6   16.8    157.0  \n12   18.3   18.5   18.5     17.9  \n13   20.1   20.1   20.2     19.6  \n14   22.1   22.1   22.1     21.3  \n15   23.4   23.6   23.7     23.2  \n16   25.6   25.7   26.0     24.9  \n17   27.5  274.0   27.5     27.0  \n18   30.0   30.0   30.0     28.9  \n19   30.5   30.6   30.7     30.4  \n20   32.7   32.7   32.8     32.0  \n21   34.0   34.2   34.3     33.8  \n22   38.4   38.5   38.5     36.9  \n23   38.9   38.7   38.7     39.1  \n24   39.9   40.1   40.0     39.6  \n25   41.5   41.5   41.5     41.0  \n26   43.7   43.6   43.9     42.9  \n27   47.2   47.4   47.8     45.9  \n28   52.9   52.9   52.4     51.2  \n29   55.5   55.5   55.7     54.6  \n30   57.4   57.5   57.6     56.9  \n31   60.8   61.0   61.1     59.8  \n32   64.2   64.4   64.6     63.1  \n33   67.8   67.9   68.1     66.8  \n34   71.8   71.8   71.7     70.8  \n35   75.2   75.2   75.4     74.1  \n36   79.9   80.2   80.5     78.8  \n37   83.8   83.9   84.3     82.9  \n38   88.1   88.2   88.1     86.8  \n39   91.3   91.4   91.6     90.3  \n40   94.3   94.3   94.4     93.3  \n41   99.0   99.4  100.0     97.5  \n42  106.5  106.8  107.2    104.2  \n43  112.8  112.7    0.0    101.0  ",
                        "text/html": "<div>\n<style scoped>\n    .dataframe tbody tr th:only-of-type {\n        vertical-align: middle;\n    }\n\n    .dataframe tbody tr th {\n        vertical-align: top;\n    }\n\n    .dataframe thead th {\n        text-align: right;\n    }\n</style>\n<table border=\"1\" class=\"dataframe\">\n  <thead>\n    <tr style=\"text-align: right;\">\n      <th></th>\n      <th>Year</th>\n      <th>Jan</th>\n      <th>Feb</th>\n      <th>Mar</th>\n      <th>Apr</th>\n      <th>May</th>\n      <th>Jun</th>\n      <th>Jul</th>\n      <th>Aug</th>\n      <th>Sep</th>\n      <th>Oct</th>\n      <th>Nov</th>\n      <th>Dec</th>\n      <th>Average</th>\n    </tr>\n  </thead>\n  <tbody>\n    <tr>\n      <th>0</th>\n      <td>1980</td>\n      <td>3.2</td>\n      <td>3.3</td>\n      <td>3.3</td>\n      <td>3.3</td>\n      <td>3.4</td>\n      <td>3.4</td>\n      <td>3.5</td>\n      <td>3.5</td>\n      <td>3.6</td>\n      <td>3.7</td>\n      <td>3.7</td>\n      <td>3.7</td>\n      <td>3.5</td>\n    </tr>\n    <tr>\n      <th>1</th>\n      <td>1981</td>\n      <td>3.7</td>\n      <td>3.8</td>\n      <td>3.8</td>\n      <td>3.8</td>\n      <td>3.9</td>\n      <td>3.9</td>\n      <td>4.0</td>\n      <td>4.1</td>\n      <td>4.2</td>\n      <td>4.2</td>\n      <td>4.3</td>\n      <td>4.3</td>\n      <td>4.0</td>\n    </tr>\n    <tr>\n      <th>2</th>\n      <td>1982</td>\n      <td>4.3</td>\n      <td>4.3</td>\n      <td>4.5</td>\n      <td>4.5</td>\n      <td>4.5</td>\n      <td>4.5</td>\n      <td>4.6</td>\n      <td>4.6</td>\n      <td>4.7</td>\n      <td>4.8</td>\n      <td>4.8</td>\n      <td>4.8</td>\n      <td>4.6</td>\n    </tr>\n    <tr>\n      <th>3</th>\n      <td>1983</td>\n      <td>4.8</td>\n      <td>5.0</td>\n      <td>5.0</td>\n      <td>5.0</td>\n      <td>5.1</td>\n      <td>5.1</td>\n      <td>5.2</td>\n      <td>5.2</td>\n      <td>5.2</td>\n      <td>5.3</td>\n      <td>5.4</td>\n      <td>5.4</td>\n      <td>5.1</td>\n    </tr>\n    <tr>\n      <th>4</th>\n      <td>1984</td>\n      <td>5.4</td>\n      <td>5.4</td>\n      <td>5.5</td>\n      <td>5.6</td>\n      <td>5.7</td>\n      <td>5.7</td>\n      <td>5.7</td>\n      <td>5.8</td>\n      <td>5.9</td>\n      <td>5.9</td>\n      <td>6.0</td>\n      <td>6.1</td>\n      <td>5.7</td>\n    </tr>\n    <tr>\n      <th>5</th>\n      <td>1985</td>\n      <td>6.1</td>\n      <td>6.3</td>\n      <td>6.3</td>\n      <td>6.5</td>\n      <td>6.6</td>\n      <td>6.7</td>\n      <td>6.7</td>\n      <td>6.8</td>\n      <td>6.8</td>\n      <td>6.9</td>\n      <td>7.0</td>\n      <td>7.2</td>\n      <td>6.7</td>\n    </tr>\n    <tr>\n      <th>6</th>\n      <td>1986</td>\n      <td>7.4</td>\n      <td>7.4</td>\n      <td>7.6</td>\n      <td>7.7</td>\n      <td>7.7</td>\n      <td>7.8</td>\n      <td>7.9</td>\n      <td>8.1</td>\n      <td>8.2</td>\n      <td>8.3</td>\n      <td>8.4</td>\n      <td>8.5</td>\n      <td>7.9</td>\n    </tr>\n    <tr>\n      <th>7</th>\n      <td>1987</td>\n      <td>8.6</td>\n      <td>8.7</td>\n      <td>8.8</td>\n      <td>9.0</td>\n      <td>9.0</td>\n      <td>9.1</td>\n      <td>9.2</td>\n      <td>9.3</td>\n      <td>9.5</td>\n      <td>9.6</td>\n      <td>9.7</td>\n      <td>9.7</td>\n      <td>9.2</td>\n    </tr>\n    <tr>\n      <th>8</th>\n      <td>1988</td>\n      <td>9.8</td>\n      <td>9.8</td>\n      <td>10.0</td>\n      <td>10.1</td>\n      <td>10.2</td>\n      <td>10.3</td>\n      <td>10.4</td>\n      <td>10.5</td>\n      <td>10.7</td>\n      <td>10.8</td>\n      <td>10.8</td>\n      <td>11.0</td>\n      <td>10.4</td>\n    </tr>\n    <tr>\n      <th>9</th>\n      <td>1989</td>\n      <td>11.1</td>\n      <td>11.2</td>\n      <td>11.4</td>\n      <td>11.6</td>\n      <td>11.8</td>\n      <td>11.8</td>\n      <td>11.9</td>\n      <td>12.1</td>\n      <td>12.2</td>\n      <td>12.3</td>\n      <td>12.5</td>\n      <td>12.7</td>\n      <td>11.9</td>\n    </tr>\n    <tr>\n      <th>10</th>\n      <td>1990</td>\n      <td>12.8</td>\n      <td>12.9</td>\n      <td>13.1</td>\n      <td>13.2</td>\n      <td>13.4</td>\n      <td>13.4</td>\n      <td>13.6</td>\n      <td>13.8</td>\n      <td>13.9</td>\n      <td>14.1</td>\n      <td>14.4</td>\n      <td>14.5</td>\n      <td>13.6</td>\n    </tr>\n    <tr>\n      <th>11</th>\n      <td>1991</td>\n      <td>14.7</td>\n      <td>14.9</td>\n      <td>14.9</td>\n      <td>15.2</td>\n      <td>15.4</td>\n      <td>15.5</td>\n      <td>15.7</td>\n      <td>15.9</td>\n      <td>16.1</td>\n      <td>16.4</td>\n      <td>16.6</td>\n      <td>16.8</td>\n      <td>157.0</td>\n    </tr>\n    <tr>\n      <th>12</th>\n      <td>1992</td>\n      <td>17.0</td>\n      <td>17.2</td>\n      <td>17.3</td>\n      <td>17.6</td>\n      <td>17.6</td>\n      <td>17.8</td>\n      <td>18.0</td>\n      <td>18.2</td>\n      <td>18.3</td>\n      <td>18.3</td>\n      <td>18.5</td>\n      <td>18.5</td>\n      <td>17.9</td>\n    </tr>\n    <tr>\n      <th>13</th>\n      <td>1993</td>\n      <td>18.7</td>\n      <td>18.7</td>\n      <td>19.0</td>\n      <td>19.4</td>\n      <td>19.5</td>\n      <td>19.6</td>\n      <td>19.8</td>\n      <td>19.9</td>\n      <td>20.0</td>\n      <td>20.1</td>\n      <td>20.1</td>\n      <td>20.2</td>\n      <td>19.6</td>\n    </tr>\n    <tr>\n      <th>14</th>\n      <td>1994</td>\n      <td>20.5</td>\n      <td>20.5</td>\n      <td>20.7</td>\n      <td>20.8</td>\n      <td>20.9</td>\n      <td>21.0</td>\n      <td>21.4</td>\n      <td>21.7</td>\n      <td>22.0</td>\n      <td>22.1</td>\n      <td>22.1</td>\n      <td>22.1</td>\n      <td>21.3</td>\n    </tr>\n    <tr>\n      <th>15</th>\n      <td>1995</td>\n      <td>22.5</td>\n      <td>22.6</td>\n      <td>22.9</td>\n      <td>23.1</td>\n      <td>23.2</td>\n      <td>23.2</td>\n      <td>23.3</td>\n      <td>23.4</td>\n      <td>23.4</td>\n      <td>23.4</td>\n      <td>23.6</td>\n      <td>23.7</td>\n      <td>23.2</td>\n    </tr>\n    <tr>\n      <th>16</th>\n      <td>1996</td>\n      <td>24.0</td>\n      <td>24.1</td>\n      <td>24.2</td>\n      <td>24.4</td>\n      <td>24.5</td>\n      <td>24.8</td>\n      <td>25.0</td>\n      <td>25.1</td>\n      <td>25.3</td>\n      <td>25.6</td>\n      <td>25.7</td>\n      <td>26.0</td>\n      <td>24.9</td>\n    </tr>\n    <tr>\n      <th>17</th>\n      <td>1997</td>\n      <td>26.2</td>\n      <td>264.0</td>\n      <td>26.5</td>\n      <td>26.8</td>\n      <td>269.0</td>\n      <td>27.0</td>\n      <td>27.2</td>\n      <td>27.2</td>\n      <td>27.4</td>\n      <td>27.5</td>\n      <td>274.0</td>\n      <td>27.5</td>\n      <td>27.0</td>\n    </tr>\n    <tr>\n      <th>18</th>\n      <td>1998</td>\n      <td>27.8</td>\n      <td>27.8</td>\n      <td>28.0</td>\n      <td>28.2</td>\n      <td>28.3</td>\n      <td>28.4</td>\n      <td>29.1</td>\n      <td>29.4</td>\n      <td>29.9</td>\n      <td>30.0</td>\n      <td>30.0</td>\n      <td>30.0</td>\n      <td>28.9</td>\n    </tr>\n    <tr>\n      <th>19</th>\n      <td>1999</td>\n      <td>30.2</td>\n      <td>30.2</td>\n      <td>30.2</td>\n      <td>30.3</td>\n      <td>30.3</td>\n      <td>30.4</td>\n      <td>30.4</td>\n      <td>30.3</td>\n      <td>30.4</td>\n      <td>30.5</td>\n      <td>30.6</td>\n      <td>30.7</td>\n      <td>30.4</td>\n    </tr>\n    <tr>\n      <th>20</th>\n      <td>2000</td>\n      <td>31.1</td>\n      <td>30.9</td>\n      <td>31.3</td>\n      <td>31.6</td>\n      <td>31.8</td>\n      <td>32.0</td>\n      <td>32.3</td>\n      <td>32.4</td>\n      <td>32.5</td>\n      <td>32.7</td>\n      <td>32.7</td>\n      <td>32.8</td>\n      <td>32.0</td>\n    </tr>\n    <tr>\n      <th>21</th>\n      <td>2001</td>\n      <td>33.3</td>\n      <td>33.3</td>\n      <td>33.5</td>\n      <td>33.7</td>\n      <td>33.8</td>\n      <td>34.0</td>\n      <td>34.0</td>\n      <td>33.9</td>\n      <td>34.0</td>\n      <td>34.0</td>\n      <td>34.2</td>\n      <td>34.3</td>\n      <td>33.8</td>\n    </tr>\n    <tr>\n      <th>22</th>\n      <td>2002</td>\n      <td>34.9</td>\n      <td>35.3</td>\n      <td>35.6</td>\n      <td>36.2</td>\n      <td>36.4</td>\n      <td>36.7</td>\n      <td>37.3</td>\n      <td>37.4</td>\n      <td>37.8</td>\n      <td>38.4</td>\n      <td>38.5</td>\n      <td>38.5</td>\n      <td>36.9</td>\n    </tr>\n    <tr>\n      <th>23</th>\n      <td>2003</td>\n      <td>38.9</td>\n      <td>38.9</td>\n      <td>39.3</td>\n      <td>39.4</td>\n      <td>39.3</td>\n      <td>39.2</td>\n      <td>39.2</td>\n      <td>39.3</td>\n      <td>39.2</td>\n      <td>38.9</td>\n      <td>38.7</td>\n      <td>38.7</td>\n      <td>39.1</td>\n    </tr>\n    <tr>\n      <th>24</th>\n      <td>2004</td>\n      <td>39.0</td>\n      <td>39.2</td>\n      <td>39.5</td>\n      <td>39.5</td>\n      <td>39.5</td>\n      <td>39.6</td>\n      <td>39.8</td>\n      <td>39.8</td>\n      <td>39.8</td>\n      <td>39.9</td>\n      <td>40.1</td>\n      <td>40.0</td>\n      <td>39.6</td>\n    </tr>\n    <tr>\n      <th>25</th>\n      <td>2005</td>\n      <td>40.2</td>\n      <td>40.2</td>\n      <td>40.6</td>\n      <td>40.8</td>\n      <td>40.8</td>\n      <td>40.7</td>\n      <td>41.1</td>\n      <td>41.3</td>\n      <td>41.5</td>\n      <td>41.5</td>\n      <td>41.5</td>\n      <td>41.5</td>\n      <td>41.0</td>\n    </tr>\n    <tr>\n      <th>26</th>\n      <td>2006</td>\n      <td>41.7</td>\n      <td>41.8</td>\n      <td>42.0</td>\n      <td>42.2</td>\n      <td>42.4</td>\n      <td>42.7</td>\n      <td>43.2</td>\n      <td>43.5</td>\n      <td>43.6</td>\n      <td>43.7</td>\n      <td>43.6</td>\n      <td>43.9</td>\n      <td>42.9</td>\n    </tr>\n    <tr>\n      <th>27</th>\n      <td>2007</td>\n      <td>44.2</td>\n      <td>44.2</td>\n      <td>44.6</td>\n      <td>45.1</td>\n      <td>45.4</td>\n      <td>45.8</td>\n      <td>46.2</td>\n      <td>46.4</td>\n      <td>46.8</td>\n      <td>47.2</td>\n      <td>47.4</td>\n      <td>47.8</td>\n      <td>45.9</td>\n    </tr>\n    <tr>\n      <th>28</th>\n      <td>2008</td>\n      <td>48.3</td>\n      <td>48.5</td>\n      <td>49.3</td>\n      <td>50.2</td>\n      <td>50.7</td>\n      <td>51.4</td>\n      <td>52.4</td>\n      <td>52.8</td>\n      <td>52.9</td>\n      <td>52.9</td>\n      <td>52.9</td>\n      <td>52.4</td>\n      <td>51.2</td>\n    </tr>\n    <tr>\n      <th>29</th>\n      <td>2009</td>\n      <td>52.6</td>\n      <td>53.1</td>\n      <td>53.8</td>\n      <td>54.1</td>\n      <td>54.3</td>\n      <td>54.6</td>\n      <td>55.1</td>\n      <td>55.3</td>\n      <td>55.5</td>\n      <td>55.5</td>\n      <td>55.5</td>\n      <td>55.7</td>\n      <td>54.6</td>\n    </tr>\n    <tr>\n      <th>30</th>\n      <td>2010</td>\n      <td>55.8</td>\n      <td>56.2</td>\n      <td>56.6</td>\n      <td>56.7</td>\n      <td>56.8</td>\n      <td>56.8</td>\n      <td>57.2</td>\n      <td>57.2</td>\n      <td>57.3</td>\n      <td>57.4</td>\n      <td>57.5</td>\n      <td>57.6</td>\n      <td>56.9</td>\n    </tr>\n    <tr>\n      <th>31</th>\n      <td>2011</td>\n      <td>57.9</td>\n      <td>58.2</td>\n      <td>58.9</td>\n      <td>59.1</td>\n      <td>59.4</td>\n      <td>59.7</td>\n      <td>60.2</td>\n      <td>60.3</td>\n      <td>60.6</td>\n      <td>60.8</td>\n      <td>61.0</td>\n      <td>61.1</td>\n      <td>59.8</td>\n    </tr>\n    <tr>\n      <th>32</th>\n      <td>2012</td>\n      <td>61.5</td>\n      <td>61.8</td>\n      <td>62.5</td>\n      <td>62.8</td>\n      <td>62.8</td>\n      <td>63.0</td>\n      <td>63.1</td>\n      <td>63.3</td>\n      <td>63.9</td>\n      <td>64.2</td>\n      <td>64.4</td>\n      <td>64.6</td>\n      <td>63.1</td>\n    </tr>\n    <tr>\n      <th>33</th>\n      <td>2013</td>\n      <td>64.8</td>\n      <td>65.4</td>\n      <td>66.2</td>\n      <td>66.4</td>\n      <td>66.2</td>\n      <td>66.4</td>\n      <td>67.1</td>\n      <td>67.3</td>\n      <td>67.7</td>\n      <td>67.8</td>\n      <td>67.9</td>\n      <td>68.1</td>\n      <td>66.8</td>\n    </tr>\n    <tr>\n      <th>34</th>\n      <td>2014</td>\n      <td>68.5</td>\n      <td>69.3</td>\n      <td>70.2</td>\n      <td>70.5</td>\n      <td>70.6</td>\n      <td>70.8</td>\n      <td>71.4</td>\n      <td>71.7</td>\n      <td>71.7</td>\n      <td>71.8</td>\n      <td>71.8</td>\n      <td>71.7</td>\n      <td>70.8</td>\n    </tr>\n    <tr>\n      <th>35</th>\n      <td>2015</td>\n      <td>71.5</td>\n      <td>72.0</td>\n      <td>73.0</td>\n      <td>73.7</td>\n      <td>73.9</td>\n      <td>74.2</td>\n      <td>75.0</td>\n      <td>75.0</td>\n      <td>75.0</td>\n      <td>75.2</td>\n      <td>75.2</td>\n      <td>75.4</td>\n      <td>74.1</td>\n    </tr>\n    <tr>\n      <th>36</th>\n      <td>2016</td>\n      <td>76.0</td>\n      <td>77.0</td>\n      <td>77.6</td>\n      <td>78.3</td>\n      <td>78.4</td>\n      <td>78.8</td>\n      <td>79.5</td>\n      <td>79.4</td>\n      <td>79.5</td>\n      <td>79.9</td>\n      <td>80.2</td>\n      <td>80.5</td>\n      <td>78.8</td>\n    </tr>\n    <tr>\n      <th>37</th>\n      <td>2017</td>\n      <td>81.0</td>\n      <td>81.9</td>\n      <td>82.4</td>\n      <td>82.4</td>\n      <td>82.7</td>\n      <td>82.9</td>\n      <td>83.1</td>\n      <td>83.2</td>\n      <td>83.6</td>\n      <td>83.8</td>\n      <td>83.9</td>\n      <td>84.3</td>\n      <td>82.9</td>\n    </tr>\n    <tr>\n      <th>38</th>\n      <td>2018</td>\n      <td>84.5</td>\n      <td>85.2</td>\n      <td>85.5</td>\n      <td>86.2</td>\n      <td>86.3</td>\n      <td>86.6</td>\n      <td>87.4</td>\n      <td>87.3</td>\n      <td>87.7</td>\n      <td>88.1</td>\n      <td>88.2</td>\n      <td>88.1</td>\n      <td>86.8</td>\n    </tr>\n    <tr>\n      <th>39</th>\n      <td>2019</td>\n      <td>87.9</td>\n      <td>88.6</td>\n      <td>89.4</td>\n      <td>89.9</td>\n      <td>90.2</td>\n      <td>90.5</td>\n      <td>90.8</td>\n      <td>91.1</td>\n      <td>91.3</td>\n      <td>91.3</td>\n      <td>91.4</td>\n      <td>91.6</td>\n      <td>90.3</td>\n    </tr>\n    <tr>\n      <th>40</th>\n      <td>2020</td>\n      <td>91.9</td>\n      <td>92.8</td>\n      <td>93.1</td>\n      <td>92.6</td>\n      <td>92.0</td>\n      <td>92.5</td>\n      <td>93.7</td>\n      <td>93.9</td>\n      <td>94.0</td>\n      <td>94.3</td>\n      <td>94.3</td>\n      <td>94.4</td>\n      <td>93.3</td>\n    </tr>\n    <tr>\n      <th>41</th>\n      <td>2021</td>\n      <td>94.8</td>\n      <td>95.4</td>\n      <td>96.1</td>\n      <td>96.7</td>\n      <td>96.8</td>\n      <td>97.0</td>\n      <td>98.1</td>\n      <td>98.5</td>\n      <td>98.7</td>\n      <td>99.0</td>\n      <td>99.4</td>\n      <td>100.0</td>\n      <td>97.5</td>\n    </tr>\n    <tr>\n      <th>42</th>\n      <td>2022</td>\n      <td>100.2</td>\n      <td>100.8</td>\n      <td>101.8</td>\n      <td>102.4</td>\n      <td>103.1</td>\n      <td>104.2</td>\n      <td>105.8</td>\n      <td>106.0</td>\n      <td>106.1</td>\n      <td>106.5</td>\n      <td>106.8</td>\n      <td>107.2</td>\n      <td>104.2</td>\n    </tr>\n    <tr>\n      <th>43</th>\n      <td>2023</td>\n      <td>107.1</td>\n      <td>107.9</td>\n      <td>109.0</td>\n      <td>109.4</td>\n      <td>109.6</td>\n      <td>109.8</td>\n      <td>110.8</td>\n      <td>111.1</td>\n      <td>111.8</td>\n      <td>112.8</td>\n      <td>112.7</td>\n      <td>0.0</td>\n      <td>101.0</td>\n    </tr>\n  </tbody>\n</table>\n</div>"
                    },
                    "metadata": {},
                    "execution_count": 50,
                    "output_type": "execute_result"
                }
            ],
            "execution_count": 50
        },
        {
            "cell_type": "code",
            "source": [
                ""
            ],
            "metadata": {
                "azdata_cell_guid": "af81a7b2-0400-414d-9729-2d647909057a",
                "language": "python"
            },
            "outputs": [
                {
                    "name": "stdout",
                    "text": "Requirement already satisfied: seaborn in /Library/Frameworks/Python.framework/Versions/3.11/lib/python3.11/site-packages (0.13.1)\r\n",
                    "output_type": "stream"
                },
                {
                    "name": "stdout",
                    "text": "Requirement already satisfied: numpy!=1.24.0,>=1.20 in /Library/Frameworks/Python.framework/Versions/3.11/lib/python3.11/site-packages (from seaborn) (1.26.3)\r\nRequirement already satisfied: pandas>=1.2 in /Library/Frameworks/Python.framework/Versions/3.11/lib/python3.11/site-packages (from seaborn) (2.1.4)\r\nRequirement already satisfied: matplotlib!=3.6.1,>=3.4 in /Library/Frameworks/Python.framework/Versions/3.11/lib/python3.11/site-packages (from seaborn) (3.8.2)\r\nRequirement already satisfied: contourpy>=1.0.1 in /Library/Frameworks/Python.framework/Versions/3.11/lib/python3.11/site-packages (from matplotlib!=3.6.1,>=3.4->seaborn) (1.2.0)\r\nRequirement already satisfied: cycler>=0.10 in /Library/Frameworks/Python.framework/Versions/3.11/lib/python3.11/site-packages (from matplotlib!=3.6.1,>=3.4->seaborn) (0.12.1)\r\nRequirement already satisfied: fonttools>=4.22.0 in /Library/Frameworks/Python.framework/Versions/3.11/lib/python3.11/site-packages (from matplotlib!=3.6.1,>=3.4->seaborn) (4.47.0)\r\nRequirement already satisfied: kiwisolver>=1.3.1 in /Library/Frameworks/Python.framework/Versions/3.11/lib/python3.11/site-packages (from matplotlib!=3.6.1,>=3.4->seaborn) (1.4.5)\r\nRequirement already satisfied: packaging>=20.0 in /Users/mohauramasedi/Library/Python/3.11/lib/python/site-packages (from matplotlib!=3.6.1,>=3.4->seaborn) (23.2)\r\nRequirement already satisfied: pillow>=8 in /Library/Frameworks/Python.framework/Versions/3.11/lib/python3.11/site-packages (from matplotlib!=3.6.1,>=3.4->seaborn) (10.2.0)\r\nRequirement already satisfied: pyparsing>=2.3.1 in /Library/Frameworks/Python.framework/Versions/3.11/lib/python3.11/site-packages (from matplotlib!=3.6.1,>=3.4->seaborn) (3.1.1)\r\nRequirement already satisfied: python-dateutil>=2.7 in /Users/mohauramasedi/Library/Python/3.11/lib/python/site-packages (from matplotlib!=3.6.1,>=3.4->seaborn) (2.8.2)\r\n",
                    "output_type": "stream"
                },
                {
                    "name": "stdout",
                    "text": "Requirement already satisfied: pytz>=2020.1 in /Library/Frameworks/Python.framework/Versions/3.11/lib/python3.11/site-packages (from pandas>=1.2->seaborn) (2023.3.post1)\r\n",
                    "output_type": "stream"
                },
                {
                    "name": "stdout",
                    "text": "Requirement already satisfied: tzdata>=2022.1 in /Library/Frameworks/Python.framework/Versions/3.11/lib/python3.11/site-packages (from pandas>=1.2->seaborn) (2023.4)\r\n",
                    "output_type": "stream"
                },
                {
                    "name": "stdout",
                    "text": "Requirement already satisfied: six>=1.5 in /Users/mohauramasedi/Library/Python/3.11/lib/python/site-packages (from python-dateutil>=2.7->matplotlib!=3.6.1,>=3.4->seaborn) (1.16.0)\r\n",
                    "output_type": "stream"
                },
                {
                    "name": "stdout",
                    "text": "Note: you may need to restart the kernel to use updated packages.\n",
                    "output_type": "stream"
                }
            ],
            "execution_count": 57
        },
        {
            "cell_type": "code",
            "source": [
                "#then I will load datasets\n",
                "#creating a scatter plot in seaborn\n",
                "# Create a scatter plot using seaborn with two Y-axes\n",
                "fig, ax1 = pyplot.subplots()\n",
                "sns.scatterplot(x= 'Date Time Hour Beginning', y= 'Min Total UCLF+OCLF', data= outage_av, ax=ax1, label= 'min_outages')\n",
                "sns.scatterplot(x= 'Date Time Hour Beginning', y= 'Max Total UCLF+OCLF', data= outage_av, ax=ax1, label= 'max_outages')\n",
                "# Create a second Y-axis on the right\n",
                "ax2 = ax1.twinx()\n",
                "sns.scatterplot(x= 'Year', y= 'Average', data= cpi, ax=ax2, label= 'cpihistory', color = 'red')\n",
                "\n",
                "#adding the labels for the x and y of the plot\n",
                "ax1.set_xlabel('Year', color = 'white')\n",
                "ax1.set_ylabel('UCLF+OCLF', color = 'white')\n",
                "ax2.set_ylabel('CPI(%)', color = 'white')\n",
                "pyplot.title('Scatter Plot of outages and cpi with Dual Y-Axes')\n",
                "\n",
                "#addition of a trendline using line plot\n",
                "\n",
                "sns.lineplot(x= 'Date Time Hour Beginning', y= 'Min Total UCLF+OCLF', data= outage_av, ax=ax1, label= 'min_outages')\n",
                "sns.lineplot(x= 'Date Time Hour Beginning', y= 'Max Total UCLF+OCLF', data= outage_av, ax=ax1, label= 'max_outages')\n",
                "sns.lineplot(x= 'Year', y= 'Average', data= cpi, ax=ax2, label= 'cpihistory', color = 'red')\n",
                "\n",
                "# Add legends\n",
                "lines, labels = ax1.get_legend_handles_labels()\n",
                "lines2, labels2 = ax2.get_legend_handles_labels()\n",
                "ax2.legend(lines + lines2, labels + labels2, loc='upper left')\n",
                "\n",
                "#adding the legend\n",
                "pyplot.legend()\n",
                "\n",
                "#show the plots\n",
                "pyplot.show()"
            ],
            "metadata": {
                "azdata_cell_guid": "fdfbfd51-f854-45c8-9f8a-0f1f94288c72",
                "language": "python"
            },
            "outputs": [
                {
                    "data": {
                        "text/plain": "<Figure size 432x288 with 2 Axes>",
                        "image/png": "[encoded data removed]"
                    },
                    "metadata": {
                        "needs_background": "light"
                    },
                    "output_type": "display_data"
                }
            ],
            "execution_count": 58
        }
    ]
}